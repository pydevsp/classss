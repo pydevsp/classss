{
 "cells": [
  {
   "cell_type": "markdown",
   "metadata": {},
   "source": [
    "#### - In general, in enterprise applications,it is convention to manage data about the organizations like Employees details, Services details, products details,....\n",
    "#### -  we need to use Storage Areas.\n",
    "             There are two types of Storage Areas.\n",
    "                1. Temporary Storage Areas\n",
    "                2. Permanent Storage Areas\n"
   ]
  },
  {
   "cell_type": "markdown",
   "metadata": {},
   "source": [
    "- 1. Temporary Storage Areas:\n",
    "----------------------------\n",
    "     - These Storage Areas are able to store data temporarily.\n",
    "          EX: Buffers, Pyuthon Objects\n",
    "- 2. Permanent Storage Areas:\n",
    "----------------------------\n",
    "     - These Storage Areas are able to store data permanently.\n",
    "            There are three types of Permament Storage Areas.\n",
    "            1. File Systems\n",
    "            2. Database Management Systems\n",
    "            3. Datawarehouses."
   ]
  },
  {
   "cell_type": "markdown",
   "metadata": {},
   "source": [
    "## 1. File Systems:\n",
    "------------------\n",
    "- File System is a system , it will be managed by local Operating System, it is platform dependent and it is not suitable for Platform independent Programming languages like Python, Java,....\n",
    "- File System is able to store less data.\n",
    "- File System is able to provide less security.\n",
    "- File System is able to increase Data Redundency.\n",
    "- File Systems are not having Query Languages support."
   ]
  },
  {
   "cell_type": "markdown",
   "metadata": {},
   "source": [
    "## 2. Database Management Systems\n",
    "-------------------------------\n",
    "- Database Management System is a Software System, it able to manage data by storing it and by retrieving it from Database.\n",
    "- Database Management System is able to store data more data when compared with File Systems, but, Database Management System is able to store less data when compared with Datawarehouses.\n",
    "- Database Management System is very good while storing data ,updating data, deleting data,....but it is not good .\n"
   ]
  },
  {
   "cell_type": "markdown",
   "metadata": {},
   "source": [
    "## 3. Datawarehouses:\n",
    "-------------------\n",
    "- It able to store more data when compared with File Systems and DBMS.\n",
    "- It is very good while retrieving data from Databases, because, it has Data Mining Tech.\n"
   ]
  },
  {
   "cell_type": "markdown",
   "metadata": {},
   "source": [
    "### -Q)What is the difference between Database and Database Management System?\n",
    "-------\n",
    "- 1. Database is memory storage to store data.\n",
    "- Database Management System is a Software System, it able to manage data by storing it and by retrieving it from Database.\n",
    "- 2. Database is the collection of interrelated data.\n",
    "- Database Management System is the collection of interrelated data and a set of rules and regulations to access data.\n",
    "   - There are three types of Database Management Systems.\n",
    "        1. Relational Database Management System\n",
    "        2. Object Oriented Database Management System\n",
    "        3. Object Relational Database Management System\n"
   ]
  },
  {
   "cell_type": "markdown",
   "metadata": {},
   "source": [
    "#### 1. Relational Database Management System:\n",
    "--------\n",
    "- It able to manage data in the form of Tables.\n",
    "- It able to use SQL2 as query language to manage data manipulations.\n",
    "\n",
    "#### 2. Object Oriented Database Management System:\n",
    "--------\n",
    "- It able to manage data in the fomr of Objects.\n",
    "- It able to use OQL as query language to manage data manipulations.\n",
    "\n",
    "#### 3. Object Relational Database Management System:\n",
    "-------\n",
    "- It able to manage data in the form of tables and objects.\n",
    "- It able to manage SQL3 as query language to manipulate data."
   ]
  },
  {
   "cell_type": "markdown",
   "metadata": {},
   "source": [
    "### Query Processing System:\n",
    "--------------------------\n",
    "- If we submit an SQL query to Database, Where at database , Database Engine will take query and Database will execute sql query by following the following actions.\n",
    "    1. Query Tokenization\n",
    "    2. Query Parsing\n",
    "    3. Query Optimization\n",
    "    4. Query Execution"
   ]
  },
  {
   "cell_type": "markdown",
   "metadata": {},
   "source": [
    "-1. Query Tokenization:\n",
    "------------------------\n",
    "    - It able to devide the provided sql query into no of tokens and it will generate stream of tokens as an output.\n",
    "\n",
    "-2. Query Parsing:\n",
    "-------------------\n",
    "    - The main intention of this pahse is to check the syntax errors in the provided sql query.\n",
    "    - This phase will take the stream of tokens as an input and it will constructor a Tree called as Query Tree, if query \n",
    "    Tree is success then no syntax errors are existed in the provided sql query. If query tree is not success then there are some syntax errors.\n",
    "    \n",
    "-3. Query Optimization:\n",
    "-------------------------\n",
    "    - This phase will apply no of optimization algorithms on query tree to optimize the query tree inorder to reduce execution time and inorder to reduce memory utilization.\n",
    "    \n",
    "-4. Query Execution\n",
    "--------------------\n",
    "    - This phase is able to execute sql queries by using an interpretor and it will send results to the respective client."
   ]
  },
  {
   "cell_type": "markdown",
   "metadata": {},
   "source": [
    "# Python Database Connectivity:\n",
    "\n",
    "--------\n",
    "- PDBC is a step by step by process to connect with Database from Python programs inorder to perform database operations from python applications.\n",
    "- PDBC is a library contains predefined functions, classes,... it can be used to iteract with database from Python programs inorder to perform database operations from python applications.\n",
    "- In general, in PDBC applications, we will write database logic in Python programs as per python repersentations and we have to submit that database logic to database, where Database has to execute database logic and database has to send the results to Python application.\n",
    "- In the above context, when we submit python represented database logic to database then Database will not execute python represented database logic , because, Database is unable to execute python representations.\n",
    "- In the above context, to execute PDBC applications we must use a translator to map Python API calls to Database API calls and database API calls to Python API calls, here the translator is called as \"Driver\".\n",
    "- Driver is an interface existed in between Python program and database, it can be used to map Python Representations to Database Representations and Database representations to Python Representations.\n",
    "- To provide Drivers Python has provided a seperate module for each and every database which includes PDBC library and Driver logic.\n",
    "\n",
    "        EX1: cx_Oracle for Oracle Database.\n",
    "        EX2: mysql.connector for MySQL Database\n",
    "        EX3: pyodbc for all databases from python applications. \n",
    "        \n"
   ]
  },
  {
   "cell_type": "markdown",
   "metadata": {},
   "source": [
    "- If we want to use cx_Oracle module in Python applications, first , we have to install cx_Oracle explicit library then we have to import cx_Oracle module.\n",
    "- If we use the IDE like PyCharm then we have to add cx_Oracle or cx_Oracle_ctypes to project interpretor.\n",
    "- file --> settings --> project iterpretor --> + [add] --> search cx_Oracle / cx_Oracle_ctypes --> Install Libraries --> Ok  button.\n",
    "- If we use the IDE like Visual Studeo the it is not required to add cx_Oracle module, because, cx_Oracle is bydefault provided by Visual Studeo.\n",
    "- If we are not using any IDE and if we want to prepare applications by using Editplus, IDLE... then we have to install cx_Oracle by using pip command.\n",
    "        pip install cx_Oracle\n",
    "- In Python file, to use cx_Oracle module, we must import cx_Oracle.\n",
    "        import cx_Oracle\n"
   ]
  },
  {
   "cell_type": "markdown",
   "metadata": {},
   "source": [
    "## Steps to prepare PDBC Applications:\n",
    "------------------------------------\n",
    "1. Install Oracle Databas. \n",
    "2. In Python Appliactions\n",
    "         a)import cx_Oracle module\n",
    "             import cx_Oracle as cxo\n",
    "         b)Create Connection between Python application and Database .\n",
    "             con = cxo.connect(\"uname/password@DBServerIPAddrtess:DBPort/DBNae\")\n",
    "             EX: con = cxo.connect(\"scott/tiger@localhost:1521/xe\")\n",
    "         c)Create Cursor inorder to hold result of the SQl query execution.\n",
    "             cursor = con.cursor()\n",
    "         d)Write and execute SQl query\n",
    "             cursor.execute(Query)\n",
    "             EX: cursor.execute(\"select * from emp1\")\n",
    "         e)If we execute non select sql queries like create or insert or update or delete or alter or drop then we must perform             either commit or rollback operation.\n",
    "             con.commit() --> To store manipulations Permanently.\n",
    "             con.rollback() --> To remove manipulations and to get back previous state.\n",
    "         f)If we execute select sql query then get Results from Cursor\n",
    "             data1 = cursor.fetchone() --> To get only one row.\n",
    "             data2 = cursor.fetchmany(n) --> To get no of rows.\n",
    "             data3 = cursor.fetchall() --> To get all rows.\n",
    "         g)Close the connection and cursor\n",
    "             cursor.close()\n",
    "             con.close()"
   ]
  },
  {
   "cell_type": "code",
   "execution_count": 15,
   "metadata": {},
   "outputs": [
    {
     "name": "stdout",
     "output_type": "stream",
     "text": [
      "(7369, 'SMITH', 'CLERK', 7902, datetime.datetime(1980, 12, 17, 0, 0), 800.0, None, 20)\n"
     ]
    }
   ],
   "source": [
    "import cx_Oracle as cxo\n",
    "conn = cxo.connect(\"scott/tiger@localhost:1521/xe\")\n",
    "cursorp = conn.cursor()\n",
    "DATA = cursorp.execute(\"select * from emp where JOB = 'CLERK'\")\n",
    "print(DATA.fetchone())\n",
    "\n",
    "cursorp.close()\n",
    "conn.close()"
   ]
  },
  {
   "cell_type": "code",
   "execution_count": 16,
   "metadata": {},
   "outputs": [
    {
     "name": "stdout",
     "output_type": "stream",
     "text": [
      "[(7369, 'SMITH', 'CLERK', 7902, datetime.datetime(1980, 12, 17, 0, 0), 800.0, None, 20), (7876, 'ADAMS', 'CLERK', 7788, datetime.datetime(1983, 1, 12, 0, 0), 1100.0, None, 20), (7900, 'JAMES', 'CLERK', 7698, datetime.datetime(1981, 12, 3, 0, 0), 950.0, None, 30), (7934, 'MILL', 'CLERK', 7782, datetime.datetime(1982, 1, 23, 0, 0), 2300.0, None, 10)]\n"
     ]
    }
   ],
   "source": [
    "import cx_Oracle as cxo\n",
    "conn = cxo.connect(\"scott/tiger@localhost:1521/xe\")\n",
    "cursorp = conn.cursor()\n",
    "DATA = cursorp.execute(\"select * from emp where JOB = 'CLERK'\")\n",
    "print(DATA.fetchall())\n",
    "\n",
    "cursorp.close()\n",
    "conn.close()"
   ]
  },
  {
   "cell_type": "code",
   "execution_count": 17,
   "metadata": {},
   "outputs": [
    {
     "name": "stdout",
     "output_type": "stream",
     "text": [
      "7369SMITHCLERK79021980-12-17 00:00:00800.0None20\n",
      "7876ADAMSCLERK77881983-01-12 00:00:001100.0None20\n",
      "7900JAMESCLERK76981981-12-03 00:00:00950.0None30\n",
      "7934MILLCLERK77821982-01-23 00:00:002300.0None10\n"
     ]
    }
   ],
   "source": [
    "import cx_Oracle as cxo\n",
    "conn = cxo.connect(\"scott/tiger@localhost:1521/xe\")\n",
    "cursorp = conn.cursor()\n",
    "DATA = cursorp.execute(\"select * from emp where JOB = 'CLERK'\")\n",
    "\n",
    "for row in DATA :\n",
    "    for col in row :\n",
    "        print(col , end=\"\")\n",
    "    print()    \n",
    "\n",
    "cursorp.close()\n",
    "conn.close()"
   ]
  },
  {
   "cell_type": "markdown",
   "metadata": {},
   "source": [
    "### PDBC Application to create table in oracle sql"
   ]
  },
  {
   "cell_type": "code",
   "execution_count": 18,
   "metadata": {},
   "outputs": [
    {
     "name": "stdout",
     "output_type": "stream",
     "text": [
      "Table pdbcEmp created Successfully\n"
     ]
    }
   ],
   "source": [
    "## PDBC Application to create table in oracle sql\n",
    "\n",
    "import cx_Oracle as cxo\n",
    "con = cxo.connect(\"scott/tiger@localhost\")\n",
    "cursor = con.cursor()\n",
    "cursor.execute(\"create table pdbcEmp(ENO number(3) primary key,ENAME varchar2(10),ESAL float(5),EADDR varchar2(10))\")\n",
    "print(\"Table pdbcEmp created Successfully\")\n",
    "\n",
    "con.commit()\n",
    "cursor.close()\n",
    "con.close()"
   ]
  },
  {
   "cell_type": "markdown",
   "metadata": {},
   "source": [
    "### PDBC Application to create table by taking table name as Dynamic Name"
   ]
  },
  {
   "cell_type": "code",
   "execution_count": 20,
   "metadata": {},
   "outputs": [
    {
     "name": "stdout",
     "output_type": "stream",
     "text": [
      "Table Name : pdbcEmp1\n",
      "Table pdbcEmp1 Created Successfully\n"
     ]
    }
   ],
   "source": [
    "## PDBC Application to create table by taking table name as Dynamic Name\n",
    "\n",
    "import cx_Oracle as cxo\n",
    "con = cxo.connect(\"scott/tiger@localhost\")\n",
    "cursor = con.cursor()\n",
    "tname = input(\"Table Name : \")\n",
    "query = \"create table \"+tname+\"(ENO number(3) primary key, ENAME varchar2(10), ESAL float(5), EADDR varchar2(10))\"\n",
    "cursor.execute(query)\n",
    "con.commit()\n",
    "print(\"Table\",tname,\"Created Successfully\")\n",
    "cursor.close()\n",
    "con.close()\n"
   ]
  },
  {
   "cell_type": "markdown",
   "metadata": {},
   "source": [
    "### PDBC Application to insert records into Database table:"
   ]
  },
  {
   "cell_type": "code",
   "execution_count": 1,
   "metadata": {},
   "outputs": [
    {
     "name": "stdout",
     "output_type": "stream",
     "text": [
      "table name : pdbcemp\n",
      "Employee Number : 777\n",
      "Employee Name : GG\n",
      "Employee Salary : 1200\n",
      "Employee Address : odsa\n",
      "Employee  777  Inserted Successfully\n",
      "Onemore Employee[yes/no]? : n\n"
     ]
    }
   ],
   "source": [
    "## PDBC Application to insert records into Database table:\n",
    "\n",
    "import cx_Oracle as cxo\n",
    "con = cxo.connect(\"scott/tiger@localhost:1521\")\n",
    "cursor = con.cursor()\n",
    "tname = input(\"table name : \")\n",
    "while True:\n",
    "     eno = int(input(\"Employee Number : \"))\n",
    "     ename = input(\"Employee Name : \")\n",
    "     esal = float(input(\"Employee Salary : \"))\n",
    "     eaddr = input(\"Employee Address : \")\n",
    "     cursor.execute(\"insert into \" +tname + \" values(%i,'%s',%f,'%s')\"%(eno,ename,esal,eaddr))\n",
    "        \n",
    "     print(\"Employee \",eno,\" Inserted Successfully\")\n",
    "     option = input(\"Onemore Employee[yes/no]? : \")\n",
    "     if option == \"yes\":\n",
    "         continue\n",
    "     else:\n",
    "         break\n",
    "con.commit()\n",
    "cursor.close()\n",
    "con.close()\n"
   ]
  },
  {
   "cell_type": "markdown",
   "metadata": {},
   "source": [
    "### PDBC Application to perform Updations on database table:"
   ]
  },
  {
   "cell_type": "code",
   "execution_count": 27,
   "metadata": {},
   "outputs": [
    {
     "name": "stdout",
     "output_type": "stream",
     "text": [
      "Employee Records Updated Successfully\n"
     ]
    }
   ],
   "source": [
    "## PDBC Application to perform Updations on database table:\n",
    "\n",
    "import cx_Oracle as cxo\n",
    "con = cxo.connect(\"scott/tiger@localhost\")\n",
    "cursor = con.cursor()\n",
    "cursor.execute(\"update pdbcEmp set ESAL = ESAL + 500 where ESAL < 10000\")\n",
    "\n",
    "con.commit()\n",
    "print(\"Employee Records Updated Successfully\")\n",
    "cursor.close()\n",
    "con.close()\n"
   ]
  },
  {
   "cell_type": "markdown",
   "metadata": {},
   "source": [
    "### PDBC Application to insert records into Database table:"
   ]
  },
  {
   "cell_type": "code",
   "execution_count": 28,
   "metadata": {},
   "outputs": [
    {
     "name": "stdout",
     "output_type": "stream",
     "text": [
      "table name : pdbcEmp\n",
      "Employee Number : 444\n",
      "Employee Name : DD\n",
      "Employee Salary : 4000\n",
      "Employee Address : hyd\n",
      "Employee  444  Inserted Successfully\n",
      "Onemore Employee[yes/no]? : yes\n",
      "Employee Number : 555\n",
      "Employee Name : EE\n",
      "Employee Salary : 8000\n",
      "Employee Address : hyd\n",
      "Employee  555  Inserted Successfully\n",
      "Onemore Employee[yes/no]? : yes\n",
      "Employee Number : 666\n",
      "Employee Name : FF\n",
      "Employee Salary : 7000\n",
      "Employee Address : hyd\n",
      "Employee  666  Inserted Successfully\n",
      "Onemore Employee[yes/no]? : n\n"
     ]
    }
   ],
   "source": [
    "## PDBC Application to insert records into Database table:\n",
    "\n",
    "import cx_Oracle as cxo\n",
    "con = cxo.connect(\"scott/tiger@localhost:1521\")\n",
    "cursor = con.cursor()\n",
    "tname = input(\"table name : \")\n",
    "while True:\n",
    "     eno = int(input(\"Employee Number : \"))\n",
    "     ename = input(\"Employee Name : \")\n",
    "     esal = float(input(\"Employee Salary : \"))\n",
    "     eaddr = input(\"Employee Address : \")\n",
    "     cursor.execute(\"insert into \" +tname + \" values(%i,'%s',%f,'%s')\"%(eno,ename,esal,eaddr))\n",
    "        \n",
    "     print(\"Employee \",eno,\" Inserted Successfully\")\n",
    "     option = input(\"Onemore Employee[yes/no]? : \")\n",
    "     if option == \"yes\":\n",
    "         continue\n",
    "     else:\n",
    "         break\n",
    "con.commit()\n",
    "cursor.close()\n",
    "con.close()"
   ]
  },
  {
   "cell_type": "markdown",
   "metadata": {},
   "source": [
    "### PDBC Application to delete records from Database:"
   ]
  },
  {
   "cell_type": "code",
   "execution_count": 29,
   "metadata": {},
   "outputs": [
    {
     "name": "stdout",
     "output_type": "stream",
     "text": [
      "Employee records Deleted Successfully\n"
     ]
    }
   ],
   "source": [
    "## PDBC Application to delete records from Database:\n",
    "\n",
    "import cx_Oracle as cxo\n",
    "con = cxo.connect(\"scott/tiger@localhost:1521\")\n",
    "cursor = con.cursor()\n",
    "cursor.execute(\"delete from pdbcEmp where ESAL < 6000\")\n",
    "con.commit()\n",
    "print(\"Employee records Deleted Successfully\")\n",
    "cursor.close()\n",
    "con.close()\n"
   ]
  },
  {
   "cell_type": "markdown",
   "metadata": {},
   "source": [
    "### PDBC Application to drop table from DB:"
   ]
  },
  {
   "cell_type": "code",
   "execution_count": 3,
   "metadata": {},
   "outputs": [
    {
     "name": "stdout",
     "output_type": "stream",
     "text": [
      "pdbcemp1 table dropped from Db successfully\n"
     ]
    }
   ],
   "source": [
    "## PDBC Application to drop table from DB:\n",
    "\n",
    "import cx_Oracle as cxo\n",
    "con = cxo.connect(\"scott/tiger@localhost:1521/xe\")\n",
    "cursor = con.cursor()\n",
    "cursor.execute(\"drop table pdbcemp1\")\n",
    "con.commit()\n",
    "print(\"pdbcemp1 table dropped from Db successfully\")\n",
    "cursor.close()\n",
    "con.close()\n"
   ]
  },
  {
   "cell_type": "markdown",
   "metadata": {},
   "source": [
    "### PDBC Application to retrieve Data from Database table by using fetchone():"
   ]
  },
  {
   "cell_type": "code",
   "execution_count": 5,
   "metadata": {},
   "outputs": [
    {
     "name": "stdout",
     "output_type": "stream",
     "text": [
      "Employee Details\n",
      "---------------------\n",
      "Employee Number  :  222\n",
      "Employee Name    :  BB\n",
      "Employee Salary  :  6500.0\n",
      "Employee Address :  hyd\n"
     ]
    }
   ],
   "source": [
    " ## PDBC Application to retrieve Data from Database table by using fetchone():\n",
    "    \n",
    "\n",
    "import cx_Oracle as cxo\n",
    "con = cxo.connect(\"scott/tiger@localhost:1521/xe\")\n",
    "cursor = con.cursor()\n",
    "cursor.execute(\"select * from pdbcemp\")\n",
    "\n",
    "data = cursor.fetchone()\n",
    "print(\"Employee Details\")\n",
    "print(\"---------------------\")\n",
    "print(\"Employee Number  : \",data[0])\n",
    "print(\"Employee Name    : \",data[1])\n",
    "print(\"Employee Salary  : \",data[2])\n",
    "print(\"Employee Address : \",data[3])\n",
    "cursor.close()\n"
   ]
  },
  {
   "cell_type": "markdown",
   "metadata": {},
   "source": [
    "### PDBC Application to retrieve Data from Database table by using  fetchmany():"
   ]
  },
  {
   "cell_type": "code",
   "execution_count": 16,
   "metadata": {},
   "outputs": [
    {
     "name": "stdout",
     "output_type": "stream",
     "text": [
      "ENO\tENAME\tESAL\tEADDR\n",
      "-------------------------------------------\n",
      "222\tBB\t6500.0\thyd\n",
      "333\tCC\t6300.0\thyd\n",
      "555\tEE\t8000.0\thyd\n"
     ]
    }
   ],
   "source": [
    "## PDBC Application to retrieve Data from Database table by using fetchmany():\n",
    "import cx_Oracle as cxo\n",
    "con = cxo.connect(\"scott/tiger@localhost:1521/xe\")\n",
    "cursor = con.cursor()\n",
    "cursor.execute(\"select * from pdbcemp\")\n",
    "data = cursor.fetchmany(3)\n",
    "print(\"ENO\\tENAME\\tESAL\\tEADDR\")\n",
    "print(\"-------------------------------------------\")\n",
    "for row in data:\n",
    "     print(row[0],end=\"\\t\")\n",
    "     print(row[1],end=\"\\t\")\n",
    "     print(row[2],end=\"\\t\")\n",
    "     print(row[3],end=\"\\n\")\n",
    "cursor.close()\n",
    "con.close()\n"
   ]
  },
  {
   "cell_type": "code",
   "execution_count": 19,
   "metadata": {},
   "outputs": [
    {
     "name": "stdout",
     "output_type": "stream",
     "text": [
      "ENO\tENAME\tESAL\t\tEADDR\n",
      "-------------------------------------------\n",
      "7369\tSMITH\tCLERK\t\t7902\n",
      "7499\tALLEN\tSALESMAN\t\t7698\n",
      "7521\tWARD\tSALESMAN\t\t7698\n"
     ]
    }
   ],
   "source": [
    "import cx_Oracle as cxo\n",
    "con = cxo.connect(\"scott/tiger@localhost:1521/xe\")\n",
    "cursor = con.cursor()\n",
    "cursor.execute(\"select * from emp1\")\n",
    "data = cursor.fetchmany(3)\n",
    "print(\"ENO\\tENAME\\tESAL\\t\\tEADDR\")\n",
    "print(\"-------------------------------------------\")\n",
    "for row in data:\n",
    "     print(row[0],end=\"\\t\")\n",
    "     print(row[1],end=\"\\t\")\n",
    "     print(row[2],end=\"\\t\\t\")\n",
    "     print(row[3],end=\"\\n\")\n",
    "cursor.close()\n",
    "con.close()"
   ]
  },
  {
   "cell_type": "markdown",
   "metadata": {},
   "source": [
    " ### PDBC Application to retrieve Data from Database table by using  fetchall():\n"
   ]
  },
  {
   "cell_type": "code",
   "execution_count": 21,
   "metadata": {},
   "outputs": [
    {
     "name": "stdout",
     "output_type": "stream",
     "text": [
      "ENO\tENAME\tESAL\tEADDR\n",
      "------------------------------\n",
      "222\tBB\t6500.0\thyd\n",
      "333\tCC\t6300.0\thyd\n",
      "555\tEE\t8000.0\thyd\n",
      "666\tFF\t7000.0\thyd\n",
      "777\tGG\t1200.0\todsa\n"
     ]
    }
   ],
   "source": [
    " ## PDBC Application to retrieve Data from Database table by using   fetchall():\n",
    "\n",
    "import cx_Oracle as cxo\n",
    "con = cxo.connect(\"scott/tiger@localhost:1521/xe\")\n",
    "cursor = con.cursor()\n",
    "cursor.execute(\"select * from pdbcemp\")\n",
    "data = cursor.fetchall()\n",
    "print(\"ENO\\tENAME\\tESAL\\tEADDR\")\n",
    "print(\"------------------------------\")\n",
    "for row in data:\n",
    "     print(row[0],end=\"\\t\")\n",
    "     print(row[1],end=\"\\t\")\n",
    "     print(row[2],end=\"\\t\")\n",
    "     print(row[3],end=\"\\n\")\n",
    "cursor.close()\n",
    "con.close()\n"
   ]
  },
  {
   "cell_type": "markdown",
   "metadata": {},
   "source": [
    "\n",
    "# connect with mongo db :"
   ]
  },
  {
   "cell_type": "markdown",
   "metadata": {},
   "source": [
    "## Mongo DB:\n",
    "----------\n",
    "### Introduction:\n",
    "---------------\n",
    "- MongoDB is No SQL Database, where it is not required to write SQL Queries.\n",
    "- MongoDB is a document database designed for ease of development and scaling.\n",
    "- MongoDB is a Document Database , where document is refered as record\", it is a data structer contains data in the form of keys and values, where values may be single values or document or arrays or Arrays of other docuemnts.\n",
    "- IN MongoDB, document is like a Json object.\n"
   ]
  },
  {
   "cell_type": "markdown",
   "metadata": {},
   "source": [
    "## Steps for prepare PDBC Application With MongoDB:\n",
    "\n",
    "- a)Import pymongo module: \n",
    "     - python -m pip install pymongo\n",
    "     - import pymongo\n",
    "\n",
    "- b)Create Client:\n",
    "   - client = pymongo.MongoClient()\n",
    "       - or,\n",
    "   -   client = pymongo.MongoClient(\"mongodb://127.0.0.1:27017\")\n",
    "\n",
    "- c)Create Database: \n",
    "     - empDB = client['employee']\n",
    "- d)Create Collection:\n",
    "     - empCollection = empDB.emp1\n",
    "- e)Perform Database Operations:\n",
    "     - 1)To Insert Docuemtns:\n",
    "         - empCollection.insert_one()\n",
    "         - empCollection.insert_many()\n",
    "         - empCollection.insert()\n",
    "     - 2)To find documents:\n",
    "         - empCollection.find_one()\n",
    "         - empCollection.find_many()\n",
    "         - empCollection.find()\n",
    "     - 3)To update Cololection:\n",
    "         - empCollection.update_one()\n",
    "         - empCollection.update_many()\n",
    "         - empCollection.update()\n",
    "     - 4)To delete documents from Collection:\n",
    "         - empCollection.delete_one()\n",
    "         - empCollection.delete_many()\n",
    "         - empCollection.delete()\n",
    "- f)  Close Client.\n",
    "        - client.close()\n",
    "    "
   ]
  },
  {
   "cell_type": "markdown",
   "metadata": {},
   "source": [
    "### To Insert a document in Collection:"
   ]
  },
  {
   "cell_type": "code",
   "execution_count": 25,
   "metadata": {},
   "outputs": [
    {
     "name": "stdout",
     "output_type": "stream",
     "text": [
      "Client Is Ready\n",
      "DB Is Created\n",
      "mongoemp Collection/table is Created\n",
      "Docuemt Inserted\n",
      "Client Closed\n"
     ]
    }
   ],
   "source": [
    "from pymongo import MongoClient\n",
    "client = MongoClient()\n",
    "print(\"Client Is Ready\")\n",
    "\n",
    "empDB = client['pdbcmongo']\n",
    "print(\"DB Is Created\")\n",
    "\n",
    "empCollection = empDB.mongoemp\n",
    "print(\"mongoemp Collection/table is Created\")\n",
    "\n",
    "docuemnt = empCollection.insert_one({'ENO':111,'ENAME':\"AAA\",'ESAL':5000,'EADDR':\"Hyd\"})\n",
    "print(\"Docuemt Inserted\")\n",
    "client.close()\n",
    "print(\"Client Closed\")"
   ]
  },
  {
   "cell_type": "markdown",
   "metadata": {},
   "source": [
    "### To insert many docuemnts in Collection:"
   ]
  },
  {
   "cell_type": "code",
   "execution_count": 26,
   "metadata": {},
   "outputs": [
    {
     "name": "stdout",
     "output_type": "stream",
     "text": [
      "Client Is Ready\n",
      "DB Is Created\n",
      "mongoemp Collection is Created\n",
      "<pymongo.results.InsertManyResult object at 0x000001DB2A55BF40>\n",
      "Docuemts Inserted\n",
      "Client Closed\n"
     ]
    }
   ],
   "source": [
    "import pymongo\n",
    "\n",
    "client = pymongo.MongoClient(\"mongodb://127.0.0.1:27017\")\n",
    "print(\"Client Is Ready\")\n",
    "empDB = client['pdbcmongo']\n",
    "print(\"DB Is Created\")\n",
    "empCollection = empDB.mongoemp\n",
    "print(\"mongoemp Collection is Created\")\n",
    "document = empCollection.insert_many([{'ENO':222,'ENAME':'BBB','ESAL':6000,'EADDR':'Hyd'},\n",
    "                                      {'ENO':333,'ENAME':'CCC','ESAL':7000,'EADDR':'Hyd'},\n",
    "                                      {'ENO':444,'ENAME':'DDD','ESAL':8000,'EADDR':'Hyd'}])\n",
    "\n",
    "print(document)\n",
    "print(\"Docuemts Inserted\")\n",
    "client.close()\n",
    "print(\"Client Closed\")"
   ]
  },
  {
   "cell_type": "markdown",
   "metadata": {},
   "source": [
    "### To Read Single Document from Collection:"
   ]
  },
  {
   "cell_type": "code",
   "execution_count": 27,
   "metadata": {},
   "outputs": [
    {
     "name": "stdout",
     "output_type": "stream",
     "text": [
      "None\n"
     ]
    }
   ],
   "source": [
    "import pymongo\n",
    "client = pymongo.MongoClient()\n",
    "db = client['employee']\n",
    "collection = db['emp1']\n",
    "result = collection.find_one({\"ENO\":222})\n",
    "print(result)\n"
   ]
  },
  {
   "cell_type": "code",
   "execution_count": 28,
   "metadata": {},
   "outputs": [
    {
     "name": "stdout",
     "output_type": "stream",
     "text": [
      "{'_id': ObjectId('5ea202898a4545822da47cc2'), 'ENO': 222, 'ENAME': 'BBB', 'ESAL': 6000, 'EADDR': 'Hyd'}\n"
     ]
    }
   ],
   "source": [
    "import pymongo\n",
    "client = pymongo.MongoClient(\"mongodb://127.0.0.1:27017\")\n",
    "db = client['pdbcmongo']\n",
    "collection = db['mongoemp']\n",
    "result = collection.find_one({\"ENO\":222})\n",
    "print(result)\n"
   ]
  },
  {
   "cell_type": "markdown",
   "metadata": {},
   "source": [
    "### To Read Multiple Records from Collections:"
   ]
  },
  {
   "cell_type": "code",
   "execution_count": 29,
   "metadata": {},
   "outputs": [
    {
     "name": "stdout",
     "output_type": "stream",
     "text": [
      "{'_id': ObjectId('5ea1fe568a4545822da47cc0'), 'ENO': 111, 'ENAME': 'AAA', 'ESAL': 5000, 'EADDR': 'Hyd'}\n",
      "{'_id': ObjectId('5ea202898a4545822da47cc2'), 'ENO': 222, 'ENAME': 'BBB', 'ESAL': 6000, 'EADDR': 'Hyd'}\n",
      "{'_id': ObjectId('5ea202898a4545822da47cc3'), 'ENO': 333, 'ENAME': 'CCC', 'ESAL': 7000, 'EADDR': 'Hyd'}\n",
      "{'_id': ObjectId('5ea202898a4545822da47cc4'), 'ENO': 444, 'ENAME': 'DDD', 'ESAL': 8000, 'EADDR': 'Hyd'}\n"
     ]
    }
   ],
   "source": [
    "import pymongo\n",
    "client = pymongo.MongoClient(\"mongodb://127.0.0.1:27017\")\n",
    "db = client['pdbcmongo']\n",
    "collection = db['mongoemp']\n",
    "result = collection.find()\n",
    "for document in result:\n",
    " print(document)"
   ]
  },
  {
   "cell_type": "code",
   "execution_count": 30,
   "metadata": {},
   "outputs": [
    {
     "name": "stdout",
     "output_type": "stream",
     "text": [
      "ENO\tENAME\tESAL\tEADDR\n",
      "------------------------------\n",
      "111\tAAA\t5000\tHyd\t\n",
      "222\tBBB\t6000\tHyd\t\n",
      "333\tCCC\t7000\tHyd\t\n",
      "444\tDDD\t8000\tHyd\t\n"
     ]
    }
   ],
   "source": [
    "import pymongo\n",
    "client = pymongo.MongoClient(\"mongodb://127.0.0.1:27017\")\n",
    "db = client['pdbcmongo']\n",
    "collection = db['mongoemp']\n",
    "result = collection.find()\n",
    "print(\"ENO\\tENAME\\tESAL\\tEADDR\")\n",
    "print(\"------------------------------\")\n",
    "for document in result:\n",
    "    for value in list(document.values())[1::] :\n",
    "        print(value,end=\"\\t\")\n",
    "    print()\n"
   ]
  },
  {
   "cell_type": "code",
   "execution_count": null,
   "metadata": {},
   "outputs": [],
   "source": []
  }
 ],
 "metadata": {
  "kernelspec": {
   "display_name": "Python 3",
   "language": "python",
   "name": "python3"
  },
  "language_info": {
   "codemirror_mode": {
    "name": "ipython",
    "version": 3
   },
   "file_extension": ".py",
   "mimetype": "text/x-python",
   "name": "python",
   "nbconvert_exporter": "python",
   "pygments_lexer": "ipython3",
   "version": "3.8.1"
  }
 },
 "nbformat": 4,
 "nbformat_minor": 4
}
