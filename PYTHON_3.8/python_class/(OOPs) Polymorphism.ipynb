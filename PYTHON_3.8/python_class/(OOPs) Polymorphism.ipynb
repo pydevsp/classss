{
 "cells": [
  {
   "cell_type": "markdown",
   "metadata": {},
   "source": [
    "# Polymorphism:\n",
    "-----------\n",
    "- Polymorphism is a Greak word, where Poly means Many and Morphism means Structers or forms.\n",
    "- If one thing is existed in more than one form then it is called as Polymorphism.\n",
    "- The main advantage of Polymorphism is \"Flexibility\" to develop applications.\n",
    "- In general, we are able to achieve Polymorphism in the following three ways. \n",
    "    1. Duck Typing Philosophy of Polymorphism.\n",
    "    2. Overloading\n",
    "    3. Overriding\n"
   ]
  },
  {
   "cell_type": "markdown",
   "metadata": {},
   "source": [
    "## 1. Duck Typing Philosophy of Polymorphism.\n",
    "-----------------------------------------\n",
    "- In Python, we are unable to specify the types explicitly, based on the provided value explicitly we will use find type at runtime. So, Python is Dynamically Typed Programming language.\n",
    "\n",
    "- At runtime, if it walks like duch and talks like duck then it will be duct, Python follows this at principle and it is called as Duck Typing Philosophy of Python.\n"
   ]
  },
  {
   "cell_type": "code",
   "execution_count": 12,
   "metadata": {},
   "outputs": [
    {
     "name": "stdout",
     "output_type": "stream",
     "text": [
      "print fn()\n",
      "Quack..Quack...\n",
      "\n",
      "print fn()\n",
      "Bow Bow....\n",
      "\n",
      "print fn()\n",
      "Moew Moew,...\n",
      "\n",
      "print fn()\n",
      "Myaa Myaa..\n",
      "\n"
     ]
    }
   ],
   "source": [
    "class Duck:\n",
    "    def talk(self):\n",
    "        print(\"Quack..Quack...\")\n",
    "        \n",
    "class Dog:\n",
    "    def talk(self):\n",
    "        print(\"Bow Bow....\")\n",
    "        \n",
    "class Cat:\n",
    "    def talk(self):\n",
    "        print(\"Moew Moew,...\")\n",
    "        \n",
    "class Goat:\n",
    "    def talk(self):\n",
    "        print(\"Myaa Myaa..\")\n",
    "        \n",
    "        \n",
    "def objCreate(objcreate):\n",
    "    print(\"print fn()\")\n",
    "    objcreate.talk()      ### talk()    =====> instance method\n",
    "    \n",
    "    \n",
    "    \n",
    "list = [Duck(), Dog(), Cat(), Goat()]\n",
    "\n",
    "for x in list:\n",
    "    objCreate(x)\n",
    "    print()\n",
    "    "
   ]
  },
  {
   "cell_type": "markdown",
   "metadata": {},
   "source": [
    "#### - we have to check whether the provided attribute is existed or not in the provided object, for this, we will use a predefined function like hasattr() . attributename can be method name or variable name\n",
    "\n",
    "   - hasattr(object, attribute)\n"
   ]
  },
  {
   "cell_type": "code",
   "execution_count": 13,
   "metadata": {},
   "outputs": [
    {
     "name": "stdout",
     "output_type": "stream",
     "text": [
      "Quack..Quack...\n",
      "Bow Bow....\n"
     ]
    }
   ],
   "source": [
    "class Duck:\n",
    "    def talk(self):\n",
    "        print(\"Quack..Quack...\")\n",
    "        \n",
    "class Dog:\n",
    "    def bark(self):\n",
    "        print(\"Bow Bow....\")\n",
    "        \n",
    "        \n",
    "        \n",
    "def fn(obj):\n",
    "    if hasattr(obj, 'talk'):\n",
    "        obj.talk()\n",
    "    else:\n",
    "        obj.bark()\n",
    "        \n",
    "        \n",
    "        \n",
    "list = [Duck(), Dog()]\n",
    "\n",
    "for x in list:\n",
    "    fn(x)\n",
    "    \n",
    "    "
   ]
  },
  {
   "cell_type": "code",
   "execution_count": 19,
   "metadata": {},
   "outputs": [
    {
     "name": "stdout",
     "output_type": "stream",
     "text": [
      "False\n",
      "True\n"
     ]
    }
   ],
   "source": [
    "##### hasattr()\n",
    "\n",
    "class Person:\n",
    "    name = \"John\"\n",
    "    age = 36\n",
    "    country = \"Norway\"\n",
    "\n",
    "x = hasattr(Person,'n')\n",
    "y = hasattr(Person,'name')\n",
    "print(x)\n",
    "print(y)"
   ]
  },
  {
   "cell_type": "markdown",
   "metadata": {},
   "source": [
    "## 2. Overloading:\n",
    "----------------\n",
    "- The process of extending existed functionality upto some new functionality  is called as Overloading.\n",
    "- In general , there are three types of overloadings in Object Orientation.\n",
    "    1. Constructor Overloading\n",
    "    2. Method Overloading\n",
    "    3. Operator Overloading"
   ]
  },
  {
   "cell_type": "markdown",
   "metadata": {},
   "source": [
    "### 1. Constructor Overloading\n",
    "----------------------------\n",
    "- If we declare more than one Constructor with the same name and with the different parameter list then it is called as Constructor overloading.\n",
    "- Python does not support Constructor overloading, if we provide more than one constructor with the same name and with the different parameter list then PVM will consider only the last provided constructor while creating objects.\n"
   ]
  },
  {
   "cell_type": "code",
   "execution_count": 22,
   "metadata": {},
   "outputs": [
    {
     "ename": "TypeError",
     "evalue": "__init__() missing 2 required positional arguments: 'eno' and 'ename'",
     "output_type": "error",
     "traceback": [
      "\u001b[1;31m---------------------------------------------------------------------------\u001b[0m",
      "\u001b[1;31mTypeError\u001b[0m                                 Traceback (most recent call last)",
      "\u001b[1;32m<ipython-input-22-6fb4ea2c7b5a>\u001b[0m in \u001b[0;36m<module>\u001b[1;34m\u001b[0m\n\u001b[0;32m      7\u001b[0m         \u001b[0mprint\u001b[0m\u001b[1;33m(\u001b[0m\u001b[1;34m\"2-arg-con\"\u001b[0m\u001b[1;33m)\u001b[0m\u001b[1;33m\u001b[0m\u001b[1;33m\u001b[0m\u001b[0m\n\u001b[0;32m      8\u001b[0m \u001b[1;33m\u001b[0m\u001b[0m\n\u001b[1;32m----> 9\u001b[1;33m \u001b[0memp\u001b[0m \u001b[1;33m=\u001b[0m \u001b[0mEmployee\u001b[0m\u001b[1;33m(\u001b[0m\u001b[1;33m)\u001b[0m\u001b[1;33m\u001b[0m\u001b[1;33m\u001b[0m\u001b[0m\n\u001b[0m",
      "\u001b[1;31mTypeError\u001b[0m: __init__() missing 2 required positional arguments: 'eno' and 'ename'"
     ]
    }
   ],
   "source": [
    "class Employee:\n",
    "    def __init__(self):\n",
    "        print(\"0-arg-con\")\n",
    "    def __init__(self, eno):\n",
    "        print(\"1-arg-con\")\n",
    "    def __init__(self,eno, ename):\n",
    "        print(\"2-arg-con\")\n",
    "        \n",
    "emp = Employee()"
   ]
  },
  {
   "cell_type": "code",
   "execution_count": 23,
   "metadata": {},
   "outputs": [
    {
     "name": "stdout",
     "output_type": "stream",
     "text": [
      "2-arg-con\n"
     ]
    }
   ],
   "source": [
    "emp = Employee(111,\"aaa\")"
   ]
  },
  {
   "cell_type": "markdown",
   "metadata": {},
   "source": [
    "### 2. Method Overloading:\n",
    "----------------------\n",
    "- If we declare more than one method with the same name and with different parameter list then it is called as Method overloading.\n",
    "- Python does not support Method Overloading, if we provide more than one method with the same name and with different parameter list then PVM will consider only the last provided method when we access that method. "
   ]
  },
  {
   "cell_type": "code",
   "execution_count": 24,
   "metadata": {},
   "outputs": [
    {
     "ename": "TypeError",
     "evalue": "add() missing 2 required positional arguments: 'j' and 'k'",
     "output_type": "error",
     "traceback": [
      "\u001b[1;31m---------------------------------------------------------------------------\u001b[0m",
      "\u001b[1;31mTypeError\u001b[0m                                 Traceback (most recent call last)",
      "\u001b[1;32m<ipython-input-24-a6b2e63032a7>\u001b[0m in \u001b[0;36m<module>\u001b[1;34m\u001b[0m\n\u001b[0;32m      9\u001b[0m \u001b[1;33m\u001b[0m\u001b[0m\n\u001b[0;32m     10\u001b[0m \u001b[0ma\u001b[0m \u001b[1;33m=\u001b[0m \u001b[0mA\u001b[0m\u001b[1;33m(\u001b[0m\u001b[1;33m)\u001b[0m\u001b[1;33m\u001b[0m\u001b[1;33m\u001b[0m\u001b[0m\n\u001b[1;32m---> 11\u001b[1;33m \u001b[0ma\u001b[0m\u001b[1;33m.\u001b[0m\u001b[0madd\u001b[0m\u001b[1;33m(\u001b[0m\u001b[1;36m10\u001b[0m\u001b[1;33m)\u001b[0m\u001b[1;33m\u001b[0m\u001b[1;33m\u001b[0m\u001b[0m\n\u001b[0m",
      "\u001b[1;31mTypeError\u001b[0m: add() missing 2 required positional arguments: 'j' and 'k'"
     ]
    }
   ],
   "source": [
    "class A:\n",
    "    def add(self, i):\n",
    "        print(\"1-param-add :\",i)\n",
    "    def add(self, i,j):\n",
    "        print(\"2-param-add :\",i,j)\n",
    "    def add(self, i,j,k):\n",
    "        print(\"3-param-add :\",i,j,k)\n",
    "        \n",
    "        \n",
    "a = A()\n",
    "a.add(10)"
   ]
  },
  {
   "cell_type": "code",
   "execution_count": 25,
   "metadata": {},
   "outputs": [
    {
     "name": "stdout",
     "output_type": "stream",
     "text": [
      "3-param-add : 10 20 30\n"
     ]
    }
   ],
   "source": [
    "a.add(10,20,30)"
   ]
  },
  {
   "cell_type": "markdown",
   "metadata": {},
   "source": [
    "- In Python, we are able to achieve Constructor overloading and method overloading by using either default arguments or variable length arguments.\n"
   ]
  },
  {
   "cell_type": "code",
   "execution_count": 2,
   "metadata": {},
   "outputs": [
    {
     "name": "stdout",
     "output_type": "stream",
     "text": [
      "ADD : 0\n",
      "ADD : 10\n",
      "ADD : 30\n",
      "ADD : 60\n"
     ]
    }
   ],
   "source": [
    "class A:\n",
    "    def __init__(self, i=0, j=0, k=0):\n",
    "        self.i = i\n",
    "        self.j = j\n",
    "        self.k = k\n",
    "        \n",
    "    def add(self):\n",
    "        print(\"ADD :\",self.i+self.j+self.k)\n",
    "        \n",
    "a1 = A()\n",
    "a1.add()\n",
    "\n",
    "a2 = A(10)\n",
    "a2.add()\n",
    "\n",
    "a3 = A(10,20)\n",
    "a3.add()\n",
    "\n",
    "a4 = A(10,20,30)\n",
    "a4.add()"
   ]
  },
  {
   "cell_type": "code",
   "execution_count": 8,
   "metadata": {},
   "outputs": [
    {
     "name": "stdout",
     "output_type": "stream",
     "text": [
      "ADD : 0\n",
      "ADD : 0\n",
      "ADD : 10\n",
      "ADD : 30\n",
      "ADD : 60\n"
     ]
    }
   ],
   "source": [
    "class A:\n",
    "    def add(self,*n):\n",
    "        print(\"ADD :\",sum(n))\n",
    "        \n",
    "        \n",
    "a = A()\n",
    "a.add()\n",
    "a.add(0)\n",
    "a.add(10)\n",
    "a.add(10,20)\n",
    "a.add(10,20,30)"
   ]
  },
  {
   "cell_type": "markdown",
   "metadata": {},
   "source": [
    "### 3. Operator Overloading\n",
    "------------------------\n",
    "- If we declare any operator with more than one functionality then it is called as Operator Overloading.\n",
    "\n",
    "#####  +   ==>    Arithmetic Addition and String concatination\n",
    "#####  *    ==>   Arithmetic Multiplication and Repeat Concatination operation\n",
    "#####  %   ==>  Arithmetic Modulo operation and Formatted output\n"
   ]
  },
  {
   "cell_type": "markdown",
   "metadata": {},
   "source": [
    "- In Python, every operator has its own Magic method internally and it will be executed when we use that respective operator in python applications. "
   ]
  },
  {
   "cell_type": "raw",
   "metadata": {},
   "source": [
    "####  +     ===>  Object.__add__(self,other)\n",
    "####  -     ===>  Object.__sub__(self,other)\n",
    "####  *     ===>  Object.__mul__(self,other)\n",
    "####  /     ===>  Object.__div__(self,other) , %  ===> Object.__mod__(self,other) , **  ===> Object.__pow__(self,other)  , \n",
    "#### //                   ===> Object.floordiv__(self,other)\n",
    "#### += ===> Object.__iadd__(self,other)\n",
    "#### -=  ===> Object.__isub__(self,other)\n",
    "#### *=  ------> Object.__imul__(self,other)\n",
    "#### /=  ------> Object.__idiv__(self,other)\n",
    "#### %=  ------> Object.__imod__(self,other)\n",
    "#### **=  ------> Object.__ipow__(self,other)\n",
    "#### //= -----> Object.__ifloordiv__(self,other)\n",
    "#### ==    ------> Object.__eq__(self,other)\n",
    "#### !=  ------> Object.__nq__(self,other)\n",
    "#### <  ------> Object.__lt__(self,other)\n",
    "#### >------> Object.__gt__(self,other)\n",
    "#### <=  ------> Object.__le__(self,other)\n",
    "#### >=  -----> Object.__ge__(self,other)"
   ]
  },
  {
   "cell_type": "markdown",
   "metadata": {},
   "source": [
    "##### use + operator for our class objects:"
   ]
  },
  {
   "cell_type": "code",
   "execution_count": 31,
   "metadata": {},
   "outputs": [
    {
     "name": "stdout",
     "output_type": "stream",
     "text": [
      "100\n",
      "200\n"
     ]
    },
    {
     "ename": "TypeError",
     "evalue": "unsupported operand type(s) for +: 'Book' and 'Book'",
     "output_type": "error",
     "traceback": [
      "\u001b[1;31m---------------------------------------------------------------------------\u001b[0m",
      "\u001b[1;31mTypeError\u001b[0m                                 Traceback (most recent call last)",
      "\u001b[1;32m<ipython-input-31-9a6f3ab09623>\u001b[0m in \u001b[0;36m<module>\u001b[1;34m\u001b[0m\n\u001b[0;32m      9\u001b[0m \u001b[0mprint\u001b[0m\u001b[1;33m(\u001b[0m\u001b[0mb2\u001b[0m\u001b[1;33m.\u001b[0m\u001b[0mpages\u001b[0m\u001b[1;33m)\u001b[0m\u001b[1;33m\u001b[0m\u001b[1;33m\u001b[0m\u001b[0m\n\u001b[0;32m     10\u001b[0m \u001b[1;33m\u001b[0m\u001b[0m\n\u001b[1;32m---> 11\u001b[1;33m \u001b[0mb\u001b[0m \u001b[1;33m=\u001b[0m \u001b[0mb1\u001b[0m \u001b[1;33m+\u001b[0m \u001b[0mb2\u001b[0m\u001b[1;33m\u001b[0m\u001b[1;33m\u001b[0m\u001b[0m\n\u001b[0m\u001b[0;32m     12\u001b[0m \u001b[1;33m\u001b[0m\u001b[0m\n\u001b[0;32m     13\u001b[0m \u001b[0mprint\u001b[0m\u001b[1;33m(\u001b[0m\u001b[0mb\u001b[0m\u001b[1;33m)\u001b[0m   \u001b[1;31m#### =======> error\u001b[0m\u001b[1;33m\u001b[0m\u001b[1;33m\u001b[0m\u001b[0m\n",
      "\u001b[1;31mTypeError\u001b[0m: unsupported operand type(s) for +: 'Book' and 'Book'"
     ]
    }
   ],
   "source": [
    "class Book:\n",
    "    def __init__(self, pages):\n",
    "        self.pages = pages\n",
    "        \n",
    "b1 = Book(100)\n",
    "b2 = Book(200)\n",
    "\n",
    "print(b1.pages)\n",
    "print(b2.pages)\n",
    "\n",
    "b = b1 + b2\n",
    "\n",
    "print(b)   #### =======> error"
   ]
  },
  {
   "cell_type": "markdown",
   "metadata": {},
   "source": [
    "#### overload + operator for our Book class objects:"
   ]
  },
  {
   "cell_type": "code",
   "execution_count": 3,
   "metadata": {},
   "outputs": [
    {
     "name": "stdout",
     "output_type": "stream",
     "text": [
      "100\n",
      "157\n",
      "257\n"
     ]
    },
    {
     "ename": "TypeError",
     "evalue": "unsupported operand type(s) for +: 'int' and 'Book'",
     "output_type": "error",
     "traceback": [
      "\u001b[1;31m---------------------------------------------------------------------------\u001b[0m",
      "\u001b[1;31mTypeError\u001b[0m                                 Traceback (most recent call last)",
      "\u001b[1;32m<ipython-input-3-7a0cad607c72>\u001b[0m in \u001b[0;36m<module>\u001b[1;34m\u001b[0m\n\u001b[0;32m     18\u001b[0m \u001b[0mb\u001b[0m \u001b[1;33m=\u001b[0m \u001b[0mb1\u001b[0m \u001b[1;33m+\u001b[0m \u001b[0mb2\u001b[0m\u001b[1;33m\u001b[0m\u001b[1;33m\u001b[0m\u001b[0m\n\u001b[0;32m     19\u001b[0m \u001b[0mprint\u001b[0m\u001b[1;33m(\u001b[0m\u001b[0mb\u001b[0m\u001b[1;33m)\u001b[0m\u001b[1;33m\u001b[0m\u001b[1;33m\u001b[0m\u001b[0m\n\u001b[1;32m---> 20\u001b[1;33m \u001b[0mbb\u001b[0m \u001b[1;33m=\u001b[0m \u001b[0mb1\u001b[0m\u001b[1;33m+\u001b[0m \u001b[0mb2\u001b[0m \u001b[1;33m+\u001b[0m \u001b[0mb3\u001b[0m\u001b[1;33m\u001b[0m\u001b[1;33m\u001b[0m\u001b[0m\n\u001b[0m\u001b[0;32m     21\u001b[0m \u001b[0mprint\u001b[0m\u001b[1;33m(\u001b[0m\u001b[0mbb\u001b[0m\u001b[1;33m)\u001b[0m\u001b[1;33m\u001b[0m\u001b[1;33m\u001b[0m\u001b[0m\n",
      "\u001b[1;31mTypeError\u001b[0m: unsupported operand type(s) for +: 'int' and 'Book'"
     ]
    }
   ],
   "source": [
    "class Book:\n",
    "    def __init__(self, pages):\n",
    "        self.pages = pages\n",
    "    def __add__(self, other):\n",
    "        return self.pages + other.pages\n",
    "        \n",
    "    \n",
    "    \n",
    "    \n",
    "    \n",
    "b1 = Book(100)\n",
    "b2 = Book(157)\n",
    "\n",
    "b3 = Book(400)\n",
    "\n",
    "print(b1.pages)\n",
    "print(b2.pages)\n",
    "b = b1 + b2 \n",
    "print(b)\n",
    "bb = b1+ b2 + b3\n",
    "print(bb)"
   ]
  },
  {
   "cell_type": "code",
   "execution_count": 82,
   "metadata": {},
   "outputs": [
    {
     "name": "stdout",
     "output_type": "stream",
     "text": [
      " __add___ ==>> book one name book two name\n",
      " __add___ ==>> book one name book two name book three name\n",
      " __add___ ==>> book one name book two name book three name book four name\n",
      "\n",
      "book one name book two name book three name book four name\n",
      "<class '__main__.Book'>\n",
      "<class '__main__.Book'>\n"
     ]
    }
   ],
   "source": [
    "##Operator Overloading\n",
    "\n",
    "## return object \n",
    "class Book:\n",
    "    def __init__(self, name):\n",
    "        self.name = name\n",
    "    \n",
    "    def __add__(self, other):\n",
    "        new_name = self.name + \" \"+ other.name\n",
    "        print(\" __add___ ==>>\",new_name)\n",
    "        new_book = Book(new_name)\n",
    "        return new_book\n",
    "\n",
    "    \n",
    "    \n",
    "book1 = Book(\"book one name\")    \n",
    "book2 = Book(\"book two name\")\n",
    "book3 = Book(\"book three name\")\n",
    "book4 = Book(\"book four name\")\n",
    "result = book1 + book2 \n",
    "result1 = result + book3\n",
    "result2 = result1 + book4\n",
    "\n",
    "print()\n",
    "print(result2.name)\n",
    "print(type(result2))\n",
    "print(type(book1))"
   ]
  },
  {
   "cell_type": "markdown",
   "metadata": {},
   "source": [
    "#### _ _eq_ _()"
   ]
  },
  {
   "cell_type": "code",
   "execution_count": 44,
   "metadata": {},
   "outputs": [
    {
     "name": "stdout",
     "output_type": "stream",
     "text": [
      "Students are Equal at Education\n",
      "Students are not equals at Eduction\n",
      "Students are not equals at Eduction\n"
     ]
    }
   ],
   "source": [
    "class Student:\n",
    "    def __init__(self,sid, smarks):\n",
    "        self.sid = sid\n",
    "        self.smarks = smarks\n",
    "        \n",
    "    def __eq__(self, other):\n",
    "        if self.smarks == other.smarks:\n",
    "            return \"Students are Equal at Education\"\n",
    "        else:\n",
    "            return \"Students are not equals at Eduction\"\n",
    "        \n",
    "        \n",
    "        \n",
    "std1 = Student(\"S-111\", 78)\n",
    "std2 = Student(\"S-222\", 78)\n",
    "print(std1 == std2)\n",
    "\n",
    "std3 = Student(\"S-333\", 68)\n",
    "std4 = Student(\"S-444\", 79)\n",
    "print(std3 == std4)   \n",
    "\n",
    "print(std2==std4)"
   ]
  },
  {
   "cell_type": "markdown",
   "metadata": {},
   "source": [
    "#### _ _gt_ _()"
   ]
  },
  {
   "cell_type": "code",
   "execution_count": 47,
   "metadata": {},
   "outputs": [
    {
     "name": "stdout",
     "output_type": "stream",
     "text": [
      "10>20 = False\n",
      "s1>s2= False\n",
      "s1<s2= True\n",
      "s1<=s2= True\n",
      "s1>=s2= False\n"
     ]
    }
   ],
   "source": [
    "class Student:\n",
    "    def __init__(self,name,marks):\n",
    "        self.name=name\n",
    "        self.marks=marks\n",
    "    def __gt__(self,other):\n",
    "        return self.marks>other.marks\n",
    "  \n",
    "    \n",
    "    \n",
    "    \n",
    "print(\"10>20 =\",10>20)\n",
    "\n",
    "s1=Student(\"Durga\",100)\n",
    "s2=Student(\"Ravi\",200)\n",
    "\n",
    "print(\"s1>s2=\",s1>s2)\n",
    "\n",
    "print(\"s1<s2=\",s1<s2)\n",
    "\n",
    "print(\"s1<=s2=\",s1<=s2)\n",
    "\n",
    "print(\"s1>=s2=\",s1>=s2)"
   ]
  },
  {
   "cell_type": "code",
   "execution_count": 13,
   "metadata": {},
   "outputs": [
    {
     "name": "stdout",
     "output_type": "stream",
     "text": [
      "SID\tSNAME\tSADDR\tSMARKS\n",
      "-----------------------------------\n",
      "S-111 \t AAA \t Hyd \t 78\n",
      "S-222 \t BBB \t Hyd \t 88\n",
      "S-333 \t CCC \t Hyd \t 67\n",
      "S-444 \t DDD \t Hyd \t 96\n",
      "S-555 \t EEE \t Hyd \t 58\n"
     ]
    }
   ],
   "source": [
    "class Student:\n",
    "    def __init__(self,sid, sname, saddr, smarks):\n",
    "        self.sid = sid\n",
    "        self.sname = sname\n",
    "        self.saddr = saddr\n",
    "        self.smarks = smarks\n",
    "    \n",
    "    def getStdDetails(self):\n",
    "        print(self.sid,\"\\t\",self.sname,\"\\t\",self.saddr,\"\\t\",self.smarks)\n",
    "        \n",
    "        \n",
    "        \n",
    "std1 = Student(\"S-111\", \"AAA\", \"Hyd\", 78)\n",
    "std2 = Student(\"S-222\", \"BBB\", \"Hyd\", 88)\n",
    "std3 = Student(\"S-333\", \"CCC\", \"Hyd\", 67)\n",
    "std4 = Student(\"S-444\", \"DDD\", \"Hyd\", 96)\n",
    "std5 = Student(\"S-555\", \"EEE\", \"Hyd\", 58)\n",
    "\n",
    "stdList = [std1,std2,std3,std4,std5]\n",
    "\n",
    "\n",
    "\n",
    "print(\"SID\\tSNAME\\tSADDR\\tSMARKS\")\n",
    "print(\"-----------------------------------\")\n",
    "for std in stdList:\n",
    "    std.getStdDetails()\n",
    "            \n",
    "            "
   ]
  },
  {
   "cell_type": "markdown",
   "metadata": {},
   "source": [
    "###### - low to high smark   "
   ]
  },
  {
   "cell_type": "code",
   "execution_count": 17,
   "metadata": {},
   "outputs": [
    {
     "name": "stdout",
     "output_type": "stream",
     "text": [
      "SID\tSNAME\tSADDR\tSMARKS\n",
      "-----------------------------------\n",
      "S-555 \t EEE \t Hyd \t 58\n",
      "S-333 \t CCC \t Hyd \t 67\n",
      "S-111 \t AAA \t Hyd \t 78\n",
      "S-222 \t BBB \t Hyd \t 88\n",
      "S-444 \t DDD \t Hyd \t 96\n"
     ]
    }
   ],
   "source": [
    "class Student:\n",
    "    def __init__(self,sid, sname, saddr, smarks):\n",
    "        self.sid = sid\n",
    "        self.sname = sname\n",
    "        self.saddr = saddr\n",
    "        self.smarks = smarks\n",
    "        \n",
    "    def __lt__(self, other):\n",
    "        return self.smarks < other.smarks\n",
    "    \n",
    "    def getStdDetails(self):\n",
    "        print(self.sid,\"\\t\",self.sname,\"\\t\",self.saddr,\"\\t\",self.smarks)\n",
    "        \n",
    "        \n",
    "        \n",
    "std1 = Student(\"S-111\", \"AAA\", \"Hyd\", 78)\n",
    "std2 = Student(\"S-222\", \"BBB\", \"Hyd\", 88)\n",
    "std3 = Student(\"S-333\", \"CCC\", \"Hyd\", 67)\n",
    "std4 = Student(\"S-444\", \"DDD\", \"Hyd\", 96)\n",
    "std5 = Student(\"S-555\", \"EEE\", \"Hyd\", 58)\n",
    "\n",
    "stdList = [std1,std2,std3,std4,std5]\n",
    "\n",
    "\n",
    "while True:\n",
    "    count = 0\n",
    "    for x in range(0,len(stdList)-1):\n",
    "        if stdList[x] < stdList[x+1]:\n",
    "            pass\n",
    "        else:\n",
    "            count = count + 1\n",
    "            temp = stdList[x]\n",
    "            stdList[x] = stdList[x+1]\n",
    "            stdList[x+1] = temp\n",
    "            \n",
    "    if count == 0:\n",
    "        break\n",
    "    else:\n",
    "        continue\n",
    "\n",
    "        \n",
    "print(\"SID\\tSNAME\\tSADDR\\tSMARKS\")\n",
    "print(\"-----------------------------------\")\n",
    "for std in stdList:\n",
    "    std.getStdDetails()\n",
    "                    "
   ]
  },
  {
   "cell_type": "code",
   "execution_count": 84,
   "metadata": {},
   "outputs": [
    {
     "name": "stdout",
     "output_type": "stream",
     "text": [
      "AAA fast and BBB last .\n",
      "BBB last and CCC fast.\n",
      "CCC and AAA equal .\n"
     ]
    }
   ],
   "source": [
    "\n",
    "class Stud :\n",
    "    def __init__(self , sid , sname , smark):\n",
    "        self.sid = sid\n",
    "        self.sname = sname \n",
    "        self.smark = smark\n",
    "        \n",
    "    def __lt__(self , other) :\n",
    "        if self.smark < other.smark :\n",
    "            return self.sname + \" last and \" + other.sname + \" fast.\"\n",
    "        elif other.smark < self.smark :\n",
    "            return self.sname +\" fast and \"+ other.sname + \" last .\"\n",
    "        else :\n",
    "            return self.sname + \" and \"+other.sname +\" equal .\"\n",
    "        \n",
    "        \n",
    "std1 = Stud(\"s-11\",\"AAA\",82)\n",
    "std2 = Stud(\"s-22\",\"BBB\",67)\n",
    "std3 = Stud(\"s-33\",\"CCC\",82)\n",
    "\n",
    "print(std1<std2)\n",
    "print(std2<std3)\n",
    "print(std3<std1)"
   ]
  },
  {
   "cell_type": "markdown",
   "metadata": {},
   "source": [
    "#### with dynamic search :-"
   ]
  },
  {
   "cell_type": "code",
   "execution_count": 5,
   "metadata": {},
   "outputs": [
    {
     "name": "stdout",
     "output_type": "stream",
     "text": [
      "1.Sorting By ENO\n",
      "2.Sorting By ENAME\n",
      "3.Sorting By ESAL\n",
      "4.Sorting By EADDR\n",
      "5.EXIT\n",
      "Your Option : 1\n",
      "ENO ENAME ESAL EADDR\n",
      "-----------------------------\n",
      "111 Durga 5000 Hyd\n",
      "222 Kish 8000 Chennai\n",
      "333 Anil 6000 Pune\n",
      "444 Raju 7000 Delhi\n",
      "555 Sonu 9000 Mumbai\n",
      "\n",
      "1.Sorting By ENO\n",
      "2.Sorting By ENAME\n",
      "3.Sorting By ESAL\n",
      "4.Sorting By EADDR\n",
      "5.EXIT\n",
      "Your Option : 2\n",
      "ENO ENAME ESAL EADDR\n",
      "-----------------------------\n",
      "333 Anil 6000 Pune\n",
      "111 Durga 5000 Hyd\n",
      "222 Kish 8000 Chennai\n",
      "444 Raju 7000 Delhi\n",
      "555 Sonu 9000 Mumbai\n",
      "\n",
      "1.Sorting By ENO\n",
      "2.Sorting By ENAME\n",
      "3.Sorting By ESAL\n",
      "4.Sorting By EADDR\n",
      "5.EXIT\n",
      "Your Option : 3\n",
      "ENO ENAME ESAL EADDR\n",
      "-----------------------------\n",
      "111 Durga 5000 Hyd\n",
      "333 Anil 6000 Pune\n",
      "444 Raju 7000 Delhi\n",
      "222 Kish 8000 Chennai\n",
      "555 Sonu 9000 Mumbai\n",
      "\n",
      "1.Sorting By ENO\n",
      "2.Sorting By ENAME\n",
      "3.Sorting By ESAL\n",
      "4.Sorting By EADDR\n",
      "5.EXIT\n",
      "Your Option : 4\n",
      "ENO ENAME ESAL EADDR\n",
      "-----------------------------\n",
      "222 Kish 8000 Chennai\n",
      "444 Raju 7000 Delhi\n",
      "111 Durga 5000 Hyd\n",
      "555 Sonu 9000 Mumbai\n",
      "333 Anil 6000 Pune\n",
      "\n",
      "1.Sorting By ENO\n",
      "2.Sorting By ENAME\n",
      "3.Sorting By ESAL\n",
      "4.Sorting By EADDR\n",
      "5.EXIT\n",
      "Your Option : 5\n"
     ]
    },
    {
     "ename": "SystemExit",
     "evalue": "",
     "output_type": "error",
     "traceback": [
      "An exception has occurred, use %tb to see the full traceback.\n",
      "\u001b[1;31mSystemExit\u001b[0m\n"
     ]
    }
   ],
   "source": [
    "\n",
    "import sys\n",
    "####create class\n",
    "class Employee:\n",
    "    sortingKey = \"ENO\"\n",
    "    def __init__(self,eno, ename, esal, eaddr ):\n",
    "        self.eno = eno\n",
    "        self.ename = ename\n",
    "        self.esal = esal\n",
    "        self.eaddr = eaddr\n",
    "        ###### create __lt__()  ===> lessthen \n",
    "    def __lt__(self, other):\n",
    "        if self.sortingKey == \"ENO\":\n",
    "            return self.eno < other.eno\n",
    "        elif self.sortingKey == \"ENAME\":\n",
    "            return self.ename < other.ename\n",
    "        elif self.sortingKey == \"ESAL\":\n",
    "            return self.esal < other.esal\n",
    "        elif self.sortingKey == \"EADDR\":\n",
    "            return self.eaddr < other.eaddr\n",
    "        else:\n",
    "            pass\n",
    "        \n",
    "  ######## create object ver.\n",
    "\n",
    "emp1 = Employee(111, 'Durga', 5000, 'Hyd')\n",
    "emp2 = Employee(222, 'Kish', 8000, 'Chennai')\n",
    "emp3 = Employee(333, \"Anil\", 6000, 'Pune')\n",
    "emp4 = Employee(444, \"Raju\", 7000, \"Delhi\")\n",
    "emp5 = Employee(555, \"Sonu\", 9000, \"Mumbai\")\n",
    "\n",
    "\n",
    "## create function for sorting-list \n",
    "def sort(list):\n",
    "    while True:\n",
    "        count = 0\n",
    "        for x in range(0, len(list) - 1):\n",
    "            if list[x] < list[x + 1]:\n",
    "                pass\n",
    "            else:\n",
    "                count = count + 1\n",
    "                temp = list[x]\n",
    "                list[x] = list[x + 1]\n",
    "                list[x + 1] = temp\n",
    "        if count == 0:\n",
    "            break\n",
    "        else:\n",
    "            continue\n",
    "            \n",
    "            \n",
    "            \n",
    "list = [emp1, emp2, emp3, emp4, emp5]\n",
    "\n",
    "\n",
    "while True:\n",
    "    print(\"1.Sorting By ENO\")\n",
    "    print(\"2.Sorting By ENAME\")\n",
    "    print(\"3.Sorting By ESAL\")\n",
    "    print(\"4.Sorting By EADDR\")\n",
    "    print(\"5.EXIT\")\n",
    "    option = int(input(\"Your Option : \"))\n",
    "    if option == 1:\n",
    "        Employee.sortingKey = \"ENO\"\n",
    "        sort(list)\n",
    "    elif option == 2:\n",
    "        Employee.sortingKey = \"ENAME\"\n",
    "        sort(list)\n",
    "    elif option == 3:\n",
    "        Employee.sortingKey = \"ESAL\"\n",
    "        sort(list)\n",
    "    elif option == 4:\n",
    "        Employee.sortingKey = \"EADDR\"\n",
    "        sort(list)\n",
    "    elif option == 5:\n",
    "        sys.exit()\n",
    "    else:\n",
    "        print(\"Provide the number from 1 to 5\")\n",
    "    print(\"ENO\",\"ENAME\",\"ESAL\",\"EADDR\")\n",
    "    print(\"-----------------------------\")\n",
    "    for emp in list:\n",
    "        print(emp.eno,emp.ename,emp.esal,emp.eaddr)\n",
    "    print()\n",
    "    \n",
    "    \n",
    "    "
   ]
  },
  {
   "cell_type": "markdown",
   "metadata": {},
   "source": [
    "# Overridding:\n",
    "-------------\n",
    "- In Python, Overridding is the process providing replacement for the existed functionality.\n",
    "- Therer are two types of Overriddings in python.\n",
    "    1. Constructor Overridding.\n",
    "    2. Method Overridding.\n"
   ]
  },
  {
   "cell_type": "markdown",
   "metadata": {},
   "source": [
    "### 1. Constructor Overridding.\n",
    "-----------------------------\n",
    "- In general, when we provide inheritance relation between two classes and when we create object for sub class then Super class constructor will come to sub class , where at sub class, super class constructor will be overriden with sub class constructor.\n",
    "- To perform Constructor overridding in python applications we have to declare constructors at both super class and sub class explicitly and create object for sub class, where we will get output from sub class constructor.\n",
    "- In the above constext, if sub class constructor is not existed then PVM will execute super class constructor as super class constructor is inherited to sub class.\n"
   ]
  },
  {
   "cell_type": "code",
   "execution_count": 1,
   "metadata": {},
   "outputs": [
    {
     "name": "stdout",
     "output_type": "stream",
     "text": [
      "A-Con\n"
     ]
    }
   ],
   "source": [
    "class A:\n",
    "    def __init__(self):\n",
    "        print(\"A-Con\")\n",
    "        \n",
    "class B(A):\n",
    "    pass\n",
    "\n",
    "\n",
    "b = B()\n"
   ]
  },
  {
   "cell_type": "markdown",
   "metadata": {},
   "source": [
    "-  PVM will bring Super class[Class A] constructor to sub class, in this context, if PVM is identifying sub class constructor explicitly then PVM will override super class constructor with sub class constructor and PVM will execute sub class constructor as per sub class object creation."
   ]
  },
  {
   "cell_type": "code",
   "execution_count": 2,
   "metadata": {},
   "outputs": [
    {
     "name": "stdout",
     "output_type": "stream",
     "text": [
      "B-Con\n"
     ]
    }
   ],
   "source": [
    "class A:\n",
    "    def __init__(self):\n",
    "        print(\"A-Con\")\n",
    "        \n",
    "class B(A):\n",
    "    def __init__(self):\n",
    "        print(\"B-Con\")\n",
    "        \n",
    "        \n",
    "b = B()\n"
   ]
  },
  {
   "cell_type": "markdown",
   "metadata": {},
   "source": [
    "### 2. Method Overriding:\n",
    "----------------------\n",
    "- In general, in python applications, when we define inheritance relation between two classes , PVM will bring super class methods to sub class internally, in this context, if PVM identifies any super class method at sub class then explicitly then PVM will override super class method with sub class method, in this context, if we acess that method then PVM will execute sub class method only, not super class method."
   ]
  },
  {
   "cell_type": "code",
   "execution_count": 3,
   "metadata": {},
   "outputs": [
    {
     "name": "stdout",
     "output_type": "stream",
     "text": [
      "m1-B\n"
     ]
    }
   ],
   "source": [
    "class A:\n",
    "    def m1(self):\n",
    "        print(\"m1-A\")\n",
    "        \n",
    "class B(A):\n",
    "    def m1(self):\n",
    "        print(\"m1-B\")\n",
    "        \n",
    "        \n",
    "b = B()\n",
    "b.m1()"
   ]
  },
  {
   "cell_type": "code",
   "execution_count": 4,
   "metadata": {},
   "outputs": [
    {
     "name": "stdout",
     "output_type": "stream",
     "text": [
      "m1-A\n"
     ]
    }
   ],
   "source": [
    "class A:\n",
    "    def m1(self):\n",
    "        print(\"m1-A\")\n",
    "        \n",
    "class B(A):\n",
    "    pass\n",
    "\n",
    "\n",
    "b = B()\n",
    "b.m1()\n"
   ]
  },
  {
   "cell_type": "code",
   "execution_count": 5,
   "metadata": {},
   "outputs": [
    {
     "name": "stdout",
     "output_type": "stream",
     "text": [
      "Employee Account Min Bal :  5000\n",
      "Student Account Min Bal :  0\n",
      "Loan Account Min Bal :  10000\n"
     ]
    }
   ],
   "source": [
    "class Account:\n",
    "    def getMinBal(self):\n",
    "        return 10000\n",
    "    \n",
    "class EmployeeAccount(Account):\n",
    "    def getMinBal(self):\n",
    "        return 5000\n",
    "    \n",
    "class StudentAccount(Account):\n",
    "    def getMinBal(self):\n",
    "        return 0\n",
    "    \n",
    "class LoanAccount(Account):\n",
    "    pass\n",
    "\n",
    "\n",
    "\n",
    "empAccount = EmployeeAccount()\n",
    "print(\"Employee Account Min Bal : \",empAccount.getMinBal())\n",
    "stdAccount = StudentAccount()\n",
    "print(\"Student Account Min Bal : \",stdAccount.getMinBal())\n",
    "loanAccount = LoanAccount()\n",
    "print(\"Loan Account Min Bal : \",loanAccount.getMinBal())"
   ]
  },
  {
   "cell_type": "code",
   "execution_count": null,
   "metadata": {},
   "outputs": [],
   "source": []
  }
 ],
 "metadata": {
  "kernelspec": {
   "display_name": "Python 3",
   "language": "python",
   "name": "python3"
  },
  "language_info": {
   "codemirror_mode": {
    "name": "ipython",
    "version": 3
   },
   "file_extension": ".py",
   "mimetype": "text/x-python",
   "name": "python",
   "nbconvert_exporter": "python",
   "pygments_lexer": "ipython3",
   "version": "3.8.1"
  }
 },
 "nbformat": 4,
 "nbformat_minor": 4
}
