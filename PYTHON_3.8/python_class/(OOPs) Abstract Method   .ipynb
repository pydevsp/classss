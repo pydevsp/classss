{
 "cells": [
  {
   "cell_type": "markdown",
   "metadata": {},
   "source": [
    "# Abstract class:\n",
    "- In general, in Python applications, if any class is extended from ABC class from abc module then that class is treated an abstract class.\n",
    "\n",
    "         from abc import *\n",
    "         class A(ABC):\n",
    "             pass\n"
   ]
  },
  {
   "cell_type": "markdown",
   "metadata": {},
   "source": [
    "- In Pythgon applications, if we declare any abstract class with abstract methods then we must provide implementation for abstract methods by taking a sub class.\n"
   ]
  },
  {
   "cell_type": "code",
   "execution_count": 2,
   "metadata": {},
   "outputs": [
    {
     "name": "stdout",
     "output_type": "stream",
     "text": [
      "m1-B\n",
      "m2-B\n",
      "m3-B\n"
     ]
    }
   ],
   "source": [
    "from abc import *\n",
    "class A(ABC):\n",
    "    @abstractmethod\n",
    "    def m1(self):\n",
    "        pass\n",
    "    @abstractmethod\n",
    "    def m2(self):\n",
    "        pass\n",
    "    @abstractmethod\n",
    "    def m3(self):\n",
    "        pass\n",
    "    \n",
    "    \n",
    "class B(A):\n",
    "    def m1(self):\n",
    "        print(\"m1-B\")\n",
    "    def m2(self):\n",
    "        print(\"m2-B\")\n",
    "    def m3(self):\n",
    "        print(\"m3-B\")\n",
    "        \n",
    "        \n",
    "b = B()\n",
    "b.m1()\n",
    "b.m2()\n",
    "b.m3()\n",
    "        "
   ]
  },
  {
   "cell_type": "code",
   "execution_count": 4,
   "metadata": {},
   "outputs": [
    {
     "name": "stdout",
     "output_type": "stream",
     "text": [
      "m1-B\n",
      "m2-B\n",
      "m3-A\n"
     ]
    }
   ],
   "source": [
    "from abc import *\n",
    "class A(ABC):\n",
    "    @abstractmethod\n",
    "    def m1(self):\n",
    "        pass\n",
    "    @abstractmethod\n",
    "    def m2(self):\n",
    "        pass\n",
    "    def m3(self):\n",
    "        print(\"m3-A\")\n",
    "        \n",
    "        \n",
    "class B(A):\n",
    "    def m1(self):\n",
    "        print(\"m1-B\")\n",
    "    def m2(self):\n",
    "        print(\"m2-B\")\n",
    "        \n",
    "        \n",
    "b = B()\n",
    "b.m1()\n",
    "b.m2()\n",
    "b.m3()\n"
   ]
  },
  {
   "cell_type": "markdown",
   "metadata": {},
   "source": [
    "- In Python applications, It is possible to declare an abstract class with out abstract methods , in this case, we can create object for abstract class and we can access concreate methods by using abstract class object reference variable if any concreate methods are existed , but, if any abstract method is existed in abstract class then it is not possible to create object for abstract class."
   ]
  },
  {
   "cell_type": "code",
   "execution_count": 2,
   "metadata": {},
   "outputs": [
    {
     "name": "stdout",
     "output_type": "stream",
     "text": [
      "m1-A\n",
      "m2-A\n",
      "m3-A\n"
     ]
    }
   ],
   "source": [
    "from abc import *\n",
    "class A(ABC):\n",
    "    def m1(self):\n",
    "        print(\"m1-A\")\n",
    "    def m2(self):\n",
    "        print(\"m2-A\")\n",
    "    def m3(self):\n",
    "        print(\"m3-A\")\n",
    "        \n",
    "        \n",
    "a = A()\n",
    "\n",
    "a.m1()\n",
    "a.m2()\n",
    "a.m3()\n"
   ]
  },
  {
   "cell_type": "code",
   "execution_count": 6,
   "metadata": {},
   "outputs": [
    {
     "ename": "TypeError",
     "evalue": "Can't instantiate abstract class A with abstract methods m1",
     "output_type": "error",
     "traceback": [
      "\u001b[1;31m---------------------------------------------------------------------------\u001b[0m",
      "\u001b[1;31mTypeError\u001b[0m                                 Traceback (most recent call last)",
      "\u001b[1;32m<ipython-input-6-424a2a23f932>\u001b[0m in \u001b[0;36m<module>\u001b[1;34m\u001b[0m\n\u001b[0;32m     10\u001b[0m \u001b[1;33m\u001b[0m\u001b[0m\n\u001b[0;32m     11\u001b[0m \u001b[1;33m\u001b[0m\u001b[0m\n\u001b[1;32m---> 12\u001b[1;33m \u001b[0ma\u001b[0m \u001b[1;33m=\u001b[0m \u001b[0mA\u001b[0m\u001b[1;33m(\u001b[0m\u001b[1;33m)\u001b[0m  \u001b[1;31m## ========> ERROR\u001b[0m\u001b[1;33m\u001b[0m\u001b[1;33m\u001b[0m\u001b[0m\n\u001b[0m\u001b[0;32m     13\u001b[0m \u001b[0ma\u001b[0m\u001b[1;33m.\u001b[0m\u001b[0mm1\u001b[0m\u001b[1;33m(\u001b[0m\u001b[1;33m)\u001b[0m\u001b[1;33m\u001b[0m\u001b[1;33m\u001b[0m\u001b[0m\n\u001b[0;32m     14\u001b[0m \u001b[0ma\u001b[0m\u001b[1;33m.\u001b[0m\u001b[0mm2\u001b[0m\u001b[1;33m(\u001b[0m\u001b[1;33m)\u001b[0m\u001b[1;33m\u001b[0m\u001b[1;33m\u001b[0m\u001b[0m\n",
      "\u001b[1;31mTypeError\u001b[0m: Can't instantiate abstract class A with abstract methods m1"
     ]
    }
   ],
   "source": [
    "from abc import *\n",
    "class A(ABC):\n",
    "    @abstractmethod\n",
    "    def m1(self):\n",
    "        print(\"m1-A\")\n",
    "    def m2(self):\n",
    "        print(\"m2-A\")\n",
    "    def m3(self):\n",
    "        print(\"m3-A\")\n",
    "        \n",
    "        \n",
    "a = A()  ## ========> ERROR\n",
    "a.m1()\n",
    "a.m2()\n",
    "a.m3()"
   ]
  },
  {
   "cell_type": "markdown",
   "metadata": {},
   "source": [
    "- In Python, if we declare abstract class with abstract method and if we have not provided implementation for abstract method in the sub class then sub class is converted as abstract class automatically, where Object is not possible for both super abstract class and sub class.\n"
   ]
  },
  {
   "cell_type": "code",
   "execution_count": 5,
   "metadata": {},
   "outputs": [
    {
     "ename": "TypeError",
     "evalue": "Can't instantiate abstract class B with abstract methods m1",
     "output_type": "error",
     "traceback": [
      "\u001b[1;31m---------------------------------------------------------------------------\u001b[0m",
      "\u001b[1;31mTypeError\u001b[0m                                 Traceback (most recent call last)",
      "\u001b[1;32m<ipython-input-5-450d60bf863b>\u001b[0m in \u001b[0;36m<module>\u001b[1;34m\u001b[0m\n\u001b[0;32m     10\u001b[0m \u001b[1;33m\u001b[0m\u001b[0m\n\u001b[0;32m     11\u001b[0m \u001b[1;33m\u001b[0m\u001b[0m\n\u001b[1;32m---> 12\u001b[1;33m \u001b[0mb\u001b[0m \u001b[1;33m=\u001b[0m \u001b[0mB\u001b[0m\u001b[1;33m(\u001b[0m\u001b[1;33m)\u001b[0m\u001b[1;33m\u001b[0m\u001b[1;33m\u001b[0m\u001b[0m\n\u001b[0m\u001b[0;32m     13\u001b[0m \u001b[0mb\u001b[0m\u001b[1;33m.\u001b[0m\u001b[0mm1\u001b[0m\u001b[1;33m(\u001b[0m\u001b[1;33m)\u001b[0m\u001b[1;33m\u001b[0m\u001b[1;33m\u001b[0m\u001b[0m\n",
      "\u001b[1;31mTypeError\u001b[0m: Can't instantiate abstract class B with abstract methods m1"
     ]
    }
   ],
   "source": [
    "from abc import *\n",
    "class A(ABC):\n",
    "    @abstractmethod\n",
    "    def m1(self):\n",
    "        print(\"m1-A\")\n",
    "        \n",
    "class B(A):\n",
    "    pass\n",
    "\n",
    "\n",
    "\n",
    "b = B()\n",
    "b.m1()"
   ]
  },
  {
   "cell_type": "markdown",
   "metadata": {},
   "source": [
    "- Note: IN python applications, if we want to declare methods and if we want to give option to some other to provide implementation for methods then we have to declare methods as abstract methods and classes as abstract classes."
   ]
  },
  {
   "cell_type": "code",
   "execution_count": 7,
   "metadata": {},
   "outputs": [
    {
     "name": "stdout",
     "output_type": "stream",
     "text": [
      "Savings Account Min Bal : 10000\n",
      "Current Account Min Bal : 50000\n"
     ]
    }
   ],
   "source": [
    "from abc import *\n",
    "class Account(ABC):\n",
    "    def getMinBal(self):\n",
    "        pass\n",
    "class SavingsAccount:\n",
    "    def getMinBal(self):\n",
    "        return 10000\n",
    "class CurrentAccount:\n",
    "    def getMinBal(self):\n",
    "        return 50000\n",
    "    \n",
    "    \n",
    "sa = SavingsAccount()\n",
    "print(\"Savings Account Min Bal :\",sa.getMinBal())\n",
    "ca = CurrentAccount()\n",
    "print(\"Current Account Min Bal :\",ca.getMinBal())    \n"
   ]
  },
  {
   "cell_type": "markdown",
   "metadata": {},
   "source": [
    "# Interface:\n",
    "----------\n",
    "- In Python, if any abstract class is declared with only abstract methods then that abstract class is called as an interface.\n"
   ]
  },
  {
   "cell_type": "code",
   "execution_count": 11,
   "metadata": {},
   "outputs": [
    {
     "name": "stdout",
     "output_type": "stream",
     "text": [
      "Ford Fiesta Model 2012\n",
      "3 Passangers + Driver\n",
      "\n",
      "Ford EchoSports Model 2015\n",
      "4 Passangers + Driver\n",
      "\n",
      "Ford Endeavour Model 2016\n",
      "7 Passangers + Driver\n",
      "\n",
      "Ford Endeavour Model 2022\n",
      "1 Passangers + Driver\n"
     ]
    }
   ],
   "source": [
    "from abc import *\n",
    "class FordCar(ABC):\n",
    "    @abstractmethod\n",
    "    def getCarType(self):\n",
    "        pass\n",
    "    @abstractmethod\n",
    "    def getSeatingCapacity(self):\n",
    "        print(\"1 Passangers + Driver\")\n",
    "    \n",
    "class FordFiesta(FordCar):\n",
    "    def getCarType(self):\n",
    "        print(\"Ford Fiesta Model 2012\")\n",
    "    def getSeatingCapacity(self):\n",
    "        print(\"3 Passangers + Driver\")\n",
    "        \n",
    "class EchoSports(FordCar):\n",
    "    def getCarType(self):\n",
    "        print(\"Ford EchoSports Model 2015\")\n",
    "    def getSeatingCapacity(self):\n",
    "        print(\"4 Passangers + Driver\")\n",
    "        \n",
    "class Endeavour(FordCar):\n",
    "    def getCarType(self):\n",
    "        print(\"Ford Endeavour Model 2016\")\n",
    "    def getSeatingCapacity(self):\n",
    "        print(\"7 Passangers + Driver\")\n",
    "\n",
    "class EndeavourNew(FordCar):\n",
    "    def getCarType(self):\n",
    "        print(\"Ford Endeavour Model 2022\")\n",
    "    def getSeatingCapacity(self):\n",
    "        super().getSeatingCapacity()             ## <<============ use super function\n",
    "        \n",
    "fiesta = FordFiesta()\n",
    "fiesta.getCarType()\n",
    "fiesta.getSeatingCapacity()\n",
    "print()\n",
    "echosports = EchoSports()\n",
    "echosports.getCarType()\n",
    "echosports.getSeatingCapacity()\n",
    "print()\n",
    "endeavour = Endeavour()\n",
    "endeavour.getCarType()\n",
    "endeavour.getSeatingCapacity()\n",
    "print()\n",
    "endeavournew = EndeavourNew()\n",
    "endeavournew.getCarType()\n",
    "endeavournew.getSeatingCapacity()"
   ]
  },
  {
   "cell_type": "markdown",
   "metadata": {},
   "source": [
    "# globals()[name] function in Python:\n",
    "-----------------------------------\n",
    "- In Python applications, if we take any input by using input() function then that input values will be returned in the form of String only, here if we want to get inputy values in int, float,.... then we have to perform type casting by using predefined functions like int(), float(),....\n",
    "#### - In the above context, if we want to convert any string data as class name then we have to use globals()[name] predefined function."
   ]
  },
  {
   "cell_type": "code",
   "execution_count": 14,
   "metadata": {},
   "outputs": [
    {
     "name": "stdout",
     "output_type": "stream",
     "text": [
      "Enter Class Name : Guava\n",
      "Guava 1 Dozen : 70\n",
      "Enter Class Name : Banana\n",
      "Banana 1 Dozen : 50\n",
      "Enter Class Name : Apple\n",
      "Apple 1 Dozen : 200\n"
     ]
    }
   ],
   "source": [
    "# from abc import *\n",
    "# class Fruit(ABC):\n",
    "#     @abstractmethod\n",
    "#     def getPrice(self):\n",
    "#         pass\n",
    "    \n",
    "class Apple(Fruit):\n",
    "    def getPrice(self):\n",
    "        return 200\n",
    "    \n",
    "class Banana(Fruit):\n",
    "    def getPrice(self):\n",
    "        return 50\n",
    "    \n",
    "class Guava(Fruit):\n",
    "    def getPrice(self):\n",
    "        return 70\n",
    "    \n",
    "    \n",
    "for x in range(0,3):\n",
    "    className = input(\"Enter Class Name : \")\n",
    "    obj = globals()[className]()\n",
    "    print(className,\"1 Dozen :\",obj.getPrice())"
   ]
  },
  {
   "cell_type": "markdown",
   "metadata": {},
   "source": [
    "# importance of  _ _str_ _()  function in Python\n",
    "--------------\n",
    "- In general, in Python applications, if we pass any object reference variable as parameter to print() function then PVM will execute  _ _str_ _(self)  function internally .\n",
    "- _ _str_ _ ()  function was provided in Object class initially, it can was implemented in such a way to return a string contains \"< _ _main_ _.Student object at Hex_Decimal_Val>\". "
   ]
  },
  {
   "cell_type": "code",
   "execution_count": 22,
   "metadata": {},
   "outputs": [
    {
     "name": "stdout",
     "output_type": "stream",
     "text": [
      "<__main__.Student object at 0x0000024257E7A8B0>\n",
      "S-111\n",
      "Durga\n"
     ]
    }
   ],
   "source": [
    "class Student:\n",
    "    def __init__(self,sid,sname,saddr):\n",
    "        self.sid = sid\n",
    "        self.sname = sname\n",
    "        self.saddr = saddr\n",
    "        \n",
    "        \n",
    "std = Student(\"S-111\", \"Durga\", \"Hyd\")\n",
    "print(std)\n",
    "print(std.sid)\n",
    "print(std.sname)\n"
   ]
  },
  {
   "cell_type": "markdown",
   "metadata": {},
   "source": [
    "- In Python applications, when we pass object reference variable as parameter to print() function if we want to display our own details instead of object reference value then we have to override _ _str_ _ () function."
   ]
  },
  {
   "cell_type": "code",
   "execution_count": 23,
   "metadata": {},
   "outputs": [
    {
     "name": "stdout",
     "output_type": "stream",
     "text": [
      "Student Details\n",
      "----------------------\n",
      "Student Id : S-111\n",
      "Student Name : Durga\n",
      "Student Address : Hyd\n",
      "\n"
     ]
    }
   ],
   "source": [
    "class Student:\n",
    "    def __init__(self,sid,sname,saddr):\n",
    "        self.sid = sid\n",
    "        self.sname = sname\n",
    "        self.saddr = saddr\n",
    "        \n",
    "    def __str__(self):\n",
    "        print(\"Student Details\")\n",
    "        print(\"----------------------\")\n",
    "        print(\"Student Id :\",self.sid)\n",
    "        print(\"Student Name :\",self.sname)\n",
    "        print(\"Student Address :\",self.saddr)\n",
    "        return \"\"\n",
    "    \n",
    "    \n",
    "    \n",
    "std = Student(\"S-111\", \"Durga\", \"Hyd\")\n",
    "print(std)\n"
   ]
  },
  {
   "cell_type": "code",
   "execution_count": null,
   "metadata": {},
   "outputs": [],
   "source": []
  },
  {
   "cell_type": "code",
   "execution_count": null,
   "metadata": {},
   "outputs": [],
   "source": []
  }
 ],
 "metadata": {
  "kernelspec": {
   "display_name": "Python 3",
   "language": "python",
   "name": "python3"
  },
  "language_info": {
   "codemirror_mode": {
    "name": "ipython",
    "version": 3
   },
   "file_extension": ".py",
   "mimetype": "text/x-python",
   "name": "python",
   "nbconvert_exporter": "python",
   "pygments_lexer": "ipython3",
   "version": "3.8.1"
  }
 },
 "nbformat": 4,
 "nbformat_minor": 4
}
