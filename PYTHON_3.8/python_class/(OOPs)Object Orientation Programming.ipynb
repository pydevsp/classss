{
 "cells": [
  {
   "cell_type": "markdown",
   "metadata": {},
   "source": [
    "\n",
    "\n",
    "\n",
    "\n",
    "# Intro languages :\n",
    "- In general, to prepare applications we will use the following types of\n",
    "  Programming Languages.\n",
    "   1. Unstructered Programming Languages\n",
    "   2. Structered Programming Languages\n",
    "   3. Object Oriented Programming Languages\n",
    "   4. Aspet Oriented Programming Languages\n"
   ]
  },
  {
   "cell_type": "markdown",
   "metadata": {},
   "source": [
    "## Unstructered Programming Languages v/s Structered Programming Languages :\n",
    "------\n",
    "\n",
    "- Q) What are the differences between Unstructered Programming Languages and Structered Programming Languages?\n",
    "\n",
    "- 1. Unstructered Programming Languages are outdated Programming\n",
    "Languages, these programming languages are not suitable for our at\n",
    "present Application requirements.\n",
    "EX: BASIC, FORTRAN\n",
    "\n",
    "- Structered Programming Languages are not out dated Programming\n",
    "Languages, these Programming Languages are suitable for our at present\n",
    "application requirements.\n",
    "EX: C, PASCAL,...\n",
    "\n",
    "- 2. UnStructered  Programming  Languages are not following any structer to\n",
    "prepare applications.\n",
    "- Structered Programming Languages are following a particular Structer to\n",
    "prepare applications.\n",
    "- 3. Unstructered Programming Languages are using menomonic codes, they\n",
    "are available in less number and they will provide less no of features\n",
    "to the applications.\n",
    "- Structered Programming Languages are using High level syntaxes, they are\n",
    "avaiable in more no. and they will provide more no. of features to the\n",
    "applications.\n",
    "- 4. Unstructered Programming Languages are using only \"goto\" statement to\n",
    "defined flow of execution, but, it is not good.\n",
    "\n",
    "- Structered Programming Languages are using more no. of flow controllers\n",
    "to defined flow of execution.\n",
    "- 5. Unstructered Programming Languages are not using functions features,\n",
    "Code Redundency will be increased.\n",
    "- Structered Programming Languages are using \"functions\" features, which\n",
    "will increase code reusability.\n"
   ]
  },
  {
   "cell_type": "markdown",
   "metadata": {},
   "source": [
    "## Structered Programming Languages v/s Object Oriented Programming Languages :\n",
    "---------\n",
    "\n",
    "- Q)What are the differences between Structered Programming Languages and Object Oriented Programming Languages?\n",
    "\n",
    "- 1. Structered Programming Languages are providing difficult approach to prepare applications.\n",
    "\n",
    "- Object Oriented Programming Languages are providing simplified approaches to prepare applications.\n",
    "\n",
    "- 2. Structered Programming Languages are not having Good Modularization.\n",
    "\n",
    "- Object Orientged Programming Languages are Having Good  Modularization.\n",
    "\n",
    "- 3. Structered Programming Languages are not providing very good Abstraction Levels.\n",
    "\n",
    "- Object Oriented Programming languages are providing very good Abstraction levels.\n",
    " \n",
    "- 4. Structered Programming Languages are not having good Security for the data.\n",
    "\n",
    "- Object Oriented Programming Languages are having very good security for the data.\n",
    "\n",
    "- 5. Structered Programming Languages are not having very good Code Reusability.\n",
    "\n",
    "- Object Oriented Programmnig Languages are having very good Code Reusability.\n",
    "\n",
    "- 6. Structered Programming Languages are not having very good Sharability.\n",
    "\n",
    "- Object Oriented Programming Languages are providing very good Sharability.\n",
    "\n"
   ]
  },
  {
   "cell_type": "markdown",
   "metadata": {},
   "source": [
    "#### - Note: Aspect Orientation is a methodology or a set of rules and regulations which are applied on Object Oriented Programming inorder to improve Sharability and Reusability.\n",
    "\n",
    "#### - Note: C is Structered come Procedure Oriented Programming Language, C++ and Java are Object Oriented Programming Languages, but, Python is both Structered or Procedure Oriented and Object Oriented Programming Language. "
   ]
  },
  {
   "cell_type": "markdown",
   "metadata": {},
   "source": [
    "#### -Procedural Programming : It is used a list of instructions to do computation step by step . In procedural programming it is not easy to maintain the codes when project becomes lengthy . It works on step by step instruction divided in small parts called functions "
   ]
  },
  {
   "cell_type": "markdown",
   "metadata": {},
   "source": [
    "# Object Oriented Principles:\n",
    "- To describe the nature of Object Orientation, Object Oriention has provided a set of features.\n",
    "   1. Class\n",
    "   \n",
    "   2. Object\n",
    "   \n",
    "   3. Encapsulation\n",
    "   \n",
    "   4. Abstraction\n",
    "   \n",
    "   5. Inheritance\n",
    "   \n",
    "   6. Polymorphism\n"
   ]
  },
  {
   "cell_type": "markdown",
   "metadata": {},
   "source": [
    "## Class :\n",
    "-----\n",
    "- In python every thing is an \"Object\" .To create objects we required some model or, blue print or, plan , which is nothing but class.\n",
    "\n",
    "- We can write a class to represent properties (attributes) and behaviour (action) of object .\n",
    "\n",
    "  - Properties can be represented by variables .\n",
    "  - Actions can be reprsented by Methods . \n",
    "-  Class is virtual .\n",
    "- Class is Generalization.\n",
    "- Class is virtual encapsulation of properties and behaviours.\n"
   ]
  },
  {
   "cell_type": "markdown",
   "metadata": {},
   "source": [
    "## Object :\n",
    "------\n",
    "- Physical existence  of a class is nothing but object. We can create any number of objects for a class .\n",
    "- Object is physical or real.\n",
    "- Object is Physical encapsulation of the properties and behaviours.\n",
    "- Object is Specialization.\n",
    "- Object is an instance of the class.\n"
   ]
  },
  {
   "cell_type": "markdown",
   "metadata": {},
   "source": [
    "## Encapsulation :\n",
    "-----------\n",
    "- The process of combining or binding data and coding part is called as \"Encapsulation\".\n"
   ]
  },
  {
   "cell_type": "markdown",
   "metadata": {},
   "source": [
    "## Abstraction :\n",
    "-----\n",
    "- The process of hiding unneccessary implementations and the process of showing neccessary implementations is called as \"Abstraction\".\n",
    "\n",
    "  -    Encapsulation + Abstraction =security"
   ]
  },
  {
   "cell_type": "markdown",
   "metadata": {},
   "source": [
    "## Inheritance :\n",
    "-------\n",
    "- Inheritance is a relation between entity classes , where inheritance relation will bring variables and methods from one class\n",
    "  [Super class/parent class / base class ] to another class [sub class / chaild class / derived class ].\n",
    "\n",
    "- the main advantage of inheritance is \"code reusability \" .\n"
   ]
  },
  {
   "cell_type": "markdown",
   "metadata": {},
   "source": [
    "## polymorphism :\n",
    "------\n",
    "\n",
    "- Polymorphism is a greak word \n",
    "- \"Poly\" means \"many\" , and \"morphism\" means \"forms or structers\" .\n",
    "- If one thing is existed in more than one form then it is called as Polymorphism.\n",
    "- the main advantageof Polymorphism is flexibility in application development ."
   ]
  },
  {
   "cell_type": "markdown",
   "metadata": {},
   "source": [
    "#  "
   ]
  },
  {
   "cell_type": "markdown",
   "metadata": {},
   "source": [
    "# class use :\n",
    "----\n",
    "\n",
    "-  It is represent all real world entities in python-programming .\n",
    "   -   syntax :\n",
    "   \n",
    "        class ClassName :\n",
    "            ==docstring==\n",
    "            ==constructor==\n",
    "            ==variables==\n",
    "            ==methods=="
   ]
  },
  {
   "cell_type": "markdown",
   "metadata": {},
   "source": [
    "- declare a class by using \"class\" keyword .\n",
    "- then declare variable and methods inside the class .\n",
    "- then create object for the class .\n",
    "- then, access Class member"
   ]
  },
  {
   "cell_type": "code",
   "execution_count": 2,
   "metadata": {},
   "outputs": [
    {
     "name": "stdout",
     "output_type": "stream",
     "text": [
      "<class '__main__.MyClass'>\n",
      "\n",
      "{'__module__': '__main__', 'a': 10, '__dict__': <attribute '__dict__' of 'MyClass' objects>, '__weakref__': <attribute '__weakref__' of 'MyClass' objects>, '__doc__': None}\n",
      "\n",
      "MyClass\n",
      "\n",
      "(<class 'object'>,)\n",
      "\n",
      "None\n",
      "\n",
      "__main__\n"
     ]
    }
   ],
   "source": [
    "# create class\n",
    "class MyClass:\n",
    "    a= 10\n",
    "    \n",
    "    \n",
    "print(MyClass)\n",
    "print()\n",
    "print(MyClass.__dict__)\n",
    "print()\n",
    "print(MyClass.__name__)\n",
    "print()\n",
    "print(MyClass.__bases__)\n",
    "print()\n",
    "print(MyClass.__doc__)\n",
    "print()\n",
    "print(MyClass.__module__)"
   ]
  },
  {
   "cell_type": "code",
   "execution_count": 19,
   "metadata": {},
   "outputs": [
    {
     "name": "stdout",
     "output_type": "stream",
     "text": [
      "<class '__main__.TheObject'>\n",
      "20\n",
      "20\n"
     ]
    }
   ],
   "source": [
    "\n",
    "class TheObject :\n",
    "    c = 20\n",
    "    \n",
    "print(TheObject)\n",
    "\n",
    "print(TheObject.c)\n",
    "\n",
    "# create object\n",
    "objectPrint =  TheObject()\n",
    "\n",
    "print(objectPrint.c)\n",
    "\n",
    "# print(c)  ==> NameError: name 'c' is not defined"
   ]
  },
  {
   "cell_type": "code",
   "execution_count": 21,
   "metadata": {},
   "outputs": [
    {
     "name": "stdout",
     "output_type": "stream",
     "text": [
      "  Emp Details  \n",
      "------------------\n",
      "Emp_no.     : 100\n",
      "Emp_Name    : SACHIN\n",
      "Emp_salary  : 50000\n",
      "Emp_address : d colony , \n",
      "                s street , \n",
      "                p-jeypore , \n",
      "                s-odisha\n"
     ]
    }
   ],
   "source": [
    "class Employee :\n",
    "    eno = 100\n",
    "    ename = \"SACHIN\"\n",
    "    esal = 50000\n",
    "    eaddr = '''d colony , \n",
    "                s street , \n",
    "                p-jeypore , \n",
    "                s-odisha'''\n",
    "    \n",
    "    def getEmpDetails(self) :\n",
    "        print(\"  Emp Details  \")\n",
    "        print(\"------------------\")\n",
    "        print(\"Emp_no.     :\",self.eno)\n",
    "        print(\"Emp_Name    :\",self.ename)\n",
    "        print(\"Emp_salary  :\",self.esal)\n",
    "        print(\"Emp_address :\",self.eaddr)\n",
    "        \n",
    "        \n",
    "emp = Employee()\n",
    "emp.getEmpDetails()\n",
    "\n",
    "        \n",
    "        "
   ]
  },
  {
   "cell_type": "markdown",
   "metadata": {},
   "source": [
    "- self : \n",
    "----\n",
    "    - it is a default variable or, parameter in all python constructors and python methods ,it can be used to represent current class object.\n",
    "    - in python applications \"self\" parameter name is not fixed , it is variable, we can use any name for \"Self\" parameter variable."
   ]
  },
  {
   "cell_type": "code",
   "execution_count": 23,
   "metadata": {},
   "outputs": [
    {
     "name": "stdout",
     "output_type": "stream",
     "text": [
      "Student Details\n",
      "--------------------\n",
      "Student Id : S-111\n",
      "Student Name : Durga\n",
      "Student Address : Hyd\n",
      "Student Email Id : durga@durgasoft.com\n",
      "Student Mobile No : 91-9988776655\n"
     ]
    }
   ],
   "source": [
    "class Student:\n",
    "    \n",
    "    def setStudentDetails(self, sid, sname, saddr, semail, smobile):\n",
    "        self.studentId = sid\n",
    "        self.studentName = sname\n",
    "        self.studentAddress = saddr\n",
    "        self.studentEmail = semail\n",
    "        self.studentMobile = smobile\n",
    "        \n",
    "    def getStudentDetails(self):\n",
    "        print(\"Student Details\")\n",
    "        print(\"--------------------\")\n",
    "        print(\"Student Id :\",self.studentId)\n",
    "        print(\"Student Name :\",self.studentName)\n",
    "        print(\"Student Address :\",self.studentAddress)\n",
    "        print(\"Student Email Id :\",self.studentEmail)\n",
    "        print(\"Student Mobile No :\",self.studentMobile)\n",
    "        \n",
    "        \n",
    "std = Student() \n",
    "std.setStudentDetails(\"S-111\", \"Durga\", \"Hyd\", \"durga@durgasoft.com\",\"91-9988776655\")\n",
    "std.getStudentDetails()"
   ]
  },
  {
   "cell_type": "code",
   "execution_count": 33,
   "metadata": {},
   "outputs": [
    {
     "name": "stdout",
     "output_type": "stream",
     "text": [
      "m1-Method\n",
      "10\n",
      "20\n",
      "m2-Method\n",
      "10\n",
      "20\n"
     ]
    }
   ],
   "source": [
    "class A:\n",
    "    a = 10\n",
    "    b = 20\n",
    "    def m1(self):\n",
    "        print(\"m1-Method\")\n",
    "        print(self.a)\n",
    "        print(self.b)\n",
    "        self.m2()          # m2() ==> call ==> object\n",
    "        \n",
    "    def m2(self):\n",
    "        print(\"m2-Method\")\n",
    "        print(self.a)\n",
    "        print(self.b)\n",
    "        \n",
    "a = A()\n",
    "a.m1()"
   ]
  },
  {
   "cell_type": "code",
   "execution_count": 35,
   "metadata": {},
   "outputs": [
    {
     "name": "stdout",
     "output_type": "stream",
     "text": [
      "m1-Method\n",
      "10\n",
      "20\n",
      "m2-Method\n",
      "10\n",
      "20\n"
     ]
    }
   ],
   "source": [
    "class A:\n",
    "    a = 10\n",
    "    b = 20\n",
    "    def m1(self):\n",
    "        print(\"m1-Method\")\n",
    "        print(self.a)\n",
    "        print(self.b)\n",
    "        self.m2()\n",
    "        \n",
    "        \n",
    "    def m2(self):\n",
    "        print(\"m2-Method\")\n",
    "        print(self.a)\n",
    "        print(self.b)\n",
    "        \n",
    "\n",
    "    def me (self):                  # me() ==> skip for o/p\n",
    "        print(\"me-methods\")\n",
    "        \n",
    "a = A()\n",
    "a.m1()"
   ]
  },
  {
   "cell_type": "code",
   "execution_count": 50,
   "metadata": {},
   "outputs": [
    {
     "name": "stdout",
     "output_type": "stream",
     "text": [
      "100   200\n",
      "10   20\n"
     ]
    }
   ],
   "source": [
    "#  In Python applications, when we have same names to the local variables and to the class level instance variables,\n",
    "##  where to access class level instance variables over local variables there we will use 'self' parameter.\n",
    "\n",
    "class A :\n",
    "    a = 10   \n",
    "    b = 20\n",
    "    def m1(self,a,b):\n",
    "        print(a,\" \",b)  \n",
    "        print(self.a,\" \",self.b)\n",
    "        \n",
    "      \n",
    "d = A()\n",
    "d.m1(100,200)\n"
   ]
  },
  {
   "cell_type": "code",
   "execution_count": 2,
   "metadata": {},
   "outputs": [
    {
     "data": {
      "text/plain": [
       "<bound method dsk.aaa of <__main__.dsk object at 0x00000205FAD27850>>"
      ]
     },
     "execution_count": 2,
     "metadata": {},
     "output_type": "execute_result"
    }
   ],
   "source": [
    "class dsk:\n",
    "    a=10\n",
    "    def aaa(self):\n",
    "        print(self)\n",
    "       \n",
    "s=dsk()\n",
    "s.aaa"
   ]
  },
  {
   "cell_type": "markdown",
   "metadata": {},
   "source": [
    "#   "
   ]
  },
  {
   "cell_type": "markdown",
   "metadata": {},
   "source": [
    "- In Python constructors, Python methods, which parameter we provided\n",
    "as first parameter then that parameter is treated as 'self' parameter\n",
    "and all the remaining parameters are treated as explicit parameters even\n",
    "though the parameter name is 'self'."
   ]
  },
  {
   "cell_type": "code",
   "execution_count": 56,
   "metadata": {},
   "outputs": [
    {
     "name": "stdout",
     "output_type": "stream",
     "text": [
      "a value : <__main__.A object at 0x0000027AC31E1370>\n",
      "b value : 10\n",
      "self value : 20\n"
     ]
    }
   ],
   "source": [
    "class A:\n",
    "    def __init__(a,b,self):\n",
    "        print(\"a value :\",a)\n",
    "        print(\"b value :\",b)\n",
    "        print(\"self value :\",self)   # there \"self\" is possitional argument parameter\n",
    "        \n",
    "a = A(10, 20)"
   ]
  },
  {
   "cell_type": "markdown",
   "metadata": {},
   "source": [
    "##### - Docstring:\n",
    " ----------\n",
    " \n",
    "- \"docstring\" is a string data in every python class, it will provide\n",
    "  some description about the present class.\n",
    "- \"dostring\" is optional in python classes, we are able to write\n",
    "  python classes with out docstring , but, if we want to write docstring\n",
    "in python class then we must provide that docstring as first statement\n",
    "in python class.\n",
    "- To access \"docstring\" from a class we have to use a predefined\n",
    "variable like '_ _doc_ _' by using class Name or by using help()\n",
    "predefined function.\n"
   ]
  },
  {
   "cell_type": "code",
   "execution_count": 9,
   "metadata": {},
   "outputs": [
    {
     "name": "stdout",
     "output_type": "stream",
     "text": [
      "This is Account class\n",
      "\n",
      "Help on class Account in module __main__:\n",
      "\n",
      "class Account(builtins.object)\n",
      " |  This is Account class\n",
      " |  \n",
      " |  Data descriptors defined here:\n",
      " |  \n",
      " |  __dict__\n",
      " |      dictionary for instance variables (if defined)\n",
      " |  \n",
      " |  __weakref__\n",
      " |      list of weak references to the object (if defined)\n",
      "\n",
      "None\n"
     ]
    }
   ],
   "source": [
    "\n",
    "class Account:\n",
    "    \"This is Account class\"\n",
    "\n",
    "print(Account.__doc__)\n",
    "print()\n",
    "print(help(Account))\n"
   ]
  },
  {
   "cell_type": "markdown",
   "metadata": {},
   "source": [
    "- Q) Is it possible to provide more than one docstring in single python\n",
    "class?\n",
    "- a) No"
   ]
  },
  {
   "cell_type": "code",
   "execution_count": 11,
   "metadata": {},
   "outputs": [
    {
     "name": "stdout",
     "output_type": "stream",
     "text": [
      "This is Account class\n",
      "This is Account class\n"
     ]
    }
   ],
   "source": [
    "class Account:\n",
    " \"This is Account class\"\n",
    " \"It will be used in Bank Applications\"  ## PVM will recognize the first docstring as original docstring andremaining docstrings are treated as normal string data.\n",
    "    \n",
    "    \n",
    "print(Account.__doc__)\n",
    "print(Account.__doc__)\n"
   ]
  },
  {
   "cell_type": "markdown",
   "metadata": {},
   "source": [
    "#### - Procedure to create Object in Python:\n",
    " --------------------------------------\n"
   ]
  },
  {
   "cell_type": "code",
   "execution_count": 14,
   "metadata": {},
   "outputs": [
    {
     "name": "stdout",
     "output_type": "stream",
     "text": [
      "Employee Object Id : 2224706554848\n",
      "Employee Details\n",
      "---------------------\n",
      "Employee Number : 111\n",
      "Employee Name : AAA\n",
      "Employee Salary : 50000\n",
      "Employee Address : Hyd\n",
      "\n",
      "Employee Details\n",
      "---------------------\n",
      "Employee Number : 111\n",
      "Employee Name : AAA\n",
      "Employee Salary : 50000\n",
      "Employee Address : Hyd\n"
     ]
    }
   ],
   "source": [
    "class Employee:\n",
    "    eno=111\n",
    "    ename=\"AAA\"\n",
    "    \n",
    "    def __init__(self):\n",
    "        self.esal=50000\n",
    "        self.eaddr=\"Hyd\"\n",
    "        \n",
    "    def getEmpDetails(self):\n",
    "        print(\"Employee Details\")\n",
    "        print(\"---------------------\")\n",
    "        print(\"Employee Number :\", self.eno)\n",
    "        print(\"Employee Name :\", self.ename)\n",
    "        print(\"Employee Salary :\", self.esal)\n",
    "        print(\"Employee Address :\", self.eaddr)\n",
    "        \n",
    "        \n",
    "emp = Employee()\n",
    "\n",
    "print(\"Employee Object Id :\",id(emp))\n",
    "emp.getEmpDetails()\n",
    "print()\n",
    "print(\"Employee Details\")\n",
    "print(\"---------------------\")\n",
    "print(\"Employee Number :\", emp.eno)\n",
    "print(\"Employee Name :\", emp.ename)\n",
    "print(\"Employee Salary :\", emp.esal)\n",
    "print(\"Employee Address :\", emp.eaddr)"
   ]
  },
  {
   "cell_type": "markdown",
   "metadata": {},
   "source": [
    "###  -Q) What is the difference between Object and Instance?\n",
    "\n",
    "- Object is a block of memory to store data.\n",
    "- Instance is a copy or layer of data in an object at a particular point\n",
    "  of time.\n"
   ]
  },
  {
   "cell_type": "markdown",
   "metadata": {},
   "source": [
    "- class A:\n",
    "      def __init__(self):\n",
    "        self.i = 0\n",
    "        self.j = 0\n",
    "    \n",
    "- a = A()\n",
    "\n",
    "- for x in range(0,10):\n",
    "      a.i = a.i + 1\n",
    "      a.j = a.j + 1\n",
    "    \n",
    "- In the above program, only one Object is created and 11 no of instances\n",
    "are created."
   ]
  },
  {
   "cell_type": "code",
   "execution_count": 43,
   "metadata": {},
   "outputs": [
    {
     "name": "stdout",
     "output_type": "stream",
     "text": [
      "11\n",
      "21\n",
      "\n",
      "13\n",
      "23\n",
      "\n",
      "16\n",
      "26\n",
      "\n",
      "20\n",
      "30\n",
      "\n",
      "25\n",
      "35\n",
      "\n",
      "31\n",
      "41\n",
      "\n",
      "38\n",
      "48\n",
      "\n",
      "46\n",
      "56\n",
      "\n",
      "55\n",
      "65\n",
      "\n",
      "after end loop value : 55 & 65\n",
      "\n",
      "after update value\n",
      "------------------\n",
      "56\n",
      "66\n",
      "\n",
      "58\n",
      "68\n",
      "\n",
      "61\n",
      "71\n",
      "\n",
      "65\n",
      "75\n",
      "\n",
      "70\n",
      "80\n",
      "\n",
      "76\n",
      "86\n",
      "\n",
      "83\n",
      "93\n",
      "\n",
      "91\n",
      "101\n",
      "\n",
      "100\n",
      "110\n",
      "\n",
      "new value : 100 & 110\n"
     ]
    }
   ],
   "source": [
    "class A:\n",
    "    def __init__(self):\n",
    "        self.i = 10\n",
    "        self.j = 20\n",
    "        \n",
    "a = A()\n",
    "for x in range(1,10):\n",
    "    a.i = a.i + x\n",
    "    a.j = a.j + x\n",
    "    print(a.i)\n",
    "    print(a.j)\n",
    "    print()\n",
    "    \n",
    "print(\"after end loop value :\" ,a.i ,\"&\",a.j)\n",
    "print()\n",
    "print(\"after update value\")\n",
    "print(\"------------------\")\n",
    "for x in range(1,10):\n",
    "    a.i = a.i + x\n",
    "    a.j = a.j + x\n",
    "    print(a.i)\n",
    "    print(a.j)\n",
    "    print()\n",
    "    \n",
    "print(\"new value :\",a.i ,\"&\", a.j)"
   ]
  },
  {
   "cell_type": "markdown",
   "metadata": {},
   "source": [
    "### - Constructors In Python:\n",
    "------------------------\n",
    "-  Constructor is a python Feature, it can be used to create Objects.\n",
    "-  In Object Creation process, the role of the constructor is to provide initial values to the objects.\n",
    "-  In Python applications, Constructors are recognized and executed exactly at the time of creating objects , not before creating objects and not after creating objects.\n",
    "- In Python applications, we are able to utilize constructors to provide initializations for the instance variables and to manage a set of instructions which we want to execute while creating objects for the respective class.\n",
    "- In Python, Constructor is a special kind of method and whose name is always  _ _init_ _(self)  \n",
    "\n",
    "- def _ _init_ _(self[,param_List]):\n",
    "             ----instructions-----"
   ]
  },
  {
   "cell_type": "markdown",
   "metadata": {},
   "source": [
    "- In Python, there are two types of constructors.\n",
    "    1. Default Constructor\n",
    "    2. User Defined Constructor\n"
   ]
  },
  {
   "cell_type": "markdown",
   "metadata": {},
   "source": [
    "#### - 1. Default Constructor:\n",
    "-----------------------\n",
    "- Default constructor is a constructor , it will be provided by PVM when we have not provided any constructor in the respective class. If we provide any constructor explicitly then PVM will not provide default constructor.\n"
   ]
  },
  {
   "cell_type": "code",
   "execution_count": 24,
   "metadata": {},
   "outputs": [
    {
     "name": "stdout",
     "output_type": "stream",
     "text": [
      "Account Details\n",
      "---------------------\n",
      "Account No : abc123\n",
      "Account Holder Name : Durga\n",
      "Account Type : Savings\n",
      "Account Balance : 600000\n"
     ]
    }
   ],
   "source": [
    "class Account:\n",
    "    accNo = \"abc123\"\n",
    "    accHolderName = \"Durga\"\n",
    "    accType = \"Savings\"\n",
    "    balance = 600000\n",
    "    \n",
    "    def getAccountDetails(self):\n",
    "         print(\"Account Details\")\n",
    "         print(\"---------------------\")\n",
    "         print(\"Account No :\", self.accNo)\n",
    "         print(\"Account Holder Name :\",self.accHolderName)\n",
    "         print(\"Account Type :\",self.accType)\n",
    "         print(\"Account Balance :\",self.balance)\n",
    "            \n",
    "\n",
    "acc = Account()\n",
    "acc.getAccountDetails()\n",
    "\n"
   ]
  },
  {
   "cell_type": "markdown",
   "metadata": {},
   "source": [
    "### 2. User Defined Constructor:\n",
    "----------------------------\n",
    "- These constructores are defined by the developers as per their application requirements.\n",
    "- In Every constructor \"self\" parameter is default parameter, so that, there is no feature like 0-arg constructor.\n",
    "- In Python applications, as per the requirement , if we want to provide parameters explicitly in constructors then we can provide the parameters after \"self\" parameter."
   ]
  },
  {
   "cell_type": "code",
   "execution_count": 7,
   "metadata": {},
   "outputs": [
    {
     "name": "stdout",
     "output_type": "stream",
     "text": [
      "Account Details\n",
      "----------------------\n",
      "Account Number        : abc123\n",
      "Account Holder Name   : Durga\n",
      "Account Type          : Savings\n",
      "Account Balance       : 50000\n"
     ]
    }
   ],
   "source": [
    "class Account:\n",
    "     def __init__(self):\n",
    "         self.accNo = \"abc123\";\n",
    "         self.accHolderName = \"Durga\"\n",
    "         self.accType = \"Savings\"\n",
    "         self.balance = 50000\n",
    "     def getAccountDetails(self):\n",
    "         print(\"Account Details\")\n",
    "         print(\"----------------------\")\n",
    "         print(\"Account Number        :\",self.accNo)\n",
    "         print(\"Account Holder Name   :\", self.accHolderName)\n",
    "         print(\"Account Type          :\", self.accType)\n",
    "         print(\"Account Balance       :\", self.balance)\n",
    "        \n",
    "acc = Account()\n",
    "acc.getAccountDetails()\n"
   ]
  },
  {
   "cell_type": "code",
   "execution_count": 6,
   "metadata": {},
   "outputs": [
    {
     "name": "stdout",
     "output_type": "stream",
     "text": [
      "Account Details\n",
      "----------------------\n",
      "Account Number         : a111\n",
      "Account Holder Name    : AAA\n",
      "Account Type           : Savings\n",
      "Account Balance        : 10000\n",
      "\n",
      "Account Details\n",
      "----------------------\n",
      "Account Number         : a222\n",
      "Account Holder Name    : BBB\n",
      "Account Type           : Savings\n",
      "Account Balance        : 20000\n",
      "\n",
      "Account Details\n",
      "----------------------\n",
      "Account Number         : a333\n",
      "Account Holder Name    : CCC\n",
      "Account Type           : Savings\n",
      "Account Balance        : 30000\n",
      "\n",
      "Account Details\n",
      "----------------------\n",
      "Account Number         : a333\n",
      "Account Holder Name    : CCC\n",
      "Account Type           : Savings\n",
      "Account Balance        : 30000\n"
     ]
    }
   ],
   "source": [
    "class Account:\n",
    "    def __init__(self, accNo, accHolderName, accType, balance):\n",
    "        self.accNo = accNo\n",
    "        self.accHolderName = accHolderName\n",
    "        self.accType = accType\n",
    "        self.balance = balance\n",
    "    def getAccountDetails(self):\n",
    "        print(\"Account Details\")\n",
    "        print(\"----------------------\")\n",
    "        print(\"Account Number         :\",self.accNo)\n",
    "        print(\"Account Holder Name    :\", self.accHolderName)\n",
    "        print(\"Account Type           :\", self.accType)\n",
    "        print(\"Account Balance        :\", self.balance)\n",
    "        \n",
    "acc1 = Account(\"a111\", \"AAA\", \"Savings\", 10000)\n",
    "acc1.getAccountDetails()\n",
    "print()\n",
    "\n",
    "acc2 = Account(\"a222\", \"BBB\", \"Savings\", 20000)\n",
    "acc2.getAccountDetails()\n",
    "print()\n",
    "\n",
    "acc3 = Account(\"a333\", \"CCC\", \"Savings\", 30000)\n",
    "acc3.getAccountDetails()\n",
    "print()\n",
    "\n",
    "Account(\"a333\", \"CCC\", \"Savings\", 30000).getAccountDetails()"
   ]
  },
  {
   "cell_type": "code",
   "execution_count": 9,
   "metadata": {},
   "outputs": [
    {
     "name": "stdout",
     "output_type": "stream",
     "text": [
      "arg\n",
      "\n",
      "['__class__', '__delattr__', '__dict__', '__dir__', '__doc__', '__eq__', '__format__', '__ge__', '__getattribute__', '__gt__', '__hash__', '__init__', '__init_subclass__', '__le__', '__lt__', '__module__', '__ne__', '__new__', '__reduce__', '__reduce_ex__', '__repr__', '__setattr__', '__sizeof__', '__str__', '__subclasshook__', '__weakref__']\n"
     ]
    }
   ],
   "source": [
    "# 0-argument constructor\n",
    "# ----------------------\n",
    "\n",
    "class Ac:\n",
    "    def __init__(self):\n",
    "        print(\"arg\")\n",
    "        \n",
    "acc = Ac()\n",
    "\n",
    "print()\n",
    "\n",
    "class Account:\n",
    "    pass\n",
    "\n",
    "print(dir(Account))"
   ]
  },
  {
   "cell_type": "markdown",
   "metadata": {},
   "source": [
    "#   "
   ]
  },
  {
   "cell_type": "markdown",
   "metadata": {},
   "source": [
    "### Q) What are the differences between Constructor and Method?\n",
    "- a) 1. - Constructor can be used to create objects.\n",
    "        - Method is a set of instructions, it can be used to represent a particular action.\n",
    "- 2. - Constructors are used to provide initial values inside the objects.\n",
    "     - Methods are not used to provide initializations inside the objects.\n",
    "- 3. - Constructor will be executed automatically when Object is created.\n",
    "     - Methods are executed the moment when we access them.\n",
    "- 4. - Constructor name is fixed that is  _ _init_ _ .\n",
    "     - Method name is not fixed.\n",
    "- 5. - For one object constructor will be executed only once, that is, at the time of creating object.\n",
    "     -  For one object, we are able to access methods in any number of times."
   ]
  },
  {
   "cell_type": "markdown",
   "metadata": {},
   "source": [
    "#  "
   ]
  },
  {
   "cell_type": "markdown",
   "metadata": {},
   "source": [
    "## Variables in Python Classes:\n",
    "----------------------------\n",
    "- In Python, the main intention of variables is to store entities data.\n",
    "- There are three types of variables in Python.\n",
    "    1. Instance Variables\n",
    "    2. Static Variables\n",
    "    3. Local variables\n"
   ]
  },
  {
   "cell_type": "markdown",
   "metadata": {},
   "source": [
    "### 1. Instance Variables:\n",
    "-----------------------\n",
    "- If any variable values is changed from one instance to another instance of an object then that variaable is called as Instance variable.\n",
    "- In Python applications, if we create multiple objects for single class then a seperate copy of instance variables are created at each and every object. In this context, if we perform modifications on one object over instance variables then that modification is available upto the respective object only, it is not applicable to all the objects."
   ]
  },
  {
   "cell_type": "markdown",
   "metadata": {},
   "source": [
    "- In Python applications, we are able to declare instance variables in the following locations.\n",
    "     1. Inside Constructor by using 'self' variable.\n",
    "     2. Inside Instance Method by using self var.\n",
    "     3. In Outside of the class by using Object reference variables."
   ]
  },
  {
   "cell_type": "code",
   "execution_count": 58,
   "metadata": {},
   "outputs": [
    {
     "name": "stdout",
     "output_type": "stream",
     "text": [
      "{'eno': 111, 'ename': 'AAA'}\n",
      "{'eno': 111, 'ename': 'AAA', 'equal': 'BTech', 'esal': 50000}\n",
      "{'eno': 111, 'ename': 'AAA', 'equal': 'BTech', 'esal': 50000, 'email': 'durga@durgasoct.com', 'emobile': '91-9988776655'}\n",
      "\n",
      "emp detail\n",
      "-----------\n",
      "eno     : 111\n",
      "ename   : AAA\n",
      "equal   : BTech\n",
      "esal    : 50000\n",
      "email   : durga@durgasoct.com\n",
      "emobile : 91-9988776655\n"
     ]
    }
   ],
   "source": [
    "class Employee:\n",
    "    def __init__(self):\n",
    "        self.eno = 111          ## inside constructor\n",
    "        self.ename = \"AAA\"\n",
    "    def setEmpDetails(self):\n",
    "        self.equal = \"BTech\"    ## inside instance method  \n",
    "        self.esal = 50000\n",
    "\n",
    "        \n",
    "emp = Employee()\n",
    "print(emp.__dict__)\n",
    "emp.setEmpDetails()\n",
    "print(emp.__dict__)\n",
    "emp.email = \"durga@durgasoct.com\"   ## use object reference \n",
    "emp.emobile = \"91-9988776655\"\n",
    "print(emp.__dict__)\n",
    "\n",
    "print()\n",
    "print(\"emp detail\")\n",
    "print(\"-----------\")\n",
    "print(\"eno     :\",emp.eno)\n",
    "print(\"ename   :\",emp.ename)\n",
    "print(\"equal   :\",emp.equal)\n",
    "print(\"esal    :\",emp.esal)\n",
    "print(\"email   :\",emp.email)\n",
    "print(\"emobile :\",emp.emobile)"
   ]
  },
  {
   "cell_type": "markdown",
   "metadata": {},
   "source": [
    "- To access instance variables data we will use the following locations.\n",
    "    1. Inside constructors by using self variable.\n",
    "    2. Inside Instance method by using 'self' variable.\n",
    "    3. In Out side of the class by using object reference variable."
   ]
  },
  {
   "cell_type": "code",
   "execution_count": 61,
   "metadata": {},
   "outputs": [
    {
     "name": "stdout",
     "output_type": "stream",
     "text": [
      "Inside Constructor\n",
      "eno value : 111\n",
      "ename value : AAA\n",
      "Inside Instance Method\n",
      "eno Value : 111\n",
      "ename Value : AAA\n",
      "\n",
      "In Out side of the class\n",
      "eno Value : 111\n",
      "ename Value :AAA\n"
     ]
    }
   ],
   "source": [
    "class Employee:\n",
    "    def __init__(self):\n",
    "        self.eno = 111\n",
    "        self.ename = \"AAA\"\n",
    "        print(\"Inside Constructor\")\n",
    "        print(\"eno value :\",self.eno)\n",
    "        print(\"ename value :\",self.ename)\n",
    "    def getEmpDetails(self):\n",
    "        print(\"Inside Instance Method\")\n",
    "        print(\"eno Value :\",self.eno)\n",
    "        print(\"ename Value :\",self.ename)\n",
    "\n",
    "        \n",
    "emp = Employee()\n",
    "emp.getEmpDetails()\n",
    "print()\n",
    "\n",
    "print(\"In Out side of the class\")\n",
    "print(\"eno Value :\",emp.eno)\n",
    "print(\"ename Value :\" + emp.ename)"
   ]
  },
  {
   "cell_type": "markdown",
   "metadata": {},
   "source": [
    "- In Python, it is possible to delete instance variables from Python Class object in the following locations.\n",
    "    1. Inside   _ _init_ _() by using self variable.\n",
    "    2. In side instance method by using 'self' variable.\n",
    "    3. In out side of the clsas by using object refererence variable ."
   ]
  },
  {
   "cell_type": "code",
   "execution_count": 65,
   "metadata": {},
   "outputs": [
    {
     "name": "stdout",
     "output_type": "stream",
     "text": [
      "{'ename': 'AAA', 'esal': 50000, 'eaddr': 'Hyd'}\n",
      "{'esal': 50000, 'eaddr': 'Hyd'}\n",
      "{}\n"
     ]
    }
   ],
   "source": [
    "class Employee:\n",
    "    def __init__(self):\n",
    "        self.eno = 111\n",
    "        self.ename = \"AAA\"\n",
    "        self.esal = 50000\n",
    "        self.eaddr = \"Hyd\"\n",
    "        del self.eno           ## delete inside constructor\n",
    "    def getEmpDetails(self):\n",
    "        del self.ename        ## delete inside instance method \n",
    "\n",
    "emp = Employee()\n",
    "print(emp.__dict__)\n",
    "emp.getEmpDetails()\n",
    "print(emp.__dict__)\n",
    "del emp.esal         \n",
    "del emp.eaddr           ## delete in object reference\n",
    "print(emp.__dict__)"
   ]
  },
  {
   "cell_type": "code",
   "execution_count": 66,
   "metadata": {},
   "outputs": [
    {
     "name": "stdout",
     "output_type": "stream",
     "text": [
      "{'ename': 'AAA', 'esal': 50000, 'eaddr': 'Hyd'}\n",
      "{'esal': 50000, 'eaddr': 'Hyd'}\n",
      "{}\n"
     ]
    }
   ],
   "source": [
    "emp = Employee()\n",
    "print(emp.__dict__)\n",
    "emp.getEmpDetails()\n",
    "print(emp.__dict__)\n",
    "del emp.esal\n",
    "del emp.eaddr\n",
    "print(emp.__dict__)"
   ]
  },
  {
   "cell_type": "markdown",
   "metadata": {},
   "source": [
    "- In Python applications, if we perform modifications on instance variables in an object then that modifications are \n",
    "  applicable upto the respective object only, that modifications are not applicable for all the objects of the respective clsas.\n"
   ]
  },
  {
   "cell_type": "code",
   "execution_count": 73,
   "metadata": {},
   "outputs": [
    {
     "name": "stdout",
     "output_type": "stream",
     "text": [
      "std1 Data : S-111   AAA\n",
      "std2 Data : S-111  /  AAA\n",
      "std1 Data : S-222   BBB\n",
      "std2 Data : S-111   AAA\n"
     ]
    }
   ],
   "source": [
    "class Student:\n",
    "    def __init__(self):\n",
    "        self.sid = \"S-111\"\n",
    "        self.sname = \"AAA\"\n",
    "        \n",
    "std1 = Student()\n",
    "std2 = Student()\n",
    "print(\"std1 Data :\",std1.sid,\" \",std1.sname)\n",
    "print(\"std2 Data :\",std2.sid,\" / \",std2.sname)\n",
    "\n",
    "std1.sid = \"S-222\"\n",
    "std1.sname = \"BBB\"  ## assign the new value\n",
    "\n",
    "print(\"std1 Data :\",std1.sid,\" \",std1.sname)\n",
    "print(\"std2 Data :\",std2.sid,\" \",std2.sname)"
   ]
  },
  {
   "cell_type": "code",
   "execution_count": 76,
   "metadata": {},
   "outputs": [
    {
     "name": "stdout",
     "output_type": "stream",
     "text": [
      "std1 Data : S-111   AAA\n",
      "std2 Data : S-111   AAA\n",
      "std1 Data : AAA\n",
      "std2 Data : S-111   AAA\n"
     ]
    }
   ],
   "source": [
    "class Student:\n",
    "    def __init__(self):\n",
    "        self.sid = \"S-111\"\n",
    "        self.sname = \"AAA\"\n",
    "\n",
    "std1 = Student()\n",
    "std2 = Student()\n",
    "\n",
    "\n",
    "print(\"std1 Data :\",std1.sid,\" \",std1.sname)\n",
    "print(\"std2 Data :\",std2.sid,\" \",std2.sname)\n",
    "del std1.sid\n",
    "# print(\"std1 Data :\",std1.sid,std1.sname)  ##AttributeError: 'Student' object has no attribute 'sid'\n",
    "print(\"std1 Data :\",std1.sname)\n",
    "print(\"std2 Data :\",std2.sid,\" \",std2.sname)\n"
   ]
  },
  {
   "cell_type": "markdown",
   "metadata": {},
   "source": [
    "### 2. Static Variables:\n",
    "---------------------\n",
    "- If any variable is not having changes in its value from one instance to another instance then that variable is called as Static variable.\n",
    "- In Python applications, if we create multiple objects for a particular class then a single copy of static variable value will be shared to multiple objects.\n",
    "- In general, in Python applications, we are able to access static variables either by using class name or by using object reference variables."
   ]
  },
  {
   "cell_type": "markdown",
   "metadata": {},
   "source": [
    "- In python applications, we are able to declare static variables in the following locations.\n",
    "    1. In out side of the methods and inside class.\n",
    "    2. Inside constructor by using class name.\n",
    "    3. Inside Instance method by using class name.\n",
    "    4. Inside classmethod [a Method is declared with @classmethod decorator] by using class name and cls variable.\n",
    "    5. Inside static method [a method is declared with @staticmethod decorator] by using class name.\n",
    "    6. In out side of the class by using class name.\n"
   ]
  },
  {
   "cell_type": "code",
   "execution_count": 2,
   "metadata": {},
   "outputs": [
    {
     "name": "stdout",
     "output_type": "stream",
     "text": [
      "{'__module__': '__main__', 'i': 10, 'j': 20, '__init__': <function A.__init__ at 0x000001D37FF87B80>, 'm1': <function A.m1 at 0x000001D37FF87AF0>, 'm2': <classmethod object at 0x000001D37FF9EB20>, 'm3': <staticmethod object at 0x000001D37FF9EBE0>, '__dict__': <attribute '__dict__' of 'A' objects>, '__weakref__': <attribute '__weakref__' of 'A' objects>, '__doc__': None}\n"
     ]
    }
   ],
   "source": [
    "class A:\n",
    "    i = 10\n",
    "    j = 20\n",
    "    def __init__(self):\n",
    "        A.k = 30\n",
    "        A.l = 40\n",
    "    def m1(self):\n",
    "        A.m = 50\n",
    "        A.n = 60\n",
    "    @classmethod\n",
    "    def m2(cls):\n",
    "        A.o = 70\n",
    "        cls.p = 80\n",
    "    @staticmethod\n",
    "    def m3():\n",
    "        A.q = 90\n",
    "\n",
    "\n",
    "print(A.__dict__)    # 1\n",
    "\n",
    "# a = A()\n",
    "# print(A.__dict__)\n",
    "# a.m1()\n",
    "# print(A.__dict__)\n",
    "# A.m2()\n",
    "# print(A.__dict__)\n",
    "# A.m3()\n",
    "# print(A.__dict__)\n",
    "# A.r = 100\n",
    "# print(A.__dict__) \n",
    "\n",
    "\n"
   ]
  },
  {
   "cell_type": "code",
   "execution_count": 3,
   "metadata": {},
   "outputs": [
    {
     "name": "stdout",
     "output_type": "stream",
     "text": [
      "{'__module__': '__main__', 'i': 10, 'j': 20, '__init__': <function A.__init__ at 0x000001D37FF87B80>, 'm1': <function A.m1 at 0x000001D37FF87AF0>, 'm2': <classmethod object at 0x000001D37FF9EB20>, 'm3': <staticmethod object at 0x000001D37FF9EBE0>, '__dict__': <attribute '__dict__' of 'A' objects>, '__weakref__': <attribute '__weakref__' of 'A' objects>, '__doc__': None, 'k': 30, 'l': 40}\n"
     ]
    }
   ],
   "source": [
    "a = A()\n",
    "print(A.__dict__)   #2"
   ]
  },
  {
   "cell_type": "code",
   "execution_count": 5,
   "metadata": {},
   "outputs": [
    {
     "name": "stdout",
     "output_type": "stream",
     "text": [
      "{'__module__': '__main__', 'i': 10, 'j': 20, '__init__': <function A.__init__ at 0x000001D37FF87B80>, 'm1': <function A.m1 at 0x000001D37FF87AF0>, 'm2': <classmethod object at 0x000001D37FF9EB20>, 'm3': <staticmethod object at 0x000001D37FF9EBE0>, '__dict__': <attribute '__dict__' of 'A' objects>, '__weakref__': <attribute '__weakref__' of 'A' objects>, '__doc__': None, 'k': 30, 'l': 40, 'm': 50, 'n': 60}\n"
     ]
    }
   ],
   "source": [
    "a.m1()\n",
    "print(A.__dict__)   # 3"
   ]
  },
  {
   "cell_type": "code",
   "execution_count": 6,
   "metadata": {},
   "outputs": [
    {
     "name": "stdout",
     "output_type": "stream",
     "text": [
      "{'__module__': '__main__', 'i': 10, 'j': 20, '__init__': <function A.__init__ at 0x000001D37FF87B80>, 'm1': <function A.m1 at 0x000001D37FF87AF0>, 'm2': <classmethod object at 0x000001D37FF9EB20>, 'm3': <staticmethod object at 0x000001D37FF9EBE0>, '__dict__': <attribute '__dict__' of 'A' objects>, '__weakref__': <attribute '__weakref__' of 'A' objects>, '__doc__': None, 'k': 30, 'l': 40, 'm': 50, 'n': 60, 'o': 70, 'p': 80}\n"
     ]
    }
   ],
   "source": [
    "A.m2()\n",
    "print(A.__dict__)   # 4"
   ]
  },
  {
   "cell_type": "code",
   "execution_count": 7,
   "metadata": {},
   "outputs": [
    {
     "name": "stdout",
     "output_type": "stream",
     "text": [
      "{'__module__': '__main__', 'i': 10, 'j': 20, '__init__': <function A.__init__ at 0x000001D37FF87B80>, 'm1': <function A.m1 at 0x000001D37FF87AF0>, 'm2': <classmethod object at 0x000001D37FF9EB20>, 'm3': <staticmethod object at 0x000001D37FF9EBE0>, '__dict__': <attribute '__dict__' of 'A' objects>, '__weakref__': <attribute '__weakref__' of 'A' objects>, '__doc__': None, 'k': 30, 'l': 40, 'm': 50, 'n': 60, 'o': 70, 'p': 80, 'q': 90}\n"
     ]
    }
   ],
   "source": [
    "A.m3()\n",
    "print(A.__dict__)    # 5"
   ]
  },
  {
   "cell_type": "code",
   "execution_count": 9,
   "metadata": {},
   "outputs": [
    {
     "name": "stdout",
     "output_type": "stream",
     "text": [
      "{'__module__': '__main__', 'i': 10, 'j': 20, '__init__': <function A.__init__ at 0x000001D37FF87B80>, 'm1': <function A.m1 at 0x000001D37FF87AF0>, 'm2': <classmethod object at 0x000001D37FF9EB20>, 'm3': <staticmethod object at 0x000001D37FF9EBE0>, '__dict__': <attribute '__dict__' of 'A' objects>, '__weakref__': <attribute '__weakref__' of 'A' objects>, '__doc__': None, 'k': 30, 'l': 40, 'm': 50, 'n': 60, 'o': 70, 'p': 80, 'q': 90, 'r': 100}\n"
     ]
    }
   ],
   "source": [
    "A.r = 100\n",
    "print(A.__dict__)   # 6"
   ]
  },
  {
   "cell_type": "raw",
   "metadata": {},
   "source": []
  },
  {
   "cell_type": "markdown",
   "metadata": {},
   "source": [
    "- In Python applications, we are able to access static variables in the following locations.\n",
    "    1. In out side of the class by using class name and by using reference  variable.\n",
    "    2. Inside the constructor by using Class Name\n",
    "    3. Inside Instance method by using class name and self variable.\n",
    "    4. Inside classmethod by using class name and by using cls variable.\n",
    "    5. Inside static method by using class name.\n"
   ]
  },
  {
   "cell_type": "code",
   "execution_count": 18,
   "metadata": {},
   "outputs": [
    {
     "name": "stdout",
     "output_type": "stream",
     "text": [
      "Inside Constructor Class Name : 10   20\n",
      "Inside Constructor Self Var : 10   20\n"
     ]
    }
   ],
   "source": [
    "class A:\n",
    "    i = 10\n",
    "    j = 20\n",
    "    def __init__(self):\n",
    "        print(\"Inside Constructor Class Name :\",A.i,\" \",A.j)\n",
    "        print(\"Inside Constructor Self Var :\",self.i,\" \",self.j)       # 2\n",
    "    def m1(self):\n",
    "        print(\"Inside Instance Method Class Name :\",A.i,\" \",A.j )      # 3\n",
    "        print(\"Inside Instance Method Self Var :\",self.i,\" \",self.j)\n",
    "    @classmethod\n",
    "    def m2(cls):\n",
    "        print(\"Inside class method Class Name :\",A.i,\" \",A.j)          # 4\n",
    "        print(\"Inside class method cls var :\",cls.i,\" \",cls.j)\n",
    "    @staticmethod\n",
    "    def m3():\n",
    "        print(\"Inside static method class name :\",A.i,\" \",A.j)         # 5\n",
    "        \n",
    "        \n",
    "a = A()\n",
    "\n",
    "# a.m1()\n",
    "# a.m2()\n",
    "# a.m3()\n",
    "# print(\"Out side of the Class Ref Var :\",a.i,\" \",a.j)                    # 1\n",
    "# print(\"Out Side of The Class Class Name :\",A.i,\" \",A.j)\n"
   ]
  },
  {
   "cell_type": "code",
   "execution_count": 20,
   "metadata": {},
   "outputs": [
    {
     "name": "stdout",
     "output_type": "stream",
     "text": [
      "Inside Constructor Class Name : 10   20\n",
      "Inside Constructor Self Var : 10   20\n",
      "Inside static method class name : 10   20\n"
     ]
    }
   ],
   "source": [
    "A().m3()"
   ]
  },
  {
   "cell_type": "code",
   "execution_count": 11,
   "metadata": {},
   "outputs": [
    {
     "name": "stdout",
     "output_type": "stream",
     "text": [
      "Inside class method Class Name : 10   20\n",
      "Inside class method cls var : 10   20\n"
     ]
    }
   ],
   "source": [
    "a.m2()"
   ]
  },
  {
   "cell_type": "code",
   "execution_count": 12,
   "metadata": {},
   "outputs": [
    {
     "name": "stdout",
     "output_type": "stream",
     "text": [
      "Inside static method class name : 10   20\n"
     ]
    }
   ],
   "source": [
    "a.m3()"
   ]
  },
  {
   "cell_type": "code",
   "execution_count": 13,
   "metadata": {},
   "outputs": [
    {
     "name": "stdout",
     "output_type": "stream",
     "text": [
      "Out side of the Class Ref Var : 10   20\n"
     ]
    }
   ],
   "source": [
    "print(\"Out side of the Class Ref Var :\",a.i,\" \",a.j) "
   ]
  },
  {
   "cell_type": "code",
   "execution_count": 14,
   "metadata": {},
   "outputs": [
    {
     "name": "stdout",
     "output_type": "stream",
     "text": [
      "Out Side of The Class Class Name : 10   20\n"
     ]
    }
   ],
   "source": [
    "print(\"Out Side of The Class Class Name :\",A.i,\" \",A.j)\n"
   ]
  },
  {
   "cell_type": "raw",
   "metadata": {},
   "source": []
  },
  {
   "cell_type": "markdown",
   "metadata": {},
   "source": [
    "- In Python applications, we are able to delete static variables in the following locations.\n",
    "    1. In out side of the class by using class name\n",
    "    2. Inside Constructor by using class name.\n",
    "    3. Inside instance method by using class name.\n",
    "    4. Inside classmethod by using class name and cls variable .\n",
    "    5. Inside static method by using class name ."
   ]
  },
  {
   "cell_type": "code",
   "execution_count": 3,
   "metadata": {},
   "outputs": [
    {
     "name": "stdout",
     "output_type": "stream",
     "text": [
      "{'__module__': '__main__', 'i': 10, 'j': 20, 'k': 30, 'l': 40, 'm': 50, 'n': 60, '__init__': <function A.__init__ at 0x000001EFE3E79D30>, 'm1': <function A.m1 at 0x000001EFE3E79CA0>, 'm2': <classmethod object at 0x000001EFE3E8F100>, 'm3': <staticmethod object at 0x000001EFE3E8F490>, '__dict__': <attribute '__dict__' of 'A' objects>, '__weakref__': <attribute '__weakref__' of 'A' objects>, '__doc__': None}\n"
     ]
    }
   ],
   "source": [
    "class A:\n",
    "    i = 10\n",
    "    j = 20\n",
    "    k = 30\n",
    "    l = 40\n",
    "    m = 50\n",
    "    n = 60\n",
    "    def __init__(self):\n",
    "        del A.i\n",
    "    def m1(self):\n",
    "        del A.j\n",
    "        print(\"instance method\")\n",
    "    @classmethod\n",
    "    def m2(cls):\n",
    "        print(\"class method\")\n",
    "        del A.k\n",
    "        del cls.l\n",
    "    @staticmethod\n",
    "    def m3():\n",
    "        print(\"static method\")\n",
    "        del A.m\n",
    "\n",
    "print(A.__dict__)\n",
    "# a = A()\n",
    "# print(A.__dict__)\n",
    "# a.m1()\n",
    "# print(A.__dict__)\n",
    "# A.m2()\n",
    "# print(A.__dict__)\n",
    "# A.m3()\n",
    "# print(A.__dict__)\n",
    "# del A.n\n",
    "# print(A.__dict__)\n"
   ]
  },
  {
   "cell_type": "code",
   "execution_count": 4,
   "metadata": {},
   "outputs": [
    {
     "name": "stdout",
     "output_type": "stream",
     "text": [
      "{'__module__': '__main__', 'j': 20, 'k': 30, 'l': 40, 'm': 50, 'n': 60, '__init__': <function A.__init__ at 0x000001EFE3E79D30>, 'm1': <function A.m1 at 0x000001EFE3E79CA0>, 'm2': <classmethod object at 0x000001EFE3E8F100>, 'm3': <staticmethod object at 0x000001EFE3E8F490>, '__dict__': <attribute '__dict__' of 'A' objects>, '__weakref__': <attribute '__weakref__' of 'A' objects>, '__doc__': None}\n",
      "{}\n"
     ]
    }
   ],
   "source": [
    "a = A()\n",
    "print(A.__dict__)\n",
    "\n",
    "print(a.__dict__)"
   ]
  },
  {
   "cell_type": "code",
   "execution_count": 5,
   "metadata": {},
   "outputs": [
    {
     "name": "stdout",
     "output_type": "stream",
     "text": [
      "instance method\n",
      "{}\n",
      "{'__module__': '__main__', 'k': 30, 'l': 40, 'm': 50, 'n': 60, '__init__': <function A.__init__ at 0x000001EFE3E79D30>, 'm1': <function A.m1 at 0x000001EFE3E79CA0>, 'm2': <classmethod object at 0x000001EFE3E8F100>, 'm3': <staticmethod object at 0x000001EFE3E8F490>, '__dict__': <attribute '__dict__' of 'A' objects>, '__weakref__': <attribute '__weakref__' of 'A' objects>, '__doc__': None}\n"
     ]
    }
   ],
   "source": [
    "a.m1()\n",
    "print(a.__dict__)\n",
    "print(A.__dict__)"
   ]
  },
  {
   "cell_type": "code",
   "execution_count": 55,
   "metadata": {},
   "outputs": [
    {
     "name": "stdout",
     "output_type": "stream",
     "text": [
      "class method\n",
      "\n",
      "{'__module__': '__main__', 'm': 50, 'n': 60, '__init__': <function A.__init__ at 0x000001D300816430>, 'm1': <function A.m1 at 0x000001D300816700>, 'm2': <classmethod object at 0x000001D37FFA1490>, 'm3': <staticmethod object at 0x000001D37FFA1700>, '__dict__': <attribute '__dict__' of 'A' objects>, '__weakref__': <attribute '__weakref__' of 'A' objects>, '__doc__': None}\n"
     ]
    }
   ],
   "source": [
    "A.m2()\n",
    "print()\n",
    "print(A.__dict__)"
   ]
  },
  {
   "cell_type": "code",
   "execution_count": 56,
   "metadata": {},
   "outputs": [
    {
     "name": "stdout",
     "output_type": "stream",
     "text": [
      "60\n",
      "{'__module__': '__main__', 'm': 50, '__init__': <function A.__init__ at 0x000001D300816430>, 'm1': <function A.m1 at 0x000001D300816700>, 'm2': <classmethod object at 0x000001D37FFA1490>, 'm3': <staticmethod object at 0x000001D37FFA1700>, '__dict__': <attribute '__dict__' of 'A' objects>, '__weakref__': <attribute '__weakref__' of 'A' objects>, '__doc__': None}\n"
     ]
    }
   ],
   "source": [
    "print(A.n)\n",
    "del A.n\n",
    "print(A.__dict__)\n"
   ]
  },
  {
   "cell_type": "raw",
   "metadata": {},
   "source": []
  },
  {
   "cell_type": "markdown",
   "metadata": {},
   "source": [
    "- In Python applications, if we are trying to perform modifications on Static variables by using object referfence variable then PVM will not give any effect to the static variable, here , PVM will create the same equalent instance variables with the provided values.\n",
    "- Note: In case of static variables, if we perform modifications with class Name then only PVM will perform modifications on Static variables."
   ]
  },
  {
   "cell_type": "code",
   "execution_count": 59,
   "metadata": {},
   "outputs": [
    {
     "name": "stdout",
     "output_type": "stream",
     "text": [
      "10 20\n"
     ]
    }
   ],
   "source": [
    "class A:\n",
    "    i = 10\n",
    "    j = 20\n",
    "    \n",
    "print(A.i , A.j)    "
   ]
  },
  {
   "cell_type": "code",
   "execution_count": 60,
   "metadata": {},
   "outputs": [
    {
     "name": "stdout",
     "output_type": "stream",
     "text": [
      "Before Updations Class Name :  10   20\n",
      "Before Updations Ref Value :  10   20\n",
      "Before Updations Static variables Dict :  {'__module__': '__main__', 'i': 10, 'j': 20, '__dict__': <attribute '__dict__' of 'A' objects>, '__weakref__': <attribute '__weakref__' of 'A' objects>, '__doc__': None}\n",
      "Before Updations Instance Variables Dict :  {}\n"
     ]
    }
   ],
   "source": [
    "a1 = A()\n",
    "print(\"Before Updations Class Name : \",A.i,\" \",A.j)\n",
    "print(\"Before Updations Ref Value : \",a1.i,\" \",a1.j)\n",
    "print(\"Before Updations Static variables Dict : \",A.__dict__)\n",
    "print(\"Before Updations Instance Variables Dict : \",a1.__dict__)\n"
   ]
  },
  {
   "cell_type": "code",
   "execution_count": 64,
   "metadata": {},
   "outputs": [
    {
     "name": "stdout",
     "output_type": "stream",
     "text": [
      "After Updations Class Name :  10   20\n",
      "After Updations Ref Value:  100   200\n",
      "After Updations Static variables Dict :  {'__module__': '__main__', 'i': 10, 'j': 20, '__dict__': <attribute '__dict__' of 'A' objects>, '__weakref__': <attribute '__weakref__' of 'A' objects>, '__doc__': None}\n",
      "After Updations Instance Variables Dict :  {'i': 100, 'j': 200}\n"
     ]
    }
   ],
   "source": [
    "a1.i = 100\n",
    "a1.j = 200\n",
    "print(\"After Updations Class Name : \",A.i,\" \",A.j)\n",
    "print(\"After Updations Ref Value: \",a1.i,\" \",a1.j)\n",
    "print(\"After Updations Static variables Dict : \",A.__dict__)\n",
    "print(\"After Updations Instance Variables Dict : \",a1.__dict__)\n"
   ]
  },
  {
   "cell_type": "markdown",
   "metadata": {},
   "source": [
    "### 3. Local variables\n",
    "-------------------\n",
    "- These variables are declared inside methods, these variables are utilized for temporary purpose.\n",
    "- Local variables are created the moment when we access the respective method and local variables are destroyed the moment when we complete the execution of the respective method.\n",
    "- Local variables are having scope upto the respective method only, they are not having scope in out side of the methods."
   ]
  },
  {
   "cell_type": "code",
   "execution_count": 74,
   "metadata": {},
   "outputs": [
    {
     "name": "stdout",
     "output_type": "stream",
     "text": [
      "ADD :  30\n",
      "SUB :  5\n",
      "MUL -self :  10 => 2 * 5\n",
      "MUL -local:  40 => 8 * 5\n",
      "MUL -class:  10 => 2 * 5\n"
     ]
    }
   ],
   "source": [
    "class A:\n",
    "    i = 2\n",
    "    def add(self):\n",
    "        i = 10\n",
    "        j = 20\n",
    "        print(\"ADD : \",(i+j))\n",
    "    def sub(self):\n",
    "        i = 10\n",
    "        j = 5\n",
    "        print(\"SUB : \",(i-j))\n",
    "    def mul(self):\n",
    "        i = 8\n",
    "        j = 5\n",
    "        print(\"MUL -self : \",(self.i*j) ,\"=>\", self.i,\"*\", j)\n",
    "        print(\"MUL -local: \",(i*j),\"=>\", i ,\"*\", j)\n",
    "        print(\"MUL -class: \",(A.i*j),\"=>\", A.i ,\"*\", j)\n",
    "        \n",
    "a = A()\n",
    "a.add()\n",
    "a.sub()\n",
    "a.mul() # use class ,self ,local"
   ]
  },
  {
   "cell_type": "markdown",
   "metadata": {},
   "source": [
    "\n"
   ]
  },
  {
   "cell_type": "markdown",
   "metadata": {},
   "source": [
    "# Methods in Python:\n",
    "-----------\n",
    "- In Python classes, method is a set of instructions representing a particular action or behaviour of an entity.\n",
    "- There are three types of methods in Python.\n",
    "    1. Instance Method.\n",
    "    2. Class Method\n",
    "    3. Static Method"
   ]
  },
  {
   "cell_type": "markdown",
   "metadata": {},
   "source": [
    "### 1. Instance Method:\n",
    "--------------------\n",
    "- If any Python method is performing operations on atleast one instance variable then that method is called as Instance method.\n",
    "- Inside instance methods, we need to pass atleast self parameter, because, by using self parameter only we are able to manipulate instance variables.\n",
    "- In Python applications, we are able to access instance methods by using object reference variables in out side of the methods, but, inside the methods we can use \"self\" parameter. "
   ]
  },
  {
   "cell_type": "code",
   "execution_count": 80,
   "metadata": {},
   "outputs": [],
   "source": [
    "class Employee:\n",
    "    def __init__(self, eid, ename, esal):\n",
    "        self.eid = eid\n",
    "        self.ename = ename\n",
    "        self.esal = esal\n",
    "    def setAccountDetails(self, accNo, accHolderName, accBranch,bankName):    # setAcc.. , setAddr.. ,GEtEmp.. ==> instance method\n",
    "        self.accNo = accNo\n",
    "        self.accHolderName = accHolderName\n",
    "        self.accBranch = accBranch\n",
    "        self.bankName = bankName\n",
    "    def setAddressDetails(self, hno, street, city, state, country):\n",
    "        self.hno = hno\n",
    "        self.street = street\n",
    "        self.city = city\n",
    "        self.state = state\n",
    "        self.country = country\n",
    "    def getEmployeeDetails(self):\n",
    "        print(\"Employee Details \")\n",
    "        print(\"---------------------------\")\n",
    "        print(\"Employee Id :\",self.eid)\n",
    "        print(\"Employee Name :\",self.ename)\n",
    "        print(\"Employee Salary :\",self.esal)\n",
    "        print()\n",
    "        \n",
    "        print(\"Account Details\")\n",
    "        print(\"-------------------\")\n",
    "        print(\"Account Number :\",self.accNo)\n",
    "        print(\"Account Holder Name :\",self.accHolderName)\n",
    "        print(\"Account Branch :\",self.accBranch)\n",
    "        print(\"Account Bank :\",self.bankName)\n",
    "        print()\n",
    "        \n",
    "        print(\"Address Details\")\n",
    "        print(\"---------------------\")\n",
    "        print(\"House Number :\",self.hno)\n",
    "        print(\"Street :\",self.street)\n",
    "        print(\"City :\",self.city)\n",
    "        print(\"State :\",self.state)\n",
    "        print(\"Country :\",self.country)"
   ]
  },
  {
   "cell_type": "code",
   "execution_count": 81,
   "metadata": {},
   "outputs": [
    {
     "name": "stdout",
     "output_type": "stream",
     "text": [
      "Employee Details \n",
      "---------------------------\n",
      "Employee Id : E-111\n",
      "Employee Name : AAA\n",
      "Employee Salary : 5000\n",
      "\n",
      "Account Details\n",
      "-------------------\n",
      "Account Number : abc123\n",
      "Account Holder Name : AAA\n",
      "Account Branch : Ameerpet\n",
      "Account Bank : ICICI Bank\n",
      "\n",
      "Address Details\n",
      "---------------------\n",
      "House Number : 102, 128/3rt\n",
      "Street : MG Road\n",
      "City : Hyd\n",
      "State : Telangana\n",
      "Country : India\n"
     ]
    }
   ],
   "source": [
    "emp = Employee(\"E-111\", \"AAA\", 5000)\n",
    "\n",
    "emp.setAccountDetails(\"abc123\", \"AAA\",\"Ameerpet\", \"ICICI Bank\")\n",
    "emp.setAddressDetails(\"102, 128/3rt\", \"MG Road\", \"Hyd\", \"Telangana\",\"India\")\n",
    "\n",
    "emp.getEmployeeDetails()\n"
   ]
  },
  {
   "cell_type": "markdown",
   "metadata": {},
   "source": [
    "- In Python, there are two types of instance methods.\n",
    "    1. Mutator Methods  :- Mutator method is a Python method, it can be used to modify or set data in Object.\n",
    "       - EX: setABC() methods in Python applications.\n",
    "    2. Accessor Methods :- Accessor Methods are Python methods, which are used to access data from Object.\n",
    "       - EX: getXyz() methods in Python applications."
   ]
  },
  {
   "cell_type": "code",
   "execution_count": 92,
   "metadata": {},
   "outputs": [],
   "source": [
    "class Student:\n",
    "    def setSid(self, sid):\n",
    "        self.sid = sid\n",
    "    def setSname(self, sname):\n",
    "        self.sname = sname\n",
    "    def setSaddr(self,saddr):\n",
    "        self.saddr = saddr\n",
    "    def getSid(self):\n",
    "        return self.sid\n",
    "    def getSname(self):\n",
    "        return self.sname\n",
    "    def geetSaddr(self):\n",
    "        return self.saddr\n",
    "    \n",
    "    \n",
    "std = Student()\n",
    "std.setSid(\"S-111\")\n",
    "std.setSname(\"AAA\")\n",
    "std.setSaddr(\"Hyd\")\n"
   ]
  },
  {
   "cell_type": "code",
   "execution_count": 93,
   "metadata": {},
   "outputs": [
    {
     "name": "stdout",
     "output_type": "stream",
     "text": [
      "Student Details\n",
      "-------------------\n",
      "Student Id      : S-111\n",
      "Student Name    : AAA\n",
      "Student Address : Hyd\n"
     ]
    }
   ],
   "source": [
    "print(\"Student Details\")\n",
    "print(\"-------------------\")\n",
    "print(\"Student Id      :\",std.getSid())\n",
    "print(\"Student Name    :\",std.getSname())\n",
    "print(\"Student Address :\",std.geetSaddr())\n"
   ]
  },
  {
   "cell_type": "markdown",
   "metadata": {},
   "source": [
    "### 2. Class Method:\n",
    "  -----------------\n",
    "- It is a python method, it will work on class variables[Static Variables].\n",
    "- To declare class methods we will use @classmethod decorator.\n",
    "- In Python, all class methods are not having \"self\" parameter, all class methods are having 'cls' parameter, where ls parameter can be used to access class variables.\n",
    "- In Python classes, we are able to access class methods either by using class name or by using object referfence variable.\n"
   ]
  },
  {
   "cell_type": "code",
   "execution_count": 101,
   "metadata": {},
   "outputs": [
    {
     "name": "stdout",
     "output_type": "stream",
     "text": [
      "i value : 10\n",
      "j value : 20\n",
      "\n",
      "i value : 10\n",
      "j value : 20\n"
     ]
    }
   ],
   "source": [
    "class A:\n",
    "    i = 10\n",
    "    j = 20\n",
    "    @classmethod\n",
    "    def m1(cls):\n",
    "        print(\"i value :\",cls.i)\n",
    "        print(\"j value :\",cls.j)\n",
    "\n",
    "A.m1()\n",
    "print()\n",
    "a = A()\n",
    "a.m1()"
   ]
  },
  {
   "cell_type": "code",
   "execution_count": 22,
   "metadata": {},
   "outputs": [
    {
     "name": "stdout",
     "output_type": "stream",
     "text": [
      "No of Objects : 3\n"
     ]
    }
   ],
   "source": [
    "class Customer:\n",
    "    count = 0\n",
    "    def __init__(self):\n",
    "        Customer.count = Customer.count + 1\n",
    "    @classmethod\n",
    "    def getObjectsCount(cls):\n",
    "        print(\"No of Objects :\", cls.count)\n",
    "\n",
    "cust1 = Customer()\n",
    "cust2 = Customer()\n",
    "# cust3 = Customer()\n",
    "# cust4 = Customer()\n",
    "# cust5 = Customer()\n",
    "\n",
    "Customer.getObjectsCount()"
   ]
  },
  {
   "cell_type": "markdown",
   "metadata": {},
   "source": [
    "### 3. Static Method:\n",
    "-----------------\n",
    "- It is a Python method, it will not use instance variables and class variables.\n",
    "- To declare static methods will use @staticmethod decoarator.\n",
    "- Static methods are not having self parameter and cls parameter.\n",
    "- In python, we are able to access static methods by using class name directly or by using object reference variable."
   ]
  },
  {
   "cell_type": "code",
   "execution_count": 8,
   "metadata": {},
   "outputs": [
    {
     "name": "stdout",
     "output_type": "stream",
     "text": [
      "m1()-Method\n",
      "10 20   30\n"
     ]
    }
   ],
   "source": [
    "class A:\n",
    "    i = 50\n",
    "    @staticmethod\n",
    "    def m1(i, j):\n",
    "        print(\"m1()-Method\")\n",
    "        print(i,\" \",j)\n",
    "        \n",
    "        \n",
    "A.m1(10,20)\n",
    "a = A()\n",
    "a.m1(30,40)\n"
   ]
  },
  {
   "cell_type": "code",
   "execution_count": 10,
   "metadata": {},
   "outputs": [
    {
     "name": "stdout",
     "output_type": "stream",
     "text": [
      "m1()-Method\n",
      "30   40   60\n"
     ]
    }
   ],
   "source": [
    "class A:\n",
    "    i = 50\n",
    "    @staticmethod\n",
    "    def m1(self,i, j):\n",
    "        print(\"m1()-Method\")\n",
    "        print(self,\" \",i,\" \",j)\n",
    "   \n",
    "a = A()\n",
    "a.m1(30,40,60)"
   ]
  },
  {
   "cell_type": "code",
   "execution_count": 12,
   "metadata": {},
   "outputs": [
    {
     "name": "stdout",
     "output_type": "stream",
     "text": [
      "ADD : 15\n",
      "SUB : -5\n",
      "MUL : 50\n"
     ]
    }
   ],
   "source": [
    "class Calculator:\n",
    "    @staticmethod\n",
    "    def add(fval, sval):\n",
    "        print(\"ADD :\",(fval + sval))\n",
    "    @staticmethod\n",
    "    def sub(fval, sval):\n",
    "        print(\"SUB :\",(fval - sval))\n",
    "    @staticmethod\n",
    "    def mul(fval, sval):\n",
    "        print(\"MUL :\",(fval * sval))\n",
    "        \n",
    "        \n",
    "Calculator.add(10,5)\n",
    "Calculator.sub(10,15)\n",
    "Calculator.mul(10,5)\n"
   ]
  },
  {
   "cell_type": "markdown",
   "metadata": {},
   "source": [
    "- In Python applications, we are able to pass one class object reference variable as parameter to a constructor or a method in another class.\n"
   ]
  },
  {
   "cell_type": "code",
   "execution_count": 1,
   "metadata": {},
   "outputs": [],
   "source": [
    "class Account:\n",
    "    def __init__(self, accNo, accHolderName, accType, balance):\n",
    "        self.accNo = accNo\n",
    "        self.accHolderName = accHolderName\n",
    "        self.accType = accType\n",
    "        self.balance = balance\n",
    "        \n",
    "\n",
    "class Employee:\n",
    "    def __init__(self, eid, ename, esal, eaddr, account):\n",
    "        self.eid = eid\n",
    "        self.ename = ename\n",
    "        self.esal = esal\n",
    "        self.eaddr = eaddr\n",
    "        self.account = account\n",
    "    def getEmpDetails(self):\n",
    "        print(\"Employee Details\")\n",
    "        print(\"----------------------\")\n",
    "        print(\"Employee ID :\",self.eid)\n",
    "        print(\"Employee Name :\",self.ename)\n",
    "        print(\"Employee Salary :\",self.esal)\n",
    "        print(\"Employee Address :\",self.eaddr)\n",
    "        print()\n",
    "        print(\"Account Details\")\n",
    "        print(\"----------------------\")\n",
    "        print(\"Account Number :\",self.account.accNo)\n",
    "        print(\"Account Holder Name :\",self.account.accHolderName)\n",
    "        print(\"Account Type :\",self.account.accType)\n",
    "        print(\"Account Balance :\",self.account.balance)\n",
    "        \n",
    "        \n",
    "        \n"
   ]
  },
  {
   "cell_type": "code",
   "execution_count": 2,
   "metadata": {},
   "outputs": [
    {
     "name": "stdout",
     "output_type": "stream",
     "text": [
      "Employee Details\n",
      "----------------------\n",
      "Employee ID : E-111\n",
      "Employee Name : Durga\n",
      "Employee Salary : 10000\n",
      "Employee Address : Hyd\n",
      "\n",
      "Account Details\n",
      "----------------------\n",
      "Account Number : abc123\n",
      "Account Holder Name : Durga\n",
      "Account Type : Savings\n",
      "Account Balance : 25000\n"
     ]
    }
   ],
   "source": [
    "acc = Account(\"abc123\", \"Durga\", \"Savings\", 25000)\n",
    "emp = Employee(\"E-111\", \"Durga\", 10000, \"Hyd\", acc)\n",
    "emp.getEmpDetails()\n"
   ]
  },
  {
   "cell_type": "markdown",
   "metadata": {},
   "source": [
    "## InnerClasses:\n",
    "----\n",
    "- In Python applications, we are able to declare one class in another class, here the internal class is called as Inner class.\n",
    "- Syntax:\n",
    "-------\n",
    "- class Outer:\n",
    "         ----\n",
    "         class Inner:\n",
    "              -----"
   ]
  },
  {
   "cell_type": "markdown",
   "metadata": {},
   "source": [
    "- create object for inner class.\n",
    "- Syntax-1:\n",
    "   -  refVar = Outer().Inner()\n",
    "- Syntax-2:\n",
    "    - o = Outer()\n",
    "    - i = o.Inner()\n",
    "- Note : In Python applications, outer class reference variable can be used to access only outer class members, inner class reference variable can be used to access only inner class memebers."
   ]
  },
  {
   "cell_type": "code",
   "execution_count": 27,
   "metadata": {},
   "outputs": [
    {
     "name": "stdout",
     "output_type": "stream",
     "text": [
      "10\n",
      "m1-A\n",
      "10\n",
      "\n",
      "20\n",
      "m2-B\n"
     ]
    }
   ],
   "source": [
    "class A:\n",
    "    i = 10\n",
    "    def m1(self):\n",
    "        print(\"m1-A\")\n",
    "        print(self.i)\n",
    "    class B:\n",
    "        j = 20\n",
    "        def m2(self):\n",
    "            print(\"m2-B\")\n",
    "            #print(self.i)             # AttributeError\n",
    "\n",
    "a = A()\n",
    "print(a.i)\n",
    "a.m1()\n",
    "#print(a.j) --> Error\n",
    "#a.m2() ------> Error\n",
    "\n",
    "print()\n",
    "\n",
    "b = A().B()\n",
    "#print(b.i)-->Error\n",
    "#b.m1() --> Error\n",
    "print(b.j)\n",
    "b.m2()\n"
   ]
  },
  {
   "cell_type": "code",
   "execution_count": 29,
   "metadata": {},
   "outputs": [
    {
     "name": "stdout",
     "output_type": "stream",
     "text": [
      "m2-B\n",
      "m1-A\n"
     ]
    }
   ],
   "source": [
    "# In Python applications, Outer class members are not available to inner class directly and inner class members are -\n",
    "# - not available to outer class directly.\n",
    "class A:\n",
    "    i = 10\n",
    "    def m1(self):\n",
    "        #print(j) --> Error\n",
    "        print(\"m1-A\")\n",
    "    class B:\n",
    "        j = 20\n",
    "        def m2(self):\n",
    "            # print(self.i)--> Error\n",
    "            print(\"m2-B\")\n",
    "\n",
    "            \n",
    "b = A().B()\n",
    "b.m2()\n",
    "a = A()\n",
    "a.m1()\n"
   ]
  },
  {
   "cell_type": "code",
   "execution_count": 9,
   "metadata": {},
   "outputs": [
    {
     "name": "stdout",
     "output_type": "stream",
     "text": [
      "Account Object is Created\n",
      "Student Account is Created\n",
      "Employee Account is Created\n",
      "Loan Account is Created\n"
     ]
    }
   ],
   "source": [
    "# In Python, we are able to declare any no of inner classes in a single outer class.\n",
    "class Account:\n",
    "    def __init__(self):\n",
    "        print(\"Account Object is Created\")\n",
    "    class StudentAccount:\n",
    "        def createStudentAccount(self):\n",
    "            print(\"Student Account is Created\")\n",
    "            \n",
    "    class EmployeeAccount:\n",
    "        def createEmployeeAccount(self):\n",
    "            print(\"Employee Account is Created\")\n",
    "    class LoanAccount:\n",
    "        def createLoanAccount(self):\n",
    "            print(\"Loan Account is Created\")\n",
    "                                \n",
    "acc = Account()\n",
    "\n",
    "stdAccount = acc.StudentAccount()\n",
    "stdAccount.createStudentAccount()\n",
    "\n",
    "\n",
    "empAccount = acc.EmployeeAccount()\n",
    "empAccount.createEmployeeAccount()\n",
    "\n",
    "loanAccount = acc.LoanAccount()\n",
    "loanAccount.createLoanAccount()\n"
   ]
  },
  {
   "cell_type": "code",
   "execution_count": 13,
   "metadata": {},
   "outputs": [
    {
     "name": "stdout",
     "output_type": "stream",
     "text": [
      "Account Object is Created\n",
      "10\n",
      "Student Account is Created\n",
      "50\n",
      "\n",
      "Loan Account is Created\n"
     ]
    }
   ],
   "source": [
    "class Account:\n",
    "    i = 10 \n",
    "    def __init__(self):\n",
    "        print(\"Account Object is Created\")\n",
    "        print(self.i)\n",
    "    class StudentAccount:\n",
    "        i = 50\n",
    "        def createStudentAccount(self):\n",
    "            print(\"Student Account is Created\")\n",
    "            print(self.i)\n",
    "    class EmployeeAccount:\n",
    "        def createEmployeeAccount(self):\n",
    "            print(\"Employee Account is Created\")\n",
    "    class LoanAccount:\n",
    "        def createLoanAccount(self):\n",
    "            print(\"Loan Account is Created\")\n",
    "            \n",
    "            \n",
    "acc = Account()\n",
    "\n",
    "stdAccount = acc.StudentAccount()\n",
    "stdAccount.createStudentAccount()\n",
    "\n",
    "print()\n",
    "loanAccount = acc.LoanAccount()\n",
    "loanAccount.createLoanAccount()"
   ]
  },
  {
   "cell_type": "code",
   "execution_count": null,
   "metadata": {},
   "outputs": [],
   "source": []
  }
 ],
 "metadata": {
  "kernelspec": {
   "display_name": "Python 3",
   "language": "python",
   "name": "python3"
  },
  "language_info": {
   "codemirror_mode": {
    "name": "ipython",
    "version": 3
   },
   "file_extension": ".py",
   "mimetype": "text/x-python",
   "name": "python",
   "nbconvert_exporter": "python",
   "pygments_lexer": "ipython3",
   "version": "3.8.1"
  }
 },
 "nbformat": 4,
 "nbformat_minor": 4
}
