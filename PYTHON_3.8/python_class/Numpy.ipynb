{
 "cells": [
  {
   "cell_type": "markdown",
   "metadata": {},
   "source": [
    "## numpy :\n",
    "---------\n",
    "-  The main intetion of NumPy module to provide Multi dimentional array object and tools for working with these arrays.\n",
    "-  NumPy is core library or module for scientific Arrays computing in Python.\n",
    "-  NumPy contains N-Dimensional arrays and tools for integrating with C and C++\n",
    "-  NumPy is used for linear Alzeebra with random numbers capabilities.\n",
    "-  NumPy can be used for Multi Dimensaionl Container for generic data."
   ]
  },
  {
   "cell_type": "markdown",
   "metadata": {},
   "source": [
    "## Array:\n",
    "----------\n",
    "- It is a data structure, it able to allow group of elements of same data type.\n",
    "- IN general, two types of arrays.\n",
    "    1. Single Dimensional Arrays\n",
    "    2. Multi Dimensional Arrays."
   ]
  },
  {
   "cell_type": "markdown",
   "metadata": {},
   "source": [
    "### 1. Single Dimensional Array: It is an array ,it contains only one Row.\n",
    "        EX:\n",
    "         0 1 2 3 4\n",
    "        0 [1,2,3,4,5]\n",
    "        \n",
    "         A[0,0] = 1\n",
    "         A[0,1] = 2\n",
    "         A[0,2] = 3\n",
    "         A[0,3] = 4\n",
    "         A[0,4] = 5\n"
   ]
  },
  {
   "cell_type": "markdown",
   "metadata": {},
   "source": [
    "### 2. Multi Dimensional Array:It conatains data in more than one domension.\n",
    "        EX:2 Dimensional Array\n",
    "           0 1 2 3 4 \n",
    "        0 [1,2,3,4,5]\n",
    "        1 [2,3,4,5,6]\n",
    "        2 [3,4,5,6,7]\n",
    "        3 [4,5,6,7,8]\n",
    "        \n",
    "        A[0,3] = 4\n",
    "        A[1,2] = 4\n",
    "        A[3,3] = 7 \n",
    "        A[2,4] = 8\n"
   ]
  },
  {
   "cell_type": "markdown",
   "metadata": {},
   "source": [
    "- To Use Numpy in Python apllications, first, we have to import Numpy module to our python file.\n",
    "            EX: import numpy as np\n",
    "- To create an array by using numpy we will use a function array()."
   ]
  },
  {
   "cell_type": "code",
   "execution_count": 2,
   "metadata": {},
   "outputs": [
    {
     "name": "stdout",
     "output_type": "stream",
     "text": [
      "Collecting numpy\n",
      "  Downloading numpy-1.18.4-cp38-cp38-win_amd64.whl (12.8 MB)\n",
      "Installing collected packages: numpy\n",
      "Successfully installed numpy-1.18.4\n",
      "Note: you may need to restart the kernel to use updated packages.\n"
     ]
    },
    {
     "name": "stderr",
     "output_type": "stream",
     "text": [
      "WARNING: You are using pip version 20.0.2; however, version 20.1.1 is available.\n",
      "You should consider upgrading via the 'c:\\python38\\python.exe -m pip install --upgrade pip' command.\n"
     ]
    }
   ],
   "source": [
    "pip install numpy\n"
   ]
  },
  {
   "cell_type": "code",
   "execution_count": 1,
   "metadata": {},
   "outputs": [
    {
     "name": "stdout",
     "output_type": "stream",
     "text": [
      "[1 2 3 4]\n"
     ]
    }
   ],
   "source": [
    "import numpy as np\n",
    "a = np.array([1,2,3,4])\n",
    "print(a)"
   ]
  },
  {
   "cell_type": "markdown",
   "metadata": {},
   "source": [
    "- To create Multi dimentional arrays we have to use tuples as dimentions in list.\n"
   ]
  },
  {
   "cell_type": "code",
   "execution_count": 2,
   "metadata": {},
   "outputs": [
    {
     "name": "stdout",
     "output_type": "stream",
     "text": [
      "[[1 2 3 4]\n",
      " [2 3 4 5]\n",
      " [3 4 5 6]\n",
      " [4 5 6 7]]\n"
     ]
    }
   ],
   "source": [
    "### :2-Dimensional Array\n",
    "\n",
    "import numpy as np\n",
    "a = np.array([(1,2,3,4),(2,3,4,5),(3,4,5,6),(4,5,6,7)])\n",
    "print(a)"
   ]
  },
  {
   "cell_type": "code",
   "execution_count": 3,
   "metadata": {},
   "outputs": [
    {
     "name": "stdout",
     "output_type": "stream",
     "text": [
      "[[[1 2 3]\n",
      "  [2 3 4]]\n",
      "\n",
      " [[2 3 4]\n",
      "  [3 4 5]]\n",
      "\n",
      " [[3 4 5]\n",
      "  [4 5 6]]\n",
      "\n",
      " [[4 5 6]\n",
      "  [5 6 7]]]\n"
     ]
    }
   ],
   "source": [
    "###  3-Dimensional Array :\n",
    "import numpy as np\n",
    "a = np.array([[(1,2,3),(2,3,4)],[(2,3,4),(3,4,5)],[(3,4,5),(4,5,6)],\n",
    "[(4,5,6),(5,6,7)]])\n",
    "print(a)"
   ]
  },
  {
   "cell_type": "markdown",
   "metadata": {},
   "source": [
    "## Q)To provide array of elements we have already List, tuple,range,... then what is the requirement to use NumPy?\n",
    "-  because of the following three reasons.\n",
    "    1. Less Memory\n",
    "    2. Faster\n",
    "    3. Convenient\n"
   ]
  },
  {
   "cell_type": "markdown",
   "metadata": {},
   "source": [
    "#### 1. Numpy will take \"Less Memory\" when compared with List, tuple, range,...."
   ]
  },
  {
   "cell_type": "code",
   "execution_count": 16,
   "metadata": {},
   "outputs": [
    {
     "name": "stdout",
     "output_type": "stream",
     "text": [
      "a                      ====> range(0, 100)\n",
      "sys.getsizeof(a)*len(a)====> 4800\n",
      "sys.getsizeof(a)       ====> 48\n",
      "len(a)                  ===> 100\n",
      "\n",
      "b                       ===> [ 0  1  2  3  4  5  6  7  8  9 10 11 12 13 14 15 16 17 18 19 20 21 22 23\n",
      " 24 25 26 27 28 29 30 31 32 33 34 35 36 37 38 39 40 41 42 43 44 45 46 47\n",
      " 48 49 50 51 52 53 54 55 56 57 58 59 60 61 62 63 64 65 66 67 68 69 70 71\n",
      " 72 73 74 75 76 77 78 79 80 81 82 83 84 85 86 87 88 89 90 91 92 93 94 95\n",
      " 96 97 98 99]\n",
      "b.size*b.itemsize     =====> 400\n",
      "b.size                  ===> 100\n",
      "len(b)                 ====> 100\n",
      "b.itemsize             ====> 4\n"
     ]
    }
   ],
   "source": [
    "import numpy as np\n",
    "import sys\n",
    "a = range(100)\n",
    "print(\"a                      ====>\",a)\n",
    "print('sys.getsizeof(a)*len(a)====>',sys.getsizeof(a)*len(a))\n",
    "print('sys.getsizeof(a)       ====>',sys.getsizeof(a))\n",
    "print('len(a)                  ===>',len(a))\n",
    "print()\n",
    "b = np.arange(100)\n",
    "print('b                       ===>',b)\n",
    "print('b.size*b.itemsize     =====>',b.size*b.itemsize)\n",
    "print('b.size                  ===>',b.size)\n",
    "print('len(b)                 ====>',len(b))\n",
    "print('b.itemsize             ====>',b.itemsize)\n"
   ]
  },
  {
   "cell_type": "markdown",
   "metadata": {},
   "source": [
    "- Where \"sys.getsizeof(a)\" will return size of single element.\n",
    "- Where \"sys.getsizeof(a)*len(a)\" will return all the elements size which are available in range.\n",
    "- Where \"b.itemsize\" variable is able to return single item size.\n",
    "- Where \"b.size\" will return the no of elements in range.\n",
    "- Where \"b.size*b.itemsize\" will return the size of all the elements available in range."
   ]
  },
  {
   "cell_type": "markdown",
   "metadata": {},
   "source": [
    "#### 2. Numpy is more Faster than list, tuple, range,....."
   ]
  },
  {
   "cell_type": "code",
   "execution_count": null,
   "metadata": {},
   "outputs": [],
   "source": []
  }
 ],
 "metadata": {
  "kernelspec": {
   "display_name": "Python 3",
   "language": "python",
   "name": "python3"
  },
  "language_info": {
   "codemirror_mode": {
    "name": "ipython",
    "version": 3
   },
   "file_extension": ".py",
   "mimetype": "text/x-python",
   "name": "python",
   "nbconvert_exporter": "python",
   "pygments_lexer": "ipython3",
   "version": "3.8.1"
  }
 },
 "nbformat": 4,
 "nbformat_minor": 4
}
