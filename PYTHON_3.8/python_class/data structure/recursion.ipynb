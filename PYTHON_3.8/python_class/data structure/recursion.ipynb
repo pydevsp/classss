{
 "cells": [
  {
   "cell_type": "markdown",
   "metadata": {},
   "source": [
    "## Find Uppercase Letter in String"
   ]
  },
  {
   "cell_type": "markdown",
   "metadata": {},
   "source": [
    "#### Iterative Approach #"
   ]
  },
  {
   "cell_type": "code",
   "execution_count": 11,
   "metadata": {},
   "outputs": [
    {
     "name": "stdout",
     "output_type": "stream",
     "text": [
      "I\n",
      "S\n"
     ]
    },
    {
     "data": {
      "text/plain": [
       "'No uppercase character found'"
      ]
     },
     "execution_count": 11,
     "metadata": {},
     "output_type": "execute_result"
    }
   ],
   "source": [
    "def find_uppercase_iterative(input_str):\n",
    "    for i in range(len(input_str)):\n",
    "        if input_str[i].isupper():           ##### .isupper()   ===> predefine func\n",
    "                print(input_str[i])\n",
    "    return \"No uppercase character found\"\n",
    "\n",
    "find_uppercase_iterative(\"Input_Str\")"
   ]
  },
  {
   "cell_type": "code",
   "execution_count": 13,
   "metadata": {},
   "outputs": [
    {
     "name": "stdout",
     "output_type": "stream",
     "text": [
      "P\n",
      "No uppercase character found ====>1\n",
      "L\n",
      "P\n",
      "No uppercase character found =====>2\n",
      "No uppercase character found =====>3\n"
     ]
    }
   ],
   "source": [
    "input_str_1 = \"lucidProgramming\"\n",
    "input_str_2 = \"LucidProgramming\"\n",
    "input_str_3 = \"lucidprogramming\"\n",
    "\n",
    "print(find_uppercase_iterative(input_str_1),\"====>1\")\n",
    "print(find_uppercase_iterative(input_str_2),\"=====>2\")\n",
    "print(find_uppercase_iterative(input_str_3),\"=====>3\")"
   ]
  },
  {
   "cell_type": "markdown",
   "metadata": {},
   "source": [
    "####  Recursive Approach"
   ]
  },
  {
   "cell_type": "code",
   "execution_count": 10,
   "metadata": {},
   "outputs": [
    {
     "name": "stdout",
     "output_type": "stream",
     "text": [
      "P ===>1\n",
      "L ====>2\n",
      "No uppercase character found ====>3\n"
     ]
    }
   ],
   "source": [
    "def find_uppercase_recursive(input_str, idx=0):\n",
    "    if input_str[idx].isupper():\n",
    "        return input_str[idx]\n",
    "    if idx == len(input_str) - 1:\n",
    "        return \"No uppercase character found\"\n",
    "    return find_uppercase_recursive(input_str, idx+1)      ############ function inside same function\n",
    "\n",
    "\n",
    "input_str_1 = \"lucidProgramming\"\n",
    "input_str_2 = \"LucidProgramming\"\n",
    "input_str_3 = \"lucidprogramming\"\n",
    "\n",
    "print(find_uppercase_recursive(input_str_1),\"===>1\")\n",
    "print(find_uppercase_recursive(input_str_2),\"====>2\")\n",
    "print(find_uppercase_recursive(input_str_3),\"====>3\")"
   ]
  },
  {
   "cell_type": "markdown",
   "metadata": {},
   "source": [
    "# Calculate String Length"
   ]
  },
  {
   "cell_type": "code",
   "execution_count": 14,
   "metadata": {},
   "outputs": [
    {
     "name": "stdout",
     "output_type": "stream",
     "text": [
      "18\n"
     ]
    }
   ],
   "source": [
    "### predefine function   len()\n",
    "st = \"predefine function\"\n",
    "print(len(st))"
   ]
  },
  {
   "cell_type": "markdown",
   "metadata": {},
   "source": [
    "### Iterative Approach"
   ]
  },
  {
   "cell_type": "code",
   "execution_count": 17,
   "metadata": {},
   "outputs": [
    {
     "name": "stdout",
     "output_type": "stream",
     "text": [
      "11\n"
     ]
    }
   ],
   "source": [
    "# Iterative length calculation: O(n)\n",
    "def iterative_str_len(input_str):\n",
    "    input_str_len = 0\n",
    "    for i in range(len(input_str)):\n",
    "        input_str_len += 1\n",
    "    return input_str_len\n",
    "\n",
    "print(iterative_str_len(\"abcde fghij\"))"
   ]
  },
  {
   "cell_type": "markdown",
   "metadata": {},
   "source": [
    "### Recursive Approach "
   ]
  },
  {
   "cell_type": "code",
   "execution_count": 20,
   "metadata": {},
   "outputs": [
    {
     "name": "stdout",
     "output_type": "stream",
     "text": [
      "11\n"
     ]
    }
   ],
   "source": [
    "# Recursive length calculation: O(n)\n",
    "def recursive_str_lenn(input_str):\n",
    "    if input_str == '':\n",
    "        return 0\n",
    "    return 1 + recursive_str_len(input_str[1:])\n",
    "\n",
    "\n",
    "print(recursive_str_lenn(\"abcde fghij\"))"
   ]
  },
  {
   "cell_type": "code",
   "execution_count": 25,
   "metadata": {},
   "outputs": [
    {
     "name": "stdout",
     "output_type": "stream",
     "text": [
      "bcdefg\n",
      "cdefg\n",
      "defg\n",
      "efg\n",
      "fg\n",
      "g\n",
      " empty\n"
     ]
    }
   ],
   "source": [
    "st =\"abcdefg\"\n",
    "print(st[1:])\n",
    "print(st[2:])\n",
    "print(st[3:])\n",
    "print(st[4:])\n",
    "print(st[5:])\n",
    "print(st[6:])\n",
    "print(st[7:],\"empty\")"
   ]
  },
  {
   "cell_type": "raw",
   "metadata": {},
   "source": [
    "1 + recursive_str_len(input_str[1:])    =======>\"bcde fghij\"\n",
    "==> 1 + {1 + recursive_str_len(input_str[1:])}    =======>\"cde fghij\"\n",
    "==> 1 + 1 + {1 + recursive_str_len(input_str[1:])}    =======>\"de fghij\"\n",
    "==> 1 + 1 + 1 + {1 + recursive_str_len(input_str[1:])}    =======>\"e fghij\"\n",
    "==> 1 + 1 + 1 + 1 +{ 1 + recursive_str_len(input_str[1:])}    =======>\" fghij\"\n",
    "==> 1 + 1 + 1 + 1 + 1 + {1 + recursive_str_len(input_str[1:])}    =======>\"fghij\"\n",
    "==> 1 + 1 + 1 + 1 + 1 + 1 + {1 + recursive_str_len(input_str[1:])}    =======>\"ghij\"\n",
    "==> 1 + 1 + 1 + 1 + 1 + 1 + 1 + {1 + recursive_str_len(input_str[1:])}    =======>\"hij\"\n",
    "==> 1 + 1 + 1 + 1 + 1 + 1 + 1 + 1 + {1 + recursive_str_len(input_str[1:])}    =======>\"ij\"\n",
    "==> 1 + 1 + 1 + 1 + 1 + 1 + 1 + 1 + 1 + {1 + recursive_str_len(input_str[1:])}    =======>\"j\"\n",
    "==> 1 + 1 + 1 + 1 + 1 + 1 + 1 + 1 + 1 + 1 + {1 + recursive_str_len(input_str[1:])}    =======>\"\"\n",
    "==> 1 + 1 + 1 + 1 + 1 + 1 + 1 + 1 + 1 + 1 + 1 + 0 == 11"
   ]
  },
  {
   "cell_type": "markdown",
   "metadata": {},
   "source": [
    "## Count Consonants in String  :-\n",
    " - a e i o u"
   ]
  },
  {
   "cell_type": "markdown",
   "metadata": {},
   "source": [
    "### Iterative Approach"
   ]
  },
  {
   "cell_type": "code",
   "execution_count": 1,
   "metadata": {},
   "outputs": [
    {
     "name": "stdout",
     "output_type": "stream",
     "text": [
      "abc de\n",
      "3\n"
     ]
    }
   ],
   "source": [
    "vowels = \"aeiou\"\n",
    "\n",
    "def iterative_count_consonants(input_str):\n",
    "    consonant_count = 0\n",
    "    for i in range(len(input_str)):\n",
    "        if input_str[i].lower() not in vowels and input_str[i].isalpha():\n",
    "            consonant_count += 1\n",
    "    return consonant_count\n",
    "\n",
    "\n",
    "input_str = \"abc de\"\n",
    "print(input_str)\n",
    "print(iterative_count_consonants(input_str))"
   ]
  },
  {
   "cell_type": "code",
   "execution_count": null,
   "metadata": {},
   "outputs": [],
   "source": []
  }
 ],
 "metadata": {
  "kernelspec": {
   "display_name": "Python 3",
   "language": "python",
   "name": "python3"
  },
  "language_info": {
   "codemirror_mode": {
    "name": "ipython",
    "version": 3
   },
   "file_extension": ".py",
   "mimetype": "text/x-python",
   "name": "python",
   "nbconvert_exporter": "python",
   "pygments_lexer": "ipython3",
   "version": "3.8.1"
  }
 },
 "nbformat": 4,
 "nbformat_minor": 4
}
