{
 "cells": [
  {
   "cell_type": "code",
   "execution_count": 1,
   "metadata": {},
   "outputs": [
    {
     "data": {
      "text/plain": [
       "[]"
      ]
     },
     "execution_count": 1,
     "metadata": {},
     "output_type": "execute_result"
    }
   ],
   "source": [
    "\"\"\"\n",
    "Stack Data Structure.\n",
    "\"\"\"\n",
    "\n",
    "class Stack():\n",
    "    def __init__(self):\n",
    "        self.items = []\n",
    "        \n",
    "        \n",
    "s = Stack()\n",
    "s.items"
   ]
  },
  {
   "cell_type": "code",
   "execution_count": 6,
   "metadata": {},
   "outputs": [
    {
     "data": {
      "text/plain": [
       "[1, 2, 3]"
      ]
     },
     "execution_count": 6,
     "metadata": {},
     "output_type": "execute_result"
    }
   ],
   "source": [
    "'''\n",
    "create push() method\n",
    "'''\n",
    "class Stack():\n",
    "    def __init__(self):\n",
    "        self.items = []\n",
    "\n",
    "    def push(self, item):\n",
    "        self.items.append(item)\n",
    "        \n",
    "        \n",
    "        \n",
    "s = Stack()\n",
    "s.push(1)\n",
    "s.items\n",
    "s.push(2)\n",
    "s.items\n",
    "s.push(3)\n",
    "s.items"
   ]
  },
  {
   "cell_type": "code",
   "execution_count": 8,
   "metadata": {},
   "outputs": [
    {
     "name": "stdout",
     "output_type": "stream",
     "text": [
      "[1, 2, 3]\n"
     ]
    },
    {
     "data": {
      "text/plain": [
       "[1, 2]"
      ]
     },
     "execution_count": 8,
     "metadata": {},
     "output_type": "execute_result"
    }
   ],
   "source": [
    "\"\"\"\n",
    "pop() method :\n",
    "\"\"\"\n",
    "class Stack():\n",
    "    def __init__(self):\n",
    "        self.items = []\n",
    "\n",
    "    def push(self, item):\n",
    "        self.items.append(item)\n",
    "\n",
    "    def pop(self):\n",
    "        return self.items.pop()\n",
    "    \n",
    "    \n",
    "    \n",
    "s = Stack()\n",
    "s.push(1)\n",
    "s.push(2)\n",
    "s.push(3)\n",
    "print(s.items)\n",
    "s.pop()\n",
    "s.items"
   ]
  },
  {
   "cell_type": "code",
   "execution_count": 11,
   "metadata": {},
   "outputs": [
    {
     "name": "stdout",
     "output_type": "stream",
     "text": [
      "['A', 'B']\n",
      "['A', 'B', 'C']\n",
      "['A', 'B']\n"
     ]
    }
   ],
   "source": [
    "class Stack():\n",
    "    def __init__(self):\n",
    "        self.items = []\n",
    "\n",
    "    def push(self, item):\n",
    "        self.items.append(item)\n",
    "\n",
    "    def pop(self):\n",
    "        return self.items.pop()\n",
    "\n",
    "    def get_stack(self):\n",
    "        return self.items\n",
    "\n",
    "myStack = Stack()\n",
    "myStack.push(\"A\")\n",
    "myStack.push(\"B\")\n",
    "print(myStack.get_stack())\n",
    "myStack.push(\"C\")\n",
    "print(myStack.get_stack())\n",
    "myStack.pop()\n",
    "print(myStack.get_stack())"
   ]
  },
  {
   "cell_type": "code",
   "execution_count": 5,
   "metadata": {},
   "outputs": [
    {
     "name": "stdout",
     "output_type": "stream",
     "text": [
      "True\n",
      "[1, 2, 3]\n",
      "False\n"
     ]
    }
   ],
   "source": [
    "\"\"\"\n",
    "Stack Data Structure.\n",
    "\"\"\"\n",
    "class Stack():\n",
    "    def __init__(self):\n",
    "        self.items = []\n",
    "\n",
    "    def push(self, item):\n",
    "        self.items.append(item)\n",
    "\n",
    "    def pop(self):\n",
    "        return self.items.pop()\n",
    "    \n",
    "    def is_empty(self):\n",
    "        return self.items == []\n",
    "        \n",
    "    def get_stack(self):\n",
    "        return self.items\n",
    "\n",
    "myStack = Stack()\n",
    "print(myStack.is_empty()) \n",
    "myStack.push(1)\n",
    "myStack.push(2)\n",
    "myStack.push(3)\n",
    "\n",
    "print(myStack.get_stack())\n",
    "print(myStack.is_empty()) "
   ]
  },
  {
   "cell_type": "code",
   "execution_count": 6,
   "metadata": {},
   "outputs": [
    {
     "name": "stdout",
     "output_type": "stream",
     "text": [
      "D\n"
     ]
    }
   ],
   "source": [
    "\"\"\"\n",
    "peek() method.\n",
    "\"\"\"\n",
    "class Stack():\n",
    "    def __init__(self):\n",
    "        self.items = []\n",
    "\n",
    "    def push(self, item):\n",
    "        self.items.append(item)\n",
    "\n",
    "    def pop(self):\n",
    "        return self.items.pop()\n",
    "    \n",
    "    def is_empty(self):\n",
    "        return self.items == []\n",
    "    \n",
    "    def peek(self):\n",
    "        if not self.is_empty():\n",
    "            return self.items[-1]\n",
    "        \n",
    "    def get_stack(self):\n",
    "        return self.items\n",
    "\n",
    "myStack = Stack()\n",
    "myStack.push(\"A\")\n",
    "myStack.push(\"B\")\n",
    "myStack.push(\"C\")\n",
    "myStack.push(\"D\")\n",
    "print(myStack.peek())"
   ]
  },
  {
   "cell_type": "code",
   "execution_count": null,
   "metadata": {},
   "outputs": [],
   "source": []
  },
  {
   "cell_type": "code",
   "execution_count": null,
   "metadata": {},
   "outputs": [],
   "source": []
  }
 ],
 "metadata": {
  "kernelspec": {
   "display_name": "Python 3",
   "language": "python",
   "name": "python3"
  },
  "language_info": {
   "codemirror_mode": {
    "name": "ipython",
    "version": 3
   },
   "file_extension": ".py",
   "mimetype": "text/x-python",
   "name": "python",
   "nbconvert_exporter": "python",
   "pygments_lexer": "ipython3",
   "version": "3.8.1"
  }
 },
 "nbformat": 4,
 "nbformat_minor": 4
}
