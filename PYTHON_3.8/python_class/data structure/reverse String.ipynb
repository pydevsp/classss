{
 "cells": [
  {
   "cell_type": "code",
   "execution_count": 1,
   "metadata": {},
   "outputs": [
    {
     "name": "stdout",
     "output_type": "stream",
     "text": [
      "evitacudE\n"
     ]
    }
   ],
   "source": [
    "input_str = \"Educative\"\n",
    "print(input_str[::-1])"
   ]
  },
  {
   "cell_type": "code",
   "execution_count": 4,
   "metadata": {},
   "outputs": [
    {
     "name": "stdout",
     "output_type": "stream",
     "text": [
      "1\n",
      "654321\n"
     ]
    }
   ],
   "source": [
    "s = \"123456\"\n",
    "print(s[0])\n",
    "print(s[::-1])"
   ]
  },
  {
   "cell_type": "code",
   "execution_count": 44,
   "metadata": {},
   "outputs": [
    {
     "name": "stdout",
     "output_type": "stream",
     "text": [
      "podcba\n"
     ]
    }
   ],
   "source": [
    "def reverseStr(datastr):\n",
    "    dataList = list(datastr)\n",
    "    ans = ''\n",
    "    for i in range(0,len(dataList)):\n",
    "         ans += dataList.pop()\n",
    "    print(ans)\n",
    "    \n",
    "    \n",
    "def reverseStr2(str):\n",
    "    ok = len(str)\n",
    "    stt  = ''\n",
    "    for i in range(0,len(str)):\n",
    "        stt = stt + str[ok - i - 1]\n",
    "    print(stt)    \n",
    "    \n",
    "reverseStr2(\"abcdop\")\n",
    "        \n",
    "\n",
    "        \n",
    "        \n",
    "        "
   ]
  },
  {
   "cell_type": "code",
   "execution_count": 54,
   "metadata": {
    "scrolled": true
   },
   "outputs": [
    {
     "data": {
      "text/plain": [
       "['f', 'o', 'o', 'b', 'a', 'r']"
      ]
     },
     "execution_count": 54,
     "metadata": {},
     "output_type": "execute_result"
    }
   ],
   "source": [
    "s = \"foobar\"\n",
    "[c for c in s]"
   ]
  },
  {
   "cell_type": "code",
   "execution_count": 2,
   "metadata": {},
   "outputs": [],
   "source": [
    "class Stack():\n",
    "    def __init__(self):\n",
    "        self.items = []\n",
    "\n",
    "    def push(self, item):\n",
    "        self.items.append(item)\n",
    "\n",
    "    def pop(self):\n",
    "        return self.items.pop()\n",
    "    \n",
    "    def is_empty(self):\n",
    "        return self.items == []\n",
    "    \n",
    "    def peek(self):\n",
    "        if not self.is_empty():\n",
    "            return self.items[-1]\n",
    "        \n",
    "    def get_stack(self):\n",
    "        return self.items"
   ]
  },
  {
   "cell_type": "code",
   "execution_count": 58,
   "metadata": {},
   "outputs": [
    {
     "name": "stdout",
     "output_type": "stream",
     "text": [
      "Welcome to Educative!\n"
     ]
    }
   ],
   "source": [
    "\n",
    "def reverse_string(stack, input_str):\n",
    "    for i in range(len(input_str)):\n",
    "        stack.push(input_str[i])\n",
    "        \n",
    "    rev_str = \"\"\n",
    "    while not stack.is_empty():\n",
    "        rev_str += stack.pop()\n",
    "        \n",
    "    return rev_str\n",
    "\n",
    "\n",
    "\n",
    "\n",
    "stack = Stack()\n",
    "input_str = \"!evitacudE ot emocleW\"\n",
    "print(reverse_string(stack, input_str))"
   ]
  },
  {
   "cell_type": "markdown",
   "metadata": {},
   "source": [
    "##  decimal to binary "
   ]
  },
  {
   "cell_type": "code",
   "execution_count": 4,
   "metadata": {},
   "outputs": [
    {
     "name": "stdout",
     "output_type": "stream",
     "text": [
      "111000\n",
      "11110\n"
     ]
    }
   ],
   "source": [
    "def convert_int_to_bin(dec_num):\n",
    "    s = Stack()\n",
    "\n",
    "    while dec_num > 0:\n",
    "        remainder = dec_num % 2    ### ===> 0 , 1 , 1 ,1 ,1\n",
    "        s.push(remainder)\n",
    "        dec_num = dec_num // 2\n",
    "\n",
    "    bin_num = \"\"\n",
    "    while not s.is_empty():\n",
    "        bin_num += str(s.pop())\n",
    "\n",
    "    return bin_num\n",
    "\n",
    "print(convert_int_to_bin(56))\n",
    "# print(convert_int_to_bin(2))\n",
    "print(convert_int_to_bin(30))\n",
    "# print(convert_int_to_bin(10))\n",
    "\n",
    "# print(int(convert_int_to_bin(56),2)==56)"
   ]
  },
  {
   "cell_type": "code",
   "execution_count": 9,
   "metadata": {},
   "outputs": [
    {
     "name": "stdout",
     "output_type": "stream",
     "text": [
      "11110\n",
      "True\n"
     ]
    }
   ],
   "source": [
    "##  with out use Stack() \n",
    "\n",
    "def convert_int_to_bin(dec_num):\n",
    "    li = []\n",
    "\n",
    "    while dec_num > 0:\n",
    "        remainder = dec_num % 2    ### ===> 0 , 1 , 1 ,1 ,1\n",
    "        li.append(remainder)\n",
    "        dec_num = dec_num // 2     ### ====> 15 = 30//2\n",
    "\n",
    "    bin_num = \"\"\n",
    "    while not li == []:\n",
    "        bin_num += str(li.pop())\n",
    "\n",
    "    return bin_num\n",
    "\n",
    "print(convert_int_to_bin(30))\n",
    "print(int(convert_int_to_bin(56),2)==56)"
   ]
  },
  {
   "cell_type": "markdown",
   "metadata": {},
   "source": [
    "### print(int(convert_int_to_bin(10),2))\n",
    "#### The above statement will print True if convert_int_to_bin(56) returns the correct binary equivalent for 56. We convert the returned value from convert_int_to_bin(56) to an integer value by specifying base 2 of the returned value. It will convert to 56 if it’s equal to 56 in binary format. Otherwise, the statement will print False if we get some number other than 56."
   ]
  },
  {
   "cell_type": "code",
   "execution_count": null,
   "metadata": {},
   "outputs": [],
   "source": []
  }
 ],
 "metadata": {
  "kernelspec": {
   "display_name": "Python 3",
   "language": "python",
   "name": "python3"
  },
  "language_info": {
   "codemirror_mode": {
    "name": "ipython",
    "version": 3
   },
   "file_extension": ".py",
   "mimetype": "text/x-python",
   "name": "python",
   "nbconvert_exporter": "python",
   "pygments_lexer": "ipython3",
   "version": "3.8.1"
  }
 },
 "nbformat": 4,
 "nbformat_minor": 4
}
