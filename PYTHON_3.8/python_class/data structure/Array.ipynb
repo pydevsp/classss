{
 "cells": [
  {
   "cell_type": "markdown",
   "metadata": {},
   "source": [
    "# array\n",
    "### - travel last index\n"
   ]
  },
  {
   "cell_type": "code",
   "execution_count": 1,
   "metadata": {},
   "outputs": [
    {
     "name": "stdout",
     "output_type": "stream",
     "text": [
      "True\n",
      "False\n"
     ]
    }
   ],
   "source": [
    "def array_advance(A):\n",
    "    furthest_reached = 0\n",
    "    last_idx = len(A) - 1\n",
    "    i = 0\n",
    "    while i <= furthest_reached and furthest_reached < last_idx:\n",
    "        furthest_reached = max(furthest_reached, A[i] + i)\n",
    "        i += 1\n",
    "    return furthest_reached >= last_idx\n",
    "\n",
    "\n",
    "# True: Possible to navigate to last index in A:\n",
    "# Moves: 1,3,2\n",
    "A = [3, 3, 1, 0, 2, 0, 1]\n",
    "print(array_advance(A))\n",
    "\n",
    "# False: Not possible to navigate to last index in A:\n",
    "A = [3, 2, 0, 0, 2, 0, 1]\n",
    "print(array_advance(A))"
   ]
  },
  {
   "cell_type": "markdown",
   "metadata": {},
   "source": [
    "## Arbitrary Precision Increment\n",
    "- add 1"
   ]
  },
  {
   "cell_type": "code",
   "execution_count": 12,
   "metadata": {},
   "outputs": [
    {
     "name": "stdout",
     "output_type": "stream",
     "text": [
      "s ====>  149 <class 'str'>\n",
      "150\n"
     ]
    }
   ],
   "source": [
    "A = [1, 4, 9]\n",
    "s = ''.join(map(str, A))\n",
    "print(\"s ====> \",s,type(s))\n",
    "\n",
    "print(int(s) + 1)"
   ]
  },
  {
   "cell_type": "code",
   "execution_count": null,
   "metadata": {},
   "outputs": [],
   "source": [
    "### 149+1 = 150 implamentation in python simple"
   ]
  },
  {
   "cell_type": "code",
   "execution_count": 13,
   "metadata": {},
   "outputs": [
    {
     "name": "stdout",
     "output_type": "stream",
     "text": [
      "['1', '4', '9']\n",
      "149\n",
      "150\n"
     ]
    }
   ],
   "source": [
    "A = [1, 4, 9]\n",
    "s = list(map(str, A))\n",
    "j = \"\".join(s)\n",
    "print(s)\n",
    "print(j)\n",
    "\n",
    "print(int(j) + 1)"
   ]
  },
  {
   "cell_type": "code",
   "execution_count": 22,
   "metadata": {},
   "outputs": [
    {
     "name": "stdout",
     "output_type": "stream",
     "text": [
      "['1', '4', '9']\n",
      "149\n",
      "150\n"
     ]
    }
   ],
   "source": [
    "### use predifine function\n",
    "\n",
    "def adding(a) :\n",
    "    s = list(map(str, a))\n",
    "    j = \"\".join(s)\n",
    "    print(s)\n",
    "    print(j)\n",
    "    print(int(j) + 1)\n",
    "    \n",
    "a = [1,4,9]\n",
    "adding(a)"
   ]
  },
  {
   "cell_type": "code",
   "execution_count": 26,
   "metadata": {},
   "outputs": [
    {
     "name": "stdout",
     "output_type": "stream",
     "text": [
      "[1, 5, 0]\n",
      "[1, 0, 0, 0]\n"
     ]
    }
   ],
   "source": [
    "### Let’s implement the algorithm\n",
    "\n",
    "\n",
    "A1 = [1, 4, 9]\n",
    "A2 = [9, 9, 9]\n",
    "\n",
    "# s = ''.join(map(str, A))\n",
    "# print(int(s) + 1)\n",
    "\n",
    "def plus_one(A):\n",
    "    A[-1] += 1\n",
    "    for i in reversed(range(1, len(A))):\n",
    "        if A[i] != 10:\n",
    "            break\n",
    "        A[i] = 0\n",
    "        A[i-1] += 1\n",
    "    if A[0] == 10:\n",
    "        A[0] = 1\n",
    "        A.append(0)\n",
    "    return A\n",
    "\n",
    "\n",
    "print(plus_one(A1))\n",
    "print(plus_one(A2))"
   ]
  },
  {
   "cell_type": "code",
   "execution_count": 18,
   "metadata": {},
   "outputs": [
    {
     "name": "stdout",
     "output_type": "stream",
     "text": [
      "133\n",
      "0\n",
      "1\n",
      "2\n",
      "133\n"
     ]
    }
   ],
   "source": [
    "w = [\"124578\",\"212\",\"133\"]\n",
    "print(w[-1])\n",
    "\n",
    "for i in range(len(w)):\n",
    "    print(i)\n",
    "    if i ==2 :\n",
    "        print(w[i])\n",
    "        "
   ]
  },
  {
   "cell_type": "code",
   "execution_count": 27,
   "metadata": {},
   "outputs": [
    {
     "name": "stdout",
     "output_type": "stream",
     "text": [
      "['s', 'k', 'e', 'e', 'g']\n",
      "['s', 'k', 'e', 'e', 'g']\n",
      "[4, 3, 2, 1]\n",
      "[5, 3, 4, 2, 1]\n"
     ]
    }
   ],
   "source": [
    "# reversed() \n",
    "  \n",
    "# For string \n",
    "seqString = 'geeks'\n",
    "print(list(reversed(seqString))) \n",
    "  \n",
    "# For tuple \n",
    "seqTuple = ('g', 'e', 'e', 'k', 's') \n",
    "print(list(reversed(seqTuple))) \n",
    "  \n",
    "# For range \n",
    "seqRange = range(1, 5) \n",
    "print(list(reversed(seqRange))) \n",
    "  \n",
    "# For list \n",
    "seqList = [1, 2, 4, 3, 5] \n",
    "print(list(reversed(seqList))) "
   ]
  },
  {
   "cell_type": "markdown",
   "metadata": {},
   "source": [
    "## Two Sum Problem\n",
    "-  [   2  , \n",
    "    1   ,\n",
    "    2   ,\n",
    "    4   ,\n",
    "    7   ,\n",
    "    11 ]  \n",
    " target = 13  \n",
    " (2,11)  True  "
   ]
  },
  {
   "cell_type": "code",
   "execution_count": 2,
   "metadata": {},
   "outputs": [
    {
     "name": "stdout",
     "output_type": "stream",
     "text": [
      "2 11\n",
      "True\n",
      "False\n"
     ]
    }
   ],
   "source": [
    "# Time Complexity: O(n^2)\n",
    "# Space Complexity: O(1)\n",
    "def two_sum_brute_force(A, target):\n",
    "    for i in range(len(A)-1):\n",
    "        for j in range(i+1, len(A)):\n",
    "            if A[i] + A[j] == target:\n",
    "                print(A[i], A[j])\n",
    "                return True\n",
    "    return False\n",
    "\n",
    "A = [-2, 1, 2, 4, 7, 11]\n",
    "target = 13\n",
    "print(two_sum_brute_force(A,target))\n",
    "target = 20\n",
    "print(two_sum_brute_force(A,target))\n",
    "\n"
   ]
  },
  {
   "cell_type": "markdown",
   "metadata": {},
   "source": [
    "### 2ND METHOD"
   ]
  },
  {
   "cell_type": "code",
   "execution_count": 34,
   "metadata": {},
   "outputs": [
    {
     "name": "stdout",
     "output_type": "stream",
     "text": [
      "2 11\n",
      "True\n"
     ]
    }
   ],
   "source": [
    "# Time Complexity: O(n)\n",
    "# Space Complexity: O(n)\n",
    "def two_sum_hash_table(A, target):\n",
    "    ht = dict()\n",
    "    for i in range(len(A)):\n",
    "        if A[i] in ht:\n",
    "            print(ht[A[i]], A[i])\n",
    "            return True\n",
    "        else:\n",
    "            ht[target - A[i]] = A[i]\n",
    "    return False\n",
    "\n",
    "A = [-2, 1, 2, 4, 7, 11]\n",
    "target = 13\n",
    "\n",
    "print(two_sum_hash_table(A,target))"
   ]
  },
  {
   "cell_type": "markdown",
   "metadata": {},
   "source": [
    "## 3rd method"
   ]
  },
  {
   "cell_type": "code",
   "execution_count": 33,
   "metadata": {},
   "outputs": [
    {
     "name": "stdout",
     "output_type": "stream",
     "text": [
      "[-2, 1, 2, 4, 5, 7, 11]\n",
      "2 11\n",
      "True\n"
     ]
    }
   ],
   "source": [
    "# Time Complexity: O(n)\n",
    "# Space Complexity: O(1)\n",
    "def two_sum(A, target):\n",
    "  A =  sorted(A)\n",
    "  print(A)\n",
    "  i = 0\n",
    "  j = len(A) - 1\n",
    "  while i < j:\n",
    "    if A[i] + A[j] == target:\n",
    "      print(A[i], A[j])\n",
    "      return True\n",
    "    elif A[i] + A[j] < target:\n",
    "      i += 1\n",
    "    else:\n",
    "      j -= 1\n",
    "  return False\n",
    "\n",
    "A = [5,-2, 1, 2, 4, 7, 11]\n",
    "target = 13\n",
    "\n",
    "print(two_sum(A,target))"
   ]
  },
  {
   "cell_type": "code",
   "execution_count": null,
   "metadata": {},
   "outputs": [],
   "source": []
  },
  {
   "cell_type": "markdown",
   "metadata": {},
   "source": [
    "## Intersection of Two Sorted Arrays"
   ]
  },
  {
   "cell_type": "code",
   "execution_count": 3,
   "metadata": {},
   "outputs": [
    {
     "name": "stdout",
     "output_type": "stream",
     "text": [
      "{3, 7}\n"
     ]
    }
   ],
   "source": [
    "A = [2, 3, 3, 5, 7, 11]\n",
    "B = [3, 3, 7, 15, 31]\n",
    "\n",
    "print(set(A).intersection(B))   ## intesection() ===> predefine  function for common value\n",
    "\n",
    "## 'list' object has no attribute 'intersection'===> convert set()"
   ]
  },
  {
   "cell_type": "code",
   "execution_count": 4,
   "metadata": {},
   "outputs": [
    {
     "name": "stdout",
     "output_type": "stream",
     "text": [
      "[3, 7]\n"
     ]
    }
   ],
   "source": [
    "def intersect_sorted_array(A, B):\n",
    "    i = 0\n",
    "    j = 0\n",
    "    intersection = []\n",
    "\n",
    "    while i < len(A) and j < len(B):\n",
    "        if A[i] == B[j]:\n",
    "            if i == 0 or A[i] != A[i - 1]:\n",
    "                intersection.append(A[i])\n",
    "            i += 1\n",
    "            j += 1\n",
    "        elif A[i] < B[j]:\n",
    "            i += 1\n",
    "        else:\n",
    "            j += 1\n",
    "    return intersection\n",
    "\n",
    "A = [2, 3, 3, 5, 7, 11]\n",
    "B = [3, 3, 7, 15, 31]\n",
    "\n",
    "print(intersect_sorted_array(A, B))"
   ]
  },
  {
   "cell_type": "code",
   "execution_count": null,
   "metadata": {},
   "outputs": [],
   "source": []
  },
  {
   "cell_type": "markdown",
   "metadata": {},
   "source": [
    "## Optimal Task Assignment"
   ]
  },
  {
   "cell_type": "code",
   "execution_count": 6,
   "metadata": {},
   "outputs": [
    {
     "name": "stdout",
     "output_type": "stream",
     "text": [
      "[2, 3, 5, 5, 6, 7]\n",
      "2 7\n",
      "3 6\n",
      "5 5\n"
     ]
    }
   ],
   "source": [
    "A = [6, 3, 2, 7, 5, 5]\n",
    "\n",
    "A = sorted(A)\n",
    "print(A)\n",
    "for i in range(len(A)//2):     \n",
    "    print(A[i], A[~i])               ####### [~i]  ===> reverse index"
   ]
  },
  {
   "cell_type": "raw",
   "metadata": {},
   "source": [
    "\n"
   ]
  },
  {
   "cell_type": "raw",
   "metadata": {},
   "source": []
  },
  {
   "cell_type": "raw",
   "metadata": {},
   "source": []
  },
  {
   "cell_type": "markdown",
   "metadata": {},
   "source": [
    "## geeksforgeeks :"
   ]
  },
  {
   "cell_type": "code",
   "execution_count": 1,
   "metadata": {},
   "outputs": [
    {
     "name": "stdout",
     "output_type": "stream",
     "text": [
      "The new created array is :  1 2 3 \n",
      "\n",
      "The appended array is : 1 2 3 4 \n",
      "\n",
      "The array after insertion is : 1 2 5 3 4 "
     ]
    }
   ],
   "source": [
    "# Python code to demonstrate the working of \n",
    "# array(), append(), insert() \n",
    "\n",
    "# importing \"array\" for array operations \n",
    "import array \n",
    "\n",
    "# initializing array with array values \n",
    "# initializes array with signed integers \n",
    "arr = array.array('i', [1, 2, 3]) \n",
    "############ arr = [1, 2, 3]\n",
    "# printing original array \n",
    "print (\"The new created array is : \",end=\" \") \n",
    "for i in range (0, 3): \n",
    "\tprint (arr[i], end=\" \") \n",
    "\n",
    "print(\"\\n\") \n",
    "\n",
    "# using append() to insert new value at end \n",
    "arr.append(4); \n",
    "\n",
    "# printing appended array \n",
    "print(\"The appended array is : \", end=\"\") \n",
    "for i in range (0, 4): \n",
    "\tprint (arr[i], end=\" \") \n",
    "    \n",
    "print(\"\\n\")\n",
    "\t\n",
    "# # using insert() to insert value at specific position \n",
    "# # inserts 5 at 2nd position \n",
    "arr.insert(2, 5) \n",
    "\n",
    "# printing array after insertion \n",
    "print (\"The array after insertion is : \", end=\"\") \n",
    "for i in range (0, 5): \n",
    "\tprint (arr[i], end=\" \") \n"
   ]
  },
  {
   "cell_type": "code",
   "execution_count": 8,
   "metadata": {},
   "outputs": [
    {
     "name": "stdout",
     "output_type": "stream",
     "text": [
      "2\n",
      "5 2\n",
      "1 2 3 4 5\n",
      "3 4 5 1 2 \n",
      "10 3\n",
      "2 4 6 8 10 12 14 16 18 20\n",
      "8 10 12 14 16 18 20 2 4 6 \n"
     ]
    }
   ],
   "source": [
    "def rotateArr(d, n, list):\n",
    "    list[0:d] = reversed(list[0:d])\n",
    "    list[d:n] = reversed(list[d:n])\n",
    "    list[0:n] = reversed(list[0:n])\n",
    "\n",
    "if __name__ == \"__main__\":\n",
    "    t = int(input())\n",
    "    while(t>0):\n",
    "        # take n and d input\n",
    "        n_d = [int(x) for x in input().strip().split()]\n",
    "        n = n_d[0]\n",
    "        d = n_d[1]\n",
    "        list = [int(x) for x in input().strip().split()]\n",
    "\n",
    "        # call the rotate function\n",
    "        rotateArr(d, n, list)\n",
    "\n",
    "        # print the list\n",
    "        for i in range(n):\n",
    "            print(list[i], end=\" \")\n",
    "        print()\n",
    "        t=t-1"
   ]
  },
  {
   "cell_type": "code",
   "execution_count": 19,
   "metadata": {},
   "outputs": [
    {
     "name": "stdout",
     "output_type": "stream",
     "text": [
      "[1, 2]\n"
     ]
    }
   ],
   "source": [
    "# m1\n",
    "# Input arr[] = [1, 2, 3, 4, 5, 6, 7], d = 2, n =7\n",
    "# 1) Store the first d elements in a temp array\n",
    "#    temp[] = [1, 2]\n",
    "# 2) Shift rest of the arr[]\n",
    "#    arr[] = [3, 4, 5, 6, 7, 6, 7]\n",
    "# 3) Store back the d elements\n",
    "#    arr[] = [3, 4, 5, 6, 7, 1, 2]\n",
    "\n",
    "arr = [1 , 2 , 3 , 4 , 5 , 6 , 7]\n",
    "d  = 2 \n",
    "n = 7\n",
    "temp = []\n",
    "for i in range(d):\n",
    "    temp.append(arr[i])\n",
    "    \n",
    "print(temp)\n"
   ]
  },
  {
   "cell_type": "code",
   "execution_count": 16,
   "metadata": {},
   "outputs": [
    {
     "name": "stdout",
     "output_type": "stream",
     "text": [
      "this is string example....wow!!!\n"
     ]
    }
   ],
   "source": [
    "str = \"*****this is string example....wow!!!*****\"\n",
    "print (str.strip(\"*\"))"
   ]
  },
  {
   "cell_type": "code",
   "execution_count": null,
   "metadata": {},
   "outputs": [],
   "source": []
  }
 ],
 "metadata": {
  "kernelspec": {
   "display_name": "Python 3",
   "language": "python",
   "name": "python3"
  },
  "language_info": {
   "codemirror_mode": {
    "name": "ipython",
    "version": 3
   },
   "file_extension": ".py",
   "mimetype": "text/x-python",
   "name": "python",
   "nbconvert_exporter": "python",
   "pygments_lexer": "ipython3",
   "version": "3.8.1"
  }
 },
 "nbformat": 4,
 "nbformat_minor": 4
}
