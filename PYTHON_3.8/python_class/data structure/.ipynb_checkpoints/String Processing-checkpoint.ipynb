{
 "cells": [
  {
   "cell_type": "markdown",
   "metadata": {},
   "source": [
    "## Look-and-Say Sequence"
   ]
  },
  {
   "cell_type": "markdown",
   "metadata": {},
   "source": [
    "### 1, 11, 21, 1211, 111221, 312211, 13112221, 1113213211, ...\n",
    "\n",
    "#### 111221 is read off as \"three 1s, two 2s, then one 1\" or 312211."
   ]
  },
  {
   "cell_type": "code",
   "execution_count": 5,
   "metadata": {},
   "outputs": [
    {
     "data": {
      "text/plain": [
       "'1221'"
      ]
     },
     "execution_count": 5,
     "metadata": {},
     "output_type": "execute_result"
    }
   ],
   "source": [
    "def next_number(s):\n",
    "    result = []\n",
    "    i = 0\n",
    "    while i < len(s):   ####### i < len(s) => 0 < 2 => True  \n",
    "        count = 1\n",
    "        while i + 1 < len(s) and s[i] == s[i+1]:\n",
    "            i += 1\n",
    "            count += 1\n",
    "        result.append(str(count) + s[i])\n",
    "        i += 1\n",
    "    return ''.join(result)\n",
    "\n",
    "\n",
    "next_number(\"211\")"
   ]
  },
  {
   "cell_type": "code",
   "execution_count": 12,
   "metadata": {},
   "outputs": [
    {
     "name": "stdout",
     "output_type": "stream",
     "text": [
      "1\n",
      "11\n",
      "21\n",
      "1211\n",
      "111221\n",
      "312211\n",
      "13112221\n",
      "1113213211\n",
      "31131211131221\n",
      "13211311123113112211\n"
     ]
    }
   ],
   "source": [
    "s = \"1\"\n",
    "print(s)\n",
    "n = 10\n",
    "for i in range(n-1):\n",
    "    s = next_number(s)   ## func.\n",
    "    print(s)"
   ]
  },
  {
   "cell_type": "markdown",
   "metadata": {},
   "source": [
    "### Spreadsheet Encoding"
   ]
  },
  {
   "cell_type": "code",
   "execution_count": 20,
   "metadata": {},
   "outputs": [
    {
     "name": "stdout",
     "output_type": "stream",
     "text": [
      "1\n",
      "2\n",
      "3\n",
      "26\n"
     ]
    }
   ],
   "source": [
    "print(ord('A')- ord('A')+ 1)\n",
    "print(ord('B')- ord('A')+ 1)\n",
    "print(ord('C')- ord('A')+ 1)\n",
    "print(ord('Z')- ord('A')+ 1)\n"
   ]
  },
  {
   "cell_type": "markdown",
   "metadata": {},
   "source": [
    "#### ord() returns an integer which represents the Unicode code point of the Unicode character passed into the function."
   ]
  },
  {
   "cell_type": "code",
   "execution_count": 14,
   "metadata": {},
   "outputs": [
    {
     "name": "stdout",
     "output_type": "stream",
     "text": [
      "65\n",
      "66\n",
      "90\n"
     ]
    }
   ],
   "source": [
    "print(ord('A'))\n",
    "print(ord('B'))\n",
    "print(ord('Z'))  # unicode"
   ]
  },
  {
   "cell_type": "code",
   "execution_count": 25,
   "metadata": {},
   "outputs": [
    {
     "name": "stdout",
     "output_type": "stream",
     "text": [
      "703\n"
     ]
    }
   ],
   "source": [
    "def spreadsheet_encode_column(col_str):\n",
    "    num = 0\n",
    "    count = len(col_str)-1\n",
    "    for s in col_str:\n",
    "        num += 26**count * (ord(s) - ord('A') + 1)\n",
    "        count -= 1\n",
    "    return num\n",
    "\n",
    "\n",
    "print(spreadsheet_encode_column(\"AAA\"))"
   ]
  },
  {
   "cell_type": "code",
   "execution_count": 29,
   "metadata": {},
   "outputs": [
    {
     "name": "stdout",
     "output_type": "stream",
     "text": [
      "28\n",
      "29\n",
      "702\n"
     ]
    }
   ],
   "source": [
    "print(spreadsheet_encode_column(\"AB\"))\n",
    "print(spreadsheet_encode_column(\"AC\"))\n",
    "print(spreadsheet_encode_column(\"ZZ\"))"
   ]
  },
  {
   "cell_type": "markdown",
   "metadata": {},
   "source": [
    "## Is Palindrome\n",
    "- Given a string, write a python function to check if it is palindrome or not. A string is said to be palindrome if reverse of the string is same as string. For example, “radar” is palindrome, but “radix” is not palindrome."
   ]
  },
  {
   "cell_type": "code",
   "execution_count": 39,
   "metadata": {},
   "outputs": [
    {
     "name": "stdout",
     "output_type": "stream",
     "text": [
      "wasit1acatisaw\n",
      "False\n"
     ]
    }
   ],
   "source": [
    "s = \"Was it1 a cat I saw?\"\n",
    "\n",
    "# Solution uses extra space proportional to size of string \"s\"\n",
    "s = ''.join([i for i in s if i.isalnum()]).replace(\" \", \"\").lower()\n",
    "print(s)\n",
    "print(s == s[::-1])"
   ]
  },
  {
   "cell_type": "code",
   "execution_count": 40,
   "metadata": {},
   "outputs": [
    {
     "name": "stdout",
     "output_type": "stream",
     "text": [
      "wasitaca1tisaw\n"
     ]
    }
   ],
   "source": [
    "print(s[::-1])"
   ]
  },
  {
   "cell_type": "code",
   "execution_count": 41,
   "metadata": {},
   "outputs": [
    {
     "data": {
      "text/plain": [
       "['w', 'a', 's', 'i', 't', '1', 'a', 'c', 'a', 't', 'i', 's', 'a', 'w']"
      ]
     },
     "execution_count": 41,
     "metadata": {},
     "output_type": "execute_result"
    }
   ],
   "source": [
    "[i for i in s if i.isalnum()]"
   ]
  },
  {
   "cell_type": "code",
   "execution_count": 42,
   "metadata": {},
   "outputs": [
    {
     "name": "stdout",
     "output_type": "stream",
     "text": [
      "Yes\n"
     ]
    }
   ],
   "source": [
    "def isPalindrome(s): \n",
    "    return s == s[::-1] \n",
    "  \n",
    "  \n",
    "# Driver code \n",
    "s = \"malayalam\"\n",
    "ans = isPalindrome(s) \n",
    "  \n",
    "if ans: \n",
    "    print(\"Yes\") \n",
    "else: \n",
    "    print(\"No\")"
   ]
  },
  {
   "cell_type": "code",
   "execution_count": 43,
   "metadata": {},
   "outputs": [],
   "source": [
    "#### Solution 2: The Preferred Solution "
   ]
  },
  {
   "cell_type": "code",
   "execution_count": 48,
   "metadata": {},
   "outputs": [
    {
     "name": "stdout",
     "output_type": "stream",
     "text": [
      "True\n"
     ]
    },
    {
     "data": {
      "text/plain": [
       "True"
      ]
     },
     "execution_count": 48,
     "metadata": {},
     "output_type": "execute_result"
    }
   ],
   "source": [
    "\n",
    "def is_palindrome(s):\n",
    "    i = 0\n",
    "    j = len(s) - 1\n",
    "\n",
    "    while i < j:\n",
    "        while not s[i].isalnum() and i < j:\n",
    "            i += 1\n",
    "        while not s[j].isalnum() and i < j:\n",
    "            j -= 1\n",
    "\n",
    "        if s[i].lower() != s[j].lower():\n",
    "            return False \n",
    "        i += 1\n",
    "        j -= 1\n",
    "    return True\n",
    "\n",
    "s = \"Was it a cat I saw?\"\n",
    "print(is_palindrome(s))\n",
    "s[0].isalnum()"
   ]
  },
  {
   "cell_type": "markdown",
   "metadata": {},
   "source": [
    "## Is Anagram\n",
    "- anagram is when two strings can be written using the same letters.\n",
    "    - \"rail safety\" = \"fairy tales\"\n",
    "    - \"roast beef\" = \"eat for BSE\""
   ]
  },
  {
   "cell_type": "markdown",
   "metadata": {},
   "source": [
    "#### method1"
   ]
  },
  {
   "cell_type": "code",
   "execution_count": 4,
   "metadata": {},
   "outputs": [
    {
     "name": "stdout",
     "output_type": "stream",
     "text": [
      "fairytales\n",
      "s1 ========>  ['a', 'a', 'e', 'f', 'i', 'l', 'r', 's', 't', 'y']\n",
      "railsafety\n",
      "True\n"
     ]
    }
   ],
   "source": [
    "s1 = \"fairy tales\"\n",
    "s2 = \"rail safety\"\n",
    "\n",
    "s1 = s1.replace(\" \", \"\").lower()\n",
    "s2 = s2.replace(\" \", \"\").lower()\n",
    "print(s1)\n",
    "print(\"s1 ========> \",sorted(s1))\n",
    "print(s2)\n",
    "# Requires n log n time (since any comparison \n",
    "# based sorting algorithm requires at least \n",
    "# n log n time to sort).\n",
    "print(sorted(s1) == sorted(s2))"
   ]
  },
  {
   "cell_type": "markdown",
   "metadata": {},
   "source": [
    "#### method2"
   ]
  },
  {
   "cell_type": "code",
   "execution_count": 19,
   "metadata": {},
   "outputs": [
    {
     "name": "stdout",
     "output_type": "stream",
     "text": [
      "{}\n",
      "True\n"
     ]
    }
   ],
   "source": [
    "def is_anagram(s1, s2):\n",
    "    ht = dict()\n",
    "    print(ht)\n",
    "    if len(s1) != len(s2):\n",
    "        return False\n",
    "        \n",
    "    for i in s1:\n",
    "        if i in ht:\n",
    "            ht[i] += 1\n",
    "            \n",
    "        else:\n",
    "            ht[i] = 1\n",
    "    for i in s2:\n",
    "        if i in ht:\n",
    "            ht[i] -= 1\n",
    "        else:\n",
    "            ht[i] = 1\n",
    "    for i in ht:\n",
    "        if ht[i] != 0:\n",
    "            return False\n",
    "    return True\n",
    "\n",
    "s1 = \"fairy tales\"\n",
    "s2 = \"rail safety\"\n",
    "## normalizing the strings\n",
    "s1 = s1.replace(\" \", \"\").lower()\n",
    "s2 = s2.replace(\" \", \"\").lower()\n",
    "\n",
    "print(is_anagram(s1, s2))"
   ]
  },
  {
   "cell_type": "code",
   "execution_count": 26,
   "metadata": {},
   "outputs": [
    {
     "name": "stdout",
     "output_type": "stream",
     "text": [
      "dict_keys(['a', 'b'])\n",
      "1\n",
      "2\n"
     ]
    }
   ],
   "source": [
    "##########\n",
    "\n",
    "d ={\"a\":1,\"b\":2}\n",
    "print(d.keys())\n",
    "s = \"a12b\"\n",
    "for i in d:\n",
    "    print(d[i])\n"
   ]
  },
  {
   "cell_type": "markdown",
   "metadata": {},
   "source": [
    "## Is Palindrome Permutation\n",
    "- Palindrome: A word or phrase that is the same forwards and backward.\n",
    "\n",
    "- Permutation: A rearrangement of letters."
   ]
  },
  {
   "cell_type": "code",
   "execution_count": 27,
   "metadata": {},
   "outputs": [
    {
     "name": "stdout",
     "output_type": "stream",
     "text": [
      "True\n",
      "False\n"
     ]
    }
   ],
   "source": [
    "def is_palin_perm(input_str):\n",
    "    input_str = input_str.replace(\" \", \"\")\n",
    "    input_str = input_str.lower()\n",
    "\n",
    "    d = dict()\n",
    "\n",
    "    for i in input_str:\n",
    "        if i in d:\n",
    "            d[i] += 1\n",
    "        else:\n",
    "            d[i] = 1\n",
    "\n",
    "    odd_count = 0\n",
    "    for k, v in d.items():\n",
    "        if v % 2 != 0 and odd_count == 0:\n",
    "            odd_count += 1\n",
    "        elif v % 2 != 0 and odd_count != 0:\n",
    "            return False\n",
    "    return True\n",
    "\n",
    "palin_perm = \"Tact Coa\"\n",
    "not_palin_perm = \"This is not a palindrome permutation\"     ### odd no.s====> i:3 ,l:1\n",
    "\n",
    "print(is_palin_perm(palin_perm))\n",
    "print(is_palin_perm(not_palin_perm))"
   ]
  },
  {
   "cell_type": "markdown",
   "metadata": {},
   "source": [
    "## check permutation"
   ]
  },
  {
   "cell_type": "markdown",
   "metadata": {},
   "source": [
    "#### method_1"
   ]
  },
  {
   "cell_type": "code",
   "execution_count": 1,
   "metadata": {},
   "outputs": [
    {
     "name": "stdout",
     "output_type": "stream",
     "text": [
      "True\n"
     ]
    }
   ],
   "source": [
    "# Approach 1: Sorting\n",
    "# Time Complexity: O(n log n)\n",
    "# Space Complexity: O(1)\n",
    "\n",
    "\n",
    "def is_perm_1(str_1, str_2):\n",
    "    str_1 = str_1.lower()\n",
    "    str_2 = str_2.lower()\n",
    "\n",
    "    if len(str_1) != len(str_2):\n",
    "        return False\n",
    "\n",
    "    str_1 = ''.join(sorted(str_1))    #### eggloo\n",
    "    str_2 = ''.join(sorted(str_2))    #### eggloo\n",
    "\n",
    "    n = len(str_1)\n",
    "\n",
    "    for i in range(n):\n",
    "        if str_1[i] != str_2[i]:\n",
    "            return False\n",
    "    return True\n",
    "\n",
    "\n",
    "\n",
    "is_permutation_1 = \"google\"\n",
    "is_permutation_2 = \"ooggle\"\n",
    "\n",
    "print(is_perm_1(is_permutation_1, is_permutation_2))"
   ]
  },
  {
   "cell_type": "markdown",
   "metadata": {},
   "source": [
    "- As we are using sorting to check for permutations, the time complexity for this solution is O(n log n) while space complexity is O(1) as there is no extra use of spac"
   ]
  },
  {
   "cell_type": "markdown",
   "metadata": {},
   "source": [
    "#### method_2"
   ]
  },
  {
   "cell_type": "code",
   "execution_count": 8,
   "metadata": {},
   "outputs": [
    {
     "name": "stdout",
     "output_type": "stream",
     "text": [
      "True\n",
      "False\n"
     ]
    }
   ],
   "source": [
    "# Approach 2: Hash Table\n",
    "# Time Complexity: O(n)\n",
    "# Space Complexity: O(n)\n",
    "def is_perm_2(str_1, str_2):\n",
    "    str_1 = str_1.lower()\n",
    "    str_2 = str_2.lower()\n",
    "\n",
    "    if len(str_1) != len(str_2):\n",
    "        return False\n",
    "\n",
    "    d = dict()\n",
    "    \n",
    "    for i in str_1:\n",
    "        if i in d:\n",
    "            d[i] += 1\n",
    "        else:\n",
    "            d[i] = 1\n",
    "    for i in str_2:\n",
    "        if i in d:\n",
    "            d[i] -= 1\n",
    "        else:\n",
    "            d[i] = 1\n",
    "\n",
    "    return all(value ==0 for value in d.values())\n",
    "\n",
    "is_permutation_1 = \"google\"\n",
    "is_permutation_2 = \"ooggle\"\n",
    "\n",
    "not_permutation_1 = \"not\"\n",
    "not_permutation_2 = \"top\"\n",
    "\n",
    "print(is_perm_2(is_permutation_1, is_permutation_2))\n",
    "print(is_perm_2(not_permutation_1, not_permutation_2))"
   ]
  },
  {
   "cell_type": "markdown",
   "metadata": {},
   "source": [
    "### is unique"
   ]
  },
  {
   "cell_type": "code",
   "execution_count": 14,
   "metadata": {},
   "outputs": [
    {
     "name": "stdout",
     "output_type": "stream",
     "text": [
      "abccda\n"
     ]
    }
   ],
   "source": [
    "def is_unique(input_str):\n",
    "  input_str = input_str.replace(\" \", \"\")\n",
    "  return input_str\n",
    "\n",
    "\n",
    "print(is_unique(\"abc cda\"))\n"
   ]
  },
  {
   "cell_type": "code",
   "execution_count": 19,
   "metadata": {},
   "outputs": [
    {
     "name": "stdout",
     "output_type": "stream",
     "text": [
      "{'m', 'A', 'o', 't', 'e', 'q', ' ', 'U', 'I', 'N', 'i', 'u', 'n'}\n",
      "15\n",
      "13\n"
     ]
    }
   ],
   "source": [
    "st = \"I Am Not Unique\"\n",
    "se = set(st)\n",
    "print(se)\n",
    "print(len(st))\n",
    "print(len(se))"
   ]
  },
  {
   "cell_type": "code",
   "execution_count": 24,
   "metadata": {},
   "outputs": [
    {
     "data": {
      "text/plain": [
       "False"
      ]
     },
     "execution_count": 24,
     "metadata": {},
     "output_type": "execute_result"
    }
   ],
   "source": [
    "def is_unique_1(st):\n",
    "    d = dict()\n",
    "    for i in st:\n",
    "        if i in d:\n",
    "            return False\n",
    "        else:\n",
    "            d[i] = 1\n",
    "    return True\n",
    "\n",
    "st = \"I Am Not Unique\"\n",
    "is_unique_1(st)"
   ]
  },
  {
   "cell_type": "markdown",
   "metadata": {},
   "source": [
    "- ord()\n",
    "- chr()\n",
    "- used for unicode"
   ]
  },
  {
   "cell_type": "code",
   "execution_count": 25,
   "metadata": {},
   "outputs": [
    {
     "name": "stdout",
     "output_type": "stream",
     "text": [
      "123\n",
      "<class 'int'>\n",
      "123\n",
      "<class 'str'>\n"
     ]
    }
   ],
   "source": [
    "def int_to_str(input_int):\n",
    "    \n",
    "    if input_int < 0:\n",
    "        is_negative = True\n",
    "        input_int *= -1\n",
    "    else:\n",
    "        is_negative = False\n",
    "\n",
    "    output_str = []\n",
    "    while input_int > 0:\n",
    "        output_str.append(chr(ord('0') + input_int % 10))\n",
    "        input_int //= 10\n",
    "    output_str = output_str[::-1]\n",
    "\n",
    "    output_str = ''.join(output_str)\n",
    "\n",
    "    if is_negative:\n",
    "        return '-' + output_str\n",
    "    else:\n",
    "        return output_str\n",
    "\n",
    "\n",
    "input_int = 123\n",
    "print(input_int)\n",
    "print(type(input_int))\n",
    "\n",
    "\n",
    "output_str = int_to_str(input_int)\n",
    "print(output_str)\n",
    "print(type(output_str))"
   ]
  },
  {
   "cell_type": "markdown",
   "metadata": {},
   "source": [
    "#### Given some numeric string as input, convert the string to an integer."
   ]
  },
  {
   "cell_type": "code",
   "execution_count": 26,
   "metadata": {},
   "outputs": [
    {
     "name": "stdout",
     "output_type": "stream",
     "text": [
      "<class 'int'>\n",
      "123\n",
      "-123\n"
     ]
    }
   ],
   "source": [
    "def str_to_int(input_str):\n",
    "\n",
    "    output_int = 0\n",
    "\n",
    "    if input_str[0] == '-':\n",
    "        start_idx = 1\n",
    "        is_negative = True\n",
    "    else:\n",
    "        start_idx = 0\n",
    "        is_negative = False\n",
    "\n",
    "    for i in range(start_idx, len(input_str)):\n",
    "        place = 10**(len(input_str) - (i+1))\n",
    "        digit = ord(input_str[i]) - ord('0')\n",
    "        output_int += place * digit\n",
    "\n",
    "    if is_negative:\n",
    "        return -1 * output_int\n",
    "    else:\n",
    "        return output_int\n",
    "    \n",
    "    \n",
    "s = \"554\"\n",
    "x = str_to_int(s)\n",
    "print(type(x))\n",
    "\n",
    "s = \"123\"\n",
    "print(str_to_int(s))\n",
    "\n",
    "s = \"-123\"\n",
    "print(str_to_int(s))"
   ]
  },
  {
   "cell_type": "code",
   "execution_count": null,
   "metadata": {},
   "outputs": [],
   "source": [
    " "
   ]
  }
 ],
 "metadata": {
  "kernelspec": {
   "display_name": "Python 3",
   "language": "python",
   "name": "python3"
  },
  "language_info": {
   "codemirror_mode": {
    "name": "ipython",
    "version": 3
   },
   "file_extension": ".py",
   "mimetype": "text/x-python",
   "name": "python",
   "nbconvert_exporter": "python",
   "pygments_lexer": "ipython3",
   "version": "3.8.1"
  }
 },
 "nbformat": 4,
 "nbformat_minor": 4
}
