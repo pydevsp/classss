{
 "cells": [
  {
   "cell_type": "markdown",
   "metadata": {},
   "source": [
    "# File Handling :-\n",
    "----------\n",
    "- In enterprise application development , to manage data about the org. we need some storage areas.\n",
    "- Python has several functions for creating, reading, updating, and deleting files."
   ]
  },
  {
   "cell_type": "markdown",
   "metadata": {},
   "source": [
    "- There are two type of Storage areas.\n",
    "  ###  1. Temporary Storage Areas:\n",
    "        - These storage areas are able to store data temporarily.\n",
    "        - EX: Bufferes, Python Objects\n",
    "  ###  2. Permanent Storage Areas\n",
    "        - These storage areas are able to store data permanently.\n",
    "        - EX: File System, DBMS, Datawarehouses"
   ]
  },
  {
   "cell_type": "markdown",
   "metadata": {},
   "source": [
    "- Types of Files:\n",
    "    There are 2 types of files\n",
    "    1. Text Files:\n",
    "          Usually we can use text files to store character data\n",
    "\n",
    "    2. Binary Files:\n",
    "          Usually we can use binary files to store binary data like images,video files, audio files etc..."
   ]
  },
  {
   "cell_type": "markdown",
   "metadata": {},
   "source": [
    "- The key function for working with files in Python is the \"open()\" function.\n",
    "\n",
    "- The open() function takes two parameters; filename, and mode.\n",
    "\n",
    "- There are four different methods (modes) for opening a file:\n",
    "\n",
    "     ####   \"r\" - Read - Default value. Opens a file for reading, error if the file does not exist\n",
    "\n",
    "     ####   \"a\" - Append - Opens a file for appending, creates the file if it does not exist\n",
    "\n",
    "     ####   \"w\" - Write - Opens a file for writing, creates the file if it does not exist\n",
    "\n",
    "     ####   \"x\" - Create - Creates the specified file, returns an error if the file exists"
   ]
  },
  {
   "cell_type": "markdown",
   "metadata": {},
   "source": [
    "### File System:\n",
    "-------------\n",
    "- It is a parmanent Storage Area, it able to manage data permanently and it is managed by local Operating system.\n"
   ]
  },
  {
   "cell_type": "markdown",
   "metadata": {},
   "source": [
    "- If we want to use files in python applications .\n",
    "- Steps :\n",
    "    1. Create file\n",
    "    2. Write Data in Files / Read data from Files\n",
    "    3. Close File."
   ]
  },
  {
   "cell_type": "markdown",
   "metadata": {},
   "source": [
    "- 1. Create File:\n",
    "     - file = open(fileName, mode)\n",
    "     - EX: file = open(\"c:/classss/ABC/hello.txt\",\"w\")\n",
    "     - Note: If use \"name\" attribute from file we are able to get absolute path of the file.\n",
    "     - print(file.name)\n",
    "- 2. Get Name of the File:\n",
    "     - name = os.path.basename(file.name)\n",
    "- 3. Get Absolute path of the FIle:\n",
    "     - print(file.name)\n",
    "     - print(os.path.abspath(file.name))\n",
    "- 4. Get Parent location :\n",
    "     - os.path.dirname(file.name)\n",
    "- 5. To get Mode of the file.\n",
    "     - print(file.mode)\n",
    "- 6. To check readable file\n",
    "     - print(file.readable())\n",
    "- 7. To check Writable\n",
    "     - print(file.writable())"
   ]
  },
  {
   "cell_type": "code",
   "execution_count": 30,
   "metadata": {},
   "outputs": [
    {
     "name": "stdout",
     "output_type": "stream",
     "text": [
      "File Mode : w\n",
      "File Name : WELCOME.txt\n",
      "File Dir : c:/classss/ABC\n",
      "Abs Path : c:/classss/ABC/WELCOME.txt\n",
      "Abs Path : c:\\classss\\ABC\\WELCOME.txt\n",
      "Is Readable : False\n",
      "Is Writable : True\n"
     ]
    }
   ],
   "source": [
    "import os\n",
    "file = open(\"c:/classss/ABC/WELCOME.txt\",\"w\")\n",
    "\n",
    "print(\"File Mode :\",file.mode)\n",
    "print(\"File Name :\",os.path.basename(file.name))\n",
    "print(\"File Dir :\",os.path.dirname(file.name))\n",
    "print(\"Abs Path :\",file.name)\n",
    "print(\"Abs Path :\",os.path.abspath(file.name))\n",
    "print(\"Is Readable :\",file.readable())\n",
    "print(\"Is Writable :\",file.writable())"
   ]
  },
  {
   "cell_type": "code",
   "execution_count": 5,
   "metadata": {},
   "outputs": [
    {
     "name": "stdout",
     "output_type": "stream",
     "text": [
      "File Mode : r\n",
      "File Name : hello.txt\n",
      "File Dir : c:/classss/ABC\n",
      "Abs Path : c:/classss/ABC/hello.txt\n",
      "Abs Path : c:\\classss\\ABC\\hello.txt\n",
      "Is Readable : True\n",
      "Is Writable : False\n"
     ]
    }
   ],
   "source": [
    "import os\n",
    "file = open(\"c:/classss/ABC/hello.txt\",\"r\")\n",
    "\n",
    "print(\"File Mode :\",file.mode)\n",
    "print(\"File Name :\",os.path.basename(file.name))\n",
    "print(\"File Dir :\",os.path.dirname(file.name))\n",
    "print(\"Abs Path :\",file.name)\n",
    "print(\"Abs Path :\",os.path.abspath(file.name))\n",
    "print(\"Is Readable :\",file.readable())\n",
    "print(\"Is Writable :\",file.writable())"
   ]
  },
  {
   "cell_type": "code",
   "execution_count": 10,
   "metadata": {},
   "outputs": [
    {
     "name": "stdout",
     "output_type": "stream",
     "text": [
      "File Mode : x\n",
      "File Name : hii.txt\n",
      "File Dir : c:/classss/ABC\n",
      "Abs Path : c:/classss/ABC/hii.txt\n",
      "Abs Path : c:\\classss\\ABC\\hii.txt\n",
      "Is Readable : False\n",
      "Is Writable : True\n"
     ]
    }
   ],
   "source": [
    "import os\n",
    "file = open(\"c:/classss/ABC/hii.txt\",\"x\")\n",
    "\n",
    "print(\"File Mode :\",file.mode)\n",
    "print(\"File Name :\",os.path.basename(file.name))\n",
    "print(\"File Dir :\",os.path.dirname(file.name))\n",
    "print(\"Abs Path :\",file.name)\n",
    "print(\"Abs Path :\",os.path.abspath(file.name))\n",
    "print(\"Is Readable :\",file.readable())\n",
    "print(\"Is Writable :\",file.writable())"
   ]
  },
  {
   "cell_type": "markdown",
   "metadata": {},
   "source": [
    "- If we want to Write Data in a File we have to use the following two functions.\n",
    "    1. write()\n",
    "    2. writelines()\n"
   ]
  },
  {
   "cell_type": "markdown",
   "metadata": {},
   "source": [
    "- Q)What is the difference between write() and writelines() function?\n",
    "------\n",
    "-  write() : function is able to write single line of data.\n",
    "- EX:\n",
    "---\n",
    "    import os\n",
    "    file = open(\"E:/abc/xyz/hello.txt\",\"w\")\n",
    "    str = \"Welcome To Durgasoft\"\n",
    "    file.write(str)\n",
    "    print(\"data Send to E:/abc/xyz/hello.txt\")\n",
    "    \n",
    "- writelines() : function is able to write more than one line which are existed in list to a file.\n",
    "- EX:\n",
    "---\n",
    "    import os\n",
    "    file = open(\"E:/abc/xyz/hello.txt\",\"w\")\n",
    "    str1 = \"Welcome To Durgasoft!\\n\"\n",
    "    str2 = \"Hello User!\\n\"\n",
    "    str3 = \"Hai User!\\n\"\n",
    "    list = [str1,str2,str3]\n",
    "    file.writelines(list)\n",
    "    print(\"data Send to E:/abc/xyz/hello.txt\")"
   ]
  },
  {
   "cell_type": "code",
   "execution_count": 6,
   "metadata": {},
   "outputs": [
    {
     "name": "stdout",
     "output_type": "stream",
     "text": [
      "data Send to E:/ABC/writefunc.txt\n"
     ]
    }
   ],
   "source": [
    "import os\n",
    "\n",
    "file = open(\"c:/classss/ABC/writefunc.txt\",\"w\")\n",
    "str =\"Welcome To INDIA\"\n",
    "file.write(str)                                 \n",
    "print(\"data Send to E:/ABC/writefunc.txt\")"
   ]
  },
  {
   "cell_type": "code",
   "execution_count": 9,
   "metadata": {},
   "outputs": [
    {
     "name": "stdout",
     "output_type": "stream",
     "text": [
      "data Send to E:/abc/xyz/hello.txt\n"
     ]
    }
   ],
   "source": [
    "import os\n",
    "file = open(\"c:/classss/ABC/writelinesFunc.txt\",\"w\")\n",
    "str1 = \"Welcome To INDIA!\\n\"\n",
    "str2 = \"Hello User!\\n\"\n",
    "str3 = \"Hai User!\\n\"\n",
    "list = [str1,str2,str3]\n",
    "file.writelines(list)\n",
    "print(\"data Send to E:/abc/xyz/hello.txt\")"
   ]
  },
  {
   "cell_type": "markdown",
   "metadata": {},
   "source": [
    "- Bydefault, files are existed in overriden mode, that is, at each and every write operation previous data will be overridden with new data. If we want to append new data to the old data which is existed in file previously we have to use 'a' as filemode. "
   ]
  },
  {
   "cell_type": "code",
   "execution_count": 24,
   "metadata": {},
   "outputs": [
    {
     "name": "stdout",
     "output_type": "stream",
     "text": [
      "data Send to E:/ABC/writefunc.txt\n"
     ]
    }
   ],
   "source": [
    "import os\n",
    "\n",
    "file = open(\"c:/classss/ABC/OldNew.txt\",\"w\")\n",
    "str =\"Welcome To ODISHAaa\"\n",
    "file.write(str)                                 \n",
    "print(\"data Send to E:/ABC/writefunc.txt\")"
   ]
  },
  {
   "cell_type": "code",
   "execution_count": 26,
   "metadata": {},
   "outputs": [
    {
     "name": "stdout",
     "output_type": "stream",
     "text": [
      "data Send to E:/ABC/writefunc.txt\n",
      "data Send to E:/ABC/writefunc.txt\n"
     ]
    }
   ],
   "source": [
    "file = open(\"c:/classss/ABC/OldNew.txt\",\"a\")\n",
    "str =\"append new data\"\n",
    "file.write(str)                                 \n",
    "print(\"data Send to E:/ABC/writefunc.txt\")\n",
    "\n",
    "file = open(\"c:/classss/ABC/OldNew.txt\",\"a\")\n",
    "str =\"  append new data11\"\n",
    "file.write(str)                                 \n",
    "print(\"data Send to E:/ABC/writefunc.txt\")"
   ]
  },
  {
   "cell_type": "code",
   "execution_count": 27,
   "metadata": {},
   "outputs": [
    {
     "name": "stdout",
     "output_type": "stream",
     "text": [
      "data Send to E:/ABC/writefunc.txt\n"
     ]
    }
   ],
   "source": [
    "file = open(\"c:/classss/ABC/OldNew.txt\",\"a\")\n",
    "str =\"  append new data11\"\n",
    "file.write(str)                                 \n",
    "print(\"data Send to E:/ABC/writefunc.txt\")"
   ]
  },
  {
   "cell_type": "markdown",
   "metadata": {},
   "source": [
    "- If we want to read data from a particular file then we have to use the following methods.\n",
    "     1. read()\n",
    "     2. readline()\n",
    "     3. readlines()\n",
    "     4. read(no_Of_Characters)"
   ]
  },
  {
   "cell_type": "code",
   "execution_count": 31,
   "metadata": {},
   "outputs": [
    {
     "name": "stdout",
     "output_type": "stream",
     "text": [
      "Welcome To INDIA\n"
     ]
    }
   ],
   "source": [
    "# 1. read(): It can be used to read the complete data which is existed in the specified file.\n",
    "\n",
    "files = open(\"c:/classss/ABC/writefunc.txt\",\"r\")\n",
    "data = files.read() \n",
    "print(data)         "
   ]
  },
  {
   "cell_type": "code",
   "execution_count": 33,
   "metadata": {},
   "outputs": [
    {
     "name": "stdout",
     "output_type": "stream",
     "text": [
      "ABCD ZZ VVVV NNN MMM AAAAAAAA\n",
      "\n"
     ]
    }
   ],
   "source": [
    "# 2.readline(): It able to read only one line of data in the form of String.\n",
    "\n",
    "fi = open(\"C:/classss/ABC/WELCOME.txt\",\"r\")\n",
    "data = fi.readline()\n",
    "print(data)"
   ]
  },
  {
   "cell_type": "code",
   "execution_count": 36,
   "metadata": {},
   "outputs": [
    {
     "name": "stdout",
     "output_type": "stream",
     "text": [
      "['ABCD ZZ VVVV NNN MMM AAAAAAAA\\n', 'AAA AAAA BS BBB BB CCCC CC\\n', '            lll kkmhh hhhh ffffg']\n"
     ]
    }
   ],
   "source": [
    "# 3. readlines(): It able to read data in the form multiple lines in a list.\n",
    "\n",
    "fi = open(\"C:/classss/ABC/WELCOME.txt\",\"r\")\n",
    "data = fi.readlines()                 ####### ONE LINE ==> ONE STRING\n",
    "print(data)     "
   ]
  },
  {
   "cell_type": "code",
   "execution_count": 3,
   "metadata": {},
   "outputs": [
    {
     "name": "stdout",
     "output_type": "stream",
     "text": [
      "ABCD ZZ VVVV NNN MMM AAAAAAAA\n",
      "AAA AAAA B\n"
     ]
    }
   ],
   "source": [
    "# 4. read(no_Of_Characters): It able to read the specified no of characters from the file.\n",
    "\n",
    "fi = open(\"C:/classss/ABC/WELCOME.txt\",\"r\")\n",
    "data = fi.read(40)   ###### CAL WITH SPACE  0 to --\n",
    "print(data)"
   ]
  },
  {
   "cell_type": "markdown",
   "metadata": {},
   "source": [
    "#### - 'r' --> only read operation, not write operation\n",
    "     1. r ==> open an existing file for read operation. The file pointer is positioned at the beginning of the file.If the specified file does not exist then we will get FileNotFoundError.This is default mode.\n",
    "#### - 'w' --> Only Write operation with override, not read operation .\n",
    "     2. w ==> open an existing file for write operation. If the file already contains some data then it will be overridden. If the specified file is not already avaialble then this mode will create that file.\n",
    "     \n",
    "#### - 'a' --> Append new data to the old data. (old data + new data save).\n",
    "     3. a  open an existing file for append operation. It won't override existing data.If the specified file is not already avaialble then this mode will create a new file.\n",
    "#### - 'r+'-->Read and Write, but, it will override the existed content upto the required part (lenght of new data).\n",
    "     4. r+  To read and write data into the file. The previous data in the file will not be deleted.The file pointer is placed at the beginning of the file.\n",
    "#### - 'a+'--> Append and Read operations .\n",
    "     \n",
    "#### - 'w+'--> Write then read operation.(with override)\n",
    "#### - 'x' --> It will create file, if file is existed then it will generate error.\n",
    "\n",
    "#### - Note: All the above modes are applicable for text files. If the above modes suffixed with 'b' then these represents for binary files.\n",
    "   - Eg: rb,wb,ab,r+b,w+b,a+b,xb\n"
   ]
  },
  {
   "cell_type": "markdown",
   "metadata": {},
   "source": [
    "#### - In Python applications, if we create any file then it is convention to close that file, for closing files we will use close() funtion.\n",
    "#### - To Check whether a FILE is closed or not we have to use \"closed\" variable from File.\n",
    "\n",
    "#### -name : Name of opened file\n",
    "#### -mode : Mode in which the file is opened\n"
   ]
  },
  {
   "cell_type": "code",
   "execution_count": 11,
   "metadata": {},
   "outputs": [
    {
     "name": "stdout",
     "output_type": "stream",
     "text": [
      "ABCD ZZ VVVV NNN MMM AAAAAAAA\n",
      "AAA AAAA BS BBB BB CCCC CC\n",
      "            lll kkmhh hhhh ffffg\n",
      "close : False\n",
      "after close() : True\n"
     ]
    }
   ],
   "source": [
    "file = open(\"c:/classss/ABC/WELCOME.txt\",\"r\")\n",
    "# file.seek(0)\n",
    "print(file.read())\n",
    "print('close :',file.closed)    \n",
    "file.close()\n",
    "print('after close() :',file.closed)\n"
   ]
  },
  {
   "cell_type": "markdown",
   "metadata": {},
   "source": [
    "- In general, in python applications, of we open the file then we have to\n",
    "close that file at the end of python application explicitly, in this\n",
    "context, developers may or may not close the files explicitly, if we\n",
    "want to close the files with out failure then we have to go for an\n",
    "alternative where PVM must close the files at the end of appliactions.\n",
    "To achieve this rejquired we have to create file with 'with' keyword.\n"
   ]
  },
  {
   "cell_type": "code",
   "execution_count": 20,
   "metadata": {},
   "outputs": [
    {
     "name": "stdout",
     "output_type": "stream",
     "text": [
      "Welcome To bharat\n",
      "File Closed? : False\n",
      "File Closed???? : True\n"
     ]
    }
   ],
   "source": [
    "with open (\"c:/classss/ABC/closeWith.txt\",\"w+\") as cw :\n",
    "    cw.write(\"Welcome To bharat\")\n",
    "    cw.seek(0)\n",
    "    print(cw.read())\n",
    "    print(\"File Closed? :\",cw.closed)\n",
    "    \n",
    "print(\"File Closed???? :\",file.closed)\n"
   ]
  },
  {
   "cell_type": "markdown",
   "metadata": {},
   "source": [
    "##### - To get current location of the file cursor(file pointer) we will use tell() function. To move file cursor(file pointer) to a particular location we will use seek(position) function."
   ]
  },
  {
   "cell_type": "code",
   "execution_count": 31,
   "metadata": {},
   "outputs": [
    {
     "name": "stdout",
     "output_type": "stream",
     "text": [
      "Welcome To bharat\n",
      "17\n",
      "0\n",
      "0\n",
      "Welcome To bhar\n",
      "15\n"
     ]
    }
   ],
   "source": [
    "ccw = open(\"c:/classss/ABC/closeWith.txt\",\"r\")\n",
    "print(ccw.read())\n",
    "print(ccw.tell())   ##  file-data last position\n",
    "print(ccw.seek(0))\n",
    "print(ccw.tell())\n",
    "print(ccw.read(15))\n",
    "print(ccw.tell())\n"
   ]
  },
  {
   "cell_type": "markdown",
   "metadata": {},
   "source": [
    "#### - Q)Write a Python program to take file name as dynamic input and to display file content?\n"
   ]
  },
  {
   "cell_type": "code",
   "execution_count": 3,
   "metadata": {},
   "outputs": [
    {
     "name": "stdout",
     "output_type": "stream",
     "text": [
      "Enter File Name : c:/classss/ABC/WELCOME.txt\n",
      "ABCD ZZ VVVV NNN MMM AAAAAAAA\n",
      "AAA AAAA BS BBB BB CCCC CC\n",
      "            lll kkmhh hhhh ffffg\n"
     ]
    }
   ],
   "source": [
    "fileName = input(\"Enter File Name : \")\n",
    "file = open(fileName,'r')\n",
    "data = file.read()\n",
    "print(data)\n",
    "\n",
    "\n",
    "## i/p == >   c:/classss/ABC/WELCOME.txt\n",
    "## o/p ==>  file data followed to program"
   ]
  },
  {
   "cell_type": "markdown",
   "metadata": {},
   "source": [
    "### -Q)Write a python program to take file name as dynamic input and to display no of lines, no of words and no of characters of the respective file?"
   ]
  },
  {
   "cell_type": "code",
   "execution_count": 6,
   "metadata": {},
   "outputs": [
    {
     "name": "stdout",
     "output_type": "stream",
     "text": [
      "enter file path : c:/classss/ABC/WELCOME.txt\n",
      "['ABCD ZZ VVVV NNN MMM AAAAAAAA\\n', 'AAA AAAA BS BBB BB CCCC CC\\n', '            lll kkmhh hhhh ffffg\\n', '  ']\n",
      "\n",
      "4\n",
      "17\n",
      "61\n"
     ]
    }
   ],
   "source": [
    "filePut = input(\"enter file path : \")\n",
    "File = open(filePut,\"r\")\n",
    "data = (File.readlines())\n",
    "print(data)\n",
    "len(data)\n",
    "\n",
    "lines = 0\n",
    "words = 0\n",
    "chars = 0\n",
    "File.seek(0)\n",
    "\n",
    "for li in File :\n",
    "    lines = lines+1   ### \"\\n\"==> 3nos.\n",
    "    words = words+len(li.split())\n",
    "    for wo in li.split() :\n",
    "        chars = chars + len(wo)\n",
    "\n",
    "print()\n",
    "print(lines)   \n",
    "print(words)\n",
    "print(chars)\n"
   ]
  },
  {
   "cell_type": "code",
   "execution_count": 31,
   "metadata": {},
   "outputs": [
    {
     "name": "stdout",
     "output_type": "stream",
     "text": [
      "Enter File Name: c:/classss/ABC/WELCOME.txt\n",
      "File exists: c:/classss/ABC/WELCOME.txt\n",
      "The number of Lines: 4\n",
      "The number of Words: 17\n",
      "The number of Characters: 92\n"
     ]
    }
   ],
   "source": [
    "import os,sys\n",
    "fname=input(\"Enter File Name: \")\n",
    "if os.path.isfile(fname):\n",
    "    print(\"File exists:\",fname)\n",
    "    f=open(fname,\"r\")\n",
    "else :\n",
    "    print(\"File does not exist :\",fname)\n",
    "    sys.exit(0)\n",
    "    \n",
    "lcount=wcount=ccount=0\n",
    "for line in f:\n",
    "    lcount=lcount+1\n",
    "    ccount=ccount+len(line)\n",
    "    words=line.split()\n",
    "    wcount=wcount+len(words)\n",
    "print(\"The number of Lines:\",lcount)\n",
    "print(\"The number of Words:\",wcount)\n",
    "print(\"The number of Characters with space:\",ccount)"
   ]
  },
  {
   "cell_type": "markdown",
   "metadata": {},
   "source": [
    "### Q)Write a python program to transfer data from one file to another file?\n",
    "------------------------------------------------------------------------\n"
   ]
  },
  {
   "cell_type": "code",
   "execution_count": 20,
   "metadata": {},
   "outputs": [
    {
     "name": "stdout",
     "output_type": "stream",
     "text": [
      "it is starting file \n",
      "copy success\n",
      "True\n"
     ]
    }
   ],
   "source": [
    "f1st = open(\"c:/classss/ABC/1start.txt\",\"r\")\n",
    "data = f1st.read()\n",
    "print(data)\n",
    "f2nd = open(\"c:/classss/ABC/2end.txt\",\"w+\")\n",
    "dd = f2nd.write(data+\"\\n\"+\" 1start file copy\")\n",
    "print(\"copy success\")\n",
    "f2nd.close()\n",
    "print(f2nd.closed)\n"
   ]
  },
  {
   "cell_type": "code",
   "execution_count": 29,
   "metadata": {},
   "outputs": [
    {
     "name": "stdout",
     "output_type": "stream",
     "text": [
      "['it is starting file \\n', ' 1start file copy']\n",
      "it is starting file \n",
      "\n",
      " 1start file copy\n"
     ]
    }
   ],
   "source": [
    "f = open(\"c:/classss/ABC/2end.txt\",\"r+\")\n",
    "data = f.readlines()\n",
    "print(data)\n",
    "for s in data :\n",
    "    print(s)"
   ]
  },
  {
   "cell_type": "markdown",
   "metadata": {},
   "source": [
    "#### - If we want to work with binary data like images,...then we have to open the files with the file modes like 'rb', 'wb','ab','xb'"
   ]
  },
  {
   "cell_type": "markdown",
   "metadata": {},
   "source": [
    "### - Q)Write a Python program to transfer image data from one file to another file?"
   ]
  },
  {
   "cell_type": "code",
   "execution_count": 4,
   "metadata": {},
   "outputs": [
    {
     "name": "stdout",
     "output_type": "stream",
     "text": [
      "Image Data Transfered from E:/images/Java_Python.jpg to D:/images/banner.jpg\n"
     ]
    }
   ],
   "source": [
    "f = open(\"c:/classss/ABC/macbook.png\",'rb')\n",
    "targetFile = open(\"c:/classss/ABC/new.jpg\",'wb')\n",
    "bytes = f.read()\n",
    "targetFile.write(bytes)\n",
    "print(\"Image Data Transfered from E:/images/Java_Python.jpg to D:/images/banner.jpg\")\n",
    "f.close()\n",
    "targetFile.close()\n"
   ]
  },
  {
   "cell_type": "code",
   "execution_count": 6,
   "metadata": {},
   "outputs": [
    {
     "name": "stdout",
     "output_type": "stream",
     "text": [
      "b'\\xff\\xd8\\xff\\xe0\\x00\\x10JFIF\\x00\\x01\\x01\\x00\\x00\\x01\\x00\\x01\\x00\\x00\\xff\\xdb\\x00\\x84\\x00\\t\\x06\\x07\\x10\\x12\\x12\\x15\\x12\\x10\\x12\\x15\\x15\\x15\\x15\\x15\\x15\\x15\\x15\\x15\\x15\\x16\\x17\\x15\\x17\\x15\\x15\\x15\\x15\\x16\\x17\\x15\\x15\\x16\\x16\\x18\\x1d( \\x18\\x1a%\\x1d\\x15\\x15!1!%)+...\\x17\\x1f383,7(-/+\\x01\\n\\n\\n\\x0e\\r\\x0e\\x1b\\x10\\x10\\x1b-%\\x1f%-/--+--------------+/---------------------------+-\\xff\\xc0\\x00\\x11\\x08\\x00\\x93\\x01W\\x03\\x01\"\\x00\\x02\\x11\\x01\\x03\\x11\\x01\\xff\\xc4\\x00\\x1b\\x00\\x00\\x01\\x05\\x01\\x01\\x00\\x00\\x00\\x00\\x00\\x00\\x00\\x00\\x00\\x00\\x00\\x01\\x00\\x02\\x03\\x04\\x05\\x06\\x07\\xff\\xc4\\x00H\\x10\\x00\\x02\\x01\\x02\\x03\\x04\\x07\\x04\\x05\\t\\x06\\x05\\x05\\x00\\x00\\x00\\x01\\x02\\x00\\x03\\x11\\x04\\x12!\\x051AQ\\x06\\x13\"2aq\\xb1B\\x81\\x91\\xa1Rbr\\xc1\\xf0\\x07\\x143\\x82\\x92\\xb2\\xd1\\xe1\\xf1\\x16#CS\\xc2\\xc3\\x15$c\\x93\\xe2%4D\\x83\\xa2\\xff\\xc4\\x00\\x1a\\x01\\x00\\x02\\x03\\x01\\x01\\x00\\x00\\x00\\x00\\x00\\x00\\x00\\x00\\x00\\x00\\x00\\x00\\x01\\x02\\x03\\x04\\x05\\x06\\xff\\xc4\\x00,\\x11\\x00\\x02\\x02\\x01\\x03\\x03\\x03\\x02\\x06\\x03\\x00\\x00\\x00\\x00\\x00\\x00\\x00\\x01\\x02\\x03\\x11\\x04!1\\x12AQ\\x13\\x14a\"\\xf0\\x052q\\x81\\x91\\xa13\\xb1\\xe1\\xff\\xda\\x00\\x0c\\x03\\x01\\x00\\x02\\x11\\x03\\x11\\x00?\\x00\\x90\\x98\\x96D\\x8d$\\x06`\\x02\\xc2\\x19,\\xac\\xad&F\\x80\\x0e1\\xca\\xd22c\\x960-S1\\xf2\\nfMx\\xc0W\\x8d\\x84\\x98\\xc1\\x00$I(\\x91\\xac\\xe7\\xb6\\xcfM0xj\\x86\\x95B\\xec\\xeb\\xde\\x08\\xb7\\xb7\\x81$\\x81y$\\x9b\\xe0\\x0e\\x8cI\\x94N\\x10\\xfeS\\xb0|)W>\\xeac\\xfdq\\xad\\xf9Q\\xc3p\\xa1W\\xdeP}\\xf2^\\x9c\\xbc\\x01\\xdfB\\'\\x00?)7\\xee`\\xab7\\xeb\\x7f\\x052D\\xe9\\xde-\\xbb\\x9b2\\xa9\\xf7\\xd4>\\x94\\xa4\\x95Rb\\xc9\\xdf\\xac\\x92p)\\xd2\\xed\\xa6{\\xbb*\\xb7\\xfd\\xba\\xe7\\xfd\\xb90\\xdb\\xdbu\\xbb\\x9b2\\xdfj\\x9d_\\xbd\\xd6K\\xd0\\x98\\xba\\x91\\xdc\\xda\\x02\\'\\x0e6\\x87H\\xce\\xec\\r1\\xe6\\xa0~\\xf5h\\xba\\xee\\x92\\x1f\\xfe=\\x15\\xf3j\\x03\\xd6\\xb1\\x92\\xf6\\xd3\\x13\\x9cQ\\xdc\\x08\\xf5\\x9c#\\'H\\x0e\\xfa\\xb8j\\x7f\\xafC\\xff\\x00)\\x18\\xc1\\xed\\xe3\\xbf\\x1f\\x86\\x1f\\xafK\\xfd4L\\x92\\xd2L\\x8f\\xad\\x0f\\'\\xa0\\x11\\x04\\xe1Wd\\xed\\x83\\xde\\xdat\\x87\\xd9-\\xfe\\x9aB\\x1f\\xec\\xf6\\xd1n\\xf6\\xd6?\\xaa+\\x9fKI{9\\xfd\\xa6/^\\xbf(\\xef\\x04\\x16\\x9c\\x1a\\xf4;\\x1a\\xdb\\xf6\\xa5~<+\\xf0\\xbd\\xb7\\xd5\\xe3\\xf7\\xc9\\xbf\\xb0\\x95H\\xed\\xe3\\xeb\\xb7\\xed}\\xeea\\xed\\x1f\\x9f\\xe8j\\xd8\\xb3\\xb7\"+N[\\xa2\\xf8F\\xc3b*\\xe1z\\xea\\x95P\\xd1\\xa7Yz\\xcd\\xea\\xd9\\xdd\\x1c.\\xba\\x0e\\xe4\\xea\\t\\x99\\xec\\x87D\\xb0X\\x9eVP\\x84r\\xc1h\\xa4\\x06>#\\x10\\x84\\x88\\x00\\xa3\\x966\\xd1\\xcb\\x00\\x1d\\x15\\xa2\\x10\\xc0\\x04\"0\\x81\\x05\\xa0\\x01\\x88Db\\x10\\x01\\xc2:6:0\\x01\\x8a#\\x14\\x00\\xf3\\x80\\xd2Di\\r\\x1c=F\\xee\\xa9\\x97\\xa8l\\x9a\\xcd\\xc2\\xd2\\xb5\\\\\\x9f\\x08]H`2Eiz\\x8fG\\xea\\xf16\\x96\\xa9\\xf4x\\xf1i5D\\xfc\\x11\\xebFNi\"\\x19\\xb6\\x9d\\x1d^fS\\xda;%\\xe8\\x8c\\xd7\\xcc\\xbcO/8J\\xa9Gq\\xa9&T\\x06J\\x1a@\\x1a=L\\xac\\x91,p\\x11\\x8ad\\x80F\\x01\\x9c\\xf7G0(\\xf8\\xdcr\\xbd:Og\\xa3QK\\xd3W#:\\xd4\\x04\\x02F\\xed\\x01\\xb79\\xd0\\x89\\x97\\xd1\\xe1m\\xa9\\x89_\\xa7\\x86\\xa4\\xfey\\\\\\xaf\\xfa\\xa6\\xad\\x1b^\\xa6\\xe5:\\x8c\\xfao\\x07AOg\\x05\\x16U\\xa6\\xa3\\xc2\\x9a}\\xe2N\\x94\\x1cn{y*\\x0fA/uPuS\\xaf\\xf4\\xf8_\\xc1\\xcb\\xc4\\xbc\\xbf\\xe5\\x94\\xc5&\\x1f\\xe27=\\r\\xbd\"do\\xf3*\\x7f\\xdca\\xe8e\\xce\\xa6/\\xcd\\xe3\\xeaBpl\\xcf\\xeaO\\x16s\\xe6\\xec~\\xf8V\\x82\\xf1\\x17\\xf3$\\xcd\\x01\\x86<\\xa4\\x18\\xaa\\xa9L\\\\\\x91}\\xd6\\xb8\\xdf\\xf7A\\xdb\\x14\\xb7a\\x1a$\\xde\\xc8\\xa6\\xd8$>\\xc8\\x85p)\\xf4G\\xc2Rm\\xbe\\xa0\\x91apma\\xaf\\x95\\xc9\\xd0\\x19i\\xf1\\xd5\\x08\\xb8\\x1a\\x0b\\xea\\x05\\xc5\\x80\\xb9\\xb1\\xf2\\xf42\\x87\\xae\\x8a\\xf2^\\xbf\\x0f\\x93\\xdd\\xe0\\xb20)\\xca\\x15\\xc3\\xa0\\xe1y\\x8f_\\x1e\\xc35\\x89\\xcc\\xbe\\xc96?\\x01\\xf8\\xd2O\\x80\\xe9\"5\\x83\\x01}\\xc7Kk\\xe0w\\x19\\\\u\\xaa\\\\\\x97=\\x17O\\x185l\\xbc\\x17\\xef\\x8eRxi\\'\\xa7P0\\xba\\x90G\\x85\\xa24\\xcc\\xbb\\xa92\\xae\\x96\\x88\\x18\\x9f\\xa5\\x18W\\xceY\\xea\\xe1\\xea\\xe1\\xd4\\x90\\xfa[9\\x8a\\xeb\\x93iP?\\xe6a\\xb1\\t\\xfb\\x0fF\\xa7\\xf1\\x9b\\x96\\x99]\"L\\xb8\\x9c\\rO\\xfa\\xd5)\\x9f\\xfe\\xda\\x15\\x00\\x1f\\x15Y\\xadi\\xce\\xd5\\xef4\\xfe\\r\\xb4\\xed\\x0c\\x06\" &\\x112\\x96\\x86:6\\x10c\\x00\\xc7,m\\xe1\\x06\\x00:\\x18\\x040\\x01\\xc2\\x06\\x84D\\xd0\\x18\\t\\x85cm\\n\\x98\\x00\\xf1\\x1d\\x1a!0\\x00E\\x01\\x8a\\x005(\\xa8\\xdc\\x04\\x90\\x81\\xca5L\"n3`p1\\xe2G\\x1c\\x0c\\x00\\x95b\\xabL:\\x95m\\xcc\\x08>\\xf8\\x10\\xc7\\xa9\\x88g\\x07^\\x91\\xa6\\xec\\x87z\\x92?\\x81\\x80\\x19\\xb3\\xd2\\xec-\\x99j\\x81\\xa1\\xec\\xb7\\x98\\xdc~\\x13\\x05Z`\\x9cze\\x82\\xe4\\xf2\\x8bJd\\xeaejr\\xc02(d\\xab3vj\\xe5\\xdb\\x14\\xff\\x00\\xea`\\xea\\xaf\\xec\\xba5\\xbeSM\\'?\\xb5\\xeb\\xbd-\\xa1\\x82\\xaa\\x9b\\xcf_O\\x9fz\\x99#\\xd2h\\xd3\\x7f\\x91\"\\x16\\xbcA\\xb3\\xd2\\xc5(\\x99\\x00\\xd4\\xe9\\xe7\\xa4\\xe6\\xc6\\xd5\\xc4\\x9fk\\xe5i\\rJ\\xf5\\x1bV7\\xf3\\xd7\\xd6u\\xdd3\\xf2\\x8ej\\xbe\\x0f\\x94\\xce\\x96\\xbdjh.\\xec\\x00\\xe1\\xc6\\xfe@L|wH\\xd1tE\\xb9\\xe0[O\\x96\\xf9\\x9a\\xe4\\x91bG\\xc6\\xc7\\xe4ci\\xe1\\xe9\\x96\\x07(\\'\\x96n~\\x12\\xa9Wb-\\x8d\\x95=\\xb2W\\xc5\\xed\\x9a\\xf5\\x01%\\xac7\\xdbp\\xb7\\x97\\xf1\\x98\\xa4\\xd4w\\x02\\xd7\\'\\\\\\xb7*J\\x83k\\xde\\xda-\\xef4\\xb6\\xae\\x19\\xf4*\\x82\\xc7r\\xdf5\\xd8\\x9b-\\xf4\\x00ir\\x07!\\xe2%,\\x16\\xcf*\\xe7;jsS\\xec\\x8c\\xd9B\\xd8\\x10\\xbcw\\\\|g6wJM\\xa4t!V9*\\xbe\\xd4\\xa8\\x80\"\\xd3T\\xcam\\x95E\\xc9><\\xef\\xf8\\xe7\\x1d\\xd1\\xee\\x90\\xd6z\\x86\\x83[-C\\xad\\xbb\"\\x99\\xb97A\\xc2\\xc0k\\xe3\\xceT\\xc6\\x9a\\xa1\\xde\\x9d5\\xbb\\xb0*\\xde\\xd6D\\x17\\xd4o\\xef\\x0b\\xfai \\xd8\\x95\\x9e\\x8dB(\\xab3\\x11c\\x94\\x02\\t\\xbe\\xa0\\x86\\xf6G\\x81\\x1er\\x10\\x8e\\x13\\xf2=\\xfa\\xb7\\xe0\\xe8\\xf1\\x9b\\x07\\x13\\x90\\xf5}\\xb2Z\\xf9U\\xac\\xc3\\x7fj\\xe7\\x7f\\xdd\\xae\\xf9\"\\xe11]U5\\x08s\\x01\\xab2\\x90\\xd7\\xd3\\xbcM\\xb7\\xf3\\xf1\\xe1\\xac\\xdb\\xc2P\\xa9\\\\\\x12\\xe3+\\xa6\\x89\\xad\\xb2\\xf6U\\x82\\xe6]\\xe0\\xeb}d\\xd8qP\\x0b\\x9b\\x91\\xa5\\xc5\\xc1\\x04n\\xdcw\\x11\\xe6u\\x8b9\\'\\x8d\\xca\\x98l\\x15e\\xa4\\xa4\\xb2\\xe7\\xb5\\xcf\\x14\\xd6\\xfb\\xfe\\x03_80\\xad]u\\x15E\\x8d\\xcd\\x85\\x9d{;\\xc6\\xbb\\x86\\xef\\xba^\\xc7\\x1e\\xc96b\\xac\\x08!E\\xf7}Q\\xa8:\\x99\\xc4bv\\xa5J\\x0e\\xd4\\xd1\\t\\x0c5\\xcc\\xcb\\xa9\\xd0\\x1b\\x85$\\x8e<\\x8e\\xe9}u\\xcao\\xe9+\\x9c\\xe3\\x15\\xf53\\xaf\\xc3\\xed\\xacVp*QL\\x87s\\xa9\"\\xfe\"\\xe7Q\\xe54\\x1bj\\x1b]TX\\xee\\xd6\\xf3\\x89\\xd9\\xfbJ\\xb8EE\\xa5\\xd8\\xb1\\xd1\\x9c\\xdcn\\xcb\\xec\\x8d@\\xe5\\xcf\\xc2n\\xe0\\rB\\x0bT`.\\x06T\\x06\\xe14\\x1ct$\\xde\\xf7\\x9bk\\xae\\xc4\\xfe\\xb4d\\xb2u\\xb5\\xf4H\\x83\\xa5X\\xe6e\\xa0\\xc4\\x01\\xd5\\xe2\\xf0\\xcf\\xa0?\\xe6\\x85<y1\\x9d\\x19\\x13\\x95\\xe9\\x90\\x07\\x07[)\\xed*fS\\xc8\\xa1\\x0c\\x0f\\xcauy\\xc3v\\x86\\xe3\\xa8\\xf2:\\xcau\\xb1\\xc7K\\'\\xa7yLm\\xa1\\x84\\x88\\x84\\xc0h\\x000\\xc0`\\x80\\x0f1\\x08/\\x08\\x80\\x0e\\x02:\\x01\\t\\x8c\\x02\\xa6\"co\\x0c\\x06\\x11\\x15\\xa2\\x11\\x08\\x00V8\\x98\\x04\\x06\\x00(\\xa0&(\\x00/\\x1c\\xa65bS7\\x19\\x87\\xde;4\\x88\\x18\\xf3\\x00%C$\\x06D\\xb1\\xeab\\x19\\x16\\xd4\\xc2\\xf5\\xb4Y8\\xda\\xe3\\xed\\rD\\xe0\\xd7\\x91\\x9e\\x8c\\x93\\x8a\\xe9\\x0e\\x13\\xab\\xaem\\xdd~\\xd0\\xf3\\xe2>>\\xb3>\\xa2;d\\x9c\\x1fb\\xbd)eL\\xabL\\xcb\\x08\\xd32,,S3\\x99\\xe9\\xd3\\x15\\xfc\\xd2\\xa0\\xf61\\n?le\\xfb\\xe7F\\x86s\\xbf\\x94\\x05\\xff\\x00\\x95\\r\\xf4+Ro\\x83\\x89~\\x9d\\xe2\\xc8\\xbf\\x92\\x16,\\xc1\\xaf\\x825\\xda\\x0f\\xceL1\\xcc}\\xbby\\x02f\\x10\\xc4\\x1eq\\xe2\\xb7\\xe3\\xf0g\\xb1\\xe8G\\x8e\\xc4\\xfc\\x9bMY\\xbe\\x99\\x90W\\xadS\\xb2\\xca\\xfa\\xa3\\x06\\x17\\xb9\\x04\\xd8\\x8b\\x1dF\\x9a\\xf3\\x99\\xddw\\x94\\r[\\xc6\\'Td\\xb0\\xf8\\x08Jq\\x92\\x94^\\xe8\\x93i\\xf4\\x8fh\\x13vjf\\xcc\\x1a\\xe1\\x007\\x0b\\x97\\x7f\\x94\\xa5\\xfd\\xae\\xc4\\x82\\xe6\\xd4\\xe9\\x97*\\xc4\\xaa\\x9d\\xea,\\r\\xae~\\x167\\xf7F\\xe2\\x083+\\x11nS\\x1d\\xbf\\x87\\xd3\\x8f\\xa5`\\xec\\xd1\\xae\\xb9\\xfeg\\x92\\xce\\n\\xadj\\xcf\\x92\\x91ff\\xd4\\xeba\\xae\\xf2\\xdeZN\\xcf\\xa3\\xfb)\\xa8\\xadA\\xde\\xd4\\x07\\x16*s.\\xbd\\x96\\x07P/\\xc7\\xe5y\\xcbl\\xbc.Q\\xddV$f\\xb0`\\tR-\\xc3x\\xb9\\x1b\\xb4\\xd0\\xf1\\x97\\xd3k\\xe2(\\x8c\\xb4\\xcd\\xda\\xae\\xebY\\x89erU\\x8e\\xf1\\xc6\\xc4r\\xd2p\\xed\\x8f\\xd4\\xe3\\x1e\\x0e\\xcdol\\xbeOL\\xc39%,@\\xaa7\\x96\\xd0\\xb87\\xd0\\x8d~\\x8b\\x0f\\x0by\\xdd\\xb5\\xe9-#\\x9c\\xd8f\\x0fpH\\x0309\\xb4\\xd3[\\xdc\\xff\\x009\\x97\\x8aZ\\xfdE\\x1cA|\\xf5\\x10\\n\\x95QB\\x8f`\\x9e\\xc8\\xb6\\xf0\\t\\x1e \\xb7;L|oL\\x0b\\x06[*\\xe9r\\x1d\\x97[\\xdb\\xba5,lw\\x8eS:\\x83\\x93\\xc2,\\xea\\xc1\\xb7\\x89\\xc5\\xe7P\\xf4\\xcb)\\xb2\\x97L\\xa3($\\xb0\\x03\\xbaF`Tn<D\\xcb\\xad\\x92\\xa5RY\\x93\\xac\\x03\\xb4\\x07e\\x98\\xd8\\x1b\\xb0:\\xe6 \\x83\\xae\\xfe\\x13\\x03\\x07\\xb6\\x1a\\x9d\\xc2d$\\xee{1\"\\xe6\\xe1T8\\xf7\\x96\"\\xf7;\\xe4[^\\x93\\xe2]kT~\\xd8\\xd30\\xb5\\xf2\\xdc\\xe9\\xa7\\x99\\x9d}6\\x9e\\xc8G)\\x1c\\xcdM\\xf5JX\\x93\\xd8\\xeaE\\xb8\\xde%\\xac=\\xde\\xe9\\x92\\xb8\\xde\\x04\\x9f|?\\x9d{\\xa6\\xefM\\x9c\\xefQv/\\xedWV\\xa3Q>\\x92:\\xfcT\\x89\\xd0\\xf4~\\xb1|.\\x1d\\xce\\xf6\\xa1H\\x9f>\\xado\\xf3\\xbc\\xe3\\xaa\\xe2\\x05\\xa7K\\xd0\\x8a\\x97\\xc0\\xd1\\xfa\\xa1\\xd3\\xf6*\\xba\\x8f\\x90\\x13\\x9d\\xf8\\x8c1\\x04\\xfeN\\x8e\\x82}]H\\xdd\\x80\\xc3xH\\x9cs\\xa2F`\\xb4&\\x08\\x00D}\\xa3\\x01\\x92\\x88\\x00\\x01\\x86\\xf1\\xb1^\\x00\\x1b\\xc7\\x08\\xc8A\\x80\\x0f\\xbc1\\x97\\x84\\x18\\x0ctF\\x08\\t\\x80\\x00\\x98`\\x8a\\x00!\\r\\xa0<\\xe1\\xb4\\xdef\\n\\xc7,\\x0b\\x0f\\x18\\x00\\xe5\\x92\\x08\\xd1\\x1c\\xb0\\x18\\xf53/\\xa58L\\xf4s\\x8d\\xf4\\xcd\\xfd\\xdcf\\xa2\\xc9\\x19A\\x04\\x1dA\\x16>FFK+\\x03G\\x9eS2\\xca\\x19\\x16*\\x81\\xa7Q\\x90\\xfb$\\x81\\xe5\\xc3\\xe5\\n4\\xe7\\xf0\\\\[I\\x8d\\xd3\\x8aY\\xb05\\xfc\\x177\\xec\\x90f\\xbd#+t\\x86\\x96|-u\\xe7I\\xed\\xe7\\x94\\xdaN\\x1f\\x99\\x01\\xe7\\x94k\\x92\\x07\\x8c\\x9djx\\xfc\\xef1\\xf0\\xb5n\\x8b\\xf6G\\xa4\\xb4\\xb5O\\x97\\xe3\\xdd=\\xac%\\x95\\x93\\xcd\\xce\\x9d\\xcd c\\rILW\\xfa\\xd1\\xadS\\xf1\\xbeK\\xa8\\xadTIV\\xb4\\xae\\x95\\xb2\\x9b\\xdb\\xe1\\xa1\\xf7\\x1e\\x1272&2\\x8bq%\\x86k\\xaa=/(\\x9a\\xa6\\xd4\\xaa=\\xa6\\xe2/\\x9bx\\xdd\\xa9\\xb6\\xa6\\xc0\\\\\\xf1\\xb0\\x96\\xf6\\x1e&\\xa5:\\x8b_\\'X\\xca\\xe9P\\xe6\\xd6\\xe1Hck\\x91\\x99\\x88\\x06f\\x108\\xcd<.\\xd5\\xa9\\x90R\\xa5Mo\\x99[5\\x85\\xfb7\\xd0\\xe8\\x00\\xdf\\xbf\\xcar\\xef\\xd3\\xa8\\xaf\\xa4\\xe9UoW\\xe6;\\xccwL\\xe98\\xca\\xa9\\x9dX5\\x99\\r\\xb2\\x90n\\xact7\\xbe\\xa6\\xd6\\xd2\\xdf\\x0e7\\x1d\\xb3h\\xf5\\xa3\\xf3Rr\\x91|\\xb5\\x08V\\x06\\xf6 \\x16=\\xa1\\xbbS\\xaf\\x9cX\\xcd\\xac\\x8b\\xd8\\xfc\\xce\\x9d7P/\\xda$^\\xc0\\x8e\\xcb_M\\xc7B.\\t\\x17\\xd6@\\x9d\"\\xc5\\x84(\\xb5\\x8a+\\x10\\xc4S\\x0bKP,5@\\x08\\x16\\x1b\\x86\\x92\\x8at\\xf3\\x8b\\xca,\\x9d\\x91h\\x9f\\x13C\\xaakf\\r\\xa07\\x04\\x11\\xae\\xf1plln=\\xd2D\\xc4\\x1ev\\x99\\x02\\xa1&\\xe4\\x92y\\x9dO\\xc6XJ\\xb3\\xaf\\t4\\xb79v\\xd2\\x9b\\xca5W\\x11h\\x86\\'\\xcef\\xf5\\x91\\xc2\\xa4\\xb3\\xa9\\x14\\xad;4M\\x7f\\xc6\\xe9\\xd9~O\\xeb_\\x0c\\xeb\\xf41\\x15\\x14y\\x10\\x8f\\xea\\xe6y\\xf2\\x9f\\xc1\\x9d\\x97\\xe4\\xee\\xbfg\\x10\\x9c\\x9e\\x9b~\\xda\\xb0\\xff\\x00ns\\xff\\x00\\x12\\xde\\x9f\\xdc\\xdf\\xa2\\x87L\\x99\\xda\\xde\\x10es]F\\xf2\\x07\\x99\\x11\\xf4\\xea\\xa9\\xdcA\\xf27\\x9e{(\\xe9\\xe1\\x93\\x18\\xc8\\xeb\\xc6\\x13\\x18\\x82c\\xc3F^_\\xd8\\xf4\\xb0\\xeeJ\\xd4q\\x9ck\\x92\\xf69~\\x972#\\x8a\\xcb\\xc2\\x02\\x96h\\xaf4\\xb6\\x96\\x1e\\x82\\r.=\\xf7\\x98\\xa9T\\xde\\xd6\\'\\xc4}\\xf1\\xb84\\x05\\x98\\x01\\x8d&\\x00\\xd2\\x03$\\xbc7\\x91\\xe6\\x86\\xf0\\x02P`1\\x80\\xc3x\\xc0W\\x8a1\\x8c\\x11\\x01`B \\xbcx\\x9d\\x030\\x92;\\x84\\x00\\xc2\\x0c\\x00r\\xc3x\\xc8A\\x88d\\xaad\\x8a\\xd2\\xb0\\xaa#\\x7f8\\x8cY1:W\\x85\\xb3\\xadA\\xc4X\\xf9\\x8d\\xd3\\x11L\\xec1\\x0e\\x8e\\xa5\\x18hf\\x06#f\\x11\\xaa\\xd8\\xcc\\xb6\\xd2\\xf3\\xd4\\x89\\xc6k\\x86EJ?\\x10\\x99\\x91\\xc75a\\xf1\\x06\\x04\\xa4\\xc3x0\\xd4\\xa8\\x17y\\x03\\xcc\\x81\\xeb)[2\\xdeO\\x19\\xc21\\x08\\xa2\\xfb\\x85\\xbe\\x06\\xdc5\\x93\\x07\\x8b\\x0f\\x85/\\\\\\xd1\\x04\\x0b\\xd5t\\x04\\xee\\x1d\\xa3i\\xd7\\xb7\\xe4\\xf6\\xa2\\xfe\\x93\\x12\\x9d\\xc0\\xeb\\x95I\\x0c\\x08f\\xdf\\xb9tC\\xa9\\xd2\\xf6\\x13\\xd5WjPM\\x9c{\\x12V8\\xf7\\xe4\\xe4:\\xd3\\x17XO\\x19\\xdbP\\xe8\\x15,\\xd9N!\\xbb\\x99\\xb4\\n\\xbb\\x8a\\x83\\xa9\\xbe\\x9d\\xa1\\xaf\\x81\\xddh\\xe5\\xe8\\x8e\\x00\\n,\\xd8\\x82\\xc1\\xff\\x00H\\t\\xb1\\xa6H\\x07[\\r\\xda\\x9d|>\\x16z\\x9b\\xe0\\xa2VB+\\'\\t\\x1aL\\xf4!\\xb26-5R\\xd5U\\x9f;\\x07Vw\\xcaT\\x06\\nt\\xee\\x82B\\x9e&\\xc6V|^\\xc5C\\xa2S`*\\x83\\xf4\\x89\\xa7}E\\xc9\\xe4M\\xbc\\x85\\xe52\\xbb\\x0f\\x18e\\xf0yY_\\x7f\\xc6N\\x174\\xbb\\xb2v\\x85j\\x0f\\x9e\\x88R\\xdb\\xbbT\\xd6\\xa0#\\x95\\x98\\x1f\\x94\\xec\\xd7\\xa4\\x9b1V\\xa2\\xd2\\xc3\\x82MDzdS\\xbeUR\\xa5\\x90\\x9c\\xbb\\x8d\\x8e\\x9fZX\\xc5\\xf4\\xce\\x93\\n\\xcbG\\x02\\xe0U\\xcbn\\xc8\\xeceP/b\\x00\\xe1p8\\x12w\\xca\\xe55-\\x9f\\xfb_\\x1f\\x7f\\xb1d\\\\\\x97\\t\\xff\\x00\\x0f\\xe7\\xe3\\xef\\'\\x07V\\x95z\\xac]\\xa9\\xb1\\'y\\x14\\xf2\\x8d\\x05\\xb7(\\x00h$\\xe3b\\xe2\\x81\\xb1\\xa2\\xe0\\xda\\xf6a\\x94\\xe5\\xe7\\xad\\xb4\\xf1\\x9d\\x0e\\xd3\\xda8\\x8cC\\x8a\\xa7\\x0c\\xc0\\x8c\\xb7\\xfd\\x1a\\x8e\\xce\\xedX\\x12\\xba\\xf2\"\\xfb\\xb8M\\n\\xdd \\xc7\\xd4%\\x9a\\x8d\\x10YBv\\x98\\x9d.O\\x0ed\\x92xn\\x91vEq\\xf7\\xfd\\x165f\\xf8_\\xd7\\xeb\\xf3\\xfa\\x18\\x14\\xba\\'\\x8d7\\xbd,\\xb9W9\\xcc\\xca,\\x9a\\x9c\\xdb\\xfe\\xa9\\xf8K4\\xfa\\'\\x88\\xd33S[\\x80E\\xd8\\x92C^\\xc6\\xc0x\\x19z\\x8e7\\x1a\\x97\\xcbV\\x85<\\xca\\x11\\xb2\\x867Q\\xce\\xfe\\xb2\\xb1\\xabPw\\xb1\\xca\\xbb\\xbb\\xaa\\xbc7o&\\x0e\\xe5\\xbe\\x1f\\xe8(\\xd7ck)|\\xff\\x00\\xc1\\xf8>\\x88\\xd4u\\x0e*\\xad\\x8b\\xaan\\xb9\\x05\\x8d\\x85\\xc5\\xf7J\\xad\\xb2\\x02\\xd5jL^\\xea5!@\\x17\\x16\\xd2\\xfe\\xf8\\xfe\\xba\\x88\\xefcj\\x9f\\xb1a\\xfb\\xab#lV\\x07\\x8dJ\\xf5<\\xdd\\xff\\x00\\x94\\x87\\xb8\\xc3\\xe7bj\\x998\\xe1\\xf2o\\xe2\\xfa+\\x83\\xa7\\xd6\\xff\\x00\\xcc3e\\xa6\\x1e\\x9d\\xca\\x8c\\xccK\\x02\\xa4s\\xb8\\x07N\\r2z\\x1c\\xf7j\\xab{]\\x11\\xb4\\xfa\\xacW\\xfd\\xc9C\\xf3\\xdc \\xee\\xe1\\t\\xe4]\\xd8\\xfa\\xdek\\xec\\x1cj\\x96b0\\xe9L\\x15\\xcbu\\xdf\\xdeV\\xdfmGff\\xd4\\xdb\\xd7L\\xa2i\\xd3\\xc3\\xa2i\\xb3s \\x07\\x89\\xf7\\xcb4\\xb1\\n\\xbc>\\xf9\\t`F\\x8do\\x94\\x87*\\xfd2|\\xbf\\xa4\\xf3O)\\xeev\\xd6\\x1a70\\xfbF\\xfa\\x1e\\xd7\\xb8\\x0b{\\xe5\\xb3r.\\xba\\x8f\\x98\\x9c\\xbee\\x1b\\xb3\\x19s\\x0b\\xb4\\n\\xfb\\'\\xe7,\\x8d\\xad\\x15N\\x85#ej^s\\xfd(\\xa4z\\xcao\\xa8\\xd0\\x8b\\xee\\x9dV\\xcd\\xdb<\\x18|le\\x0e\\x9b\\xe2\\x95\\xe9\\xd2\\xb2\\x9d\\x1f}\\xb4\\xd4\\x1d/7i\\xe5\\x19I4\\xce}\\xd5\\xca+r\\xafG\\xd9\\x98\\x8c\\xc4\\x9f3\\x7fY\\xd3m\\x17\\xcbL(\\xd0\\x9eC\\x84\\xc5\\xe8\\xc6\\x1f\\x8c\\xe9\\xeaa\\x9d\\x8fu2\\xf3k\\x92<\\x84\\xdbg\\x1b\\x19\\xe0`\\x922\\xdf\\x886?\\x0b\\x83\\x18Zo\\xa6\\xc8\\xa4\\x05\\x88$\\xde\\xe4\\xde\\xd7&CWb!\\xee\\xb1\\x1ez\\xcc\\x92\\xad\\x97\\xa6c\\x06\\x8e\\r-\\xd5\\xd8\\xf5F\\xeb7\\xcaS\\xabI\\x97\\xbc\\xa4y\\xca\\xdcZ\\xe4c\\xc3C\\x9aC\\x9a\\x1c\\xd2 9\\x9a)\\x134P\\x02\\xf81\\xc2x\\xcdN\\x92c\\xdb~&\\xa7\\xea\\x90\\x9f\\xb8\\x04\\xa9S\\x1dY\\xbb\\xf5j\\xb7\\xdavoS5;\\xd7\\x81\\xad,\\xbb\\xb3\\xdb\\xaa\\xd7E\\xef\\xb2\\xaf\\xda`=e\\x1a\\xdd \\xc1\\xaf{\\x13J\\xfc\\x83\\xa9?\\x00g\\x8d*/(\\xf1 \\xf5\\x0f\\xc1b\\xd1\\xae\\xec\\xf5Z\\xdd4\\xc0\\xaf\\xf8\\xb7\\xfb(\\xe7\\xe7kL\\xfa\\xfd=\\xc3{+U\\xbc\\x95G\\xab}\\xd3\\xcf,\"[H\\xfb\\x89\\x12\\xf6\\x90\\xf2\\xce\\xd6\\xbfO\\xc7\\xb1\\x87\\'\\xedT\\x0b\\xf2\\ne*\\xdd=\\xc4\\x1e\\xe5*c\\xcf3z\\x119\\x83h\\xb2\\xc8\\xfa\\xf3\\xf2K\\xda\\xd7\\xe0\\xda\\xad\\xd3<i\\xdc\\xc8\\xbfe\\x07\\xfa\\xaf)U\\xe9&5\\xb7\\xd7\\x7f\\xd5\\xb2\\xfe\\xe8\\x12\\xa8\\xa69\\x13\\x1ap\\xfe\\x16\\x8b\\xd5o\\x96?n\\x97\\t\\n\\xa6\\xd0\\xac\\xdd\\xfa\\xb5\\x1b\\xed;\\x1fS!\\r\\'\\xfc\\xd8s\\x95\\xeaY`\\x9a`\\xe2\\xe2T\\xc6\\xa1J\\xec\\xebP)\\xcc\\x1ch\\r\\x8b\\x00\\xd7\\xf9\\xc9_kV=\\xec]C\\xa5\\xb4\\xb0\\xd3\\x96\\x83t\\xa5R\\xba;\\x95\\xdcG\\xce?\\xf3u\\x9d\\x18]>\\x9d\\x99\\xcf\\x9d5\\xb9e\\xa4\\xff\\x00bC]Oz\\xadf\\xf3v\\x8d/@\\xefFo2O\\xa9\\x89n\\xa3\\xb0\\x16\\xfa\\x91\\x98\\\\\\\\\\x8bX\\x9d\\xe7\\xc3]\\x0c\\xcf\\xadU\\xb2\\x8b\\x1a\\xc0\\x11\\xd9-\\x98]\\xc5\\x85E\\x166e\\x07\\x8e\\x84^\\xc4F\\xe7\\'\\xcb\\x1a\\x84W\\x08\\xd6WA\\xbb\\x0e=\\xeb\\xfc\\xa3\\xff\\x00\\xe2\\x05}\\x8ak\\xe6U}m1\\xa9SFk\\xd8Z\\xe5\\xc0\\xa9\\x98\\x8b \\xbbSfQ~\\x02\\xc4\\x0e:\\x91\\x1e\\x9d_|\\x00\\xb6R\\xca\\x8d\\xda\\x0c\\x0f`\\xab\\x15\\xb1\\x1a\\xdf\\xb5~V\\xb6\\x92=L\\x96\\x11\\xad\\xff\\x00\\x19\\x7f\\xa7Ly\\x1c\\xde\\x84\\xc5On\\xd5S\\xd9\\xaeA:v\\x15\\x81>\\x03\\xb2<8\\xcc\\x9a\\xef\\x975\\xd6\\xd9\\x91l\\xa5M\\x8d\\'\\x19\\x81\\xed\\x1b\\x8bY,\\xc0\\x1ew\\xddw2\\x91zD\\xda\\xf5\\x02\\xd49\\x83\\'\\x00\\x8f\\xe0uc\\x9b1\\xe5a\\xad\\xcc\\xb0\\xc24+m\\xda\\x8d\\xde\\xad]\\xaf~#P7\\xda\\xf5$5\\xb1\\xe4Z\\xe2\\xa1\\xb8\\xcc3T\\xb5\\xd7\\x98\\x19Z\\xff\\x00\\xc8\\xcaJ\\xc7\\xb2\\x0bd\\x17$\\xde\\xe1z\\xc0\\tW\\xca\\x01\\xb1# \\xb8\\x1b\\xb9jaJf\\xcc\\xd6*\\x00]\\xc2\\xea\\xafp\\xa1j\\x12l\\x81\\xac\\xfb\\xce\\xbc\\xb9,\\x81e\\xb1\\x1664\\xc0=\\x9dK\\x16\\x16`\\n\\x92@]\\r\\xf7\\xc01M\\xc4S]\\xe0\\x92\\t\\x17\\x1e9\\xd8\\x10t\\xb3\\x0b\\x83q Zf\\xd9\\xc0\\xde\\xfd\\x9bh\\x03\\x10Y\\x92\\xc2\\xd6\\xde7\\x0bG\"\\xd8(S\\xde\\x0c\\x0eR\\xa4\\xb2\\\\hTj\\x87Bl\\xc4\\xdfM9\\x80Hq5-}\\x00\\xb8\\x1d\\xca`_^\\xc9l\\x86\\xcd\\xa16\\xbcq\\xafWO\\xef\\x1f{\\r\\x19\\xc0\\xd2\\xde\\xca\\x91b9\\x11\\xbbY\\x15jam\\x9e\\xea\\n-\\x8d\\xb2\\xe6Q\\xd9\\xcc\\xa1\\x8e\\xa4\\x11k\\x0b\\x03\\x97\\x84\\xb3G\\x0c\\xccse$f \\xb2\\x1b\\xe5\\xdfv`\\x01\\n7\\x12\\r\\xaf\\xc0\\x81\\xa8\\x00\\x8d\\x19\\xf3\\x06vg\\xb0\\x07F;\\x8d\\x80!\\x9a\\xf6\\xd6\\xdc?\\x8c\\xea\\xf6\\x0e9M\\x91\\xc8\\x0cmc\\xc0\\x93\\xc0\\xf2o\\x0f\\xe99\\xcaxV\\x03GK\\xdf)UbM\\xce\\x99wk{\\x1d<\\xe5\\xfc\\x06\\x12\\xf6$\\x1b\\x01{*3f\\xb6\\xf5!lo\\xbcx\\xc8Hgh4\\x96i\\xe5>|\\x8e\\xb3\\'gT\\xa9\\xa22\\xb9[w\\xd9r\\x91\\xe0A7<\\xaf\\xbfN;\\xe5\\xfc\\xa6g\\xb6\\x955\\xf2[U\\xae\\x0f\\xe0\\xb9\\x90\\xf0\\xd2\\x1c\\x87\\x8cm\\x1a\\xc4\\xe8\\xc7\\xdf&\\xcc9\\xfc?\\x94\\xe6N\\xb9A\\xe1\\x9d\\x18MMe\\x01\\x18\\xaf\\xf4\\x9a8\\\\x\\xb5\\x99n\\x0e\\x84\\x10,G\\x88\\x99\\x8c\\xc3\\x85\\xe3nx\\t\\x04\\xda$\\xd2gc\\xb2\\xb14\\x10X%\\xbc\\xbf\\x85\\xe6\\xadm\\xa7H\\x0b\\x96\\xf2\\x00\\\\\\x9f \\'\\x03\\x87\\xc40\\x9a\\xb8]\\xa5n^\\xbe\\x93mZ\\xb7\\xc4\\xb72Y\\xa5\\\\\\xc4\\xe9\\xaam:@\\\\\\x93\\xe5m~\\x12j\\x18\\xa4}T\\xcc\\xac-z\\x0f\\xde]y\\xcbH\\xb4\\xcd\\xc2\\x01k\\xd8\\x99\\xa7\\xd6E\\x0e\\xa3F\\x06\\x00\\xef\\x17\\x99-\\xd7^\\xc1\\xac\\xb7\\xdf\\xfdw\\xcb+Z\\xa0\\xd4\\x00\\xeb\\xf0?\\xc0\\xc9\\xab\"\\xc884\\x0cN\\xc9\\xa6\\xdb\\xbb\\'\\xc3w\\xc2cc6}Jz\\x91q\\xcc}\\xfc\\xa6\\xa7\\xfc\\x7f\\x0e\\x1b+\\xb7V~\\xb8\\xca=\\xc7t\\xd3\\x04\\x11\\xcc\\x18J\\xb8\\xc8\\x8epq\\x05\\xe2\\x9b\\x9bWb_\\xb7GC\\xc5x\\x1f\\x11\\xca)C\\x84\\x93\\x1eO;\\xa9\\xd0*v\\xec\\xe2\\x1c\\x1f\\xac\\x80\\x8f\\x91\\x12\\xadN\\x81\\xd7\\xf6+So0\\xcb\\xe9y\\xdcS\\xa6N\\xf9r\\x95)w\\xa7\\x12j\\xd9\\x1ea_\\xa1\\x98\\xe5\\xddM_\\xec:\\xfa5\\xa6F7\\x03^\\x8e\\x95\\xa9:}\\xa5*\\x0f\\x91\\xdcg\\xb8S\\xa5\\'\\xea\\x01\\x19X\\x02\\x0e\\xf0E\\xc1\\xf3\\x06\\'J\\xecM^\\xfb\\x9e\\x00\\x0cu\\xc4\\xf5>\\x90\\xfeO\\xa9T\\x05\\xf0\\x83\\xab\\xa9\\xbf\\xab\\xbd\\xa9\\xbf\\x80\\xfa\\x07\\xcbI\\xe6\\x95\\xa8\\x94b\\x8e\\xa5YI\\x0c\\xa6\\xf7\\x04o\\x06Q8\\xb8\\xf2j\\xaeJkb%\\xb7)(a\\x1dN\\x99:\\xaa\\xdf\\xc8\\x13\\x0eo/\\x84\\xad\\xb2\\xe4\\x84\\xd5\\x05\\xb4\\x81V\\xfcI\\xf7G\\x06\\x1c\\xfe\\x02\\x10O\\x8c\\x88\\xda\\x07T~\\x8f\\xc6T\\xc6\\xd36\\xe1\\xee\\x9a:\\x7fY[\\x12\\xa2\\xd1\\xa9\\nU\\xe5\\x1cmt!\\xae\\x0e\\xa0\\xdcM\\x8c\\x1dQQn7\\xee#\\x91\\x95\\xb1\\xd45\\x94\\xf0\\xf5\\x8d\\'\\xcc7\\x1d\\x18M\\xd5L\\xc1mx7E)[\\x1b\\x84\\x16$\\xd8+\\x10]\\xca\\xe6d\\xb7\\x14\\x00\\x8d\\xf6\\x00\\xcd*@0\\x0c5\\x06I\\xd5\\xcd\\x06c\\x95\\xa3H\\xa99\\x97+\\xa8\\xb8\\x04\\x1b\\xdfM2\\x9e\\x167\\xd7\\x84\\xbf_\\x05QE\\xc8\\x03N\\xca\\x07\\x0f\\xd5\\x82Hu=\\xa3\\x95Nb|\\xd8k{\\xcd\\xa1\\x87\\x1c\\x00\\xf8G\\n0\\x11\\x92\\xdb9\\x94\\x8c\\x99\\t,\\x0eQ\\xdbE\\xb9\\xd6\\x99\\x039\\xa8\\xb7\\x0b\\xc4\\xe8/\\xc6N\\xdb\\x19\\x95FK\\xf5\\x8389\\x81\\tc~\\xc8Z\\x8a-\\xa1#[\\xea\\xd7\\xb8\\xb4\\xd2\\x14\\xe5\\xba\\x1a\\xe8w\\xfa\\xc00s\\xf4v\\x15|\\xa4gT\\xec\\xe5\\xb0cv\\x04\\xf7Z\\xdb\\xc6\\x83C\\x1e\\xbd\\x1es\\xde\\xaa\\xbb\\x80\\xd0\\x1d\\xc3w\\t\\xd3\\nQ\\xebF<\\x0c\\xe7\\x93\\xa3\\x89{\\xb5W\\'\\xc8z\\x93-.\\xc0\\xc3\\xd8vX\\xf8\\xe6\\xdf\\xe2xM\\xb1HG\\x84\\x11\\x88\\xa3\\x85\\xc0\\xa2\\x0b&e\\x17\\xbe\\x8e\\xe3[\\x01~\\xc9\\x1c\\xa5\\x84\\xc1S\\xff\\x00-O\\x98\\xcd}\\xe7\\\\\\xd7\\xe6~2\\xda$\\x95R  \\x18>*\\x05\\xf8\\x8d\\xd7\\xf2\\xe4e\\xba\\x06>\\x98\\x925+\\xea7\\xfc\\x8f\\x9f\\xf1\\x95\\xc8a\\x10\\x91\\x18\\xa7\\xf9\\x8eQ\\xf2\\x00\\x0bI)=\\xb7\\xc4\\xb4X\\xeeR|\\x81\\x92\\xae\\n\\xa1\\xf6O\\xbe\\xc3\\xd6FU\\xa9\\xac2Q\\x93\\x8b\\xca\\x1ak}_\\x89\\x8d5\\xcf\\x0b{\\xa5\\xba[)\\xd8\\xeaUx\\xdd\\x8e\\x80q\\xdd2\\x7f;\\xe5y\\xcd\\xb6\\x87[:U[\\xd6\\x89\\x9c\\xb9\\xe7\\x1a\\x0b\\x8e_\\x1b\\xc6S\\xaa\\xc7\\x84\\x94\\xb9\\xe2\\x07\\xac\\xab\\x82\\xd2\\xde\\x1b\\x14F\\xf2\\x04\\xdb\\xc1m!\\xbb5\\xfd\\xf6\\xf9\\xce[\\xa8f\\xe4=\\xc2Y\\xc3\\xe1\\x82\\xeaI2Jx \\xe0\\x99\\xdc\\xae\\xd1@\\x05\\xae\\xc7\\xd3\\xcc\\xc6b\\xb1L\\xc3\\xc3\\x94\\xe7(bTxM\\xac\\x06\\xd5U\\xde\\xaaO\\x02w\\x8f\\xbai\\xaa\\xd4\\xf6fy\\xd6\\xd6\\xe8Cg=_b\\xe3\\xeb\\x01o\\x9c\\xdf\\xa4\\x95\\x00\\xfe\\xf1\\x81>\\x02\\xd1\\xf4\\xeb\\xab(*\\xc1\\x871\\xcf\\xcb\\x84\\x0cf\\xe8\\xc5.\\x0cr\\x93|\\x84\\x18\\xa1\\xa6\\x84\\xee\\x82L\\x89\\xcf\\xd2\\xa3-S\\xa5\\x1e\\x94\\xa5\\x84I\\x11\\x8cJruYS\\x17\\xb4)\\xd2\\x1d\\xa3\\xaf!\\xbea\\xe2\\xf6\\xbb\\xd4\\xd00E\\xf3\\xd6\\x00nb\\xf6\\xa5:z^\\xe7\\x90\\xfb\\xe73\\x8c\\xd9\\x94\\xb18\\x83\\x88zc1\\n5\\xb1\\x1d\\x9e6\\xe2|O!\\x1a\\x98\\xec:w\\xaa\\xd3\\xbf\\x9e\\xb2U\\xe9\\x16\\x14n\\x0e\\xc7\\xea\\xa1oH\\x9a\\xcf#M\\xae\\rl5\\x00\\xa0\\x05\\x1a|\\xbd\\xd1\\xf8\\xad\\x99B\\xa8\\xfe\\xf6\\x92?\\xdaQ\\x7fq\\xde&}=\\xbe\\xac.\\x94\\x9f\\xf5\\x86S\\xa7\\x81\\x8f}\\xa5\\x88 \\xf5TAn\\x19\\xafo\\x88\\x8f\\x00\\x9b\\\\\\x19\\x1bK\\xa0\\x14\\x1b\\\\=F\\xa4~\\x89\\xed\\xaf\\xcf\\xb4>&r\\xbbK\\xa2X\\xda7%:\\xc5\\x1e\\xd53\\x9b\\xff\\x00\\xcf{\\xe5=J\\x81\\xa9\\xa7XT\\x9bke\\xb7\\x13kv\\x8f\\x0bI\\xaf\\xcaU*b\\xf8/\\x8e\\xa6q\\xe7s\\xc35\\xdcxH\\xaa\\xdb\\x9c\\xf6\\xdd\\xa1\\xb0p\\xd8\\xaf\\xd3QV?LvX~\\xb0\\xd6x\\xde\\xdd\\xc0\\xb6\\x1e\\xbdJ$\\x10Q\\xc8\\x17\\xdeWz\\x9fx\\xb1\\xf7\\xcc\\xd3\\xa9\\xc4\\xdbM\\xf1\\x99\\x8b\\x89\\xa6\\x0f32q\\x14\\xbc&\\xcb\\xdeS\\xc4Q\\xbc\\x95o\\x01tS[\\x10l<wV\\xdd[\\xf7N\\xe3\\xcau\\x19\\'\\x17\\x89\\xa1\\xf1\\x1b\\xa6\\xd6\\xc5\\xdb+\\x93-M\\xeb\\xa7\\xbam\\x84\\x8el\\xe3\\xb9\\xb5\\x92\\x1c\\xb2\\xc8\\xa7H(g\\xafM\\x01\\xd7V\\x00\\xfc\\xcc\\x89\\xf1\\xf8\\x15\\xefb\\x94\\xfd\\x91\\x7fK\\xc9\\xe4\\x86\\x18\\xc0\\xb1\\xca\\xb2&\\xe9\\x06\\xcf]\\xdds\\xf9)\\x1e\\xb6\\x917J\\xe8\\x0e\\xe6\\x11\\xcf\\xdb`>\\xf3\\x17Z\\xf2IB^\\r\\x8a5\\x01\\x1a\\xe8\\x7f\\x1a\\xc9U\\x87\\r|\\xb5\\xf4\\x9c\\xef\\xf6\\xbe\\xb7\\xf8xJK\\xe6sz\\x01\\x17\\xf6\\x97i>\\x8b\\xd5\\xa7\\xd9B}I\\x91wAw$\\xa9\\x9b\\xecu)I\\x8e\\xe4o\\xd9?|\\xd0\\xd9\\xfb\\x16\\xb5l\\xd9B\\xae[_;\\x05\\xdf\\xca\\xd7<\\'\\x02\\xf8\\xad\\xa4\\xfd\\xecEA\\xf6T/\\xa0\\x12\\xa5M\\x9f\\x8a\\x7f\\xd2U\\xaa\\xdfi\\xdb\\xd0\\x99\\x1fq\\x02~\\xd6g\\xa96\\xc4T\\xfd6/\\rO\\xcd\\xef\\xebiG\\x1b\\x8a\\xd9\\x94\\xd5\\xbf\\xf5\\x1aL\\xe0h\\xaa./\\xe2A3\\xcf\\xa8tto*%\\xda[\\x19\\x05\\xbb J\\xde\\xa5x,Z7\\xdd\\x9d\\x0bt\\xa7g.\\xea\\xb5\\x1f\\xecSo\\xbd~\\xf9\\t\\xe9\\xb6\\x1b\\xfc<6!\\xfc\\xec\\xa3\\xf7\\xbe\\xe9Z\\x96\\xc6\\xa7\\xc7_\\x0bK4\\xb6j\\r\\xc0\\xf9\\x7fI[\\xd4\\xbf\\x05\\x8bI\\x1e\\xec\\x8d\\xfag[\\xd8\\xc0\\xa0\\xe4jT\\xbf\\xcb/\\xdf+\\xb7Kv\\x93~\\x8d(\\'\\x923|\\xf3[\\xe55)\\xe0\\x16\\xff\\x00\\xa3\\xfc{\\xe5\\xa5\\xa4F\\xe5\\xb7\\xc2V\\xf52,Zj\\x8c\\x0f\\xcfv\\xc5C\\xff\\x00\\xb8#\\xc1)\\xa2\\xfc\\xca\\xde=6.>\\xa1\\xfe\\xf7\\x17_\\xcb\\xad`>\\nm:\\x15$\\x7fX\\xe0\\xeew\\x0fY\\\\\\xaf\\x9b\\xeeMUZ\\xe2%M\\x93\\xd1\\xf2\\x87\\xb5T\\x9ew%\\x89\\xf7\\xb4\\xd5\\x14Tp\\x1e\\xf9\\x12\\n\\xa7\\xd9\\xb7\\xc8B(T\\xe2@\\xf7\\xcc\\xf2y\\xeeL7?\\xd2\\x0c\\xd6\\xe1\\xf1\\x92\\xae\\x12\\xfb\\xea|#\\xc6\\x19\\x073\\xf8\\xf1\\x90\\xd8\\n\\xc6\\xb1\\xe6\\x04]e\\xfd\\xa3\\xee\\x96\\x85%\\xe0\\xbf?\\xe1\\t\\xd3\\xe8\\x88dEUNJO\\x9c\\xb9\\x86\\'\\x90\\x1efE\\xd6}b|\\xa1\\xb7+\\x9f\\xc7\\xbe<\\xb0h\\xd8\\xc1\\xe2\\x99\\r\\xd5\\x80>{\\xfc<gK\\xb3v\\xad7\\xd2\\xae\\x87\\x9f\\xb2\\x7f\\x84\\xe1\\x91\\x98KT16\\xde\\xd2\\xfa\\xb5\\x12\\x81E\\x94\\xa9\\x1df\\xd5\\xe9\\x08^\\xc5\\rO\\x16#A\\xe0\\x07\\x18\\xa6\"\\xb5:\\x83\\xb5py\\x81c\\x14\\xd5\\xeb7\\xbeLn\\x89&d\\xfeR6\\xe6\\'\\n\\x8ap\\xf52\\x12\\xa4\\x9e\\xca\\xb7\\xef\\x039^\\x81\\xf4\\x97\\x1b\\x8a\\xa1\\x88|EwvR2\\x9d\\x16\\xdd\\x92t\\n\\x00\\x8a)\\xab\\xb1\\x07\\xc1{\\x00\\xbdn\\xb5\\x19\\xd8\\xfd\\xb6\\x1e\\x86iQ\\xd9\\xb4o\\xad0~\\xd7k\\xd6(\\xa2#\\xdc\\xdc\\xc2\\xec\\xea\"\\xd6\\xa6\\xa3\\xcbI\\xa5G\\x0c\\x9fD|\"\\x8a0&4\\x94\\x0b\\x80\\x01\\xf0\\xd3\\xd2\\nNm\\x0cP\\x01\\xe6H\\x83Xb\\x80\\x1aH\\xa0\\r\\'\\x93\\xfeYi\\x81\\x88\\xa0\\xc0X\\xb5&\\xccy\\xe5n\\xcd\\xfc\\xae`\\x8a\\t\\'\\xc8\\xf2\\xd7\\x07\\x0f\\x90dS\\xc4\\xe6\\xbf\\xb9\\x88\\x12\\xbb\\x08\\xa2\\x98\\xa5\\xf9\\x99\\xd5\\x83\\xcc\\x17\\xe8T\\xaa\\x83\\x94\\xa3S\\x0e\\x99\\xb7E\\x14\\x9e^\\np\\xb2[\\xc2`\\xa9\\x9d\\xe8%\\x83A\\x01\\xb0Q\\xa7\\x84QJ\\x1by5F+\\xa7\\x82\\xfe\\x16\\x82\\x9d\\xe0KTp4\\xb4\\xec\\x8f\\x9cQH\"\\xd6\\x96\\t\\x0e\\x15\\x06\\xe5\\x11S6\\xdd\\x0cR\\xee\\xc5\\x1d\\xc9\\xde\\xabs\\x95\\xcb\\x93\\xbc\\xc5\\x14\\x8a,\"c\\'\\xc2\\x0e\\xd5\\xa2\\x8a\\x0f\\x82=\\xcde\\x1aK4F\\x82(\\xa5\\x0c\\x18\\xfd\\xc7Is\\rL\\x1d\\xe2(\\xa4%\\xc1\\x12\\xcbSP4\\x02CZ\\xab\\r\\xc6\\xd0E\"\\x86\\x88\\xfa\\xc66\\xb9:\\xc2b\\x8a6\\x04\\xea4\\x80\\xb9\\xb4QH\\x88\\x14\\xb5\\x1a\\xc9i \\xe4\"\\x8a\\x0c\\t\\xc5%\\xe5#}\\r\\x84QD\\x80\\x98S\\x07x\\xbc\\x18\\x8e\\xcd\\x8a\\xe9x\\xa2\\x97T\\xb2\\xc8\\xb2\\xc5]\\x14\\x10M\\xfc\\xccQE\\x1al0\\x7f\\xff\\xd9'\n"
     ]
    }
   ],
   "source": [
    "f = open(\"c:/classss/ABC/macbook.png\",'rb')\n",
    "bytes = f.read()\n",
    "print (bytes)     ### image read"
   ]
  },
  {
   "cell_type": "markdown",
   "metadata": {},
   "source": [
    "## CSV Files: (Coma Seperated Values ) excel file create\n",
    "-----------\n",
    "- CSV files are able to manage semi structered data, to manipulate CSV files data python has provided a seperate module in the form of 'csv'.  \n",
    "- If we want to write data into CSV files, first we have to get Writer object from file then we have to write data to CSV file  through Writer object.\n",
    "\n",
    "        f = open(fileName,'w')\n",
    "        wr = csv.writer(f)\n",
    "        wr.writerow([Col1,col2....])\n",
    "        \n",
    "- If we want to get data from CSV file then we have to get reader object from the source file by using reader() method."
   ]
  },
  {
   "cell_type": "markdown",
   "metadata": {},
   "source": [
    "### Write Data To CSV File:\n",
    "------"
   ]
  },
  {
   "cell_type": "code",
   "execution_count": 10,
   "metadata": {},
   "outputs": [
    {
     "name": "stdout",
     "output_type": "stream",
     "text": [
      "Data written to E:/documents/emp.csv\n"
     ]
    }
   ],
   "source": [
    "import csv\n",
    "targetFile = open(\"c:/classss/ABC/emp.csv\",'w',newline='')\n",
    "wr = csv.writer(targetFile)\n",
    "\n",
    "wr.writerow([\"ENO\", \"ENAME\", \"ESAL\", \"EADDR\"])\n",
    "wr.writerow([111, \"AAA\", 5000, \"Hyd\"])\n",
    "wr.writerow([222, \"BBB\", 6000, \"Hyd\"])\n",
    "wr.writerow([333, \"CCC\", 7000, \"Hyd\"])\n",
    "wr.writerow([444, \"DDD\", 8000, \"Hyd\"])\n",
    "\n",
    "print(\"Data written to E:/documents/emp.csv\")\n",
    "targetFile.close()\n"
   ]
  },
  {
   "cell_type": "markdown",
   "metadata": {},
   "source": [
    "- Note: If we write data in CVS file, by default, data will be stored in CSV file with a line space between rows, if we want to remove line spaces between rows we have to use 'newline' attribute in open() function. "
   ]
  },
  {
   "cell_type": "code",
   "execution_count": 11,
   "metadata": {},
   "outputs": [
    {
     "name": "stdout",
     "output_type": "stream",
     "text": [
      "data writen succ.\n"
     ]
    }
   ],
   "source": [
    "import csv \n",
    "tf = open(\"c:/classss/ABC/std.csv\",\"w\")\n",
    "wr = csv.writer(tf)\n",
    "wr.writerow([\"sno\",\"sname\",\"smark\"])\n",
    "wr.writerow((101,\"AAA\",81))\n",
    "wr.writerow([102,\"BBB\",65])\n",
    "wr.writerow([103,\"CCC\",74])\n",
    "wr.writerow([104,\"DDD\",93])\n",
    "wr.writerow([105,\"EEE\",68])\n",
    "\n",
    "print(\"data writen succ.\")\n",
    "tf.close()"
   ]
  },
  {
   "cell_type": "code",
   "execution_count": 1,
   "metadata": {},
   "outputs": [
    {
     "name": "stdout",
     "output_type": "stream",
     "text": [
      "Student ID : 101\n",
      "Student Name : AA\n",
      "Student Qual : btech\n",
      "Student Addr : odisha\n",
      "Student Email : aa@\n",
      "Student Mobile : 9146237844\n",
      "Student 101 Inserted Successfully\n",
      "Onemore Student[yes/no]? : yes\n",
      "Student ID : 102\n",
      "Student Name : BB\n",
      "Student Qual : cs\n",
      "Student Addr : hdr\n",
      "Student Email : BB@\n",
      "Student Mobile : 4634864646\n",
      "Student 102 Inserted Successfully\n",
      "Onemore Student[yes/no]? : n\n"
     ]
    }
   ],
   "source": [
    "#### with WHILE LOOP\n",
    "import csv\n",
    "targetFile = open(\"c:/classss/ABC/student.csv\",'w',newline='')\n",
    "writer = csv.writer(targetFile)\n",
    "writer.writerow([\"SID\", \"SNAME\", \"SQUAL\", \"SADDR\", \"SEMAIL\", \"SMOBILE\"])\n",
    "while True:\n",
    "    sid = input(\"Student ID : \")\n",
    "    sname = input(\"Student Name : \")\n",
    "    squal = input(\"Student Qual : \")\n",
    "    saddr = input(\"Student Addr : \")\n",
    "    semail = input(\"Student Email : \")\n",
    "    smobile = input(\"Student Mobile : \")\n",
    "    writer.writerow([sid,sname,squal,saddr,semail,smobile])\n",
    "    print(\"Student\",sid,\"Inserted Successfully\")\n",
    "    option = input(\"Onemore Student[yes/no]? : \")\n",
    "    if option == \"yes\":\n",
    "        continue\n",
    "    else:\n",
    "        \n",
    "        break\n",
    "\n",
    "targetFile.close()\n",
    "    "
   ]
  },
  {
   "cell_type": "code",
   "execution_count": 2,
   "metadata": {},
   "outputs": [],
   "source": [
    "targetFile.close()"
   ]
  },
  {
   "cell_type": "code",
   "execution_count": 5,
   "metadata": {},
   "outputs": [
    {
     "name": "stdout",
     "output_type": "stream",
     "text": [
      "dd : 1\n",
      "1\n",
      "Onemore Student[yes/no]? : yes\n",
      "dd : 2\n",
      "2\n",
      "Onemore Student[yes/no]? : yes\n",
      "dd : 3\n",
      "3\n",
      "Onemore Student[yes/no]? : n\n",
      "comp.\n"
     ]
    }
   ],
   "source": [
    "while True:\n",
    "    p =input(\"dd : \")\n",
    "    print(p)\n",
    "    option = input(\"Onemore Student[yes/no]? : \")\n",
    "    if option == \"yes\":\n",
    "        continue\n",
    "    else:\n",
    "        print(\"comp.\")\n",
    "        break"
   ]
  },
  {
   "cell_type": "markdown",
   "metadata": {},
   "source": [
    "## Reading Data from CSV:\n",
    "----------------------\n"
   ]
  },
  {
   "cell_type": "code",
   "execution_count": 9,
   "metadata": {},
   "outputs": [
    {
     "name": "stdout",
     "output_type": "stream",
     "text": [
      "ENO \tENAME \tESAL \tEADDR \t\n",
      "111 \tAAA \t5000 \tHyd \t\n",
      "222 \tBBB \t6000 \tHyd \t\n",
      "333 \tCCC \t7000 \tHyd \t\n",
      "444 \tDDD \t8000 \tHyd \t\n"
     ]
    }
   ],
   "source": [
    "import csv\n",
    "sourceFile = open(\"c:/classss/ABC/emp.csv\",'r')\n",
    "readerrr = csv.reader(sourceFile)\n",
    "data = list(readerrr)\n",
    "for row in data:\n",
    "    for column in row:\n",
    "        print(column,\"\\t\",end=\"\")\n",
    "    print()\n",
    "    \n",
    "sourceFile.close()\n"
   ]
  },
  {
   "cell_type": "code",
   "execution_count": 15,
   "metadata": {},
   "outputs": [
    {
     "name": "stdout",
     "output_type": "stream",
     "text": [
      "SID \t SNAME \t SQUAL \t SADDR \t SEMAIL \tSMOBILE \t \n",
      "101 \t AA \t btech \t odisha \t aa@ \t 9146237844 \t \n",
      "102 \t BB \t cs \t hdr \t BB@ \t 4634864646 \t \n"
     ]
    }
   ],
   "source": [
    "import csv\n",
    "sf = open(\"c:/classss/ABC/student.csv\",'r')\n",
    "readData = csv.reader(sf)\n",
    "data = list(readData)\n",
    "for column in data[0]:\n",
    "    if column == \"SEMAIL\":\n",
    "        print(column,\"\\t\",end=\"\")\n",
    "    else:\n",
    "        print(column,\"\\t\",end=\" \")\n",
    "print()\n",
    "\n",
    "for row in data[1::]:\n",
    "    for column in row: \n",
    "        print(column,\"\\t \",end=\"\")\n",
    "    print()\n",
    "sourceFile.close()\n"
   ]
  },
  {
   "cell_type": "markdown",
   "metadata": {},
   "source": [
    "## Creating ZIP file with no of files:\n",
    "-------\n",
    "- Zipping : Gatherring all files and folder from the current location. \n",
    "- Unzipping: Unpacking all the files and folders from Zip file to current location.\n",
    "- Advantages:\n",
    "    1. Simplifies Files transfermation from one location to location.\n",
    "    2. Optimize Memory utilization "
   ]
  },
  {
   "cell_type": "code",
   "execution_count": 16,
   "metadata": {},
   "outputs": [
    {
     "name": "stdout",
     "output_type": "stream",
     "text": [
      "Zip file is created Successfully\n"
     ]
    }
   ],
   "source": [
    "from zipfile import *\n",
    "\n",
    "zip_File = ZipFile(\"c:/classss/ABC/images.zip\",'w',ZIP_DEFLATED)\n",
    "zip_File.write(\"c:/classss/ABC/GoToWebinar 002.png\")\n",
    "zip_File.write(\"c:/classss/ABC/GoToWebinar 003.png\")\n",
    "zip_File.write(\"c:/classss/ABC/GoToWebinar 004.png\")\n",
    "zip_File.write(\"c:/classss/ABC/GoToWebinar 005.png\")\n",
    "zip_File.close()\n",
    "print(\"Zip file is created Successfully\") "
   ]
  },
  {
   "cell_type": "code",
   "execution_count": null,
   "metadata": {},
   "outputs": [],
   "source": []
  }
 ],
 "metadata": {
  "kernelspec": {
   "display_name": "Python 3",
   "language": "python",
   "name": "python3"
  },
  "language_info": {
   "codemirror_mode": {
    "name": "ipython",
    "version": 3
   },
   "file_extension": ".py",
   "mimetype": "text/x-python",
   "name": "python",
   "nbconvert_exporter": "python",
   "pygments_lexer": "ipython3",
   "version": "3.8.1"
  }
 },
 "nbformat": 4,
 "nbformat_minor": 4
}
