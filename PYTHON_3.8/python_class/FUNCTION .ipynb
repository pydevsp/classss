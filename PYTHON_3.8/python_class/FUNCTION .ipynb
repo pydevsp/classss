{
 "cells": [
  {
   "cell_type": "markdown",
   "metadata": {},
   "source": [
    "# functions :-\n",
    "-------"
   ]
  },
  {
   "cell_type": "markdown",
   "metadata": {},
   "source": [
    "- In the above context, to reduce code redudnency we have to improve Code\n",
    "  Reusability, to provide code reusabilitu we have to use Functions.\n"
   ]
  },
  {
   "cell_type": "markdown",
   "metadata": {},
   "source": [
    "- Function is a set of instructions to repersent a particular action.\n",
    "- There are two types of Functions in Python.\n",
    "  1. Predefined Functions\n",
    "  2. User Defined Functions\n"
   ]
  },
  {
   "cell_type": "markdown",
   "metadata": {},
   "source": [
    "## Predefined Functions  :-\n",
    "-----"
   ]
  },
  {
   "cell_type": "markdown",
   "metadata": {},
   "source": [
    "- These functions are defined by Python Programming Language and they are\n",
    "  coming along with Python Software.\n",
    "- EX:\n",
    "---\n",
    "-   len()\n",
    "-   sorted()\n",
    "-   id()\n",
    "-   type()\n",
    "-   eval()\n"
   ]
  },
  {
   "cell_type": "markdown",
   "metadata": {},
   "source": [
    "## User Defined Functions  :-\n",
    "-----\n",
    "\n",
    "-  These functions are defined by the developers as per their applications\n",
    "   requirement.\n",
    "   \n",
    "  - Syntax:\n",
    "\n",
    "    def FunctionName([Parameter_List]):\n",
    "          ---instructions----\n",
    "            [return Values]\n",
    " \n"
   ]
  },
  {
   "cell_type": "markdown",
   "metadata": {},
   "source": [
    "-  Where \"def\" keyword can be used to define function.\n",
    "-  Where \"FunctionName\" is an unique identity for the function inorder to\n",
    "   access.\n",
    "-  Where ParameterList is optional, it can be used to pass some input data\n",
    "to the function order to perform an action.\n",
    "-  Where return statement can be used to return one or more values from the\n",
    "function."
   ]
  },
  {
   "cell_type": "code",
   "execution_count": 13,
   "metadata": {},
   "outputs": [],
   "source": [
    "def sayHello():\n",
    " print(\"Hello User!\")\n"
   ]
  },
  {
   "cell_type": "code",
   "execution_count": 14,
   "metadata": {},
   "outputs": [
    {
     "name": "stdout",
     "output_type": "stream",
     "text": [
      "Hello User!\n"
     ]
    }
   ],
   "source": [
    "sayHello()"
   ]
  },
  {
   "cell_type": "code",
   "execution_count": 15,
   "metadata": {},
   "outputs": [
    {
     "name": "stdout",
     "output_type": "stream",
     "text": [
      "Hello User!\n",
      "Hello User!\n",
      "Hello User!\n"
     ]
    }
   ],
   "source": [
    "sayHello()\n",
    "sayHello()\n",
    "sayHello()\n"
   ]
  },
  {
   "cell_type": "code",
   "execution_count": 16,
   "metadata": {},
   "outputs": [],
   "source": [
    "def sayHello(name):\n",
    " print(\"Hello\",name,\"!\")\n"
   ]
  },
  {
   "cell_type": "code",
   "execution_count": 19,
   "metadata": {},
   "outputs": [
    {
     "name": "stdout",
     "output_type": "stream",
     "text": [
      "Hello abhi !\n"
     ]
    }
   ],
   "source": [
    "sayHello(\"abhi\")"
   ]
  },
  {
   "cell_type": "code",
   "execution_count": 20,
   "metadata": {},
   "outputs": [
    {
     "name": "stdout",
     "output_type": "stream",
     "text": [
      "Hello Durga !\n",
      "Hello Anil !\n",
      "Hello Rama !\n"
     ]
    }
   ],
   "source": [
    "sayHello(\"Durga\")\n",
    "sayHello(\"Anil\")\n",
    "sayHello(\"Rama\")\n"
   ]
  },
  {
   "cell_type": "code",
   "execution_count": 21,
   "metadata": {},
   "outputs": [],
   "source": [
    "def wish(name, message):\n",
    " print(\"Hello\",name,\",\",message)"
   ]
  },
  {
   "cell_type": "code",
   "execution_count": 22,
   "metadata": {},
   "outputs": [
    {
     "name": "stdout",
     "output_type": "stream",
     "text": [
      "hello hii okkk\n"
     ]
    }
   ],
   "source": [
    "print(\"hello\",\"hii\",\"okkk\")"
   ]
  },
  {
   "cell_type": "code",
   "execution_count": 23,
   "metadata": {},
   "outputs": [
    {
     "name": "stdout",
     "output_type": "stream",
     "text": [
      "Hello Durga , Good Morning!\n",
      "Hello Anil , Good Afternoon!\n",
      "Hello Rama , Good Evening!\n"
     ]
    }
   ],
   "source": [
    "wish(\"Durga\", \"Good Morning!\")\n",
    "wish(\"Anil\", \"Good Afternoon!\")\n",
    "wish(\"Rama\", \"Good Evening!\")\n"
   ]
  },
  {
   "cell_type": "code",
   "execution_count": 24,
   "metadata": {},
   "outputs": [],
   "source": [
    "def add(a,b):\n",
    " result = a + b\n",
    " return result\n",
    "\n"
   ]
  },
  {
   "cell_type": "code",
   "execution_count": 31,
   "metadata": {},
   "outputs": [
    {
     "name": "stdout",
     "output_type": "stream",
     "text": [
      "12\n",
      "602\n"
     ]
    }
   ],
   "source": [
    "print(add(5+2,5))\n",
    "\n",
    "print(add(548,54))"
   ]
  },
  {
   "cell_type": "code",
   "execution_count": 34,
   "metadata": {},
   "outputs": [
    {
     "name": "stdout",
     "output_type": "stream",
     "text": [
      "14\n"
     ]
    }
   ],
   "source": [
    "def add(a,b):\n",
    "     result = a + b\n",
    "     print(result)\n",
    "\n",
    "    \n",
    "add(10,4)"
   ]
  },
  {
   "cell_type": "code",
   "execution_count": 35,
   "metadata": {},
   "outputs": [
    {
     "name": "stdout",
     "output_type": "stream",
     "text": [
      "28\n"
     ]
    }
   ],
   "source": [
    "print(1+2+3+4+5+6+7)"
   ]
  },
  {
   "cell_type": "code",
   "execution_count": 33,
   "metadata": {},
   "outputs": [
    {
     "name": "stdout",
     "output_type": "stream",
     "text": [
      "ADD : 15\n",
      "SUB : 5\n",
      "MUL : 50\n",
      "DIV : 2.0\n",
      "MOD : 0\n"
     ]
    }
   ],
   "source": [
    "def calculate(a,b):\n",
    "     print(\"ADD :\",(a+b))\n",
    "     print(\"SUB :\",(a-b))\n",
    "     print(\"MUL :\",(a*b))\n",
    "     print(\"DIV :\",(a/b))\n",
    "     print(\"MOD :\",(a%b))\n",
    "\n",
    "calculate(10,5)"
   ]
  },
  {
   "cell_type": "code",
   "execution_count": 9,
   "metadata": {},
   "outputs": [],
   "source": [
    "def calculate(a,b):\n",
    " add = a + b\n",
    " sub = a - b\n",
    " mul = a * b\n",
    " div = a / b\n",
    " mod = a % b\n",
    " return add, sub, mul, div, mod   # followed sequence\n",
    "\n",
    "ad_Result, sub_Result,mul_Result,div_Result, mod_Result =calculate(20,3)\n"
   ]
  },
  {
   "cell_type": "code",
   "execution_count": 10,
   "metadata": {},
   "outputs": [
    {
     "name": "stdout",
     "output_type": "stream",
     "text": [
      "ADD : 23\n",
      "SUB : 17\n",
      "MUL : 60\n",
      "DIV : 6.666666666666667\n",
      "MOD : 2\n"
     ]
    }
   ],
   "source": [
    "print(\"ADD :\", ad_Result)\n",
    "print(\"SUB :\",sub_Result)\n",
    "print(\"MUL :\",mul_Result)\n",
    "print(\"DIV :\",div_Result)\n",
    "print(\"MOD :\", mod_Result)"
   ]
  },
  {
   "cell_type": "code",
   "execution_count": 11,
   "metadata": {},
   "outputs": [
    {
     "name": "stdout",
     "output_type": "stream",
     "text": [
      "(23, 17, 60, 6.666666666666667, 2)\n"
     ]
    }
   ],
   "source": [
    "print(calculate(20,3))"
   ]
  },
  {
   "cell_type": "code",
   "execution_count": 12,
   "metadata": {},
   "outputs": [],
   "source": [
    "def getEmpDetails():\n",
    " eno = int(input(\"Employee Number : \"))\n",
    " ename = input(\"Employee Name : \")\n",
    " esal = float(input(\"Employee Salary : \"))\n",
    " eaddr = input(\"Employee Address : \")\n",
    " return eno, ename, esal, eaddr\n"
   ]
  },
  {
   "cell_type": "code",
   "execution_count": 13,
   "metadata": {},
   "outputs": [
    {
     "name": "stdout",
     "output_type": "stream",
     "text": [
      "Employee Number : 01\n",
      "Employee Name : sagar\n",
      "Employee Salary : 1000.00\n",
      "Employee Address : ameerpet\n",
      "\n",
      "Employee Details\n",
      "--------------------------\n",
      "Employee Number :  1\n",
      "Employee Name :  sagar\n",
      "Employee Salary :  1000.0\n",
      "Employee Address :  ameerpet\n"
     ]
    }
   ],
   "source": [
    "def displayEmpDetails(eno, ename, esal, eaddr):\n",
    " print(\"Employee Details\")\n",
    " print(\"--------------------------\")\n",
    " print(\"Employee Number : \",eno)\n",
    " print(\"Employee Name : \",ename)\n",
    " print(\"Employee Salary : \",esal)\n",
    " print(\"Employee Address : \",eaddr)\n",
    "eno , ename, esal, eaddr = getEmpDetails()\n",
    "print()\n",
    "displayEmpDetails(eno, ename, esal, eaddr)\n"
   ]
  },
  {
   "cell_type": "markdown",
   "metadata": {},
   "source": [
    "\n",
    "\n",
    "- In Python Functions, if we provide argument list at Function definition\n",
    "then that argument is called as Formal Arguments.\n",
    "- In Python Function calls, if we provide argument values list then that\n",
    "argument values are called as Actual Arguments.\n"
   ]
  },
  {
   "cell_type": "code",
   "execution_count": 20,
   "metadata": {},
   "outputs": [
    {
     "name": "stdout",
     "output_type": "stream",
     "text": [
      "30\n",
      "30\n",
      "None\n"
     ]
    }
   ],
   "source": [
    "def add(a,b):\n",
    " print(a+b)\n",
    "\n",
    "add(10,20)\n",
    "print(add(10,20))  # None value ??"
   ]
  },
  {
   "cell_type": "markdown",
   "metadata": {},
   "source": [
    "- Where a,b are Format Arguments and 10,20 are actual arguments.\n"
   ]
  },
  {
   "cell_type": "code",
   "execution_count": 18,
   "metadata": {},
   "outputs": [
    {
     "name": "stdout",
     "output_type": "stream",
     "text": [
      "35\n"
     ]
    }
   ],
   "source": [
    "def addValues(a,b) :\n",
    "    return (a+b)\n",
    "\n",
    "print(addValues(25,10))\n",
    "    "
   ]
  },
  {
   "cell_type": "markdown",
   "metadata": {},
   "source": [
    "- In Python, there are four types of arguments are existed for the\n",
    "  functions.\n",
    "    1. Positional Arguments.\n",
    "    2. Keyward Arguments\n",
    "    3. Default Arguments\n",
    "    4. Variable length Arguments.\n"
   ]
  },
  {
   "cell_type": "markdown",
   "metadata": {},
   "source": [
    "## Positional Arguments :-"
   ]
  },
  {
   "cell_type": "markdown",
   "metadata": {},
   "source": [
    "- Positional arguments are normal arguments to the functions, whose values\n",
    "must be provided on the basis of the argument positions in function\n",
    "calls"
   ]
  },
  {
   "cell_type": "code",
   "execution_count": 22,
   "metadata": {},
   "outputs": [
    {
     "name": "stdout",
     "output_type": "stream",
     "text": [
      "Hello Durga Good Morning!\n"
     ]
    }
   ],
   "source": [
    "def wish(name, message):\n",
    " print(\"Hello\",name,message)\n",
    "\n",
    "\n",
    "wish(\"Durga\", \"Good Morning!\")\n"
   ]
  },
  {
   "cell_type": "code",
   "execution_count": 23,
   "metadata": {},
   "outputs": [
    {
     "name": "stdout",
     "output_type": "stream",
     "text": [
      "Hello Good Morning! Durga\n"
     ]
    }
   ],
   "source": [
    "def wish(name, message):\n",
    " print(\"Hello\",name,message)\n",
    "\n",
    "wish(\"Good Morning!\", \"Durga\")\n"
   ]
  },
  {
   "cell_type": "markdown",
   "metadata": {},
   "source": [
    "## Keyward Arguments :-"
   ]
  },
  {
   "cell_type": "markdown",
   "metadata": {},
   "source": [
    "- In the case of Keyward arguments, we will provide argument values\n",
    "  directly by assigning values to the argument names in functions calls.\n",
    "\n",
    "\n",
    "##### Note: In the case of Keyward arguments, we can provide arguments in any order.\n"
   ]
  },
  {
   "cell_type": "code",
   "execution_count": 25,
   "metadata": {},
   "outputs": [
    {
     "name": "stdout",
     "output_type": "stream",
     "text": [
      "Hello Durga Good Morning!\n",
      "\n",
      "Hello Durga Good Morning!\n"
     ]
    }
   ],
   "source": [
    "def wish(name, message):\n",
    " print(\"Hello\",name,message)\n",
    "\n",
    "wish(name=\"Durga\", message=\"Good Morning!\")\n",
    "\n",
    "print()\n",
    "\n",
    "wish(message = \"Good Morning!\", name=\"Durga\")"
   ]
  },
  {
   "cell_type": "code",
   "execution_count": 2,
   "metadata": {},
   "outputs": [
    {
     "name": "stdout",
     "output_type": "stream",
     "text": [
      "60\n"
     ]
    }
   ],
   "source": [
    "def add(a,b,c):\n",
    " print(a+b+c)\n",
    "add(10,b = 20, c = 30)\n"
   ]
  },
  {
   "cell_type": "code",
   "execution_count": 4,
   "metadata": {},
   "outputs": [
    {
     "ename": "SyntaxError",
     "evalue": "positional argument follows keyword argument (<ipython-input-4-f72eb312e24f>, line 1)",
     "output_type": "error",
     "traceback": [
      "\u001b[1;36m  File \u001b[1;32m\"<ipython-input-4-f72eb312e24f>\"\u001b[1;36m, line \u001b[1;32m1\u001b[0m\n\u001b[1;33m    add(a = 10,20, 30)  # err : positional argument follows keyword argument\u001b[0m\n\u001b[1;37m               ^\u001b[0m\n\u001b[1;31mSyntaxError\u001b[0m\u001b[1;31m:\u001b[0m positional argument follows keyword argument\n"
     ]
    }
   ],
   "source": [
    "add(a = 10,20, 30)  # err : positional argument follows keyword argument"
   ]
  },
  {
   "cell_type": "markdown",
   "metadata": {},
   "source": [
    "## Default Arguments :-"
   ]
  },
  {
   "cell_type": "markdown",
   "metadata": {},
   "source": [
    "-  In the case of default arguments, we will provide initial values to the\n",
    "   arguments at Function definition, if user dont want to provide values to\n",
    "    these arguments then the initial values will be assigned to the\n",
    "   arguments, if user provides values to these arguments at function call\n",
    "   then new values will override default values and new values will be\n",
    "   existed to the arguments.\n"
   ]
  },
  {
   "cell_type": "code",
   "execution_count": 8,
   "metadata": {},
   "outputs": [
    {
     "name": "stdout",
     "output_type": "stream",
     "text": [
      "Hello Durga , Good Morning!\n",
      "Hello Anil , Good Morning!\n",
      "Hello Nag , Good Afternoon!\n",
      "Hello chandu , good\n"
     ]
    }
   ],
   "source": [
    "def wish(name=\"Durga\", message=\"Good Morning!\"):\n",
    " print(\"Hello\",name,\",\",message)\n",
    "wish()\n",
    "wish(\"Anil\")\n",
    "wish(\"Nag\", \"Good Afternoon!\")\n",
    "\n",
    "wish(\"chandu\",message =\"good\")"
   ]
  },
  {
   "cell_type": "code",
   "execution_count": 11,
   "metadata": {},
   "outputs": [
    {
     "name": "stdout",
     "output_type": "stream",
     "text": [
      "Account Details\n",
      "----------------------\n",
      "Account Number : abc123\n",
      "Account Holder Name : Durga\n",
      "Account Type : Savings\n",
      "Account Balance : 10000\n",
      "\n",
      "Account Details\n",
      "----------------------\n",
      "Account Number : xyz123\n",
      "Account Holder Name : Nag\n",
      "Account Type : Current\n",
      "Account Balance : 100000\n",
      "\n",
      "Account Details\n",
      "----------------------\n",
      "Account Number : 124hhh\n",
      "Account Holder Name : das\n",
      "Account Type : Savings\n",
      "Account Balance : 10000\n"
     ]
    }
   ],
   "source": [
    "def createAccount(accNo,accHolderName,accType=\"Savings\", balance=10000):\n",
    " print(\"Account Details\")\n",
    " print(\"----------------------\")\n",
    " print(\"Account Number :\",accNo)\n",
    " print(\"Account Holder Name :\",accHolderName)\n",
    " print(\"Account Type :\",accType)\n",
    " print(\"Account Balance :\",balance)\n",
    "createAccount(\"abc123\", \"Durga\")\n",
    "print()\n",
    "createAccount(\"xyz123\", \"Nag\", \"Current\",100000)\n",
    "\n",
    "print()\n",
    "createAccount(accHolderName=\"das\",accNo=\"124hhh\")"
   ]
  },
  {
   "cell_type": "code",
   "execution_count": 12,
   "metadata": {},
   "outputs": [
    {
     "name": "stdout",
     "output_type": "stream",
     "text": [
      "60\n"
     ]
    }
   ],
   "source": [
    "def add(a,b=20,c=30):\n",
    " print(a+b+c)\n",
    "add(10)"
   ]
  },
  {
   "cell_type": "code",
   "execution_count": 13,
   "metadata": {},
   "outputs": [
    {
     "ename": "SyntaxError",
     "evalue": "non-default argument follows default argument (<ipython-input-13-ad5caea2603b>, line 1)",
     "output_type": "error",
     "traceback": [
      "\u001b[1;36m  File \u001b[1;32m\"<ipython-input-13-ad5caea2603b>\"\u001b[1;36m, line \u001b[1;32m1\u001b[0m\n\u001b[1;33m    def add(a=10,b,c):\u001b[0m\n\u001b[1;37m            ^\u001b[0m\n\u001b[1;31mSyntaxError\u001b[0m\u001b[1;31m:\u001b[0m non-default argument follows default argument\n"
     ]
    }
   ],
   "source": [
    "def add(a=10,b,c):\n",
    " print(a+b+c)\n",
    "add(20,30)\n"
   ]
  },
  {
   "cell_type": "markdown",
   "metadata": {},
   "source": [
    "## Variable length Arguments :-\n"
   ]
  },
  {
   "cell_type": "markdown",
   "metadata": {},
   "source": [
    "- Syntax:\n",
    "-  def function(*n):\n",
    "\n",
    "#####  If we access the function which is having variable length arguments by passing n no of argument values then all the argument values will be stored in a tuple and it is refered by variable length argument name."
   ]
  },
  {
   "cell_type": "code",
   "execution_count": 17,
   "metadata": {},
   "outputs": [
    {
     "name": "stdout",
     "output_type": "stream",
     "text": [
      "No Of Arguments :  0\n",
      "Argument List : \n",
      "sum : 0\n",
      "-------------------------------\n",
      "\n",
      "No Of Arguments :  1\n",
      "Argument List : 10 \n",
      "sum : 10\n",
      "-------------------------------\n",
      "\n",
      "No Of Arguments :  2\n",
      "Argument List : 10 20 \n",
      "sum : 30\n",
      "-------------------------------\n",
      "\n",
      "No Of Arguments :  3\n",
      "Argument List : 10 20 30 \n",
      "sum : 60\n",
      "-------------------------------\n"
     ]
    }
   ],
   "source": [
    "def add(*n):                                   # *n ===>  \"n\" number of argument   , \" * \" means 0 ro, more element\n",
    " print(\"No Of Arguments : \",len(n))\n",
    " print(\"Argument List : \",end=\"\")\n",
    " result = 0                                              \n",
    " for x in n:\n",
    "     print(x,end=\" \")\n",
    "     result = result + x;\n",
    " print()\n",
    " print(\"sum :\",result)\n",
    " print(\"-------------------------------\")\n",
    "\n",
    "\n",
    "add()\n",
    "print()\n",
    "add(10)\n",
    "print()\n",
    "add(10,20)\n",
    "print()\n",
    "add(10,20,30)\n"
   ]
  },
  {
   "cell_type": "code",
   "execution_count": 18,
   "metadata": {},
   "outputs": [
    {
     "name": "stdout",
     "output_type": "stream",
     "text": [
      "(10, 20) 100 200\n"
     ]
    }
   ],
   "source": [
    "def add(*n,a=100,b=200):\n",
    " print(n,a,b)\n",
    "add(10,20)\n"
   ]
  },
  {
   "cell_type": "code",
   "execution_count": 19,
   "metadata": {},
   "outputs": [
    {
     "name": "stdout",
     "output_type": "stream",
     "text": [
      "(52, 34, 26, 'aaa', 'vcc')\n",
      "10\n",
      "20\n",
      "(52, 34, 26, 'aaa', 'vcc') 10 20\n"
     ]
    }
   ],
   "source": [
    "def fn (b=50,c=50,*a):\n",
    "    print(a)\n",
    "    print(b)\n",
    "    print(c)\n",
    "    print(a,b,c)\n",
    "\n",
    "fn(10,20,52,34,26,\"aaa\",\"vcc\")"
   ]
  },
  {
   "cell_type": "code",
   "execution_count": null,
   "metadata": {},
   "outputs": [],
   "source": []
  }
 ],
 "metadata": {
  "kernelspec": {
   "display_name": "Python 3",
   "language": "python",
   "name": "python3"
  },
  "language_info": {
   "codemirror_mode": {
    "name": "ipython",
    "version": 3
   },
   "file_extension": ".py",
   "mimetype": "text/x-python",
   "name": "python",
   "nbconvert_exporter": "python",
   "pygments_lexer": "ipython3",
   "version": "3.8.1"
  }
 },
 "nbformat": 4,
 "nbformat_minor": 4
}
