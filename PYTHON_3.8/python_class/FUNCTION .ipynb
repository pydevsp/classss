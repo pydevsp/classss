{
 "cells": [
  {
   "cell_type": "markdown",
   "metadata": {},
   "source": [
    "# functions :-\n",
    "-------"
   ]
  },
  {
   "cell_type": "markdown",
   "metadata": {},
   "source": [
    "- In the above context, to reduce code redudnency we have to improve Code\n",
    "  Reusability, to provide code reusability we have to use Functions.\n"
   ]
  },
  {
   "cell_type": "markdown",
   "metadata": {},
   "source": [
    "- Function is a set of instructions to repersent a particular action.\n",
    "- There are two types of Functions in Python.\n",
    "  1. Predefined Functions\n",
    "  2. User Defined Functions\n"
   ]
  },
  {
   "cell_type": "markdown",
   "metadata": {},
   "source": [
    "## Predefined Functions  :-\n",
    "-----"
   ]
  },
  {
   "cell_type": "markdown",
   "metadata": {},
   "source": [
    "- These functions are defined by Python Programming Language and they are\n",
    "  coming along with Python Software.\n",
    "- EX:\n",
    "---\n",
    "-   len()\n",
    "-   sorted()\n",
    "-   id()\n",
    "-   type()\n",
    "-   eval()\n"
   ]
  },
  {
   "cell_type": "markdown",
   "metadata": {},
   "source": [
    "## User Defined Functions  :-\n",
    "-----\n",
    "\n",
    "-  These functions are defined by the developers as per their applications\n",
    "   requirement.\n",
    "   \n",
    "  - Syntax:\n",
    "\n",
    "    def FunctionName([Parameter_List]):\n",
    "          ---instructions----\n",
    "            [return Values]\n",
    " \n",
    " - or,  \n",
    "   def function_name(parameters):\n",
    "\t          \"\"\"docstring\"\"\"\n",
    "\t             statement(s)\n",
    " \n"
   ]
  },
  {
   "cell_type": "markdown",
   "metadata": {},
   "source": [
    "-  Where \"def\" keyword can be used to define function.\n",
    "-  Where \"FunctionName\" is an unique identity for the function inorder to\n",
    "   access.\n",
    "-  Where ParameterList is optional, it can be used to pass some input data\n",
    "to the function order to perform an action.\n",
    "-  Where return statement can be used to return one or more values from the\n",
    "function."
   ]
  },
  {
   "cell_type": "markdown",
   "metadata": {},
   "source": [
    "- Keyword \"def\" marks the start of function header.\n",
    "- A function name to uniquely identify it. Function naming follows the same rules of writing identifiers in Python.\n",
    "- Parameters (arguments) through which we pass values to a function. They are optional.\n",
    "- A colon (:) to mark the end of function header.\n",
    "- Optional documentation string (docstring) to describe what the function does.\n",
    "- One or more valid python statements that make up the function body. Statements must have same indentation level (usually 4 spaces).\n",
    "- An optional return statement to return a value from the function.\n",
    "\n",
    "#####  Docstring\n",
    "- The first string after the function header is called the docstring and is short for documentation string. It is used to explain in brief, what a function does."
   ]
  },
  {
   "cell_type": "code",
   "execution_count": 13,
   "metadata": {},
   "outputs": [],
   "source": [
    "def sayHello():\n",
    " print(\"Hello User!\")\n"
   ]
  },
  {
   "cell_type": "code",
   "execution_count": 14,
   "metadata": {},
   "outputs": [
    {
     "name": "stdout",
     "output_type": "stream",
     "text": [
      "Hello User!\n"
     ]
    }
   ],
   "source": [
    "sayHello()"
   ]
  },
  {
   "cell_type": "code",
   "execution_count": 15,
   "metadata": {},
   "outputs": [
    {
     "name": "stdout",
     "output_type": "stream",
     "text": [
      "Hello User!\n",
      "Hello User!\n",
      "Hello User!\n"
     ]
    }
   ],
   "source": [
    "sayHello()\n",
    "sayHello()\n",
    "sayHello()\n"
   ]
  },
  {
   "cell_type": "code",
   "execution_count": 16,
   "metadata": {},
   "outputs": [],
   "source": [
    "def sayHello(name):\n",
    " print(\"Hello\",name,\"!\")\n"
   ]
  },
  {
   "cell_type": "code",
   "execution_count": 19,
   "metadata": {},
   "outputs": [
    {
     "name": "stdout",
     "output_type": "stream",
     "text": [
      "Hello abhi !\n"
     ]
    }
   ],
   "source": [
    "sayHello(\"abhi\")"
   ]
  },
  {
   "cell_type": "code",
   "execution_count": 20,
   "metadata": {},
   "outputs": [
    {
     "name": "stdout",
     "output_type": "stream",
     "text": [
      "Hello Durga !\n",
      "Hello Anil !\n",
      "Hello Rama !\n"
     ]
    }
   ],
   "source": [
    "sayHello(\"Durga\")\n",
    "sayHello(\"Anil\")\n",
    "sayHello(\"Rama\")\n"
   ]
  },
  {
   "cell_type": "code",
   "execution_count": 21,
   "metadata": {},
   "outputs": [],
   "source": [
    "def wish(name, message):\n",
    " print(\"Hello\",name,\",\",message)"
   ]
  },
  {
   "cell_type": "code",
   "execution_count": 22,
   "metadata": {},
   "outputs": [
    {
     "name": "stdout",
     "output_type": "stream",
     "text": [
      "hello hii okkk\n"
     ]
    }
   ],
   "source": [
    "print(\"hello\",\"hii\",\"okkk\")"
   ]
  },
  {
   "cell_type": "code",
   "execution_count": 23,
   "metadata": {},
   "outputs": [
    {
     "name": "stdout",
     "output_type": "stream",
     "text": [
      "Hello Durga , Good Morning!\n",
      "Hello Anil , Good Afternoon!\n",
      "Hello Rama , Good Evening!\n"
     ]
    }
   ],
   "source": [
    "wish(\"Durga\", \"Good Morning!\")\n",
    "wish(\"Anil\", \"Good Afternoon!\")\n",
    "wish(\"Rama\", \"Good Evening!\")\n"
   ]
  },
  {
   "cell_type": "code",
   "execution_count": 24,
   "metadata": {},
   "outputs": [],
   "source": [
    "def add(a,b):\n",
    " result = a + b\n",
    " return result\n",
    "\n"
   ]
  },
  {
   "cell_type": "code",
   "execution_count": 31,
   "metadata": {},
   "outputs": [
    {
     "name": "stdout",
     "output_type": "stream",
     "text": [
      "12\n",
      "602\n"
     ]
    }
   ],
   "source": [
    "print(add(5+2,5))\n",
    "\n",
    "print(add(548,54))"
   ]
  },
  {
   "cell_type": "code",
   "execution_count": 34,
   "metadata": {},
   "outputs": [
    {
     "name": "stdout",
     "output_type": "stream",
     "text": [
      "14\n"
     ]
    }
   ],
   "source": [
    "def add(a,b):\n",
    "     result = a + b\n",
    "     print(result)\n",
    "\n",
    "    \n",
    "add(10,4)"
   ]
  },
  {
   "cell_type": "code",
   "execution_count": 35,
   "metadata": {},
   "outputs": [
    {
     "name": "stdout",
     "output_type": "stream",
     "text": [
      "28\n"
     ]
    }
   ],
   "source": [
    "print(1+2+3+4+5+6+7)"
   ]
  },
  {
   "cell_type": "code",
   "execution_count": 33,
   "metadata": {},
   "outputs": [
    {
     "name": "stdout",
     "output_type": "stream",
     "text": [
      "ADD : 15\n",
      "SUB : 5\n",
      "MUL : 50\n",
      "DIV : 2.0\n",
      "MOD : 0\n"
     ]
    }
   ],
   "source": [
    "def calculate(a,b):\n",
    "     print(\"ADD :\",(a+b))\n",
    "     print(\"SUB :\",(a-b))\n",
    "     print(\"MUL :\",(a*b))\n",
    "     print(\"DIV :\",(a/b))\n",
    "     print(\"MOD :\",(a%b))\n",
    "\n",
    "calculate(10,5)"
   ]
  },
  {
   "cell_type": "code",
   "execution_count": 9,
   "metadata": {},
   "outputs": [],
   "source": [
    "def calculate(a,b):\n",
    " add = a + b\n",
    " sub = a - b\n",
    " mul = a * b\n",
    " div = a / b\n",
    " mod = a % b\n",
    " return add, sub, mul, div, mod   # followed sequence\n",
    "\n",
    "ad_Result, sub_Result,mul_Result,div_Result, mod_Result =calculate(20,3)\n"
   ]
  },
  {
   "cell_type": "code",
   "execution_count": 10,
   "metadata": {},
   "outputs": [
    {
     "name": "stdout",
     "output_type": "stream",
     "text": [
      "ADD : 23\n",
      "SUB : 17\n",
      "MUL : 60\n",
      "DIV : 6.666666666666667\n",
      "MOD : 2\n"
     ]
    }
   ],
   "source": [
    "print(\"ADD :\", ad_Result)\n",
    "print(\"SUB :\",sub_Result)\n",
    "print(\"MUL :\",mul_Result)\n",
    "print(\"DIV :\",div_Result)\n",
    "print(\"MOD :\", mod_Result)"
   ]
  },
  {
   "cell_type": "code",
   "execution_count": 11,
   "metadata": {},
   "outputs": [
    {
     "name": "stdout",
     "output_type": "stream",
     "text": [
      "(23, 17, 60, 6.666666666666667, 2)\n"
     ]
    }
   ],
   "source": [
    "print(calculate(20,3))"
   ]
  },
  {
   "cell_type": "code",
   "execution_count": 12,
   "metadata": {},
   "outputs": [],
   "source": [
    "def getEmpDetails():\n",
    " eno = int(input(\"Employee Number : \"))\n",
    " ename = input(\"Employee Name : \")\n",
    " esal = float(input(\"Employee Salary : \"))\n",
    " eaddr = input(\"Employee Address : \")\n",
    " return eno, ename, esal, eaddr\n"
   ]
  },
  {
   "cell_type": "code",
   "execution_count": 13,
   "metadata": {},
   "outputs": [
    {
     "name": "stdout",
     "output_type": "stream",
     "text": [
      "Employee Number : 01\n",
      "Employee Name : sagar\n",
      "Employee Salary : 1000.00\n",
      "Employee Address : ameerpet\n",
      "\n",
      "Employee Details\n",
      "--------------------------\n",
      "Employee Number :  1\n",
      "Employee Name :  sagar\n",
      "Employee Salary :  1000.0\n",
      "Employee Address :  ameerpet\n"
     ]
    }
   ],
   "source": [
    "def displayEmpDetails(eno, ename, esal, eaddr):\n",
    " print(\"Employee Details\")\n",
    " print(\"--------------------------\")\n",
    " print(\"Employee Number : \",eno)\n",
    " print(\"Employee Name : \",ename)\n",
    " print(\"Employee Salary : \",esal)\n",
    " print(\"Employee Address : \",eaddr)\n",
    "eno , ename, esal, eaddr = getEmpDetails()\n",
    "print()\n",
    "displayEmpDetails(eno, ename, esal, eaddr)\n"
   ]
  },
  {
   "cell_type": "markdown",
   "metadata": {},
   "source": [
    "\n",
    "\n",
    "- In Python Functions, if we provide argument list at Function definition\n",
    "then that argument is called as Formal Arguments.\n",
    "- In Python Function calls, if we provide argument values list then that\n",
    "argument values are called as Actual Arguments.\n"
   ]
  },
  {
   "cell_type": "code",
   "execution_count": 20,
   "metadata": {},
   "outputs": [
    {
     "name": "stdout",
     "output_type": "stream",
     "text": [
      "30\n",
      "30\n",
      "None\n"
     ]
    }
   ],
   "source": [
    "def add(a,b):\n",
    " print(a+b)\n",
    "\n",
    "add(10,20)\n",
    "print(add(10,20))  # None value ??"
   ]
  },
  {
   "cell_type": "markdown",
   "metadata": {},
   "source": [
    "- Where a,b are Format Arguments and 10,20 are actual arguments.\n"
   ]
  },
  {
   "cell_type": "code",
   "execution_count": 18,
   "metadata": {},
   "outputs": [
    {
     "name": "stdout",
     "output_type": "stream",
     "text": [
      "35\n"
     ]
    }
   ],
   "source": [
    "def addValues(a,b) :\n",
    "    return (a+b)\n",
    "\n",
    "print(addValues(25,10))\n",
    "    "
   ]
  },
  {
   "cell_type": "markdown",
   "metadata": {},
   "source": [
    "- In Python, there are four types of arguments are existed for the\n",
    "  functions.\n",
    "    1. Positional Arguments.\n",
    "    2. Keyward Arguments\n",
    "    3. Default Arguments\n",
    "    4. Variable length Arguments.\n"
   ]
  },
  {
   "cell_type": "markdown",
   "metadata": {},
   "source": [
    "## Positional Arguments :-"
   ]
  },
  {
   "cell_type": "markdown",
   "metadata": {},
   "source": [
    "- Positional arguments are normal arguments to the functions, whose values\n",
    "must be provided on the basis of the argument positions in function\n",
    "calls"
   ]
  },
  {
   "cell_type": "code",
   "execution_count": 22,
   "metadata": {},
   "outputs": [
    {
     "name": "stdout",
     "output_type": "stream",
     "text": [
      "Hello Durga Good Morning!\n"
     ]
    }
   ],
   "source": [
    "def wish(name, message):\n",
    " print(\"Hello\",name,message)\n",
    "\n",
    "\n",
    "wish(\"Durga\", \"Good Morning!\")\n"
   ]
  },
  {
   "cell_type": "code",
   "execution_count": 23,
   "metadata": {},
   "outputs": [
    {
     "name": "stdout",
     "output_type": "stream",
     "text": [
      "Hello Good Morning! Durga\n"
     ]
    }
   ],
   "source": [
    "def wish(name, message):\n",
    " print(\"Hello\",name,message)\n",
    "\n",
    "wish(\"Good Morning!\", \"Durga\")\n"
   ]
  },
  {
   "cell_type": "markdown",
   "metadata": {},
   "source": [
    "## Keyward Arguments :-"
   ]
  },
  {
   "cell_type": "markdown",
   "metadata": {},
   "source": [
    "- In the case of Keyward arguments, we will provide argument values\n",
    "  directly by assigning values to the argument names in functions calls.\n",
    "\n",
    "\n",
    "##### Note: In the case of Keyward arguments, we can provide arguments in any order.\n"
   ]
  },
  {
   "cell_type": "code",
   "execution_count": 25,
   "metadata": {},
   "outputs": [
    {
     "name": "stdout",
     "output_type": "stream",
     "text": [
      "Hello Durga Good Morning!\n",
      "\n",
      "Hello Durga Good Morning!\n"
     ]
    }
   ],
   "source": [
    "def wish(name, message):\n",
    " print(\"Hello\",name,message)\n",
    "\n",
    "wish(name=\"Durga\", message=\"Good Morning!\")\n",
    "\n",
    "print()\n",
    "\n",
    "wish(message = \"Good Morning!\", name=\"Durga\")"
   ]
  },
  {
   "cell_type": "code",
   "execution_count": 2,
   "metadata": {},
   "outputs": [
    {
     "name": "stdout",
     "output_type": "stream",
     "text": [
      "60\n"
     ]
    }
   ],
   "source": [
    "def add(a,b,c):\n",
    " print(a+b+c)\n",
    "add(10,b = 20, c = 30)\n"
   ]
  },
  {
   "cell_type": "code",
   "execution_count": 4,
   "metadata": {},
   "outputs": [
    {
     "ename": "SyntaxError",
     "evalue": "positional argument follows keyword argument (<ipython-input-4-f72eb312e24f>, line 1)",
     "output_type": "error",
     "traceback": [
      "\u001b[1;36m  File \u001b[1;32m\"<ipython-input-4-f72eb312e24f>\"\u001b[1;36m, line \u001b[1;32m1\u001b[0m\n\u001b[1;33m    add(a = 10,20, 30)  # err : positional argument follows keyword argument\u001b[0m\n\u001b[1;37m               ^\u001b[0m\n\u001b[1;31mSyntaxError\u001b[0m\u001b[1;31m:\u001b[0m positional argument follows keyword argument\n"
     ]
    }
   ],
   "source": [
    "add(a = 10,20, 30)  # err : positional argument follows keyword argument"
   ]
  },
  {
   "cell_type": "markdown",
   "metadata": {},
   "source": [
    "## Default Arguments :-"
   ]
  },
  {
   "cell_type": "markdown",
   "metadata": {},
   "source": [
    "-  In the case of default arguments, we will provide initial values to the\n",
    "   arguments at Function definition, if user dont want to provide values to\n",
    "    these arguments then the initial values will be assigned to the\n",
    "   arguments, if user provides values to these arguments at function call\n",
    "   then new values will override default values and new values will be\n",
    "   existed to the arguments.\n"
   ]
  },
  {
   "cell_type": "code",
   "execution_count": 8,
   "metadata": {},
   "outputs": [
    {
     "name": "stdout",
     "output_type": "stream",
     "text": [
      "Hello Durga , Good Morning!\n",
      "Hello Anil , Good Morning!\n",
      "Hello Nag , Good Afternoon!\n",
      "Hello chandu , good\n"
     ]
    }
   ],
   "source": [
    "def wish(name=\"Durga\", message=\"Good Morning!\"):\n",
    " print(\"Hello\",name,\",\",message)\n",
    "wish()\n",
    "wish(\"Anil\")\n",
    "wish(\"Nag\", \"Good Afternoon!\")\n",
    "\n",
    "wish(\"chandu\",message =\"good\")"
   ]
  },
  {
   "cell_type": "code",
   "execution_count": 11,
   "metadata": {},
   "outputs": [
    {
     "name": "stdout",
     "output_type": "stream",
     "text": [
      "Account Details\n",
      "----------------------\n",
      "Account Number : abc123\n",
      "Account Holder Name : Durga\n",
      "Account Type : Savings\n",
      "Account Balance : 10000\n",
      "\n",
      "Account Details\n",
      "----------------------\n",
      "Account Number : xyz123\n",
      "Account Holder Name : Nag\n",
      "Account Type : Current\n",
      "Account Balance : 100000\n",
      "\n",
      "Account Details\n",
      "----------------------\n",
      "Account Number : 124hhh\n",
      "Account Holder Name : das\n",
      "Account Type : Savings\n",
      "Account Balance : 10000\n"
     ]
    }
   ],
   "source": [
    "def createAccount(accNo,accHolderName,accType=\"Savings\", balance=10000):\n",
    " print(\"Account Details\")\n",
    " print(\"----------------------\")\n",
    " print(\"Account Number :\",accNo)\n",
    " print(\"Account Holder Name :\",accHolderName)\n",
    " print(\"Account Type :\",accType)\n",
    " print(\"Account Balance :\",balance)\n",
    "createAccount(\"abc123\", \"Durga\")\n",
    "print()\n",
    "createAccount(\"xyz123\", \"Nag\", \"Current\",100000)\n",
    "\n",
    "print()\n",
    "createAccount(accHolderName=\"das\",accNo=\"124hhh\")"
   ]
  },
  {
   "cell_type": "code",
   "execution_count": 12,
   "metadata": {},
   "outputs": [
    {
     "name": "stdout",
     "output_type": "stream",
     "text": [
      "60\n"
     ]
    }
   ],
   "source": [
    "def add(a,b=20,c=30):\n",
    " print(a+b+c)\n",
    "add(10)"
   ]
  },
  {
   "cell_type": "code",
   "execution_count": 13,
   "metadata": {},
   "outputs": [
    {
     "ename": "SyntaxError",
     "evalue": "non-default argument follows default argument (<ipython-input-13-ad5caea2603b>, line 1)",
     "output_type": "error",
     "traceback": [
      "\u001b[1;36m  File \u001b[1;32m\"<ipython-input-13-ad5caea2603b>\"\u001b[1;36m, line \u001b[1;32m1\u001b[0m\n\u001b[1;33m    def add(a=10,b,c):\u001b[0m\n\u001b[1;37m            ^\u001b[0m\n\u001b[1;31mSyntaxError\u001b[0m\u001b[1;31m:\u001b[0m non-default argument follows default argument\n"
     ]
    }
   ],
   "source": [
    "def add(a=10,b,c):\n",
    " print(a+b+c)\n",
    "add(20,30)\n"
   ]
  },
  {
   "cell_type": "markdown",
   "metadata": {},
   "source": [
    "## Variable length Arguments :-\n"
   ]
  },
  {
   "cell_type": "markdown",
   "metadata": {},
   "source": [
    "- Syntax:\n",
    "-  def function(*n):\n",
    "\n",
    "#####  If we access the function which is having variable length arguments by passing n no of argument values then all the argument values will be stored in a tuple and it is refered by variable length argument name."
   ]
  },
  {
   "cell_type": "code",
   "execution_count": 17,
   "metadata": {},
   "outputs": [
    {
     "name": "stdout",
     "output_type": "stream",
     "text": [
      "No Of Arguments :  0\n",
      "Argument List : \n",
      "sum : 0\n",
      "-------------------------------\n",
      "\n",
      "No Of Arguments :  1\n",
      "Argument List : 10 \n",
      "sum : 10\n",
      "-------------------------------\n",
      "\n",
      "No Of Arguments :  2\n",
      "Argument List : 10 20 \n",
      "sum : 30\n",
      "-------------------------------\n",
      "\n",
      "No Of Arguments :  3\n",
      "Argument List : 10 20 30 \n",
      "sum : 60\n",
      "-------------------------------\n"
     ]
    }
   ],
   "source": [
    "def add(*n):                                   # *n ===>  \"n\" number of argument   , \" * \" means 0 ro, more element\n",
    " print(\"No Of Arguments : \",len(n))\n",
    " print(\"Argument List : \",end=\"\")\n",
    " result = 0                                              \n",
    " for x in n:\n",
    "     print(x,end=\" \")\n",
    "     result = result + x;\n",
    " print()\n",
    " print(\"sum :\",result)\n",
    " print(\"-------------------------------\")\n",
    "\n",
    "\n",
    "add()\n",
    "print()\n",
    "add(10)\n",
    "print()\n",
    "add(10,20)\n",
    "print()\n",
    "add(10,20,30)\n"
   ]
  },
  {
   "cell_type": "code",
   "execution_count": 18,
   "metadata": {},
   "outputs": [
    {
     "name": "stdout",
     "output_type": "stream",
     "text": [
      "(10, 20) 100 200\n"
     ]
    }
   ],
   "source": [
    "def add(*n,a=100,b=200):\n",
    " print(n,a,b)\n",
    "add(10,20)\n"
   ]
  },
  {
   "cell_type": "code",
   "execution_count": 19,
   "metadata": {},
   "outputs": [
    {
     "name": "stdout",
     "output_type": "stream",
     "text": [
      "(52, 34, 26, 'aaa', 'vcc')\n",
      "10\n",
      "20\n",
      "(52, 34, 26, 'aaa', 'vcc') 10 20\n"
     ]
    }
   ],
   "source": [
    "def fn (b=50,c=50,*a):\n",
    "    print(a)\n",
    "    print(b)\n",
    "    print(c)\n",
    "    print(a,b,c)\n",
    "\n",
    "fn(10,20,52,34,26,\"aaa\",\"vcc\")"
   ]
  },
  {
   "cell_type": "code",
   "execution_count": 16,
   "metadata": {},
   "outputs": [
    {
     "name": "stdout",
     "output_type": "stream",
     "text": [
      "Hello gg ('Welcome', 'to', 'GeeksforGeeks', 'hhiii', 'yooo')\n",
      "Welcome\n",
      "to\n",
      "GeeksforGeeks\n",
      "hhiii\n",
      "yooo\n"
     ]
    }
   ],
   "source": [
    "def myFun(a,*argv,b=\"gg\"):  \n",
    "        print (a,b,argv)\n",
    "        for arg in argv :\n",
    "            print(arg)\n",
    "        \n",
    "        \n",
    "myFun('Hello', 'Welcome', 'to', 'GeeksforGeeks',\"hhiii\",\"yooo\")  "
   ]
  },
  {
   "cell_type": "markdown",
   "metadata": {},
   "source": [
    "#### def function (**n)  :-\n",
    "\n",
    "- we can  call this function by pasing any number of keyword arguments . Internally these keyword argument will be stored inside  a dictionary (dict) ."
   ]
  },
  {
   "cell_type": "code",
   "execution_count": 13,
   "metadata": {},
   "outputs": [
    {
     "name": "stdout",
     "output_type": "stream",
     "text": [
      "n1 = 20\n",
      "n2 = 50\n",
      "n3 = 10\n",
      "n0 = 30\n",
      "\n",
      "\n",
      "rno = 100\n",
      "name = hero\n",
      "marks = 80\n",
      "subject = java\n"
     ]
    }
   ],
   "source": [
    "def dis(**keywordargument) :\n",
    "    for k ,v in keywordargument.items() :\n",
    "        print (k,\"=\",v)\n",
    "        \n",
    "\n",
    "dis(n1=20 ,n2 = 50 ,n3 = 10 , n0=30)\n",
    "print(\"\\n\")\n",
    "dis (rno=100 , name=\"hero\" , marks=80 , subject=\"java\")"
   ]
  },
  {
   "cell_type": "code",
   "execution_count": 18,
   "metadata": {},
   "outputs": [
    {
     "name": "stdout",
     "output_type": "stream",
     "text": [
      "keyword argument :**\n",
      "k = 1\n",
      "k2 = 5\n",
      "k7 = 5\n",
      "k3 = 100\n"
     ]
    }
   ],
   "source": [
    "def disc(a,b,**kwA):\n",
    "    print(a,b)\n",
    "    for x ,y in kwA.items() :\n",
    "        print(x,\"=\",y)\n",
    "        \n",
    "        \n",
    "disc(\"keyword\",\"argument :**\",k=1,k2=5,k7=5,k3=100)\n",
    "    "
   ]
  },
  {
   "cell_type": "markdown",
   "metadata": {},
   "source": [
    "##  Local Variables:\n",
    "-----\n",
    "\n",
    "\n",
    "- If we declare any variable inside a function then that variable is\n",
    "  called as Local variable, where Local variables are having scope upto\n",
    "  the respective function."
   ]
  },
  {
   "cell_type": "code",
   "execution_count": 25,
   "metadata": {},
   "outputs": [
    {
     "name": "stdout",
     "output_type": "stream",
     "text": [
      "\n",
      "\n",
      "a : 10\n",
      "b : 20\n",
      "ADD : 30\n",
      "\n",
      "\n",
      "a : 5\n",
      "b : 10\n",
      "MUL : 50\n"
     ]
    }
   ],
   "source": [
    "def add():\n",
    " a = 10                         # a and b local varriable \n",
    " b = 20\n",
    " print(\"a :\",a)\n",
    " print(\"b :\",b)\n",
    " print(\"ADD :\",(a+b))\n",
    "\n",
    "print(\"\\n\")\n",
    "\n",
    "def mul():\n",
    " a = 5\n",
    " b = 10\n",
    " print(\"a :\",a)\n",
    " print(\"b :\",b)\n",
    " print(\"MUL :\",(a*b))\n",
    "\n",
    "\n",
    "add()\n",
    "\n",
    "print(\"\\n\")\n",
    "\n",
    "mul()"
   ]
  },
  {
   "cell_type": "markdown",
   "metadata": {},
   "source": [
    "##   Global variables :\n",
    "- If we declare any variable in out side of the functions then that\n",
    "  variable is called as Global variable, where Global variables are having\n",
    "  scope through out the program , that is, in all the functions which are\n",
    "  existed in the present file."
   ]
  },
  {
   "cell_type": "code",
   "execution_count": 2,
   "metadata": {},
   "outputs": [
    {
     "name": "stdout",
     "output_type": "stream",
     "text": [
      "a : 10\n",
      "b : 5\n",
      "\n",
      "\n",
      "\n",
      "ADD : 15\n",
      "\n",
      "SUB : 5\n",
      "\n",
      "MUL : 50\n"
     ]
    }
   ],
   "source": [
    "a = 10\n",
    "b = 5\n",
    "print(\"a :\",a)\n",
    "print(\"b :\",b)\n",
    "\n",
    "print(\"\\n\")\n",
    "\n",
    "def add():\n",
    " print(\"ADD :\",(a+b))\n",
    "\n",
    "def sub():\n",
    " print(\"SUB :\",(a-b))\n",
    "\n",
    "def mul():\n",
    " print(\"MUL :\",(a*b))\n",
    "\n",
    "print()\n",
    "add()\n",
    "print()\n",
    "sub()\n",
    "print()\n",
    "mul()\n"
   ]
  },
  {
   "cell_type": "markdown",
   "metadata": {},
   "source": [
    "-  In python program, if we have variables at local and at global with\n",
    "the same name and with different values then if we access that variable\n",
    "in current function then PVM will access local variable value, PVM will\n",
    "not access Global variable value, but, in this context, if we want to\n",
    "access Global variable value then we have to use a predefined function\n",
    "like  globals()['VarName'] ."
   ]
  },
  {
   "cell_type": "markdown",
   "metadata": {},
   "source": [
    "#### globals()[\"VarName\"]  :"
   ]
  },
  {
   "cell_type": "code",
   "execution_count": 15,
   "metadata": {},
   "outputs": [
    {
     "name": "stdout",
     "output_type": "stream",
     "text": [
      "Local Variable Value :  20\n",
      "Global Variable Value :  10\n",
      "15\n"
     ]
    }
   ],
   "source": [
    "a = 10\n",
    "def function():\n",
    " a = 20\n",
    " print(\"Local Variable Value : \",a)  \n",
    "    \n",
    " print(\"Global Variable Value : \",globals()[\"a\"])\n",
    "function()\n",
    "\n",
    "def lo():\n",
    "    a=15 \n",
    "    print(a)\n",
    "    \n",
    "lo()   #''' If we access any variable in a function then PVM will search for\n",
    "        # that variable at local first, if that variable is not existed at local\n",
    "        # then PVM will search for it at Global. '''"
   ]
  },
  {
   "cell_type": "markdown",
   "metadata": {},
   "source": [
    "- In Python applications, if we want to make available global variable\n",
    "  inside a function for modifications then we have to use 'global'\n",
    "  keyword."
   ]
  },
  {
   "cell_type": "markdown",
   "metadata": {},
   "source": [
    "#### global : \n",
    " -  it is a keyword\n",
    " "
   ]
  },
  {
   "cell_type": "code",
   "execution_count": 12,
   "metadata": {},
   "outputs": [
    {
     "name": "stdout",
     "output_type": "stream",
     "text": [
      "20\n",
      "20\n"
     ]
    }
   ],
   "source": [
    "a = 10\n",
    "def function1():\n",
    " global a   \n",
    " a = 20\n",
    " print(a)\n",
    "\n",
    "\n",
    "def function2():\n",
    " print(a)\n",
    "function1()\n",
    "function2()   # a= 20 now as a global variable\n"
   ]
  },
  {
   "cell_type": "markdown",
   "metadata": {},
   "source": [
    "### Recursive Function  :\n",
    "- If we access a function with in the same function then that function\n",
    "is called as Recursive Function."
   ]
  },
  {
   "cell_type": "code",
   "execution_count": 17,
   "metadata": {},
   "outputs": [
    {
     "name": "stdout",
     "output_type": "stream",
     "text": [
      "Factorial of 5 : 120\n"
     ]
    }
   ],
   "source": [
    "def factorial(no):\n",
    " result = 1\n",
    " if no == 0:\n",
    "     result = 1\n",
    " else:\n",
    "     result = no * factorial(no-1)  # n(n-1)!   \n",
    " return result\n",
    "\n",
    "\n",
    "fact = factorial(5)\n",
    "print(\"Factorial of 5 :\",fact)\n"
   ]
  },
  {
   "cell_type": "code",
   "execution_count": 23,
   "metadata": {},
   "outputs": [
    {
     "name": "stdout",
     "output_type": "stream",
     "text": [
      "fact of :6\n",
      "720\n"
     ]
    }
   ],
   "source": [
    "# in for loop use\n",
    "\n",
    "N =int(input(\"fact of :\")) \n",
    "r = 1\n",
    "for x in range(N,0,-1): \n",
    "    r = r*x\n",
    "print(r)\n",
    "    \n",
    "\n",
    "    \n",
    "\n",
    "        "
   ]
  },
  {
   "cell_type": "markdown",
   "metadata": {},
   "source": [
    "# Anonymous Functions  (Lambda) :  \n",
    "------"
   ]
  },
  {
   "cell_type": "markdown",
   "metadata": {},
   "source": [
    "-   Name-less Function is called as Anonymous Function.\n",
    "-   Anonymous Functions are also called as Lambdas.\n",
    "-   In general, we will use Lambdas when we want to pass one function as\n",
    "parameter to another function.\n",
    "-   In python applications, Lambdas are able to provide less code and\n",
    "more Redability.\n",
    "-   To use lambdas in python applications we have to use the following\n",
    "two steps.\n"
   ]
  },
  {
   "cell_type": "markdown",
   "metadata": {},
   "source": [
    "-  1. Create lambda:\n",
    "-        var = lambda argList: Expression\n",
    "-  2. Access Lambda:\n",
    "-         var(argValues)\n"
   ]
  },
  {
   "cell_type": "code",
   "execution_count": 32,
   "metadata": {},
   "outputs": [
    {
     "name": "stdout",
     "output_type": "stream",
     "text": [
      "Hello User, Good Afternoon.\n",
      "\n"
     ]
    },
    {
     "data": {
      "text/plain": [
       "('Hello User,', 'Good Evening.')"
      ]
     },
     "execution_count": 32,
     "metadata": {},
     "output_type": "execute_result"
    }
   ],
   "source": [
    "def wish(message):\n",
    " print(\"Hello User,\",message)\n",
    "\n",
    "wish(\"Good Afternoon.\")\n",
    "\n",
    "print()\n",
    "\n",
    "wishUser = lambda message: (\"Hello User,\",message)\n",
    "\n",
    "wishUser(\"Good Evening.\")\n",
    "\n",
    "# print()\n",
    "\n"
   ]
  },
  {
   "cell_type": "code",
   "execution_count": 33,
   "metadata": {},
   "outputs": [
    {
     "name": "stdout",
     "output_type": "stream",
     "text": [
      "Hello User, good\n"
     ]
    }
   ],
   "source": [
    "w = lambda message : print(\"Hello User,\",message)\n",
    "\n",
    "w(\"good\")"
   ]
  },
  {
   "cell_type": "markdown",
   "metadata": {},
   "source": [
    "- In Python applications, in lambdas , bydefault, expression results\n",
    "are returned, it is not required to use 'return' statements."
   ]
  },
  {
   "cell_type": "code",
   "execution_count": 34,
   "metadata": {},
   "outputs": [
    {
     "name": "stdout",
     "output_type": "stream",
     "text": [
      "Hello User,Good Afternoon.\n",
      "Hello User,Good Evening.\n"
     ]
    }
   ],
   "source": [
    "def wish(message):\n",
    " return \"Hello User,\"+message\n",
    "print(wish(\"Good Afternoon.\"))\n",
    "\n",
    "print()\n",
    "\n",
    "wishLambda = lambda message: \"Hello User,\"+message\n",
    "print(wishLambda(\"Good Evening.\"))\n"
   ]
  },
  {
   "cell_type": "code",
   "execution_count": 35,
   "metadata": {},
   "outputs": [
    {
     "name": "stdout",
     "output_type": "stream",
     "text": [
      "ADD : 30\n"
     ]
    }
   ],
   "source": [
    "add_Lambda = lambda a,b: a+b\n",
    "\n",
    "print(\"ADD :\",add_Lambda(10,20))\n"
   ]
  },
  {
   "cell_type": "code",
   "execution_count": 37,
   "metadata": {},
   "outputs": [
    {
     "name": "stdout",
     "output_type": "stream",
     "text": [
      "Biggest : 20\n",
      "BiggestL : 20\n"
     ]
    }
   ],
   "source": [
    "def biggest(a,b):\n",
    "     if a < b:\n",
    "        return b\n",
    "     else:\n",
    "        return a\n",
    "print(\"Biggest :\",biggest(10,20))\n",
    "\n",
    "biggestLambda = lambda a,b: b if a < b else a\n",
    "print(\"BiggestL :\",biggestLambda(10,20))\n"
   ]
  },
  {
   "cell_type": "code",
   "execution_count": 38,
   "metadata": {},
   "outputs": [
    {
     "name": "stdout",
     "output_type": "stream",
     "text": [
      "Biggest :  20\n",
      "Biggest :  30\n"
     ]
    }
   ],
   "source": [
    "#With out Lambdas \n",
    "\n",
    "def bigger(a,b):\n",
    " return a if a > b else b\n",
    "\n",
    "def compare(a,b,big=bigger):\n",
    " print(\"Biggest : \",big(a,b))\n",
    "compare(10,20)\n",
    "compare(20,30)\n"
   ]
  },
  {
   "cell_type": "code",
   "execution_count": 2,
   "metadata": {},
   "outputs": [
    {
     "name": "stdout",
     "output_type": "stream",
     "text": [
      "Biggest :  20\n",
      "Biggest :  40\n"
     ]
    }
   ],
   "source": [
    "#With Lamdas\n",
    "\n",
    "def compare(a,b,big=lambda x,y: x if x > y else y): print(\"Biggest : \",big(a,b))\n",
    "    \n",
    "compare(10,20)\n",
    "compare(40,30)\n"
   ]
  },
  {
   "cell_type": "markdown",
   "metadata": {},
   "source": [
    "-  In Python, some of the predefined functions required functions as\n",
    "parameters.\n",
    "- EX: filter(), map(), reduce(),..."
   ]
  },
  {
   "cell_type": "markdown",
   "metadata": {},
   "source": [
    "### filter() :\n",
    "------\n",
    "-  It will take a function as parameter where the parameter function\n",
    "will return True or False value as return value.\n",
    "- Filter function will take sequence as parameter and it will filter\n",
    "some values of the sequence.\n",
    "- syntax :\n",
    "filter(function, sequence)"
   ]
  },
  {
   "cell_type": "code",
   "execution_count": 9,
   "metadata": {},
   "outputs": [
    {
     "name": "stdout",
     "output_type": "stream",
     "text": [
      "10\n",
      "20\n",
      "30\n",
      "40\n",
      "50\n",
      "\n",
      "\n",
      "5\n",
      "15\n",
      "25\n",
      "35\n",
      "45\n"
     ]
    }
   ],
   "source": [
    "list = [5,10,15,20,25,30,35,40,45,50]\n",
    "\n",
    "val = filter(lambda x: x%2 == 0, list)\n",
    "\n",
    "for x in val:\n",
    " print(x)\n",
    "\n",
    "print(\"\\n\")\n",
    "val = filter(lambda x: x%2 != 0, list)\n",
    "for x in val:\n",
    " print(x)\n"
   ]
  },
  {
   "cell_type": "code",
   "execution_count": 17,
   "metadata": {},
   "outputs": [
    {
     "name": "stdout",
     "output_type": "stream",
     "text": [
      "5 10 15 20 25 30 35 40 45 50 "
     ]
    }
   ],
   "source": [
    "\n",
    "list = [5,10,15,20,25,30,35,40,45,50,55,60,65,70,75,80,85,90,95,100]\n",
    "result = filter(lambda x: x<=50 , list)\n",
    "for x in result:\n",
    " print(x,end=\" \")\n"
   ]
  },
  {
   "cell_type": "code",
   "execution_count": 24,
   "metadata": {},
   "outputs": [
    {
     "name": "stdout",
     "output_type": "stream",
     "text": [
      "26 28 30 32 34 36 38 40 42 44 46 48 \n",
      "cnt no : 12\n"
     ]
    }
   ],
   "source": [
    "t = range(25,50)\n",
    "r = filter (lambda n : n>=25 and n<50 and n % 2 == 0,t )\n",
    "\n",
    "c = 0\n",
    "for  v in r :\n",
    "    print(v , end=\" \")\n",
    "    c=c+1\n",
    "print()    \n",
    "print(\"cnt no :\",c)"
   ]
  },
  {
   "cell_type": "markdown",
   "metadata": {},
   "source": [
    "### map() :\n",
    "----------\n",
    "- It will take an expression in the form of a function and a sequence\n",
    "to perform an operation over all the elements of the sequence as an\n",
    "input and it will return all the elements which are having\n",
    "manipulations.\n",
    "- map(function, sequence)\n"
   ]
  },
  {
   "cell_type": "code",
   "execution_count": 34,
   "metadata": {},
   "outputs": [
    {
     "name": "stdout",
     "output_type": "stream",
     "text": [
      "10\n",
      "15\n",
      "20\n",
      "25\n",
      "30\n",
      "35\n",
      "40\n",
      "45\n",
      "50\n",
      "55\n"
     ]
    }
   ],
   "source": [
    "list = [5,10,15,20,25,30,35,40,45,50]\n",
    "\n",
    "# result = map(lambda x: x+5 , list)\n",
    "\n",
    "result = map(lambda x: x+5 , range(5,51,5))\n",
    "for x in result:\n",
    " print(x)"
   ]
  },
  {
   "cell_type": "code",
   "execution_count": 42,
   "metadata": {},
   "outputs": [
    {
     "name": "stdout",
     "output_type": "stream",
     "text": [
      "[5, 10, 15, 20, 25, 30, 35, 40, 45, 50]\n",
      "10 20 30 40 50 60 70 80 90 100 "
     ]
    }
   ],
   "source": [
    "list = [5,10,15,20,25,30,35,40,45,50]\n",
    "print(list)\n",
    "\n",
    "result = map(lambda x: 2*x, list)\n",
    "\n",
    "\n",
    "for x in result:\n",
    " print(x,end=\" \")\n"
   ]
  },
  {
   "cell_type": "code",
   "execution_count": 50,
   "metadata": {},
   "outputs": [
    {
     "ename": "TypeError",
     "evalue": "'list' object is not callable",
     "output_type": "error",
     "traceback": [
      "\u001b[1;31m---------------------------------------------------------------------------\u001b[0m",
      "\u001b[1;31mTypeError\u001b[0m                                 Traceback (most recent call last)",
      "\u001b[1;32m<ipython-input-50-e702dbf77eb5>\u001b[0m in \u001b[0;36m<module>\u001b[1;34m\u001b[0m\n\u001b[0;32m      5\u001b[0m \u001b[0mnumbers\u001b[0m \u001b[1;33m=\u001b[0m \u001b[1;33m(\u001b[0m\u001b[1;36m1\u001b[0m\u001b[1;33m,\u001b[0m \u001b[1;36m2\u001b[0m\u001b[1;33m,\u001b[0m \u001b[1;36m3\u001b[0m\u001b[1;33m,\u001b[0m \u001b[1;36m4\u001b[0m\u001b[1;33m)\u001b[0m\u001b[1;33m\u001b[0m\u001b[1;33m\u001b[0m\u001b[0m\n\u001b[0;32m      6\u001b[0m \u001b[0mresult\u001b[0m \u001b[1;33m=\u001b[0m \u001b[0mmap\u001b[0m\u001b[1;33m(\u001b[0m\u001b[0maddition\u001b[0m\u001b[1;33m,\u001b[0m \u001b[0mnumbers\u001b[0m\u001b[1;33m)\u001b[0m\u001b[1;33m\u001b[0m\u001b[1;33m\u001b[0m\u001b[0m\n\u001b[1;32m----> 7\u001b[1;33m \u001b[0mprint\u001b[0m\u001b[1;33m(\u001b[0m\u001b[0mlist\u001b[0m\u001b[1;33m(\u001b[0m\u001b[0mresult\u001b[0m\u001b[1;33m)\u001b[0m\u001b[1;33m)\u001b[0m                 \u001b[1;31m##  ans: [2,4,6,8]\u001b[0m\u001b[1;33m\u001b[0m\u001b[1;33m\u001b[0m\u001b[0m\n\u001b[0m",
      "\u001b[1;31mTypeError\u001b[0m: 'list' object is not callable"
     ]
    }
   ],
   "source": [
    "def addition(n): \n",
    "    return n + n \n",
    "  \n",
    "# We double all numbers using map() \n",
    "numbers = (1, 2, 3, 4) \n",
    "result = map(addition, numbers) \n",
    "print(list(result))                 ##  ans: [2,4,6,8]"
   ]
  },
  {
   "cell_type": "code",
   "execution_count": 51,
   "metadata": {},
   "outputs": [
    {
     "ename": "TypeError",
     "evalue": "'list' object is not callable",
     "output_type": "error",
     "traceback": [
      "\u001b[1;31m---------------------------------------------------------------------------\u001b[0m",
      "\u001b[1;31mTypeError\u001b[0m                                 Traceback (most recent call last)",
      "\u001b[1;32m<ipython-input-51-7df7f6e18522>\u001b[0m in \u001b[0;36m<module>\u001b[1;34m\u001b[0m\n\u001b[0;32m      3\u001b[0m \u001b[0mnumbers\u001b[0m \u001b[1;33m=\u001b[0m \u001b[1;33m(\u001b[0m\u001b[1;36m1\u001b[0m\u001b[1;33m,\u001b[0m \u001b[1;36m2\u001b[0m\u001b[1;33m,\u001b[0m \u001b[1;36m3\u001b[0m\u001b[1;33m,\u001b[0m \u001b[1;36m4\u001b[0m\u001b[1;33m)\u001b[0m\u001b[1;33m\u001b[0m\u001b[1;33m\u001b[0m\u001b[0m\n\u001b[0;32m      4\u001b[0m \u001b[0mresult\u001b[0m \u001b[1;33m=\u001b[0m \u001b[0mmap\u001b[0m\u001b[1;33m(\u001b[0m\u001b[1;32mlambda\u001b[0m \u001b[0mx\u001b[0m\u001b[1;33m:\u001b[0m \u001b[0mx\u001b[0m \u001b[1;33m+\u001b[0m \u001b[0mx\u001b[0m\u001b[1;33m,\u001b[0m \u001b[0mnumbers\u001b[0m\u001b[1;33m)\u001b[0m\u001b[1;33m\u001b[0m\u001b[1;33m\u001b[0m\u001b[0m\n\u001b[1;32m----> 5\u001b[1;33m \u001b[0mprint\u001b[0m\u001b[1;33m(\u001b[0m\u001b[0mlist\u001b[0m\u001b[1;33m(\u001b[0m\u001b[0mresult\u001b[0m\u001b[1;33m)\u001b[0m\u001b[1;33m)\u001b[0m   \u001b[1;31m##  ans: [2,4,6,8]\u001b[0m\u001b[1;33m\u001b[0m\u001b[1;33m\u001b[0m\u001b[0m\n\u001b[0m",
      "\u001b[1;31mTypeError\u001b[0m: 'list' object is not callable"
     ]
    }
   ],
   "source": [
    "# Double all numbers using map and lambda \n",
    "  \n",
    "numbers = (1, 2, 3, 4) \n",
    "result = map(lambda x: x + x, numbers) \n",
    "print(list(result))   ##  ans: [2,4,6,8]"
   ]
  },
  {
   "cell_type": "code",
   "execution_count": null,
   "metadata": {},
   "outputs": [],
   "source": [
    "\n"
   ]
  },
  {
   "cell_type": "code",
   "execution_count": 49,
   "metadata": {},
   "outputs": [
    {
     "name": "stdout",
     "output_type": "stream",
     "text": [
      "22\n"
     ]
    }
   ],
   "source": [
    "def myfunc(n):\n",
    "  return lambda a : a * n\n",
    "\n",
    "mydoubler = myfunc(2)   # n==2\n",
    "\n",
    "print(mydoubler(11))    # a == 11"
   ]
  },
  {
   "cell_type": "markdown",
   "metadata": {},
   "source": [
    "### reduce()  :\n",
    "-----\n",
    "-  It will reduce the provided sequence of elements into single value.\n",
    "-  Syntax: reduce(function, sequence)\n"
   ]
  },
  {
   "cell_type": "code",
   "execution_count": 2,
   "metadata": {},
   "outputs": [
    {
     "name": "stdout",
     "output_type": "stream",
     "text": [
      "10\n",
      "24\n"
     ]
    }
   ],
   "source": [
    "from functools import *  #  *  means all module call\n",
    "list = [1,2,3,4]\n",
    "\n",
    "result = reduce(lambda x,y:x+y, list)\n",
    "print(result)                              # x=1,y=2 ==> x=1+2=3 ,y=3 ==> x=3+3=6 ,y=4 ==>10\n",
    "\n",
    "r = reduce(lambda a,b :a*b , list)\n",
    "print(r)"
   ]
  },
  {
   "cell_type": "markdown",
   "metadata": {},
   "source": [
    "### \"alias \" name create  :\n",
    "\n",
    "-  In Python applications, we are to provide alias names to the functions.\n",
    "-  To perform function aliasing we have to assign existed function name to\n",
    "another name.\n",
    "-  Note: After providing alias name to the function we are able to use both\n",
    "new name and old name to access the function.\n"
   ]
  },
  {
   "cell_type": "code",
   "execution_count": 6,
   "metadata": {},
   "outputs": [
    {
     "name": "stdout",
     "output_type": "stream",
     "text": [
      "ADD : 15\n",
      "SUB : 5\n",
      "MUL : 50\n",
      "\n",
      "ADD : 30\n",
      "SUB : 10\n",
      "MUL : 200\n",
      "\n",
      "ADD : 50\n",
      "SUB : 10\n",
      "MUL : 600\n"
     ]
    }
   ],
   "source": [
    "def calculate(a,b):\n",
    " print(\"ADD :\", (a + b))\n",
    " print(\"SUB :\", (a - b))\n",
    " print(\"MUL :\", (a * b))\n",
    "\n",
    "calculate(10,5)\n",
    "print()\n",
    "operate = calculate     # operate is alias name of calculate\n",
    "operate(20,10)\n",
    "print()\n",
    "calculate(30,20)\n"
   ]
  },
  {
   "cell_type": "markdown",
   "metadata": {},
   "source": [
    "### delete function :\n",
    "\n",
    "- In Python applications, after defining a function we are able to\n",
    "delete that function from Python Application\n",
    "- Syntax: del functionName"
   ]
  },
  {
   "cell_type": "code",
   "execution_count": 7,
   "metadata": {},
   "outputs": [
    {
     "name": "stdout",
     "output_type": "stream",
     "text": [
      "ADD : 30\n",
      "\n"
     ]
    },
    {
     "ename": "NameError",
     "evalue": "name 'add' is not defined",
     "output_type": "error",
     "traceback": [
      "\u001b[1;31m---------------------------------------------------------------------------\u001b[0m",
      "\u001b[1;31mNameError\u001b[0m                                 Traceback (most recent call last)",
      "\u001b[1;32m<ipython-input-7-f0ee1935cfa8>\u001b[0m in \u001b[0;36m<module>\u001b[1;34m\u001b[0m\n\u001b[0;32m      6\u001b[0m \u001b[1;33m\u001b[0m\u001b[0m\n\u001b[0;32m      7\u001b[0m \u001b[1;32mdel\u001b[0m \u001b[0madd\u001b[0m\u001b[1;33m\u001b[0m\u001b[1;33m\u001b[0m\u001b[0m\n\u001b[1;32m----> 8\u001b[1;33m \u001b[0madd\u001b[0m\u001b[1;33m(\u001b[0m\u001b[1;36m10\u001b[0m\u001b[1;33m,\u001b[0m\u001b[1;36m20\u001b[0m\u001b[1;33m)\u001b[0m   \u001b[1;31m# Error\u001b[0m\u001b[1;33m\u001b[0m\u001b[1;33m\u001b[0m\u001b[0m\n\u001b[0m",
      "\u001b[1;31mNameError\u001b[0m: name 'add' is not defined"
     ]
    }
   ],
   "source": [
    "def add(a,b):\n",
    " print(\"ADD :\",(a+b))\n",
    "\n",
    "add(10,20)\n",
    "print()\n",
    "\n",
    "del add\n",
    "add(10,20)   # Error\n"
   ]
  },
  {
   "cell_type": "markdown",
   "metadata": {},
   "source": [
    " ###  nested functions  :\n",
    " ------------------------------------"
   ]
  },
  {
   "cell_type": "code",
   "execution_count": 26,
   "metadata": {},
   "outputs": [
    {
     "name": "stdout",
     "output_type": "stream",
     "text": [
      "50\n"
     ]
    }
   ],
   "source": [
    "def num1(x):\n",
    "   def num2(y):\n",
    "      return x * y\n",
    "   return num2\n",
    "res = num1(10)\n",
    "\n",
    "print(res(5))\n",
    "\n",
    "\n",
    " "
   ]
  },
  {
   "cell_type": "code",
   "execution_count": 4,
   "metadata": {},
   "outputs": [
    {
     "name": "stdout",
     "output_type": "stream",
     "text": [
      "Hello from outer function\n",
      "Hello from inner function\n"
     ]
    }
   ],
   "source": [
    "def function1(): # outer function\n",
    "    print (\"Hello from outer function\")\n",
    "    def function2(): # inner function\n",
    "        print (\"Hello from inner function\")\n",
    "        \n",
    "        \n",
    "    function2()\n",
    "\n",
    "function1()"
   ]
  },
  {
   "cell_type": "code",
   "execution_count": 40,
   "metadata": {},
   "outputs": [
    {
     "name": "stdout",
     "output_type": "stream",
     "text": [
      "Withdraw Success\n",
      "Transfer Funds Success\n",
      "Deposit Success\n"
     ]
    }
   ],
   "source": [
    "def doTransaction():\n",
    "     def deposit():\n",
    "         print(\"Deposit Success\")\n",
    "     def withdraw():\n",
    "         print(\"Withdraw Success\")\n",
    "     def transferFunds():\n",
    "         print(\"Transfer Funds Success\")\n",
    "     return  withdraw, transferFunds,deposit\n",
    "\n",
    "tx1,tx2,tx3 = doTransaction()\n",
    "tx1()\n",
    "tx2()\n",
    "tx3()\n",
    "     "
   ]
  },
  {
   "cell_type": "code",
   "execution_count": 1,
   "metadata": {},
   "outputs": [
    {
     "name": "stdout",
     "output_type": "stream",
     "text": [
      "hiiii\n"
     ]
    }
   ],
   "source": [
    "print(\"hiiii\")"
   ]
  },
  {
   "cell_type": "code",
   "execution_count": null,
   "metadata": {},
   "outputs": [],
   "source": []
  }
 ],
 "metadata": {
  "kernelspec": {
   "display_name": "Python 3",
   "language": "python",
   "name": "python3"
  },
  "language_info": {
   "codemirror_mode": {
    "name": "ipython",
    "version": 3
   },
   "file_extension": ".py",
   "mimetype": "text/x-python",
   "name": "python",
   "nbconvert_exporter": "python",
   "pygments_lexer": "ipython3",
   "version": "3.8.1"
  }
 },
 "nbformat": 4,
 "nbformat_minor": 4
}
