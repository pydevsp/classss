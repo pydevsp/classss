{
 "cells": [
  {
   "cell_type": "markdown",
   "metadata": {},
   "source": [
    "# Regular Expression:\n",
    "-------------------\n",
    "- In general, in applications, if we want to check or compare a string w.r.t a particular pattern or format then we have to use \"Regular Expressions\".\n",
    "    - EX: Checking Whether a Mobile is valid mobile number of not.\n",
    "    - EX: Checking whether an Email ID is valid or not.\n",
    "    - EX: Checking whether Date of Birth value is a valid Date or not.\n",
    "- 1. Data Validations\n",
    "- 2. Pattern matching Applications\n",
    "- 3. Network Applications\n",
    "- 4. AI and Nueral Networks Applications\n",
    "- 5. Communication Protocols TCP/IP, UDP,....\n",
    "- 6. Compilers and Interpretors    "
   ]
  },
  {
   "cell_type": "markdown",
   "metadata": {},
   "source": [
    "- Regular Expressions related things in python has provided predefined library in the form of an inbuilt module \"re\".\n",
    "###  - 1. Prepare pattern by using compile()\n",
    "         ex :- pattern = re.compile(\"ab\")\n",
    "###  - 2. Find all matches of the pattern over the target string by using finditer() function.\n",
    "         ex :- matcher = pattern.finditer(\"abababab\")\n",
    "    - Where finditer() function will identify all matches of the pattern over the target string and it will create Match object for each and every match and it will return an Iterator with all match objects.\n",
    "### - 3. get Start index , end index of each and every match and the matched group of characters from match object.\n",
    "         - start() : To get start index of thematch\n",
    "         - end() : To get end_index+1 of the match\n",
    "         - group(): sequence of characters of the match"
   ]
  },
  {
   "cell_type": "code",
   "execution_count": 8,
   "metadata": {},
   "outputs": [
    {
     "name": "stdout",
     "output_type": "stream",
     "text": [
      "ab ====> 0 ====> 2\n",
      "ab ====> 2 ====> 4\n",
      "ab ====> 4 ====> 6\n",
      "ab ====> 6 ====> 8\n"
     ]
    }
   ],
   "source": [
    "import re\n",
    "ptn = re.compile(\"ab\")\n",
    "matcher = ptn.finditer(\"abababab\")\n",
    "\n",
    "for match in matcher :\n",
    "    print(match.group() , \"====>\" , match.start() , \"====>\" , match.end())"
   ]
  },
  {
   "cell_type": "code",
   "execution_count": 10,
   "metadata": {},
   "outputs": [
    {
     "name": "stdout",
     "output_type": "stream",
     "text": [
      "ab ====> 0 ====> 1\n",
      "ab ====> 2 ====> 3\n",
      "ab ====> 4 ====> 5\n",
      "ab ====> 6 ====> 7\n"
     ]
    }
   ],
   "source": [
    "import re\n",
    "ptn = re.compile(\"ab\")\n",
    "matcher = ptn.finditer(\"abababab\")\n",
    "for match in matcher :\n",
    "    print(match.group() , \"====>\" , match.start() , \"====>\" , match.end()-1)"
   ]
  },
  {
   "cell_type": "code",
   "execution_count": 12,
   "metadata": {},
   "outputs": [
    {
     "name": "stdout",
     "output_type": "stream",
     "text": [
      "ab ====> 0 ====> 1\n",
      "ab ====> 4 ====> 5\n",
      "ab ====> 6 ====> 7\n"
     ]
    }
   ],
   "source": [
    "import re\n",
    "ptn = re.compile(\"ab\")\n",
    "matcher = ptn.finditer(\"abadabab\")\n",
    "for match in matcher :\n",
    "    print(match.group() , \"====>\" , match.start() , \"====>\" , match.end()-1)"
   ]
  },
  {
   "cell_type": "markdown",
   "metadata": {},
   "source": [
    "### with out compile()  function :"
   ]
  },
  {
   "cell_type": "code",
   "execution_count": 13,
   "metadata": {},
   "outputs": [
    {
     "name": "stdout",
     "output_type": "stream",
     "text": [
      "ab ====> 0 ====> 1\n",
      "ab ====> 4 ====> 5\n",
      "ab ====> 6 ====> 7\n"
     ]
    }
   ],
   "source": [
    "import re\n",
    "matcher = re.finditer(\"ab\" , \"abadabab123\")\n",
    "for match in matcher :\n",
    "    print(match.group() , \"====>\" , match.start() , \"====>\" , match.end()-1)"
   ]
  },
  {
   "cell_type": "markdown",
   "metadata": {},
   "source": [
    "### Occurences  counting :"
   ]
  },
  {
   "cell_type": "code",
   "execution_count": 14,
   "metadata": {},
   "outputs": [
    {
     "name": "stdout",
     "output_type": "stream",
     "text": [
      "12 ====> 0 ====> 1\n",
      "12 ====> 3 ====> 4\n",
      "12 ====> 5 ====> 6\n",
      "12 ====> 10 ====> 11\n",
      "no of Occurences : 4\n"
     ]
    }
   ],
   "source": [
    "import re\n",
    "\n",
    "count = 0\n",
    "matcher = re.finditer(\"12\" , \"1241212229123\")\n",
    "for match in matcher :\n",
    "    count = count+1\n",
    "    print(match.group() , \"====>\" , match.start() , \"====>\" , match.end()-1)\n",
    "print(\"no of Occurences :\",count)    \n",
    "    "
   ]
  },
  {
   "cell_type": "code",
   "execution_count": 26,
   "metadata": {},
   "outputs": [
    {
     "name": "stdout",
     "output_type": "stream",
     "text": [
      "12 ====> 0 ====> 1\n",
      "12 ====> 3 ====> 4\n",
      "12 ====> 5 ====> 6\n",
      "12 ====> 10 ====> 11\n",
      "no of Occurences : 4\n"
     ]
    }
   ],
   "source": [
    "import re\n",
    "\n",
    "count = 0\n",
    "pttn = re.compile(\"12\",3)\n",
    "matcher = pttn.finditer(\"1241212229123\")\n",
    "for match in matcher :\n",
    "    count = count+1\n",
    "    print(match.group() , \"====>\" , match.start() , \"====>\" , match.end()-1)\n",
    "print(\"no of Occurences :\",count)    \n",
    "    "
   ]
  },
  {
   "cell_type": "markdown",
   "metadata": {},
   "source": [
    "## Q)Find the no of occurences of the word Durga and its starting and ending positions in String data ?"
   ]
  },
  {
   "cell_type": "code",
   "execution_count": 28,
   "metadata": {},
   "outputs": [
    {
     "name": "stdout",
     "output_type": "stream",
     "text": [
      "0 ---> 4 ---> Durga\n",
      "59 ---> 63 ---> Durga\n",
      "104 ---> 108 ---> Durga\n",
      "166 ---> 170 ---> Durga\n",
      "No Of occurences : 4\n"
     ]
    }
   ],
   "source": [
    "import re\n",
    "\n",
    "data = '''Durga Software Solutions is very good Org for IT Courses, \n",
    "Durga Software Solutions has no of branches, Durga Software Solutions has very\n",
    "good trainer in the form of Durga sir'''\n",
    "\n",
    "pattern = \"Durga\"\n",
    "matcher = re.finditer(pattern,data)\n",
    "\n",
    "count = 0\n",
    "for match in matcher:\n",
    "     count = count + 1\n",
    "     print(match.start(),\"--->\",match.end()-1,\"--->\",match.group())\n",
    "print(\"No Of occurences :\",count)"
   ]
  },
  {
   "cell_type": "markdown",
   "metadata": {},
   "source": [
    "## Q)Find the no of occurences of the word Durga and its starting and ending positions in String data existed in a text file?\n"
   ]
  },
  {
   "cell_type": "code",
   "execution_count": 29,
   "metadata": {},
   "outputs": [
    {
     "name": "stdout",
     "output_type": "stream",
     "text": [
      "0 ---> 4 ---> Durga\n",
      "58 ---> 62 ---> Durga\n",
      "102 ---> 106 ---> Durga\n",
      "28 ---> 32 ---> Durga\n",
      "No of Occurences : 4\n"
     ]
    }
   ],
   "source": [
    "import re\n",
    "file = open(\"c:/classss/ABC/redata.txt\",\"r\")\n",
    "pattern = \"Durga\"\n",
    "count = 0\n",
    "for line in file:\n",
    "    matcher = re.finditer(pattern,line)\n",
    "    for match in matcher:\n",
    "        count = count + 1\n",
    "        print(match.start() , \"--->\" , match.end()-1 , \"--->\" , match.group())\n",
    "print(\"No of Occurences :\",count)\n"
   ]
  },
  {
   "cell_type": "markdown",
   "metadata": {},
   "source": [
    "## Character Classes:\n",
    "------------------\n",
    "- The main intention of Character classes is to search for group of characters in tarhet string."
   ]
  },
  {
   "cell_type": "markdown",
   "metadata": {},
   "source": [
    "- []         ====> Used to indicate a set of characters. In a set .\n",
    "- a          ----> It will find the match with exactly 'a'\n",
    "- [abc]      ----> It will find the match for either a or b or c\n",
    "- [^abc]      ---> It will find the match for the elements except a, b anc c.\n",
    "- [a-z]      ----> It will find the match for All lower case characters\n",
    "- [A-Z]      ----> It will find the match for all Upper case characters\n",
    "- [a-zA-Z]    ---> It will find the match for all lowerr case and upper case matches.\n",
    "- [0-9]     -----> It will find the match for all digits.\n",
    "- [a-zA-Z0-9] ---> It will find the match for all lower case , upper case characters and digits.\n",
    "- .  ------------> It will find the match for all characters , dogots and special symbols."
   ]
  },
  {
   "cell_type": "code",
   "execution_count": 31,
   "metadata": {},
   "outputs": [
    {
     "name": "stdout",
     "output_type": "stream",
     "text": [
      "0 ---> 0 ---> a\n",
      "14 ---> 14 ---> a\n"
     ]
    }
   ],
   "source": [
    "import re\n",
    "data = \"abc123xyz@durgasoft.com\"\n",
    "matcher = re.finditer(\"a\",data)\n",
    "for match in matcher:\n",
    "    print(match.start(),\"--->\", match.end()-1,\"--->\",match.group())"
   ]
  },
  {
   "cell_type": "code",
   "execution_count": 32,
   "metadata": {},
   "outputs": [
    {
     "name": "stdout",
     "output_type": "stream",
     "text": [
      "0 ---> 0 ---> a\n",
      "1 ---> 1 ---> b\n",
      "2 ---> 2 ---> c\n",
      "6 ---> 6 ---> b\n",
      "7 ---> 7 ---> c\n",
      "8 ---> 8 ---> a\n",
      "14 ---> 14 ---> a\n",
      "20 ---> 20 ---> c\n"
     ]
    }
   ],
   "source": [
    "import re\n",
    "data = \"abc123bca@durgasoft.com\"\n",
    "matcher = re.finditer(\"[abc]\",data)          ### a,b  or, c\n",
    "\n",
    "for match in matcher:\n",
    "    print(match.start(),\"--->\", match.end()-1,\"--->\",match.group())"
   ]
  },
  {
   "cell_type": "code",
   "execution_count": 43,
   "metadata": {},
   "outputs": [
    {
     "name": "stdout",
     "output_type": "stream",
     "text": [
      "3 ---> 3 ---> 1\n",
      "4 ---> 4 ---> 2\n",
      "5 ---> 5 ---> 3\n",
      "9 ---> 9 ---> @\n",
      "10 ---> 10 ---> d\n",
      "11 ---> 11 ---> u\n",
      "12 ---> 12 ---> r\n",
      "13 ---> 13 ---> g\n",
      "15 ---> 15 ---> s\n",
      "16 ---> 16 ---> o\n",
      "17 ---> 17 ---> f\n",
      "18 ---> 18 ---> t\n",
      "19 ---> 19 ---> .\n",
      "21 ---> 21 ---> o\n",
      "22 ---> 22 ---> m\n"
     ]
    }
   ],
   "source": [
    "import re\n",
    "data = \"abc123bca@durgasoft.com\"\n",
    "matcher = re.finditer(\"[^abc]\",data)         \n",
    "\n",
    "for match in matcher:\n",
    "    print(match.start(),\"--->\", match.end()-1,\"--->\",match.group())"
   ]
  },
  {
   "cell_type": "code",
   "execution_count": 33,
   "metadata": {},
   "outputs": [
    {
     "name": "stdout",
     "output_type": "stream",
     "text": [
      "0 ---> 0 ---> a\n",
      "1 ---> 1 ---> b\n",
      "2 ---> 2 ---> c\n",
      "6 ---> 6 ---> b\n",
      "7 ---> 7 ---> c\n",
      "8 ---> 8 ---> a\n",
      "10 ---> 10 ---> d\n",
      "11 ---> 11 ---> u\n",
      "12 ---> 12 ---> r\n",
      "13 ---> 13 ---> g\n",
      "14 ---> 14 ---> a\n",
      "15 ---> 15 ---> s\n",
      "16 ---> 16 ---> o\n",
      "17 ---> 17 ---> f\n",
      "18 ---> 18 ---> t\n",
      "20 ---> 20 ---> c\n",
      "21 ---> 21 ---> o\n",
      "22 ---> 22 ---> m\n"
     ]
    }
   ],
   "source": [
    "import re\n",
    "data = \"abc123bca@durgasoft.com\"\n",
    "matcher = re.finditer(\"[a-z]\",data)    #### a to z\n",
    "\n",
    "for match in matcher:\n",
    "    print(match.start(),\"--->\", match.end()-1,\"--->\",match.group())\n"
   ]
  },
  {
   "cell_type": "code",
   "execution_count": 34,
   "metadata": {},
   "outputs": [
    {
     "name": "stdout",
     "output_type": "stream",
     "text": [
      "6 ---> 6 ---> A\n",
      "7 ---> 7 ---> B\n",
      "8 ---> 8 ---> C\n"
     ]
    }
   ],
   "source": [
    "import re\n",
    "data = \"abc123ABC@durgasoft.com\"\n",
    "matcher = re.finditer(\"[A-Z]\",data)\n",
    "\n",
    "for match in matcher:\n",
    "    print(match.start(),\"--->\", match.end()-1,\"--->\",match.group())\n"
   ]
  },
  {
   "cell_type": "code",
   "execution_count": 39,
   "metadata": {},
   "outputs": [
    {
     "name": "stdout",
     "output_type": "stream",
     "text": [
      "3 ---> 3 ---> 1\n",
      "4 ---> 4 ---> 2\n",
      "5 ---> 5 ---> 3\n"
     ]
    }
   ],
   "source": [
    "import re\n",
    "data = \"abc123ABC@durgasoft.com\"\n",
    "matcher = re.finditer(\"[0-9]\",data)\n",
    "for match in matcher:\n",
    "    print(match.start(),\"--->\", match.end()-1,\"--->\",match.group())"
   ]
  },
  {
   "cell_type": "code",
   "execution_count": 40,
   "metadata": {},
   "outputs": [
    {
     "name": "stdout",
     "output_type": "stream",
     "text": [
      "0 ---> 0 ---> a\n",
      "1 ---> 1 ---> b\n",
      "2 ---> 2 ---> c\n",
      "6 ---> 6 ---> A\n",
      "7 ---> 7 ---> B\n",
      "8 ---> 8 ---> C\n",
      "9 ---> 9 ---> @\n",
      "10 ---> 10 ---> d\n",
      "11 ---> 11 ---> u\n",
      "12 ---> 12 ---> r\n",
      "13 ---> 13 ---> g\n",
      "14 ---> 14 ---> a\n",
      "15 ---> 15 ---> s\n",
      "16 ---> 16 ---> o\n",
      "17 ---> 17 ---> f\n",
      "18 ---> 18 ---> t\n",
      "19 ---> 19 ---> .\n",
      "20 ---> 20 ---> c\n",
      "21 ---> 21 ---> o\n",
      "22 ---> 22 ---> m\n"
     ]
    }
   ],
   "source": [
    "import re\n",
    "data = \"abc123ABC@durgasoft.com\"\n",
    "matcher = re.finditer(\"[^0-9]\",data)\n",
    "\n",
    "for match in matcher:\n",
    "    print(match.start(),\"--->\", match.end()-1,\"--->\",match.group())\n"
   ]
  },
  {
   "cell_type": "code",
   "execution_count": 41,
   "metadata": {},
   "outputs": [
    {
     "name": "stdout",
     "output_type": "stream",
     "text": [
      "0 ---> 0 ---> a\n",
      "1 ---> 1 ---> b\n",
      "2 ---> 2 ---> c\n",
      "3 ---> 3 ---> 1\n",
      "4 ---> 4 ---> 2\n",
      "5 ---> 5 ---> 3\n",
      "6 ---> 6 ---> A\n",
      "7 ---> 7 ---> B\n",
      "8 ---> 8 ---> C\n",
      "10 ---> 10 ---> d\n",
      "11 ---> 11 ---> u\n",
      "12 ---> 12 ---> r\n",
      "13 ---> 13 ---> g\n",
      "14 ---> 14 ---> a\n",
      "15 ---> 15 ---> s\n",
      "16 ---> 16 ---> o\n",
      "17 ---> 17 ---> f\n",
      "18 ---> 18 ---> t\n",
      "20 ---> 20 ---> c\n",
      "21 ---> 21 ---> o\n",
      "22 ---> 22 ---> m\n"
     ]
    }
   ],
   "source": [
    "import re\n",
    "data = \"abc123ABC@durgasoft.com\"\n",
    "matcher = re.finditer(\"[a-zA-Z0-9]\",data)\n",
    "for match in matcher:\n",
    "    print(match.start(),\"--->\", match.end()-1,\"--->\",match.group())\n"
   ]
  },
  {
   "cell_type": "code",
   "execution_count": 42,
   "metadata": {},
   "outputs": [
    {
     "name": "stdout",
     "output_type": "stream",
     "text": [
      "19 ---> 19 ---> .\n"
     ]
    }
   ],
   "source": [
    "import re\n",
    "data = \"abc123ABC@durgasoft.com\"\n",
    "matcher = re.finditer(\"[.]\",data)\n",
    "for match in matcher:\n",
    "    print(match.start(),\"--->\", match.end()-1,\"--->\",match.group())"
   ]
  },
  {
   "cell_type": "markdown",
   "metadata": {},
   "source": [
    "###  predefined characters :\n",
    "-----------------\n",
    "- \\s ------> Represents Space\n",
    "- \\S ------> Represents all except space\n",
    "- \\d ------> Represents all digits\n",
    "- \\D ------> Represents all except digits\n",
    "- \\w ------> Represents all word characters [a-zA-Z0-9]\n",
    "- \\W ------> Represents all except word characters"
   ]
  },
  {
   "cell_type": "code",
   "execution_count": 44,
   "metadata": {},
   "outputs": [
    {
     "name": "stdout",
     "output_type": "stream",
     "text": [
      "3 ---> 3 --->  \n",
      "7 ---> 7 --->  \n"
     ]
    }
   ],
   "source": [
    "import re\n",
    "data = \"abc 123 ABC@durgasoft.com\"\n",
    "matcher = re.finditer(\"\\s\",data)\n",
    "\n",
    "for match in matcher:\n",
    "    print(match.start(),\"--->\", match.end()-1,\"--->\",match.group())\n"
   ]
  },
  {
   "cell_type": "code",
   "execution_count": 46,
   "metadata": {},
   "outputs": [
    {
     "name": "stdout",
     "output_type": "stream",
     "text": [
      "0 ---> 0 ---> a\n",
      "1 ---> 1 ---> b\n",
      "2 ---> 2 ---> c\n",
      "4 ---> 4 ---> 1\n",
      "5 ---> 5 ---> 2\n",
      "6 ---> 6 ---> 3\n",
      "8 ---> 8 ---> A\n",
      "9 ---> 9 ---> B\n",
      "10 ---> 10 ---> C\n",
      "11 ---> 11 ---> @\n",
      "12 ---> 12 ---> d\n",
      "13 ---> 13 ---> u\n",
      "14 ---> 14 ---> r\n",
      "15 ---> 15 ---> g\n",
      "16 ---> 16 ---> a\n",
      "17 ---> 17 ---> s\n",
      "18 ---> 18 ---> o\n",
      "19 ---> 19 ---> f\n",
      "20 ---> 20 ---> t\n",
      "21 ---> 21 ---> .\n",
      "22 ---> 22 ---> c\n",
      "23 ---> 23 ---> o\n",
      "24 ---> 24 ---> m\n"
     ]
    }
   ],
   "source": [
    "import re\n",
    "data = \"abc 123 ABC@durgasoft.com\"\n",
    "matcher = re.finditer(\"\\S\",data)         # Represents all except space\n",
    "for match in matcher:\n",
    " print(match.start(),\"--->\", match.end()-1,\"--->\",match.group())\n"
   ]
  },
  {
   "cell_type": "code",
   "execution_count": 48,
   "metadata": {},
   "outputs": [
    {
     "name": "stdout",
     "output_type": "stream",
     "text": [
      "4 ---> 4 ---> 1\n",
      "5 ---> 5 ---> 2\n",
      "6 ---> 6 ---> 3\n"
     ]
    }
   ],
   "source": [
    "import re\n",
    "data = \"abc 123 ABC@durgasoft.com\"\n",
    "matcher = re.finditer(\"\\d\",data)  #  Represents all digits\n",
    "for match in matcher:\n",
    "     print(match.start(),\"--->\", match.end()-1,\"--->\",match.group())\n"
   ]
  },
  {
   "cell_type": "code",
   "execution_count": 49,
   "metadata": {},
   "outputs": [
    {
     "name": "stdout",
     "output_type": "stream",
     "text": [
      "0 ---> 0 ---> a\n",
      "1 ---> 1 ---> b\n",
      "2 ---> 2 ---> c\n",
      "3 ---> 3 --->  \n",
      "7 ---> 7 --->  \n",
      "8 ---> 8 ---> A\n",
      "9 ---> 9 ---> B\n",
      "10 ---> 10 ---> C\n",
      "11 ---> 11 ---> @\n",
      "12 ---> 12 ---> d\n",
      "13 ---> 13 ---> u\n",
      "14 ---> 14 ---> r\n",
      "15 ---> 15 ---> g\n",
      "16 ---> 16 ---> a\n",
      "17 ---> 17 ---> s\n",
      "18 ---> 18 ---> o\n",
      "19 ---> 19 ---> f\n",
      "20 ---> 20 ---> t\n",
      "21 ---> 21 ---> .\n",
      "22 ---> 22 ---> c\n",
      "23 ---> 23 ---> o\n",
      "24 ---> 24 ---> m\n"
     ]
    }
   ],
   "source": [
    "import re\n",
    "data = \"abc 123 ABC@durgasoft.com\"\n",
    "matcher = re.finditer(\"\\D\",data)  #  Represents all except digits\n",
    "for match in matcher:\n",
    "    print(match.start(),\"--->\", match.end()-1,\"--->\",match.group())\n"
   ]
  },
  {
   "cell_type": "code",
   "execution_count": 51,
   "metadata": {},
   "outputs": [
    {
     "name": "stdout",
     "output_type": "stream",
     "text": [
      "0 ---> 0 ---> a\n",
      "1 ---> 1 ---> b\n",
      "2 ---> 2 ---> c\n",
      "4 ---> 4 ---> 1\n",
      "5 ---> 5 ---> 2\n",
      "6 ---> 6 ---> 3\n",
      "8 ---> 8 ---> A\n",
      "9 ---> 9 ---> B\n",
      "10 ---> 10 ---> C\n",
      "12 ---> 12 ---> d\n",
      "13 ---> 13 ---> u\n",
      "14 ---> 14 ---> r\n",
      "15 ---> 15 ---> g\n",
      "16 ---> 16 ---> a\n",
      "17 ---> 17 ---> s\n",
      "18 ---> 18 ---> o\n",
      "19 ---> 19 ---> f\n",
      "20 ---> 20 ---> t\n",
      "22 ---> 22 ---> c\n",
      "23 ---> 23 ---> o\n",
      "24 ---> 24 ---> m\n"
     ]
    }
   ],
   "source": [
    "import re\n",
    "data = \"abc 123 ABC@durgasoft.com\"\n",
    "matcher = re.finditer(\"\\w\",data)  #  Represents all word characters [a-zA-Z0-9]\n",
    "for match in matcher:\n",
    "    print(match.start(),\"--->\", match.end()-1,\"--->\",match.group())"
   ]
  },
  {
   "cell_type": "code",
   "execution_count": 53,
   "metadata": {},
   "outputs": [
    {
     "name": "stdout",
     "output_type": "stream",
     "text": [
      "3 ---> 3 --->  \n",
      "7 ---> 7 --->  \n",
      "11 ---> 11 ---> @\n",
      "21 ---> 21 ---> .\n"
     ]
    }
   ],
   "source": [
    "import re\n",
    "data = \"abc 123 ABC@durgasoft.com\"\n",
    "matcher = re.finditer(\"\\W\",data)  #  Represents all except word characters\n",
    "for match in matcher:\n",
    "    print(match.start(),\"--->\", match.end()-1,\"--->\",match.group())"
   ]
  },
  {
   "cell_type": "code",
   "execution_count": null,
   "metadata": {},
   "outputs": [],
   "source": []
  },
  {
   "cell_type": "code",
   "execution_count": null,
   "metadata": {},
   "outputs": [],
   "source": []
  },
  {
   "cell_type": "markdown",
   "metadata": {},
   "source": [
    "## Quantifiers:\n",
    "-------------\n",
    "- To specify the no of occurences of a particular character in regular expressions we will use Quantifiers .\n",
    "  -  a -----> Exactly one a\n",
    "  -  a+ ----> One or more no of a's\n",
    "  -  a* -----> 0 or more no of a's\n",
    "  -  a? -----> Atmost one a\n",
    "  -  a{m} ---> Exactly m no of a's\n",
    "  -  a{m,n}--> Minimum m and maximum n no of a's\n"
   ]
  },
  {
   "cell_type": "code",
   "execution_count": 2,
   "metadata": {},
   "outputs": [
    {
     "name": "stdout",
     "output_type": "stream",
     "text": [
      "a =====> 0 =======> 0\n",
      "a =====> 9 =======> 9\n"
     ]
    }
   ],
   "source": [
    "import re\n",
    "matcher = re.finditer(\"a\" , \"abc123@gmail.com\")\n",
    "\n",
    "for match in matcher :\n",
    "    print(match.group() , \"=====>\" , match.start() , \"=======>\", match.end()-1)"
   ]
  },
  {
   "cell_type": "markdown",
   "metadata": {},
   "source": [
    "####    a+"
   ]
  },
  {
   "cell_type": "code",
   "execution_count": 4,
   "metadata": {},
   "outputs": [
    {
     "name": "stdout",
     "output_type": "stream",
     "text": [
      "a =====> 0 =======> 0\n",
      "aaaa =====> 4 =======> 7\n",
      "a =====> 9 =======> 9\n",
      "aa =====> 14 =======> 15\n",
      "a =====> 23 =======> 23\n"
     ]
    }
   ],
   "source": [
    "import re\n",
    "matcher = re.finditer(\"a+\" , \"abccaaaaAabcccaab123@gmail.com\")    ####    a+\n",
    "\n",
    "for match in matcher :\n",
    "    print(match.group() , \"=====>\" , match.start() , \"=======>\", match.end()-1)"
   ]
  },
  {
   "cell_type": "markdown",
   "metadata": {},
   "source": [
    "####    a*"
   ]
  },
  {
   "cell_type": "code",
   "execution_count": 5,
   "metadata": {},
   "outputs": [
    {
     "name": "stdout",
     "output_type": "stream",
     "text": [
      "a =====> 0 =======> 0\n",
      " =====> 1 =======> 0\n",
      " =====> 2 =======> 1\n",
      " =====> 3 =======> 2\n",
      "aaaa =====> 4 =======> 7\n",
      " =====> 8 =======> 7\n",
      "a =====> 9 =======> 9\n",
      " =====> 10 =======> 9\n",
      " =====> 11 =======> 10\n",
      " =====> 12 =======> 11\n",
      " =====> 13 =======> 12\n",
      "aa =====> 14 =======> 15\n",
      " =====> 16 =======> 15\n",
      " =====> 17 =======> 16\n",
      " =====> 18 =======> 17\n",
      " =====> 19 =======> 18\n",
      " =====> 20 =======> 19\n",
      " =====> 21 =======> 20\n",
      " =====> 22 =======> 21\n",
      "a =====> 23 =======> 23\n",
      " =====> 24 =======> 23\n",
      " =====> 25 =======> 24\n",
      " =====> 26 =======> 25\n",
      " =====> 27 =======> 26\n",
      " =====> 28 =======> 27\n",
      " =====> 29 =======> 28\n",
      " =====> 30 =======> 29\n"
     ]
    }
   ],
   "source": [
    "import re\n",
    "matcher = re.finditer(\"a*\" , \"abccaaaaAabcccaab123@gmail.com\")    ####    a*\n",
    "\n",
    "for match in matcher :\n",
    "    print(match.group() , \"=====>\" , match.start() , \"=======>\", match.end()-1)"
   ]
  },
  {
   "cell_type": "markdown",
   "metadata": {},
   "source": [
    "####    a?"
   ]
  },
  {
   "cell_type": "code",
   "execution_count": 6,
   "metadata": {},
   "outputs": [
    {
     "name": "stdout",
     "output_type": "stream",
     "text": [
      "a =====> 0 =======> 0\n",
      " =====> 1 =======> 0\n",
      " =====> 2 =======> 1\n",
      " =====> 3 =======> 2\n",
      "a =====> 4 =======> 4\n",
      "a =====> 5 =======> 5\n",
      "a =====> 6 =======> 6\n",
      "a =====> 7 =======> 7\n",
      " =====> 8 =======> 7\n",
      "a =====> 9 =======> 9\n",
      " =====> 10 =======> 9\n",
      " =====> 11 =======> 10\n",
      " =====> 12 =======> 11\n",
      " =====> 13 =======> 12\n",
      "a =====> 14 =======> 14\n",
      "a =====> 15 =======> 15\n",
      " =====> 16 =======> 15\n",
      " =====> 17 =======> 16\n",
      " =====> 18 =======> 17\n",
      " =====> 19 =======> 18\n",
      " =====> 20 =======> 19\n",
      " =====> 21 =======> 20\n",
      " =====> 22 =======> 21\n",
      "a =====> 23 =======> 23\n",
      " =====> 24 =======> 23\n",
      " =====> 25 =======> 24\n",
      " =====> 26 =======> 25\n",
      " =====> 27 =======> 26\n",
      " =====> 28 =======> 27\n",
      " =====> 29 =======> 28\n",
      " =====> 30 =======> 29\n"
     ]
    }
   ],
   "source": [
    "import re\n",
    "matcher = re.finditer(\"a?\" , \"abccaaaaAabcccaab123@gmail.com\")    ####    a?\n",
    "\n",
    "for match in matcher :\n",
    "    print(match.group() , \"=====>\" , match.start() , \"=======>\", match.end()-1)"
   ]
  },
  {
   "cell_type": "markdown",
   "metadata": {},
   "source": [
    "####    a{m}"
   ]
  },
  {
   "cell_type": "code",
   "execution_count": 7,
   "metadata": {},
   "outputs": [
    {
     "name": "stdout",
     "output_type": "stream",
     "text": [
      "aaa =====> 4 =======> 6\n",
      "aaa =====> 17 =======> 19\n"
     ]
    }
   ],
   "source": [
    "import re\n",
    "matcher = re.finditer(\"a{3}\" , \"abccaaaaAabcccaabaaa123@gmail.com\")    ####    a{m}\n",
    "\n",
    "for match in matcher :\n",
    "    print(match.group() , \"=====>\" , match.start() , \"=======>\", match.end()-1)"
   ]
  },
  {
   "cell_type": "markdown",
   "metadata": {},
   "source": [
    "###    a{m,n}   ######### range (m to n)"
   ]
  },
  {
   "cell_type": "code",
   "execution_count": 8,
   "metadata": {},
   "outputs": [
    {
     "name": "stdout",
     "output_type": "stream",
     "text": [
      "aaaa =====> 4 =======> 7\n",
      "aa =====> 14 =======> 15\n",
      "aaa =====> 17 =======> 19\n"
     ]
    }
   ],
   "source": [
    "import re\n",
    "matcher = re.finditer(\"a{2,4}\" , \"abccaaaaAabcccaabaaa123@gmail.com\")    ####    a{m,n}   ######### range (m to n)\n",
    "\n",
    "for match in matcher :\n",
    "    print(match.group() , \"=====>\" , match.start() , \"=======>\", match.end()-1)"
   ]
  },
  {
   "cell_type": "code",
   "execution_count": null,
   "metadata": {},
   "outputs": [],
   "source": []
  },
  {
   "cell_type": "markdown",
   "metadata": {},
   "source": [
    "## 're' module functions:\n",
    "----------------------\n",
    "#### - 1. fullmatch(pattern, str)\n",
    "    - It will check strictly str is as per the specified pattern or not, if any single letter or digit mistake is available then it will return None value, if the provided str is as per the specified pattern then it will return Match object.\n"
   ]
  },
  {
   "cell_type": "code",
   "execution_count": 10,
   "metadata": {},
   "outputs": [
    {
     "name": "stdout",
     "output_type": "stream",
     "text": [
      "enter pattern :durga@durgasoft.com\n",
      "durga@durgasoft.com is matched with  durga@durgasoft.com\n"
     ]
    }
   ],
   "source": [
    "import re \n",
    "pattern = input(\"enter pattern :\")\n",
    "data =\"durga@durgasoft.com\"\n",
    "match = re.fullmatch(pattern , data)\n",
    "\n",
    "if match != None :\n",
    "    print(pattern ,\"is matched with \" , data)\n",
    "    \n",
    "else :\n",
    "    print(pattern ,\"is not matched with \" , data)"
   ]
  },
  {
   "cell_type": "markdown",
   "metadata": {},
   "source": [
    "#### - 2. match(pattern,str)\n",
    "    - It will return Match object atleast the provided pattern is same as the prefix of the target string, if the provided pattern is not matched with the prefix of the target string then match() function will return None value.\n",
    "    - ex : durga\n",
    "           d\n",
    "           du\n",
    "           dur\n",
    "           durg\n",
    "           durga"
   ]
  },
  {
   "cell_type": "code",
   "execution_count": 1,
   "metadata": {},
   "outputs": [
    {
     "name": "stdout",
     "output_type": "stream",
     "text": [
      "enter pattern :durga@durgasoft.com\n",
      "durga@durgasoft.com is matched with  durga@durgasoft.com\n"
     ]
    }
   ],
   "source": [
    "import re \n",
    "pattern = input(\"enter pattern :\")\n",
    "data =\"durga@durgasoft.com\"\n",
    "matchh = re.match(pattern , data)\n",
    "\n",
    "if matchh != None :\n",
    "    print(pattern ,\"is matched with \" , data)\n",
    "    \n",
    "else :\n",
    "    print(pattern ,\"is not matched with \" , data)"
   ]
  },
  {
   "cell_type": "code",
   "execution_count": 2,
   "metadata": {},
   "outputs": [
    {
     "name": "stdout",
     "output_type": "stream",
     "text": [
      "enter pattern :ABCdurga@durgasoft.com\n",
      "ABCdurga@durgasoft.com is not matched with  durga@durgasoft.com\n"
     ]
    }
   ],
   "source": [
    "import re \n",
    "pattern = input(\"enter pattern :\")\n",
    "data =\"durga@durgasoft.com\"\n",
    "matchh = re.match(pattern , data)\n",
    "\n",
    "if matchh != None :\n",
    "    print(pattern ,\"is matched with \" , data)\n",
    "    \n",
    "else :\n",
    "    print(pattern ,\"is not matched with \" , data)"
   ]
  },
  {
   "cell_type": "markdown",
   "metadata": {},
   "source": [
    "#### - 3. search(pattern, str)\n",
    "    - it will check whether the provided pattern is existed or not in the str , if it  is existed then it will return match object and it is not existed then it will return None value ."
   ]
  },
  {
   "cell_type": "code",
   "execution_count": 4,
   "metadata": {},
   "outputs": [
    {
     "name": "stdout",
     "output_type": "stream",
     "text": [
      "enter pattern : abc\n",
      "abc is existed in  abcccabcbbcabc at  0\n"
     ]
    }
   ],
   "source": [
    "import re \n",
    "pattern = input(\"enter pattern : \")\n",
    "data = \"abcccabcbbcabc\"\n",
    "match = re.search(pattern , data)\n",
    "\n",
    "if match != None :\n",
    "    print(pattern ,\"is existed in \",data , \"at \", match.start())\n",
    "    \n",
    "else :\n",
    "    print(pattern ,\"is not existed in \",data)"
   ]
  },
  {
   "cell_type": "markdown",
   "metadata": {},
   "source": [
    "#### - 4. findall()\n",
    "    - It will return a list contains all the occurences of the speiciied pattern.\n"
   ]
  },
  {
   "cell_type": "code",
   "execution_count": 9,
   "metadata": {},
   "outputs": [
    {
     "name": "stdout",
     "output_type": "stream",
     "text": [
      "Enter Pattern : ab\n",
      "['ab', 'ab', 'ab']\n"
     ]
    }
   ],
   "source": [
    "import re\n",
    "pattern = input(\"Enter Pattern : \")\n",
    "str = \"abcxyzabcxyzabcxyz\"\n",
    "list = re.findall(pattern,str)\n",
    "print(list)"
   ]
  },
  {
   "cell_type": "markdown",
   "metadata": {},
   "source": [
    "#### - 5. finditer() \n",
    "    - "
   ]
  },
  {
   "cell_type": "code",
   "execution_count": 1,
   "metadata": {},
   "outputs": [
    {
     "name": "stdout",
     "output_type": "stream",
     "text": [
      "abc123xyz456\n",
      "###123###456\n"
     ]
    }
   ],
   "source": [
    "import re \n",
    "str = \"abc123xyz456\"\n",
    "data = re.sub(\"[a-z]\" , \"#\" , str)\n",
    "print(str)\n",
    "print(data)"
   ]
  },
  {
   "cell_type": "code",
   "execution_count": 2,
   "metadata": {},
   "outputs": [
    {
     "name": "stdout",
     "output_type": "stream",
     "text": [
      "abc123xyz456\n",
      "('###123###456', 6)\n"
     ]
    }
   ],
   "source": [
    "import re \n",
    "str = \"abc123xyz456\"\n",
    "data = re.subn(\"[a-z]\" , \"#\" , str)\n",
    "print(str)\n",
    "print(data)"
   ]
  },
  {
   "cell_type": "code",
   "execution_count": 4,
   "metadata": {},
   "outputs": [
    {
     "name": "stdout",
     "output_type": "stream",
     "text": [
      "['Durga', 'SOftware', 'Solution']\n"
     ]
    }
   ],
   "source": [
    "import re\n",
    "str = \"Durga SOftware Solution\"\n",
    "li = re.split(\" \",str)\n",
    "print(li)"
   ]
  },
  {
   "cell_type": "code",
   "execution_count": 7,
   "metadata": {},
   "outputs": [
    {
     "name": "stdout",
     "output_type": "stream",
     "text": [
      "Durga SOftware Solution  start with  Durga\n"
     ]
    }
   ],
   "source": [
    "# start with pattern ?\n",
    "import re\n",
    "str   = \"Durga SOftware Solution\"\n",
    "pattern = \"Durga\"\n",
    "match = re.search(\"^\"+pattern,str)   #### or,   re.search(\"^Durga\" , str)\n",
    "if match != None :\n",
    "    print(str , \" start with \", pattern)\n",
    "else : \n",
    "    print(str , \" not start with \",pattern)"
   ]
  },
  {
   "cell_type": "code",
   "execution_count": 8,
   "metadata": {},
   "outputs": [
    {
     "name": "stdout",
     "output_type": "stream",
     "text": [
      "Durga SOftware Solution  end with \n"
     ]
    }
   ],
   "source": [
    "# end with pattern ?\n",
    "import re\n",
    "str   = \"Durga SOftware Solution\"\n",
    "match = re.search(\"Solution$\",str)\n",
    "if match != None :\n",
    "    print(str , \" end with \")\n",
    "else : \n",
    "    print(str , \" not end with \")"
   ]
  },
  {
   "cell_type": "markdown",
   "metadata": {},
   "source": [
    "## - Q) write a re to check whether a string is Durgasoft ID or not?\n",
    "    - did = DSS-rollnumber"
   ]
  },
  {
   "cell_type": "code",
   "execution_count": 10,
   "metadata": {},
   "outputs": [
    {
     "name": "stdout",
     "output_type": "stream",
     "text": [
      " DSS-0\n",
      "match id\n"
     ]
    }
   ],
   "source": [
    "import re \n",
    "sid = input(\" \")\n",
    "did = \"DSS-[0-9]+\"\n",
    "\n",
    "\n",
    "match = re.fullmatch(did , sid)\n",
    "if match != None :\n",
    "    print(\"match id\")\n",
    "else :\n",
    "    print(\"not match id\")"
   ]
  },
  {
   "cell_type": "code",
   "execution_count": 11,
   "metadata": {},
   "outputs": [
    {
     "name": "stdout",
     "output_type": "stream",
     "text": [
      " DSS-100\n",
      "match id\n"
     ]
    }
   ],
   "source": [
    "import re \n",
    "sid = input(\" \")\n",
    "did = \"DSS-[0-9]+\"\n",
    "\n",
    "\n",
    "match = re.fullmatch(did , sid)\n",
    "if match != None :\n",
    "    print(\"match id\")\n",
    "else :\n",
    "    print(\"not match id\")"
   ]
  },
  {
   "cell_type": "code",
   "execution_count": 12,
   "metadata": {},
   "outputs": [
    {
     "name": "stdout",
     "output_type": "stream",
     "text": [
      " DSS-0\n",
      "not match id\n"
     ]
    }
   ],
   "source": [
    "import re \n",
    "sid = input(\" \")\n",
    "did = \"DSS-[1-9]+\"\n",
    "\n",
    "\n",
    "match = re.fullmatch(did , sid)\n",
    "if match != None :\n",
    "    print(\"match id\")\n",
    "else :\n",
    "    print(\"not match id\")"
   ]
  },
  {
   "cell_type": "code",
   "execution_count": 14,
   "metadata": {},
   "outputs": [
    {
     "name": "stdout",
     "output_type": "stream",
     "text": [
      " DSS-100\n",
      "not match id\n"
     ]
    }
   ],
   "source": [
    "import re \n",
    "sid = input(\" \")\n",
    "did = \"DSS-[1-9]+\"\n",
    "\n",
    "\n",
    "match = re.fullmatch(did , sid)\n",
    "if match != None :\n",
    "    print(\"match id\")\n",
    "else :\n",
    "    print(\"not match id\")"
   ]
  },
  {
   "cell_type": "code",
   "execution_count": 15,
   "metadata": {},
   "outputs": [
    {
     "name": "stdout",
     "output_type": "stream",
     "text": [
      " DSS-101\n",
      "match id\n"
     ]
    }
   ],
   "source": [
    "import re \n",
    "sid = input(\" \")\n",
    "did = \"DSS-[1-9][0-9]+\"\n",
    "\n",
    "\n",
    "match = re.fullmatch(did , sid)\n",
    "if match != None :\n",
    "    print(\"match id\")\n",
    "else :\n",
    "    print(\"not match id\")"
   ]
  },
  {
   "cell_type": "markdown",
   "metadata": {},
   "source": [
    "## - Q) check valid emailid or not ?"
   ]
  },
  {
   "cell_type": "code",
   "execution_count": 3,
   "metadata": {},
   "outputs": [
    {
     "name": "stdout",
     "output_type": "stream",
     "text": [
      " abc12.@gmail.com\n",
      "match id\n"
     ]
    }
   ],
   "source": [
    "import re \n",
    "eid = input(\" \")\n",
    "did = \"[a-zA-Z0-9].*@gmail.com\"\n",
    "\n",
    "\n",
    "match = re.fullmatch(did , eid)\n",
    "if match != None :\n",
    "    print(\"match id\")\n",
    "else :\n",
    "    print(\"not match id\")"
   ]
  },
  {
   "cell_type": "code",
   "execution_count": null,
   "metadata": {},
   "outputs": [],
   "source": [
    "## mobile no."
   ]
  },
  {
   "cell_type": "code",
   "execution_count": 6,
   "metadata": {},
   "outputs": [
    {
     "name": "stdout",
     "output_type": "stream",
     "text": [
      " 911234569870\n",
      "911234569870 is not valid\n"
     ]
    }
   ],
   "source": [
    "import re \n",
    "mno = input(\" \")\n",
    "pattern = \"91-[1-9]\\d{10}\"\n",
    "match = re.match(pattern , mno)\n",
    "if match !=None :\n",
    "    print(mno, \"is valid\")\n",
    "else :\n",
    "    print(mno , \"is not valid\")"
   ]
  },
  {
   "cell_type": "code",
   "execution_count": null,
   "metadata": {},
   "outputs": [],
   "source": []
  }
 ],
 "metadata": {
  "kernelspec": {
   "display_name": "Python 3",
   "language": "python",
   "name": "python3"
  }
 },
 "nbformat": 4,
 "nbformat_minor": 4
}
