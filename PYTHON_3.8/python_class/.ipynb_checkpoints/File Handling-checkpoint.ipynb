{
 "cells": [
  {
   "cell_type": "markdown",
   "metadata": {},
   "source": [
    "# File Handling :-\n",
    "----------\n",
    "- In enterprise application development , to manage data about the org. we need some storage areas.\n",
    "- Python has several functions for creating, reading, updating, and deleting files."
   ]
  },
  {
   "cell_type": "markdown",
   "metadata": {},
   "source": [
    "- There are two type of Storage areas.\n",
    "  ###  1. Temporary Storage Areas:\n",
    "        - These storage areas are able to store data temporarily.\n",
    "        - EX: Bufferes, Python Objects\n",
    "  ###  2. Permanent Storage Areas\n",
    "        - These storage areas are able to store data permanently.\n",
    "        - EX: File System, DBMS, Datawarehouses"
   ]
  },
  {
   "cell_type": "markdown",
   "metadata": {},
   "source": [
    "- Types of Files:\n",
    "    There are 2 types of files\n",
    "    1. Text Files:\n",
    "          Usually we can use text files to store character data\n",
    "\n",
    "    2. Binary Files:\n",
    "          Usually we can use binary files to store binary data like images,video files, audio files etc..."
   ]
  },
  {
   "cell_type": "markdown",
   "metadata": {},
   "source": [
    "- The key function for working with files in Python is the \"open()\" function.\n",
    "\n",
    "- The open() function takes two parameters; filename, and mode.\n",
    "\n",
    "- There are four different methods (modes) for opening a file:\n",
    "\n",
    "     ####   \"r\" - Read - Default value. Opens a file for reading, error if the file does not exist\n",
    "\n",
    "     ####   \"a\" - Append - Opens a file for appending, creates the file if it does not exist\n",
    "\n",
    "     ####   \"w\" - Write - Opens a file for writing, creates the file if it does not exist\n",
    "\n",
    "     ####   \"x\" - Create - Creates the specified file, returns an error if the file exists"
   ]
  },
  {
   "cell_type": "markdown",
   "metadata": {},
   "source": [
    "### File System:\n",
    "-------------\n",
    "- It is a parmanent Storage Area, it able to manage data permanently and it is managed by local Operating system.\n"
   ]
  },
  {
   "cell_type": "markdown",
   "metadata": {},
   "source": [
    "- If we want to use files in python applications .\n",
    "- Steps :\n",
    "    1. Create file\n",
    "    2. Write Data in Files / Read data from Files\n",
    "    3. Close File."
   ]
  },
  {
   "cell_type": "markdown",
   "metadata": {},
   "source": [
    "- 1. Create File:\n",
    "     - file = open(fileName, mode)\n",
    "     - EX: file = open(\"c:/classss/ABC/hello.txt\",\"w\")\n",
    "     - Note: If use \"name\" attribute from file we are able to get absolute path of the file.\n",
    "     - print(file.name)\n",
    "- 2. Get Name of the File:\n",
    "     - name = os.path.basename(file.name)\n",
    "- 3. Get Absolute path of the FIle:\n",
    "     - print(file.name)\n",
    "     - print(os.path.abspath(file.name))\n",
    "- 4. Get Parent location :\n",
    "     - os.path.dirname(file.name)\n",
    "- 5. To get Mode of the file.\n",
    "     - print(file.mode)\n",
    "- 6. To check readable file\n",
    "     - print(file.readable())\n",
    "- 7. To check Writable\n",
    "     - print(file.writable())"
   ]
  },
  {
   "cell_type": "code",
   "execution_count": 30,
   "metadata": {},
   "outputs": [
    {
     "name": "stdout",
     "output_type": "stream",
     "text": [
      "File Mode : w\n",
      "File Name : WELCOME.txt\n",
      "File Dir : c:/classss/ABC\n",
      "Abs Path : c:/classss/ABC/WELCOME.txt\n",
      "Abs Path : c:\\classss\\ABC\\WELCOME.txt\n",
      "Is Readable : False\n",
      "Is Writable : True\n"
     ]
    }
   ],
   "source": [
    "import os\n",
    "file = open(\"c:/classss/ABC/WELCOME.txt\",\"w\")\n",
    "\n",
    "print(\"File Mode :\",file.mode)\n",
    "print(\"File Name :\",os.path.basename(file.name))\n",
    "print(\"File Dir :\",os.path.dirname(file.name))\n",
    "print(\"Abs Path :\",file.name)\n",
    "print(\"Abs Path :\",os.path.abspath(file.name))\n",
    "print(\"Is Readable :\",file.readable())\n",
    "print(\"Is Writable :\",file.writable())"
   ]
  },
  {
   "cell_type": "code",
   "execution_count": 5,
   "metadata": {},
   "outputs": [
    {
     "name": "stdout",
     "output_type": "stream",
     "text": [
      "File Mode : r\n",
      "File Name : hello.txt\n",
      "File Dir : c:/classss/ABC\n",
      "Abs Path : c:/classss/ABC/hello.txt\n",
      "Abs Path : c:\\classss\\ABC\\hello.txt\n",
      "Is Readable : True\n",
      "Is Writable : False\n"
     ]
    }
   ],
   "source": [
    "import os\n",
    "file = open(\"c:/classss/ABC/hello.txt\",\"r\")\n",
    "\n",
    "print(\"File Mode :\",file.mode)\n",
    "print(\"File Name :\",os.path.basename(file.name))\n",
    "print(\"File Dir :\",os.path.dirname(file.name))\n",
    "print(\"Abs Path :\",file.name)\n",
    "print(\"Abs Path :\",os.path.abspath(file.name))\n",
    "print(\"Is Readable :\",file.readable())\n",
    "print(\"Is Writable :\",file.writable())"
   ]
  },
  {
   "cell_type": "code",
   "execution_count": 10,
   "metadata": {},
   "outputs": [
    {
     "name": "stdout",
     "output_type": "stream",
     "text": [
      "File Mode : x\n",
      "File Name : hii.txt\n",
      "File Dir : c:/classss/ABC\n",
      "Abs Path : c:/classss/ABC/hii.txt\n",
      "Abs Path : c:\\classss\\ABC\\hii.txt\n",
      "Is Readable : False\n",
      "Is Writable : True\n"
     ]
    }
   ],
   "source": [
    "import os\n",
    "file = open(\"c:/classss/ABC/hii.txt\",\"x\")\n",
    "\n",
    "print(\"File Mode :\",file.mode)\n",
    "print(\"File Name :\",os.path.basename(file.name))\n",
    "print(\"File Dir :\",os.path.dirname(file.name))\n",
    "print(\"Abs Path :\",file.name)\n",
    "print(\"Abs Path :\",os.path.abspath(file.name))\n",
    "print(\"Is Readable :\",file.readable())\n",
    "print(\"Is Writable :\",file.writable())"
   ]
  },
  {
   "cell_type": "markdown",
   "metadata": {},
   "source": [
    "- If we want to Write Data in a File we have to use the following two functions.\n",
    "    1. write()\n",
    "    2. writelines()\n"
   ]
  },
  {
   "cell_type": "markdown",
   "metadata": {},
   "source": [
    "- Q)What is the difference between write() and writelines() function?\n",
    "------\n",
    "-  write() : function is able to write single line of data.\n",
    "- EX:\n",
    "---\n",
    "    import os\n",
    "    file = open(\"E:/abc/xyz/hello.txt\",\"w\")\n",
    "    str = \"Welcome To Durgasoft\"\n",
    "    file.write(str)\n",
    "    print(\"data Send to E:/abc/xyz/hello.txt\")\n",
    "    \n",
    "- writelines() : function is able to write more than one line which are existed in list to a file.\n",
    "- EX:\n",
    "---\n",
    "    import os\n",
    "    file = open(\"E:/abc/xyz/hello.txt\",\"w\")\n",
    "    str1 = \"Welcome To Durgasoft!\\n\"\n",
    "    str2 = \"Hello User!\\n\"\n",
    "    str3 = \"Hai User!\\n\"\n",
    "    list = [str1,str2,str3]\n",
    "    file.writelines(list)\n",
    "    print(\"data Send to E:/abc/xyz/hello.txt\")"
   ]
  },
  {
   "cell_type": "code",
   "execution_count": 6,
   "metadata": {},
   "outputs": [
    {
     "name": "stdout",
     "output_type": "stream",
     "text": [
      "data Send to E:/ABC/writefunc.txt\n"
     ]
    }
   ],
   "source": [
    "import os\n",
    "\n",
    "file = open(\"c:/classss/ABC/writefunc.txt\",\"w\")\n",
    "str =\"Welcome To INDIA\"\n",
    "file.write(str)                                 \n",
    "print(\"data Send to E:/ABC/writefunc.txt\")"
   ]
  },
  {
   "cell_type": "code",
   "execution_count": 9,
   "metadata": {},
   "outputs": [
    {
     "name": "stdout",
     "output_type": "stream",
     "text": [
      "data Send to E:/abc/xyz/hello.txt\n"
     ]
    }
   ],
   "source": [
    "import os\n",
    "file = open(\"c:/classss/ABC/writelinesFunc.txt\",\"w\")\n",
    "str1 = \"Welcome To INDIA!\\n\"\n",
    "str2 = \"Hello User!\\n\"\n",
    "str3 = \"Hai User!\\n\"\n",
    "list = [str1,str2,str3]\n",
    "file.writelines(list)\n",
    "print(\"data Send to E:/abc/xyz/hello.txt\")"
   ]
  },
  {
   "cell_type": "markdown",
   "metadata": {},
   "source": [
    "- Bydefault, files are existed in overriden mode, that is, at each and every write operation previous data will be overridden with new data. If we want to append new data to the old data which is existed in file previously we have to use 'a' as filemode. "
   ]
  },
  {
   "cell_type": "code",
   "execution_count": 24,
   "metadata": {},
   "outputs": [
    {
     "name": "stdout",
     "output_type": "stream",
     "text": [
      "data Send to E:/ABC/writefunc.txt\n"
     ]
    }
   ],
   "source": [
    "import os\n",
    "\n",
    "file = open(\"c:/classss/ABC/OldNew.txt\",\"w\")\n",
    "str =\"Welcome To ODISHAaa\"\n",
    "file.write(str)                                 \n",
    "print(\"data Send to E:/ABC/writefunc.txt\")"
   ]
  },
  {
   "cell_type": "code",
   "execution_count": 26,
   "metadata": {},
   "outputs": [
    {
     "name": "stdout",
     "output_type": "stream",
     "text": [
      "data Send to E:/ABC/writefunc.txt\n",
      "data Send to E:/ABC/writefunc.txt\n"
     ]
    }
   ],
   "source": [
    "file = open(\"c:/classss/ABC/OldNew.txt\",\"a\")\n",
    "str =\"append new data\"\n",
    "file.write(str)                                 \n",
    "print(\"data Send to E:/ABC/writefunc.txt\")\n",
    "\n",
    "file = open(\"c:/classss/ABC/OldNew.txt\",\"a\")\n",
    "str =\"  append new data11\"\n",
    "file.write(str)                                 \n",
    "print(\"data Send to E:/ABC/writefunc.txt\")"
   ]
  },
  {
   "cell_type": "code",
   "execution_count": 27,
   "metadata": {},
   "outputs": [
    {
     "name": "stdout",
     "output_type": "stream",
     "text": [
      "data Send to E:/ABC/writefunc.txt\n"
     ]
    }
   ],
   "source": [
    "file = open(\"c:/classss/ABC/OldNew.txt\",\"a\")\n",
    "str =\"  append new data11\"\n",
    "file.write(str)                                 \n",
    "print(\"data Send to E:/ABC/writefunc.txt\")"
   ]
  },
  {
   "cell_type": "markdown",
   "metadata": {},
   "source": [
    "- If we want to read data from a particular file then we have to use the following methods.\n",
    "     1. read()\n",
    "     2. readline()\n",
    "     3. readlines()\n",
    "     4. read(no_Of_Characters)"
   ]
  },
  {
   "cell_type": "code",
   "execution_count": 31,
   "metadata": {},
   "outputs": [
    {
     "name": "stdout",
     "output_type": "stream",
     "text": [
      "Welcome To INDIA\n"
     ]
    }
   ],
   "source": [
    "# 1. read(): It can be used to read the complete data which is existed in the specified file.\n",
    "\n",
    "files = open(\"c:/classss/ABC/writefunc.txt\",\"r\")\n",
    "data = files.read() \n",
    "print(data)         "
   ]
  },
  {
   "cell_type": "code",
   "execution_count": 33,
   "metadata": {},
   "outputs": [
    {
     "name": "stdout",
     "output_type": "stream",
     "text": [
      "ABCD ZZ VVVV NNN MMM AAAAAAAA\n",
      "\n"
     ]
    }
   ],
   "source": [
    "# 2.readline(): It able to read only one line of data in the form of String.\n",
    "\n",
    "fi = open(\"C:/classss/ABC/WELCOME.txt\",\"r\")\n",
    "data = fi.readline()\n",
    "print(data)"
   ]
  },
  {
   "cell_type": "code",
   "execution_count": 36,
   "metadata": {},
   "outputs": [
    {
     "name": "stdout",
     "output_type": "stream",
     "text": [
      "['ABCD ZZ VVVV NNN MMM AAAAAAAA\\n', 'AAA AAAA BS BBB BB CCCC CC\\n', '            lll kkmhh hhhh ffffg']\n"
     ]
    }
   ],
   "source": [
    "# 3. readlines(): It able to read data in the form multiple lines in a list.\n",
    "\n",
    "fi = open(\"C:/classss/ABC/WELCOME.txt\",\"r\")\n",
    "data = fi.readlines()                 ####### ONE LINE ==> ONE STRING\n",
    "print(data)     "
   ]
  },
  {
   "cell_type": "code",
   "execution_count": 3,
   "metadata": {},
   "outputs": [
    {
     "name": "stdout",
     "output_type": "stream",
     "text": [
      "ABCD ZZ VVVV NNN MMM AAAAAAAA\n",
      "AAA AAAA B\n"
     ]
    }
   ],
   "source": [
    "# 4. read(no_Of_Characters): It able to read the specified no of characters from the file.\n",
    "\n",
    "fi = open(\"C:/classss/ABC/WELCOME.txt\",\"r\")\n",
    "data = fi.read(40)   ###### CAL WITH SPACE  0 to --\n",
    "print(data)"
   ]
  },
  {
   "cell_type": "markdown",
   "metadata": {},
   "source": [
    "#### - 'r' --> only read operation, not write operation\n",
    "     1. r ==> open an existing file for read operation. The file pointer is positioned at the beginning of the file.If the specified file does not exist then we will get FileNotFoundError.This is default mode.\n",
    "#### - 'w' --> Only Write operation with override, not read operation .\n",
    "     2. w ==> open an existing file for write operation. If the file already contains some data then it will be overridden. If the specified file is not already avaialble then this mode will create that file.\n",
    "     \n",
    "#### - 'a' --> Append new data to the old data. (old data + new data save).\n",
    "     3. a  open an existing file for append operation. It won't override existing data.If the specified file is not already avaialble then this mode will create a new file.\n",
    "#### - 'r+'-->Read and Write, but, it will override the existed content upto the required part (lenght of new data).\n",
    "     4. r+  To read and write data into the file. The previous data in the file will not be deleted.The file pointer is placed at the beginning of the file.\n",
    "#### - 'a+'--> Append and Read operations .\n",
    "     \n",
    "#### - 'w+'--> Write then read operation.(with override)\n",
    "#### - 'x' --> It will create file, if file is existed then it will generate error.\n",
    "\n",
    "#### - Note: All the above modes are applicable for text files. If the above modes suffixed with 'b' then these represents for binary files.\n",
    "   - Eg: rb,wb,ab,r+b,w+b,a+b,xb\n"
   ]
  },
  {
   "cell_type": "markdown",
   "metadata": {},
   "source": [
    "#### - In Python applications, if we create any file then it is convention to close that file, for closing files we will use close() funtion.\n",
    "#### - To Check whether a FILE is closed or not we have to use \"closed\" variable from File.\n",
    "\n",
    "#### -name : Name of opened file\n",
    "#### -mode : Mode in which the file is opened\n"
   ]
  },
  {
   "cell_type": "code",
   "execution_count": 11,
   "metadata": {},
   "outputs": [
    {
     "name": "stdout",
     "output_type": "stream",
     "text": [
      "ABCD ZZ VVVV NNN MMM AAAAAAAA\n",
      "AAA AAAA BS BBB BB CCCC CC\n",
      "            lll kkmhh hhhh ffffg\n",
      "close : False\n",
      "after close() : True\n"
     ]
    }
   ],
   "source": [
    "file = open(\"c:/classss/ABC/WELCOME.txt\",\"r\")\n",
    "# file.seek(0)\n",
    "print(file.read())\n",
    "print('close :',file.closed)    \n",
    "file.close()\n",
    "print('after close() :',file.closed)\n"
   ]
  },
  {
   "cell_type": "markdown",
   "metadata": {},
   "source": [
    "- In general, in python applications, of we open the file then we have to\n",
    "close that file at the end of python application explicitly, in this\n",
    "context, developers may or may not close the files explicitly, if we\n",
    "want to close the files with out failure then we have to go for an\n",
    "alternative where PVM must close the files at the end of appliactions.\n",
    "To achieve this rejquired we have to create file with 'with' keyword.\n"
   ]
  },
  {
   "cell_type": "code",
   "execution_count": 20,
   "metadata": {},
   "outputs": [
    {
     "name": "stdout",
     "output_type": "stream",
     "text": [
      "Welcome To bharat\n",
      "File Closed? : False\n",
      "File Closed???? : True\n"
     ]
    }
   ],
   "source": [
    "with open (\"c:/classss/ABC/closeWith.txt\",\"w+\") as cw :\n",
    "    cw.write(\"Welcome To bharat\")\n",
    "    cw.seek(0)\n",
    "    print(cw.read())\n",
    "    print(\"File Closed? :\",cw.closed)\n",
    "    \n",
    "print(\"File Closed???? :\",file.closed)\n"
   ]
  },
  {
   "cell_type": "markdown",
   "metadata": {},
   "source": [
    "##### - To get current location of the file cursor(file pointer) we will use tell() function. To move file cursor(file pointer) to a particular location we will use seek(position) function."
   ]
  },
  {
   "cell_type": "code",
   "execution_count": 31,
   "metadata": {},
   "outputs": [
    {
     "name": "stdout",
     "output_type": "stream",
     "text": [
      "Welcome To bharat\n",
      "17\n",
      "0\n",
      "0\n",
      "Welcome To bhar\n",
      "15\n"
     ]
    }
   ],
   "source": [
    "ccw = open(\"c:/classss/ABC/closeWith.txt\",\"r\")\n",
    "print(ccw.read())\n",
    "print(ccw.tell())   ##  file-data last position\n",
    "print(ccw.seek(0))\n",
    "print(ccw.tell())\n",
    "print(ccw.read(15))\n",
    "print(ccw.tell())\n"
   ]
  },
  {
   "cell_type": "markdown",
   "metadata": {},
   "source": [
    "#### - Q)Write a Python program to take file name as dynamic input and to display file content?\n"
   ]
  },
  {
   "cell_type": "code",
   "execution_count": 3,
   "metadata": {},
   "outputs": [
    {
     "name": "stdout",
     "output_type": "stream",
     "text": [
      "Enter File Name : c:/classss/ABC/WELCOME.txt\n",
      "ABCD ZZ VVVV NNN MMM AAAAAAAA\n",
      "AAA AAAA BS BBB BB CCCC CC\n",
      "            lll kkmhh hhhh ffffg\n"
     ]
    }
   ],
   "source": [
    "fileName = input(\"Enter File Name : \")\n",
    "file = open(fileName,'r')\n",
    "data = file.read()\n",
    "print(data)\n",
    "\n",
    "\n",
    "## i/p == >   c:/classss/ABC/WELCOME.txt\n",
    "## o/p ==>  file data followed to program"
   ]
  },
  {
   "cell_type": "markdown",
   "metadata": {},
   "source": [
    "### -Q)Write a python program to take file name as dynamic input and to display no of lines, no of words and no of characters of the respective file?"
   ]
  },
  {
   "cell_type": "code",
   "execution_count": 6,
   "metadata": {},
   "outputs": [
    {
     "name": "stdout",
     "output_type": "stream",
     "text": [
      "enter file path : c:/classss/ABC/WELCOME.txt\n",
      "['ABCD ZZ VVVV NNN MMM AAAAAAAA\\n', 'AAA AAAA BS BBB BB CCCC CC\\n', '            lll kkmhh hhhh ffffg\\n', '  ']\n",
      "\n",
      "4\n",
      "17\n",
      "61\n"
     ]
    }
   ],
   "source": [
    "filePut = input(\"enter file path : \")\n",
    "File = open(filePut,\"r\")\n",
    "data = (File.readlines())\n",
    "print(data)\n",
    "len(data)\n",
    "\n",
    "lines = 0\n",
    "words = 0\n",
    "chars = 0\n",
    "File.seek(0)\n",
    "\n",
    "for li in File :\n",
    "    lines = lines+1   ### \"\\n\"==> 3nos.\n",
    "    words = words+len(li.split())\n",
    "    for wo in li.split() :\n",
    "        chars = chars + len(wo)\n",
    "\n",
    "print()\n",
    "print(lines)   \n",
    "print(words)\n",
    "print(chars)\n"
   ]
  },
  {
   "cell_type": "code",
   "execution_count": 31,
   "metadata": {},
   "outputs": [
    {
     "name": "stdout",
     "output_type": "stream",
     "text": [
      "Enter File Name: c:/classss/ABC/WELCOME.txt\n",
      "File exists: c:/classss/ABC/WELCOME.txt\n",
      "The number of Lines: 4\n",
      "The number of Words: 17\n",
      "The number of Characters: 92\n"
     ]
    }
   ],
   "source": [
    "import os,sys\n",
    "fname=input(\"Enter File Name: \")\n",
    "if os.path.isfile(fname):\n",
    "    print(\"File exists:\",fname)\n",
    "    f=open(fname,\"r\")\n",
    "else :\n",
    "    print(\"File does not exist :\",fname)\n",
    "    sys.exit(0)\n",
    "    \n",
    "lcount=wcount=ccount=0\n",
    "for line in f:\n",
    "    lcount=lcount+1\n",
    "    ccount=ccount+len(line)\n",
    "    words=line.split()\n",
    "    wcount=wcount+len(words)\n",
    "print(\"The number of Lines:\",lcount)\n",
    "print(\"The number of Words:\",wcount)\n",
    "print(\"The number of Characters with space:\",ccount)"
   ]
  },
  {
   "cell_type": "markdown",
   "metadata": {},
   "source": [
    "### Q)Write a python program to transfer data from one file to another file?\n",
    "------------------------------------------------------------------------\n"
   ]
  },
  {
   "cell_type": "code",
   "execution_count": 20,
   "metadata": {},
   "outputs": [
    {
     "name": "stdout",
     "output_type": "stream",
     "text": [
      "it is starting file \n",
      "copy success\n",
      "True\n"
     ]
    }
   ],
   "source": [
    "f1st = open(\"c:/classss/ABC/1start.txt\",\"r\")\n",
    "data = f1st.read()\n",
    "print(data)\n",
    "f2nd = open(\"c:/classss/ABC/2end.txt\",\"w+\")\n",
    "dd = f2nd.write(data+\"\\n\"+\" 1start file copy\")\n",
    "print(\"copy success\")\n",
    "f2nd.close()\n",
    "print(f2nd.closed)\n"
   ]
  },
  {
   "cell_type": "code",
   "execution_count": 29,
   "metadata": {},
   "outputs": [
    {
     "name": "stdout",
     "output_type": "stream",
     "text": [
      "['it is starting file \\n', ' 1start file copy']\n",
      "it is starting file \n",
      "\n",
      " 1start file copy\n"
     ]
    }
   ],
   "source": [
    "f = open(\"c:/classss/ABC/2end.txt\",\"r+\")\n",
    "data = f.readlines()\n",
    "print(data)\n",
    "for s in data :\n",
    "    print(s)"
   ]
  },
  {
   "cell_type": "code",
   "execution_count": null,
   "metadata": {},
   "outputs": [],
   "source": []
  }
 ],
 "metadata": {
  "kernelspec": {
   "display_name": "Python 3",
   "language": "python",
   "name": "python3"
  },
  "language_info": {
   "codemirror_mode": {
    "name": "ipython",
    "version": 3
   },
   "file_extension": ".py",
   "mimetype": "text/x-python",
   "name": "python",
   "nbconvert_exporter": "python",
   "pygments_lexer": "ipython3",
   "version": "3.8.1"
  }
 },
 "nbformat": 4,
 "nbformat_minor": 4
}
