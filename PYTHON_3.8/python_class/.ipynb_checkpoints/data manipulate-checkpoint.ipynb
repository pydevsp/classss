{
 "cells": [
  {
   "cell_type": "markdown",
   "metadata": {},
   "source": [
    "# str data type :"
   ]
  },
  {
   "cell_type": "code",
   "execution_count": 3,
   "metadata": {},
   "outputs": [
    {
     "name": "stdout",
     "output_type": "stream",
     "text": [
      "Durga Software Solutions\n",
      "\n",
      "Durga Software Solutions\n",
      "\n",
      "Durga Software SOlutions\n",
      "\n",
      "Durga\n",
      "Software\n",
      "Solutions\n"
     ]
    }
   ],
   "source": [
    "str1 = 'Durga Software Solutions'\n",
    "print(str1)\n",
    "print()\n",
    "str2 = \"Durga Software Solutions\"\n",
    "print(str2)\n",
    "print()\n",
    "str3 = '''Durga Software SOlutions'''\n",
    "print(str3)\n",
    "print()\n",
    "str4 = '''Durga\n",
    "Software\n",
    "Solutions'''\n",
    "print(str4)\n"
   ]
  },
  {
   "cell_type": "markdown",
   "metadata": {},
   "source": [
    "- In Python applications, we are able to provide ' '[Single quotation]\n",
    "  with / in single quaotation, we can provide double quotations dirdctly\n",
    "  in single quotations and we are unable to provide triple quotations in\n",
    "  single quotations. If we provide triple quotations with / then PVM will\n",
    "  take /' as string and the remaining single quotations are treated as\n",
    "  empty string and PVM will display only single quotation in the string.\n"
   ]
  },
  {
   "cell_type": "code",
   "execution_count": 4,
   "metadata": {},
   "outputs": [
    {
     "name": "stdout",
     "output_type": "stream",
     "text": [
      "Durga 'Software' Solutions\n",
      "\n",
      "Durga \"Software\" Solutions\n",
      "\n",
      "Durga 'Software' Solutions\n"
     ]
    }
   ],
   "source": [
    "str1 = 'Durga \\'Software\\' Solutions'\n",
    "print(str1)\n",
    "print()\n",
    "\n",
    "str2 = 'Durga \"Software\" Solutions'\n",
    "print(str2)\n",
    "print()\n",
    "\n",
    "str3 = 'Durga \\'''Software\\''' Solutions'\n",
    "print(str3)\n"
   ]
  },
  {
   "cell_type": "markdown",
   "metadata": {},
   "source": [
    "- In double quatotations, it is possible to provide single quotations and\n",
    "  triple quotations directly , but, it is not possible to provide double\n",
    "  quotations directly , but, we can provide double quotations in double\n",
    "  quotations with \\ .\n"
   ]
  },
  {
   "cell_type": "code",
   "execution_count": 5,
   "metadata": {},
   "outputs": [
    {
     "name": "stdout",
     "output_type": "stream",
     "text": [
      "Durga 'Software' Solutions\n",
      "\n",
      "Durga \"Software\" Solutions\n",
      "\n",
      "Durga '''Software''' Solutions\n"
     ]
    }
   ],
   "source": [
    "str1 = \"Durga 'Software' Solutions\"\n",
    "print(str1)\n",
    "print()\n",
    "\n",
    "str2 = \"Durga \\\"Software\\\" Solutions\"\n",
    "print(str2)\n",
    "print()\n",
    "\n",
    "str3 = \"Durga '''Software''' Solutions\"\n",
    "print(str3);\n"
   ]
  },
  {
   "cell_type": "markdown",
   "metadata": {},
   "source": [
    "- In triple quotations, we are able to provide single quotations and\n",
    "  double quotations directly, we are unable to provide triple quotations\n",
    "  directly but we are able to provide triple quotations with \\ .\n"
   ]
  },
  {
   "cell_type": "code",
   "execution_count": 6,
   "metadata": {},
   "outputs": [
    {
     "name": "stdout",
     "output_type": "stream",
     "text": [
      "Durga 'Software' Solutions\n",
      "\n",
      "Durga \"Software\" Solutions\n",
      "\n",
      "Durga '''Software''' Solutions\n"
     ]
    }
   ],
   "source": [
    "str1 = '''Durga 'Software' Solutions'''\n",
    "print(str1)\n",
    "print()\n",
    "\n",
    "str2 = '''Durga \"Software\" Solutions'''\n",
    "print(str2)\n",
    "print()\n",
    "\n",
    "str3 = '''Durga \\'''Software\\''' Solutions'''\n",
    "print(str3)\n"
   ]
  },
  {
   "cell_type": "code",
   "execution_count": 7,
   "metadata": {},
   "outputs": [
    {
     "name": "stdout",
     "output_type": "stream",
     "text": [
      "'Durga' \"Software\" 'Solutions'\n",
      "\n",
      "'Durga' \"Software\" '''Solutions'''\n",
      "\n",
      "'Durga' \"Software\" '''Solutions''' \n"
     ]
    }
   ],
   "source": [
    "str1 = '\\'Durga\\' \"Software\" \\'''Solutions\\''''\n",
    "print(str1)\n",
    "print()\n",
    "\n",
    "str2 = \"'Durga' \\\"Software\\\" '''Solutions'''\"\n",
    "print(str2)\n",
    "print()\n",
    "\n",
    "str3 = ''''Durga' \"Software\" \\'''Solutions\\''' '''\n",
    "print(str3)"
   ]
  },
  {
   "cell_type": "markdown",
   "metadata": {},
   "source": [
    "- In Python applications, we are able to read individual characters from\n",
    "  String by using normal for loop , for-Each loop and by using while loop."
   ]
  },
  {
   "cell_type": "code",
   "execution_count": 2,
   "metadata": {},
   "outputs": [
    {
     "name": "stdout",
     "output_type": "stream",
     "text": [
      "24\n",
      "\n",
      "Durga Software Solutions\n"
     ]
    }
   ],
   "source": [
    "str = \"Durga Software Solutions\"\n",
    "print(len(str))\n",
    "print()\n",
    "for x in range(0,len(str)):\n",
    " print(str[x],end=\"\")\n",
    "print()\n"
   ]
  },
  {
   "cell_type": "code",
   "execution_count": 3,
   "metadata": {},
   "outputs": [
    {
     "name": "stdout",
     "output_type": "stream",
     "text": [
      "D u r g a   S o f t w a r e   S o l u t i o n s \n"
     ]
    }
   ],
   "source": [
    "for x in str:\n",
    " print(x,end=\" \")\n",
    "print()\n",
    "\n"
   ]
  },
  {
   "cell_type": "code",
   "execution_count": 4,
   "metadata": {},
   "outputs": [
    {
     "name": "stdout",
     "output_type": "stream",
     "text": [
      "D u r g a   S o f t w a r e   S o l u t i o n s "
     ]
    }
   ],
   "source": [
    "a = 0\n",
    "while a < len(str):\n",
    " print(str[a],end=\" \")\n",
    " a=a+1"
   ]
  },
  {
   "cell_type": "code",
   "execution_count": 6,
   "metadata": {},
   "outputs": [
    {
     "name": "stdout",
     "output_type": "stream",
     "text": [
      "Forward Direction : Durga Software Solutions\n",
      "Backward Direction : snoituloS erawtfoS agruD"
     ]
    }
   ],
   "source": [
    "str = \"Durga Software Solutions\"\n",
    "print(\"Forward Direction : \", end=\"\")\n",
    "for x in range(0, len(str)):\n",
    " print(str[x], end=\"\")\n",
    "print()\n",
    "\n",
    "print(\"Backward Direction : \", end=\"\")\n",
    "for x in range(0,len(str)):\n",
    " print(str[-(x+1)], end=\"\")\n"
   ]
  },
  {
   "cell_type": "markdown",
   "metadata": {},
   "source": [
    "-  In String type data, we are able to retrieve elements individually by\n",
    "    using slice operator.\n",
    "    Syntax:\n",
    "    -------\n",
    "    str [ Val1 : Val2 : Val3 ]\n",
    " -   Val1 ---> Start Index, it may be +ve or -ve value\n",
    " -   Val2 ---> End Index, it may be +ve or -ve value\n",
    " -   Val3 ---> Step length, it may be +ve or -ve value"
   ]
  },
  {
   "cell_type": "markdown",
   "metadata": {},
   "source": [
    "- If the step Length value is +ve value then\n",
    "- The Default value for Start Index is 0\n",
    "- The default value for End Index is len(str)\n"
   ]
  },
  {
   "cell_type": "code",
   "execution_count": 2,
   "metadata": {},
   "outputs": [
    {
     "name": "stdout",
     "output_type": "stream",
     "text": [
      "Durga\n",
      "Software\n",
      "Solutions\n",
      "DraSfwr ouin\n",
      "Durga Software Solutions\n",
      "Durga Software Solutions\n",
      "Durga Software Solutions\n",
      "Durga Software Solutions\n"
     ]
    }
   ],
   "source": [
    "str = \"Durga Software Solutions\"\n",
    "print(str[0:5:1])\n",
    "\n",
    "print(str[6:14:1])\n",
    "\n",
    "print(str[15:24:1])\n",
    "\n",
    "print(str[0:24:2])\n",
    "\n",
    "print(str[:24:1])\n",
    "\n",
    "print(str[0::1])\n",
    "\n",
    "print(str[0:24:])\n",
    "\n",
    "print(str[::])\n"
   ]
  },
  {
   "cell_type": "markdown",
   "metadata": {},
   "source": [
    "-  If we provide -ve value to step length then\n",
    "-  The default value for Start Index is -1\n",
    "-  The default value for end Index is -(len(str)+1)\n"
   ]
  },
  {
   "cell_type": "code",
   "execution_count": 8,
   "metadata": {},
   "outputs": [
    {
     "name": "stdout",
     "output_type": "stream",
     "text": [
      "snoituloS erawtfoS agruD\n",
      "snoituloS\n",
      "erawtfoS\n",
      "agruD\n",
      "snoituloS erawtfoS agruD\n",
      "snoituloS erawtfoS agruD\n",
      "snoituloS erawtfoS agruD\n",
      "Durga Software Solutions\n"
     ]
    }
   ],
   "source": [
    "str = \"Durga Software Solutions\"\n",
    "print(str[-1:-25:-1])\n",
    "\n",
    "print(str[-1:-10:-1])\n",
    "\n",
    "print(str[-11:-19:-1])\n",
    "\n",
    "print(str[-20:-25:-1])\n",
    "\n",
    "print(str[:-25:-1])\n",
    "\n",
    "print(str[-1::-1])\n",
    "\n",
    "print(str[::-1])\n",
    "\n",
    "print(str[ : : ])\n"
   ]
  },
  {
   "cell_type": "code",
   "execution_count": 9,
   "metadata": {},
   "outputs": [
    {
     "name": "stdout",
     "output_type": "stream",
     "text": [
      "agruD\n",
      "Software\n",
      "erawtfoS\n",
      "snoituloS\n"
     ]
    }
   ],
   "source": [
    "str = \"Durga Software Solutions\"\n",
    "print(str[4:-25:-1])\n",
    "print(str[-18:14:1])\n",
    "print(str[13:5:-1])\n",
    "print(str[-1:14:-1])\n"
   ]
  },
  {
   "cell_type": "code",
   "execution_count": 10,
   "metadata": {},
   "outputs": [
    {
     "name": "stdout",
     "output_type": "stream",
     "text": [
      "Durga Software Solutions\n",
      "Durga Software Solutions\n",
      "snoituloS erawtfoS agruD\n"
     ]
    }
   ],
   "source": [
    "# end index value in out side range of the string\n",
    "str = \"Durga Software Solutions\"\n",
    "print(str[0:1000:1])\n",
    "print(str[-100:1000:1])\n",
    "print(str[-1:-1000:-1])\n"
   ]
  },
  {
   "cell_type": "code",
   "execution_count": 11,
   "metadata": {},
   "outputs": [
    {
     "name": "stdout",
     "output_type": "stream",
     "text": [
      "Durga Software Solutions\n",
      "\n",
      "Durga Software Solutions\n"
     ]
    }
   ],
   "source": [
    "print(\"Durga \"+\"Software \"+\"Solutions\")\n",
    "print()\n",
    "\n",
    "str1 = \"Durga \"\n",
    "str2 = \"Software \"\n",
    "str3 = \"Solutions\"\n",
    "str4 = str1+str2+str3\n",
    "print(str4)\n"
   ]
  },
  {
   "cell_type": "code",
   "execution_count": 12,
   "metadata": {},
   "outputs": [
    {
     "ename": "TypeError",
     "evalue": "can only concatenate str (not \"int\") to str",
     "output_type": "error",
     "traceback": [
      "\u001b[1;31m---------------------------------------------------------------------------\u001b[0m",
      "\u001b[1;31mTypeError\u001b[0m                                 Traceback (most recent call last)",
      "\u001b[1;32m<ipython-input-12-111f0b7a910c>\u001b[0m in \u001b[0;36m<module>\u001b[1;34m\u001b[0m\n\u001b[1;32m----> 1\u001b[1;33m \u001b[0mstr5\u001b[0m \u001b[1;33m=\u001b[0m \u001b[1;34m\"Durga\"\u001b[0m\u001b[1;33m+\u001b[0m\u001b[1;36m5\u001b[0m          \u001b[1;31m#---> Error\u001b[0m\u001b[1;33m\u001b[0m\u001b[1;33m\u001b[0m\u001b[0m\n\u001b[0m",
      "\u001b[1;31mTypeError\u001b[0m: can only concatenate str (not \"int\") to str"
     ]
    }
   ],
   "source": [
    "str5 = \"Durga\"+5          #---> Error"
   ]
  },
  {
   "cell_type": "code",
   "execution_count": 1,
   "metadata": {},
   "outputs": [
    {
     "name": "stdout",
     "output_type": "stream",
     "text": [
      "Durga Durga Durga Durga Durga \n",
      "Durga Durga Durga Durga Durga \n",
      "Durga Durga Durga Durga Durga Durga Durga Durga Durga \n",
      "Durga Durga Durga \n"
     ]
    }
   ],
   "source": [
    "print(\"Durga \"*5)\n",
    "print(5*\"Durga \")\n",
    "print(3*\"Durga \"*3)  # ==>  (3*3)*\"string\" ==> 9*\"durga\"\n",
    "str = \"Durga \"*3\n",
    "print(str)\n"
   ]
  },
  {
   "cell_type": "markdown",
   "metadata": {},
   "source": [
    "- Where '==' operator will check whether two string values are same or\n",
    "  not.\n",
    "  \n",
    "- Where '<' operator will check whether the provided first operand is\n",
    "  existed before the provided second operand or not in dictionary order.\n",
    "  \n",
    "- Where '>' operator will check whether the provided first operand is\n",
    "  existed after the provided second operand or not in dictionary order."
   ]
  },
  {
   "cell_type": "code",
   "execution_count": 5,
   "metadata": {},
   "outputs": [
    {
     "name": "stdout",
     "output_type": "stream",
     "text": [
      "False\n",
      "False\n",
      "True\n",
      "\n",
      "True\n",
      "False\n",
      "False\n",
      "False\n",
      "\n",
      "False\n",
      "True\n",
      "False\n"
     ]
    }
   ],
   "source": [
    "str1 = \"abc\"\n",
    "str2 = \"def\"\n",
    "str3 = \"abc\"\n",
    "\n",
    "print(str1 == str2)\n",
    "print(str2 == str3)\n",
    "print(str3 == str1)\n",
    "print()\n",
    "print(str1 < str2)\n",
    "print(str1 < str3)\n",
    "print(str2 < str3)\n",
    "print(str3 < str1)\n",
    "print()\n",
    "print(str1 > str2)\n",
    "print(str2 > str3)\n",
    "print(str3 > str1)"
   ]
  },
  {
   "cell_type": "markdown",
   "metadata": {},
   "source": [
    "- In Python, there are two membership operators\n",
    "  1. in\n",
    "  2. not in\n"
   ]
  },
  {
   "cell_type": "code",
   "execution_count": 8,
   "metadata": {},
   "outputs": [
    {
     "name": "stdout",
     "output_type": "stream",
     "text": [
      "True\n",
      "True\n",
      "True\n",
      "False\n",
      "True\n",
      "False\n",
      "True ==> Du\n",
      "False ==> du\n"
     ]
    }
   ],
   "source": [
    "str = \"Durga Software Solutions\"\n",
    "\n",
    "print(\"Durga\" in str)\n",
    "print(\"Software\" in str)\n",
    "print(\"Solutions\" in str)\n",
    "\n",
    "print(\"Tech\" in str)\n",
    "print(\"Tech\" not in str)\n",
    "print(\"Durga\" not in str)\n",
    "print(\"Du\" in str,\"==>\",\"Du\")\n",
    "print(\"du\" in str,\"==>\",\"du\")"
   ]
  },
  {
   "cell_type": "markdown",
   "metadata": {},
   "source": [
    "-    In String type, if we want to split a string into no of sub strings in\n",
    "     the form of a list then we have to use split() predefined function.\n",
    "     \n",
    "     split() function will take\n",
    "     space as default delimiter and it is possible to provide our own\n",
    "     delimiter as parameter.\n"
   ]
  },
  {
   "cell_type": "markdown",
   "metadata": {},
   "source": [
    "### split()    :"
   ]
  },
  {
   "cell_type": "code",
   "execution_count": 13,
   "metadata": {},
   "outputs": [
    {
     "name": "stdout",
     "output_type": "stream",
     "text": [
      "['Durga', 'Software', 'Solutions']\n",
      "Durga\n",
      "Software\n",
      "Solutions\n",
      "\n"
     ]
    }
   ],
   "source": [
    "str = \"Durga Software Solutions\"\n",
    "list = str.split()\n",
    "print(list)\n",
    "\n",
    "print()\n",
    "\n",
    "for x in list:\n",
    " print(x)\n",
    "print()"
   ]
  },
  {
   "cell_type": "code",
   "execution_count": 2,
   "metadata": {},
   "outputs": [
    {
     "name": "stdout",
     "output_type": "stream",
     "text": [
      "['durga', 'durgasoft.com']\n",
      "durga\n",
      "durgasoft.com\n",
      "aa\n",
      "abb\n",
      "qq\n"
     ]
    }
   ],
   "source": [
    "str = \"durga@durgasoft.com\"\n",
    "list = str.split(\"@\")\n",
    "print(list)\n",
    "for x in list:\n",
    " print(x)\n",
    "\n",
    "ll=[\"aa\" ,\"abb\",\"qq\"]\n",
    "for x in ll:\n",
    "    print(x)"
   ]
  },
  {
   "cell_type": "markdown",
   "metadata": {},
   "source": [
    "- In string type, if we want to get the location of a particular substring\n",
    "  in the original string then we have to use the following two predefined\n",
    "   functions.\n",
    "   \n",
    "   1. find()\n",
    "   2. index()\n"
   ]
  },
  {
   "cell_type": "markdown",
   "metadata": {},
   "source": [
    "-  Q)What is the difference between find() and index() function?\n",
    "-------------------------------------------------------------\n",
    "Ans:\n",
    "-----\n",
    "-  To get the location of a particular substring if we use find() function\n",
    "   then find() function will check whether the provided sub string is\n",
    "   existed or not in the original string, if the provided sub string is\n",
    "   existed then find() function will return the index of the provided\n",
    "   substring, if the provided substring is not existed in the original\n",
    "   string then find() function will return -1 value.\n",
    "   \n",
    "-  To get the location of a particular substring if we use index() function\n",
    "   then index() function will check whether the provided substring is\n",
    "   existed or not in the original string, if it is existed then index()\n",
    "   function will return the index of the provided substring, if the\n",
    "   provided substring is not existed then index() function will return an\n",
    "   error like \"ValueError: substring not found\".\n"
   ]
  },
  {
   "cell_type": "code",
   "execution_count": 8,
   "metadata": {},
   "outputs": [
    {
     "name": "stdout",
     "output_type": "stream",
     "text": [
      "6\n",
      "6\n",
      "-1\n",
      "6\n",
      "6\n"
     ]
    }
   ],
   "source": [
    "str = \"Durga Software Solutions\"\n",
    "print(str.find(\"Software\"))\n",
    "print(str.index(\"Software\"))\n",
    "print(str.find(\"Hyderabad\"))\n",
    "# print(str.index(\"Hyderabad\"))   # --> ValueError: substring not found\n",
    "print(str.find(\"So\"))\n",
    "print(str.index(\"So\"))   "
   ]
  },
  {
   "cell_type": "code",
   "execution_count": 12,
   "metadata": {},
   "outputs": [
    {
     "name": "stdout",
     "output_type": "stream",
     "text": [
      "6\n",
      "-1\n",
      "6\n",
      "15\n"
     ]
    }
   ],
   "source": [
    "\n",
    "str = \"Durga Software Solutions\"\n",
    "print(str.find(\"So\",5, 14))\n",
    "print(str.find(\"So\", 0, 5))\n",
    "print(str.index(\"So\", 5, 14))\n",
    "print(str.index(\"So\", 14, 20))\n"
   ]
  },
  {
   "cell_type": "markdown",
   "metadata": {},
   "source": [
    "- If we want ti find the location of a particular substring in backward\n",
    "  direction in the goiven string then we have to use the following two\n",
    "  predefined functions.\n",
    "  1. rfind()\n",
    "  2. rindex()\n"
   ]
  },
  {
   "cell_type": "code",
   "execution_count": 20,
   "metadata": {},
   "outputs": [
    {
     "name": "stdout",
     "output_type": "stream",
     "text": [
      "Durga Software Solutions\n",
      "15\n",
      "-1\n",
      "15\n",
      "15\n"
     ]
    }
   ],
   "source": [
    "str = \"Durga Software Solutions\"\n",
    "print(str)\n",
    "print(str.rfind(\"So\"))\n",
    "print(str.rfind(\"Hyderabad\"))\n",
    "print(str.rindex(\"So\"))\n",
    "# print(str.rindex(\"Hyderabad\")   #  \"ValueError: substring not found\".\n",
    "print(str.rindex(\"So\"))"
   ]
  },
  {
   "cell_type": "code",
   "execution_count": 27,
   "metadata": {},
   "outputs": [
    {
     "name": "stdout",
     "output_type": "stream",
     "text": [
      "15\n",
      "6\n",
      "6\n",
      "6\n"
     ]
    }
   ],
   "source": [
    "str = \"Durga Software Solutions\"\n",
    "print(str.rfind(\"So\",14,24))\n",
    "print(str.rfind(\"So\",5, 14))\n",
    "print(str.rfind(\"So\", 0, 8))\n",
    "print(str.rindex(\"So\",5, 8))"
   ]
  },
  {
   "cell_type": "code",
   "execution_count": 29,
   "metadata": {},
   "outputs": [
    {
     "name": "stdout",
     "output_type": "stream",
     "text": [
      "15\n",
      "6\n",
      "6\n"
     ]
    }
   ],
   "source": [
    "print(str.rindex(\"So\",14,24))\n",
    "print(str.rindex(\"So\",5, 14))\n",
    "print(str.rindex(\"So\", 0, 8))\n"
   ]
  },
  {
   "cell_type": "code",
   "execution_count": 30,
   "metadata": {},
   "outputs": [
    {
     "name": "stdout",
     "output_type": "stream",
     "text": [
      "24\n"
     ]
    }
   ],
   "source": [
    "str = \"Durga Software Solutions\"\n",
    "print(len(str))\n"
   ]
  },
  {
   "cell_type": "markdown",
   "metadata": {},
   "source": [
    "- In string type values, if we want to remove before and afetr spaces for\n",
    "  a string then we have to use the following predefined functions.\n",
    "  1. strip()  ==>  function will remove before spaces and after spaces for a particular string.\n",
    "  2. lstrip() ==>  will remove left spaces for a string.                 \n",
    "  3. rstrip() ==>  Where rstrip() will remove right spaces for a particular string .\n"
   ]
  },
  {
   "cell_type": "code",
   "execution_count": 42,
   "metadata": {},
   "outputs": [
    {
     "name": "stdout",
     "output_type": "stream",
     "text": [
      "      Durga Software Solutions       Hyderabad\n",
      "Durga Software Solutions Hyderabad\n",
      "Durga Software Solutions       Hyderabad\n",
      "      Durga Software Solutions Hyderabad\n"
     ]
    }
   ],
   "source": [
    "str = \"      Durga Software Solutions      \"\n",
    "\n",
    "print(str,\"Hyderabad\")\n",
    "print(str.strip(),\"Hyderabad\")\n",
    "print(str.lstrip(), \"Hyderabad\")\n",
    "print(str.rstrip(), \"Hyderabad\")\n"
   ]
  },
  {
   "cell_type": "markdown",
   "metadata": {},
   "source": [
    "-  In String type values, to manipulate lower case letters and Upper case\n",
    "   letters, String type has provided the following set of predefined\n",
    "   functions.\n",
    "   1. lower()        ==>  lower() function will convert all the letters in string into lower case letters.\n",
    "   2. islower()      ==>  islower() function will check whether the data in a string is lower case or not.\n",
    "   3. upper()        ==>  upper() function will convert all the letters into upper case. \n",
    "   4. isupper()      ==>  isupper() function will check whether the data in a string is upper case or not.\n",
    "   5. swapcase()     ==>  swapcase() function will convert all lower case letters into upper case letters and all upper         case  letters   into lower case letters. \n",
    "   6. title()        ==>  title() function will make all the first letter of each and everyword as upper case letter.\n",
    "   7. isTitle()      ==>  istitle() function will check whether the data is title() or not.\n",
    "   8. capitalize()   ==>   capitalize() function will make the first letter in the first word as upper case letter.\n",
    "\n"
   ]
  },
  {
   "cell_type": "code",
   "execution_count": 12,
   "metadata": {},
   "outputs": [
    {
     "name": "stdout",
     "output_type": "stream",
     "text": [
      "Durga Software Solutions\n",
      "\n",
      "durga software solutions\n",
      "True\n",
      "str1\n",
      "DURGA SOFTWARE SOLUTIONS\n",
      "True\n",
      "str2\n",
      "Durga Software Solutions\n",
      "str9\n",
      "dURGA sOFTWARE sOLUTIONS\n",
      "str3\n",
      "Durga Software Solutions\n",
      "True\n",
      "str4\n",
      "Durga software solutions\n"
     ]
    }
   ],
   "source": [
    "str = \"Durga Software Solutions\"\n",
    "print(str)\n",
    "print()\n",
    "\n",
    "str1 = str.lower()\n",
    "print(str1)\n",
    "print(str1.islower())\n",
    "print(\"str1\")\n",
    "\n",
    "str2 = str.upper()\n",
    "print(str2)\n",
    "print(str2.isupper())\n",
    "print(\"str2\")\n",
    "\n",
    "str9 = str.title()\n",
    "print(str9)\n",
    "print(\"str9\")\n",
    "\n",
    "str3 = str.swapcase()  \n",
    "print(str3)\n",
    "print(\"str3\")\n",
    "\n",
    "str4 = str.title()\n",
    "print(str4)\n",
    "print(str4.istitle())\n",
    "print(\"str4\")\n",
    "\n",
    "str5 = str.capitalize()\n",
    "print(str5)\n"
   ]
  },
  {
   "cell_type": "code",
   "execution_count": 11,
   "metadata": {},
   "outputs": [
    {
     "name": "stdout",
     "output_type": "stream",
     "text": [
      "SSS AAA RRRR\n",
      "sss AAA rrr\n"
     ]
    }
   ],
   "source": [
    "l= \"sss aaa rrrr\"\n",
    "l2=l.swapcase()\n",
    "print(l2)\n",
    "\n",
    "l= \"SSS aaa RRR\"\n",
    "L3=l.swapcase()\n",
    "print(L3)"
   ]
  },
  {
   "cell_type": "markdown",
   "metadata": {},
   "source": [
    "- In Python applications, if we want join all the elements of a list or\n",
    "  set or tuple with a particular delimiter or seperator then we have to\n",
    "  use join() function.\n",
    "  \n",
    "  Syntax: \"Delimiter\".join(list/set/tuple)"
   ]
  },
  {
   "cell_type": "code",
   "execution_count": 16,
   "metadata": {},
   "outputs": [
    {
     "name": "stdout",
     "output_type": "stream",
     "text": [
      "11-02-2020\n",
      "11/02/2020\n",
      "11022020\n"
     ]
    }
   ],
   "source": [
    "list = [\"11\", \"02\", \"2020\"]\n",
    "str1 = \"-\".join(list)\n",
    "print(str1)\n",
    "\n",
    "str2 = \"/\".join(list)\n",
    "print(str2)\n",
    "\n",
    "st = \"\".join(list)\n",
    "print(st)\n"
   ]
  },
  {
   "cell_type": "markdown",
   "metadata": {},
   "source": [
    "-  In String type values, to check whether the data containes alphanumeric\n",
    "   or not , numeric values or not, alphabets or not ,.... Python has\n",
    "   provided the following predefined functions.\n",
    "\n",
    "    isalpha()\n",
    "    \n",
    "    isalnum()    \n",
    "    \n",
    "    isdigit()\n"
   ]
  },
  {
   "cell_type": "code",
   "execution_count": 18,
   "metadata": {},
   "outputs": [
    {
     "name": "stdout",
     "output_type": "stream",
     "text": [
      "Durga\n",
      "True\n",
      "\n",
      "Durga123\n",
      "True\n",
      "\n",
      "1234\n",
      "True\n"
     ]
    }
   ],
   "source": [
    "str1 = \"Durga\"\n",
    "print(str1)\n",
    "print(str1.isalpha())\n",
    "print()\n",
    "\n",
    "str2 = \"Durga123\"\n",
    "print(str2)\n",
    "print(str2.isalnum())   #  alpha  with  numeric \n",
    "print()\n",
    "\n",
    "str3 = \"1234\";\n",
    "print(str3)\n",
    "print(str3.isdigit())\n"
   ]
  },
  {
   "cell_type": "markdown",
   "metadata": {},
   "source": [
    "- To get how many times a particular sub string is repeated in a given\n",
    "string we have to use a predefinede function like count().\n"
   ]
  },
  {
   "cell_type": "code",
   "execution_count": 22,
   "metadata": {},
   "outputs": [
    {
     "name": "stdout",
     "output_type": "stream",
     "text": [
      "2\n",
      "1\n"
     ]
    }
   ],
   "source": [
    "str = \"Durga Software Solutions\"\n",
    "print(str.count(\"So\"))\n",
    "print(str.count(\"D\"))"
   ]
  },
  {
   "cell_type": "markdown",
   "metadata": {},
   "source": [
    "### List Type:\n",
    " -----------\n"
   ]
  },
  {
   "cell_type": "code",
   "execution_count": null,
   "metadata": {},
   "outputs": [],
   "source": []
  }
 ],
 "metadata": {
  "kernelspec": {
   "display_name": "Python 3",
   "language": "python",
   "name": "python3"
  },
  "language_info": {
   "codemirror_mode": {
    "name": "ipython",
    "version": 3
   },
   "file_extension": ".py",
   "mimetype": "text/x-python",
   "name": "python",
   "nbconvert_exporter": "python",
   "pygments_lexer": "ipython3",
   "version": "3.8.1"
  }
 },
 "nbformat": 4,
 "nbformat_minor": 4
}
