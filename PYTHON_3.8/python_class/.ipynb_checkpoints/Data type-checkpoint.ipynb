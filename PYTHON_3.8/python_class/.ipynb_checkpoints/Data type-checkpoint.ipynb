{
 "cells": [
  {
   "cell_type": "markdown",
   "metadata": {},
   "source": [
    "# 1. Statically Typed Programming language.\n",
    "# 2. Dynamically Typed Programming Language."
   ]
  },
  {
   "cell_type": "markdown",
   "metadata": {},
   "source": [
    "## Statically Typed Programming language:-\n",
    "        ### In any Proigramming Language, if we are providing data types before representing data then that programming language is called as Statically Typed Programming Language.\n",
    "        ###  Note: C, C++ and Java are statically Typed Programming Languages.\n",
    "        ###  1. int a = 10; ---> valid\n",
    "             2. int a;\n",
    "                a = 20; -------> Valid\n",
    "             3. a = 30; -------> Invalid\n",
    "             4. a = 30 -------> Invalid"
   ]
  },
  {
   "cell_type": "markdown",
   "metadata": {},
   "source": [
    "## Dynamically Typed Programming Language:-\n",
    "     ### In any programming language, if we represent data with out providing data types explicitly and if the data types are calculated after providing data then that programming languages are called as Dynamically Typed Programming Languages.\n",
    "         ex: Python\n",
    "               a = 10 ---> valid\n",
    "           int a = 20; --> Invalid.\n",
    "     ###  In Python, it is possible to get data type of the provided data by using a predefined function like type().      "
   ]
  },
  {
   "cell_type": "markdown",
   "metadata": {},
   "source": [
    "#### To prepare Python applications, Python has provided the following data types.\n",
    "      - fundamental data type\n",
    "      - sequence / advanced data type"
   ]
  },
  {
   "cell_type": "markdown",
   "metadata": {},
   "source": [
    "#  FUNDAMENTAL DATA-TYPE :-\n",
    "\n",
    "## 1. NUMERIC DATA-TYPE :"
   ]
  },
  {
   "cell_type": "markdown",
   "metadata": {},
   "source": [
    "##  int() \n",
    "    - It able to store only integral data.\n",
    "    - Its objects are immutable objects .\n",
    "    "
   ]
  },
  {
   "cell_type": "code",
   "execution_count": 1,
   "metadata": {},
   "outputs": [
    {
     "name": "stdout",
     "output_type": "stream",
     "text": [
      "12\n",
      "<class 'int'>\n",
      "140726244853760\n"
     ]
    }
   ],
   "source": [
    "a1=12\n",
    "print(a1)\n",
    "print(type(a1))\n",
    "print(id(a1))"
   ]
  },
  {
   "cell_type": "code",
   "execution_count": 7,
   "metadata": {},
   "outputs": [
    {
     "name": "stdout",
     "output_type": "stream",
     "text": [
      "50\n",
      "140725865663680 :id\n"
     ]
    }
   ],
   "source": [
    "a1 =50\n",
    "print(a1)  #\n",
    "print(id(a1),\":id\")"
   ]
  },
  {
   "cell_type": "code",
   "execution_count": 2,
   "metadata": {},
   "outputs": [
    {
     "name": "stdout",
     "output_type": "stream",
     "text": [
      "(<class 'int'>, 10)\n",
      "(<class 'int'>, 83)\n",
      "(<class 'int'>, 10)\n",
      "(<class 'int'>, 1194684)\n"
     ]
    }
   ],
   "source": [
    "a = 0b1010\n",
    "b = 0o123\n",
    "c = 10\n",
    "d = 0x123abc   # octal, decimal and hexa decimal are by default print in binary  value . \n",
    "print((type(a),a))\n",
    "print((type(b),b))\n",
    "print((type(c),c))\n",
    "print((type(d),d))"
   ]
  },
  {
   "cell_type": "code",
   "execution_count": 18,
   "metadata": {},
   "outputs": [
    {
     "name": "stdout",
     "output_type": "stream",
     "text": [
      "140725865662400\n",
      "140725865662400\n",
      "140725865662400\n"
     ]
    }
   ],
   "source": [
    "# Q)How many no of objects are created for int type in the following Python code?\n",
    "a = 10\n",
    "b = 10\n",
    "c = 10\n",
    "# print(a)\n",
    "# print(b)\n",
    "# print(c)\n",
    "# ans : 1\n",
    "\n",
    "# solv:\n",
    "print(id(a))\n",
    "print(id(b))\n",
    "print(id(c))"
   ]
  },
  {
   "cell_type": "code",
   "execution_count": 20,
   "metadata": {},
   "outputs": [
    {
     "name": "stdout",
     "output_type": "stream",
     "text": [
      "140725865662400\n",
      "140725865662720\n",
      "140725865663040\n",
      "30\n"
     ]
    }
   ],
   "source": [
    "# Q2) \n",
    "a = 10\n",
    "print(id(a))\n",
    "a = a + 10\n",
    "print(id(a))\n",
    "a = a + 10\n",
    "print(id(a))\n",
    "print(a)\n",
    "\n",
    "# ans:3 objects created"
   ]
  },
  {
   "cell_type": "markdown",
   "metadata": {},
   "source": [
    "## float() \n",
    "    - It includes integral part and fractional part.\n",
    "    - Its objects are immutable objects.\n",
    "    "
   ]
  },
  {
   "cell_type": "code",
   "execution_count": 22,
   "metadata": {
    "scrolled": true
   },
   "outputs": [
    {
     "name": "stdout",
     "output_type": "stream",
     "text": [
      "2599346657744\n",
      "12.22\n",
      "2599346995120\n",
      "22.22\n",
      "2599337213392\n",
      "32.22\n"
     ]
    }
   ],
   "source": [
    "f = 12.22\n",
    "print(id(f))\n",
    "print(f)\n",
    "\n",
    "\n",
    "f = f + 10\n",
    "print(id(f))\n",
    "print(f)\n",
    "\n",
    "f = f + 10\n",
    "print(id(f))\n",
    "print(f)\n"
   ]
  },
  {
   "cell_type": "markdown",
   "metadata": {},
   "source": [
    "## Complex ()\n",
    "- Its data includes real value and imaginary value.\n",
    "- ex:  a+bj\n",
    "    -  Where a is real part\n",
    "    -  Where b  is imaginary part"
   ]
  },
  {
   "cell_type": "code",
   "execution_count": 3,
   "metadata": {},
   "outputs": [
    {
     "name": "stdout",
     "output_type": "stream",
     "text": [
      "(10+2j)\n",
      "<class 'complex'>\n",
      "2164485714064\n"
     ]
    }
   ],
   "source": [
    "a = 10+2j\n",
    "\n",
    "print(a)\n",
    "print(type(a))\n",
    "print(id(a))"
   ]
  },
  {
   "cell_type": "markdown",
   "metadata": {},
   "source": [
    "- In Complex Numbers, we are able to get real and imaginary data seperatly by using the predefined variables \"real\" and \"imag\"."
   ]
  },
  {
   "cell_type": "code",
   "execution_count": 4,
   "metadata": {},
   "outputs": [
    {
     "name": "stdout",
     "output_type": "stream",
     "text": [
      "(10+2j)\n",
      "10.0\n",
      "2.0\n"
     ]
    }
   ],
   "source": [
    "a = 10+2j\n",
    "print(a)\n",
    "print(a.real)\n",
    "print(a.imag)"
   ]
  },
  {
   "cell_type": "markdown",
   "metadata": {},
   "source": [
    "##### note: In Complex numbers if we provide real and imaginary values in any number system then PVM will convert these numbers from the specified number system to decimal number system of float type and PVM will process that numbers as like float values."
   ]
  },
  {
   "cell_type": "code",
   "execution_count": 2,
   "metadata": {},
   "outputs": [
    {
     "ename": "SyntaxError",
     "evalue": "invalid syntax (<ipython-input-2-f1fcf00209fa>, line 1)",
     "output_type": "error",
     "traceback": [
      "\u001b[1;36m  File \u001b[1;32m\"<ipython-input-2-f1fcf00209fa>\"\u001b[1;36m, line \u001b[1;32m1\u001b[0m\n\u001b[1;33m    = 0o10 + 2j\u001b[0m\n\u001b[1;37m    ^\u001b[0m\n\u001b[1;31mSyntaxError\u001b[0m\u001b[1;31m:\u001b[0m invalid syntax\n"
     ]
    }
   ],
   "source": [
    " = 0o10 + 2j\n",
    "print(a)\n",
    "print(type(a))\n",
    "print(a.real)\n",
    "print(a.imag)"
   ]
  },
  {
   "cell_type": "markdown",
   "metadata": {},
   "source": [
    "#### In Python applications, we are able to perform all the arithmetic operations like addition, subtraction , Multiplication,.. over the complex numbers.      In Python, Complex data type objects are immutable objects."
   ]
  },
  {
   "cell_type": "code",
   "execution_count": 3,
   "metadata": {},
   "outputs": [
    {
     "name": "stdout",
     "output_type": "stream",
     "text": [
      "(10+10j)\n",
      "(5+5j)\n",
      "(15+15j)\n",
      "(5+5j)\n",
      "100j\n"
     ]
    }
   ],
   "source": [
    "a = 10 + 10j\n",
    "b = 5 + 5j\n",
    "c = a + b\n",
    "d = a - b\n",
    "e = a * b\n",
    "\n",
    "print(a)\n",
    "print(b)\n",
    "print(c)\n",
    "print(d)\n",
    "print(e)"
   ]
  },
  {
   "cell_type": "code",
   "execution_count": 5,
   "metadata": {},
   "outputs": [],
   "source": [
    "# a = 10 + 10j\n",
    "# b = 5 + 5j\n",
    "\n",
    "# a+b -- (10+5) + (10+5)j --> 15 + 15j\n",
    "# a-b -- (10-5) + (10-5)j --> 5 + 5j\n",
    "\n",
    "# a*b -- 10*5 + 10*5j + 10j*5 + 10j*5j\n",
    "#                           \n",
    "#     ==> 50 + 50j + 50j + 50j^2\n",
    "#     ==> 50 + 100j + 50*(-1)\n",
    "#     ==> 50 + 100j - 50\n",
    "#     ==> 100j "
   ]
  },
  {
   "cell_type": "code",
   "execution_count": 4,
   "metadata": {},
   "outputs": [
    {
     "name": "stdout",
     "output_type": "stream",
     "text": [
      "(2.5+0j)\n"
     ]
    }
   ],
   "source": [
    "s1=5+5j\n",
    "s2=2+2j\n",
    "s=s1/s2\n",
    "print(s)"
   ]
  },
  {
   "cell_type": "markdown",
   "metadata": {},
   "source": [
    "# 2. non_numeric data type  :-"
   ]
  },
  {
   "cell_type": "markdown",
   "metadata": {},
   "source": [
    "## None Type:\n",
    " - In Python applications, it is not possible to declare any variable with out explicit initialization, we must provide intialization for the variables explicitly.\n",
    " - In python applicartions, if we want to declare a variable with no data then we have to use 'None' as value to the variables, where 'None' is representing no data.\n",
    " \n",
    " - a --> Invalid\n",
    " - a = 10 --> Valid"
   ]
  },
  {
   "cell_type": "code",
   "execution_count": 16,
   "metadata": {},
   "outputs": [
    {
     "name": "stdout",
     "output_type": "stream",
     "text": [
      "None\n",
      "<class 'NoneType'>\n",
      "140726138259584\n"
     ]
    }
   ],
   "source": [
    "a = None\n",
    "print(a)\n",
    "print(type(a))\n",
    "print(id(a))"
   ]
  },
  {
   "cell_type": "markdown",
   "metadata": {},
   "source": [
    "## boolean / bool() :-\n",
    "\n",
    "- This data type is able to provide two values like True and False .\n",
    "- In Python, bool type objects are immutable objects."
   ]
  },
  {
   "cell_type": "code",
   "execution_count": 12,
   "metadata": {},
   "outputs": [
    {
     "name": "stdout",
     "output_type": "stream",
     "text": [
      "True\n",
      "<class 'bool'>\n",
      "140726138210128\n",
      "\n",
      "False\n"
     ]
    }
   ],
   "source": [
    "b = True\n",
    "print(b)\n",
    "print(type(b))\n",
    "print(id(b))\n",
    "print() \n",
    "b=False\n",
    "print(b)"
   ]
  },
  {
   "cell_type": "markdown",
   "metadata": {},
   "source": [
    "#### In python , boolean values True and False are represented internally in the form of 1 and 0 respectivly and it is possible to perform Arthmetic Operations like Addition, Subtraction, Multiplication,... over boolean values."
   ]
  },
  {
   "cell_type": "code",
   "execution_count": 15,
   "metadata": {},
   "outputs": [
    {
     "name": "stdout",
     "output_type": "stream",
     "text": [
      "1\n",
      "0\n",
      "1\n",
      "1\n",
      "-1\n",
      "0\n"
     ]
    }
   ],
   "source": [
    "# True==1 , False==0\n",
    "a = True\n",
    "print(int(a))\n",
    "\n",
    "b = False\n",
    "print(int(b))\n",
    "\n",
    "c = True + False\n",
    "print(c)\n",
    "\n",
    "d = True - False\n",
    "print(d)\n",
    "\n",
    "e = False - True\n",
    "print(e)   # 0-1==-1\n",
    "\n",
    "f = True * False\n",
    "print(f)"
   ]
  },
  {
   "cell_type": "markdown",
   "metadata": {},
   "source": [
    " ## str()  :-    (string data type)\n",
    " \n",
    " - It is the collection of alphabets, digits, special symbols,........  \n",
    " - IN Python applications, we are able to represent str values by using ' ' or  \" \" or ''' ''' .\n",
    " \n",
    " - str type objects are immutable objects."
   ]
  },
  {
   "cell_type": "code",
   "execution_count": 19,
   "metadata": {},
   "outputs": [
    {
     "name": "stdout",
     "output_type": "stream",
     "text": [
      "Durga Software Solutions\n",
      "Durga Software Solutions\n",
      "Durga    \n",
      "Software                       \n",
      "Solutions\n"
     ]
    }
   ],
   "source": [
    "a = 'Durga Software Solutions'\n",
    "b = \"Durga Software Solutions\"\n",
    "c = '''Durga    \n",
    "Software                       \n",
    "Solutions'''     # c is multi-line str\n",
    "print(a)\n",
    "print(b)\n",
    "print(c)"
   ]
  },
  {
   "cell_type": "code",
   "execution_count": 20,
   "metadata": {},
   "outputs": [
    {
     "name": "stdout",
     "output_type": "stream",
     "text": [
      "Durga Software \n",
      "Durga Software Solutions\n"
     ]
    }
   ],
   "source": [
    "a = \"Durga \"\n",
    "b = a + \"Software \"\n",
    "c = b + \"Solutions\"\n",
    "\n",
    "print(b)\n",
    "print(c)"
   ]
  },
  {
   "cell_type": "markdown",
   "metadata": {},
   "source": [
    "#### In Python applications, we are able to read elements from String individually on the basis of index values. In str values, we are able to read elements in both forward direction and backward direction. In forward direction we must use +ve index values and it must be started from 0 and in backward direction we must use  -ve index values and it must be started with -1 .\n",
    "\n",
    "- To get length of the string we have to use len(--) predefined function."
   ]
  },
  {
   "cell_type": "code",
   "execution_count": 30,
   "metadata": {},
   "outputs": [
    {
     "name": "stdout",
     "output_type": "stream",
     "text": [
      "INDIA is the best\n",
      "17\n",
      "I\n",
      "N\n",
      "D\n",
      "I\n",
      "A\n",
      " \n",
      "i\n",
      "s\n",
      "e\n",
      "s\n",
      "N\n"
     ]
    }
   ],
   "source": [
    "str = \"INDIA is the best\"\n",
    "print(str)\n",
    "le=(len(str))\n",
    "print(le)\n",
    "print(str[0])\n",
    "print(str[1])\n",
    "print(str[2])\n",
    "print(str[3])\n",
    "print(str[4]) \n",
    "print(str[5])    # blank space is a also index \n",
    "print(str[6]) \n",
    "print(str[-2])\n",
    "print(str[-3])\n",
    "print(str[-10])\n",
    "print(str[-16])"
   ]
  },
  {
   "cell_type": "code",
   "execution_count": 34,
   "metadata": {},
   "outputs": [
    {
     "name": "stdout",
     "output_type": "stream",
     "text": [
      "0 ---> D\n",
      "1 ---> u\n",
      "2 ---> r\n",
      "3 ---> g\n",
      "4 ---> a\n",
      "5 --->  \n",
      "6 ---> S\n",
      "7 ---> o\n",
      "8 ---> f\n",
      "9 ---> t\n",
      "10 ---> w\n",
      "11 ---> a\n",
      "12 ---> r\n",
      "13 ---> e\n",
      "\n"
     ]
    }
   ],
   "source": [
    "str = \"Durga Software\"\n",
    "for x in range(0, len(str)):\n",
    "    print(x,\"--->\",str[x])\n",
    "print()\n"
   ]
  },
  {
   "cell_type": "code",
   "execution_count": 35,
   "metadata": {},
   "outputs": [
    {
     "name": "stdout",
     "output_type": "stream",
     "text": [
      "-1 ---> e\n",
      "-2 ---> r\n",
      "-3 ---> a\n",
      "-4 ---> w\n",
      "-5 ---> t\n",
      "-6 ---> f\n",
      "-7 ---> o\n",
      "-8 ---> S\n",
      "-9 --->  \n",
      "-10 ---> a\n",
      "-11 ---> g\n",
      "-12 ---> r\n",
      "-13 ---> u\n",
      "-14 ---> D\n"
     ]
    }
   ],
   "source": [
    "for x in range(0, len(str)):\n",
    "    index = -(x+1)\n",
    "    print(index,\"--->\",str[index])"
   ]
  },
  {
   "cell_type": "code",
   "execution_count": 36,
   "metadata": {},
   "outputs": [
    {
     "name": "stdout",
     "output_type": "stream",
     "text": [
      "S\n",
      "o\n",
      "f\n",
      "t\n",
      "w\n",
      "a\n",
      "r\n",
      "e\n"
     ]
    }
   ],
   "source": [
    "str = \"Software\"\n",
    "for x in str:\n",
    "    print(x)\n"
   ]
  },
  {
   "cell_type": "markdown",
   "metadata": {},
   "source": [
    "## bytes type :-\n",
    "\n",
    "- It is a sequence data type, it able to represent sequence of numbers.\n",
    "- It able to allow the numbers from 0 to 255.\n",
    "- To represent numbers in bytes data we have to use the following steps.\n",
    "      1. Represent numbers in List by using [].\n",
    "      2. Convert numbers from List to bytes data type by using bytes() function."
   ]
  },
  {
   "cell_type": "code",
   "execution_count": 2,
   "metadata": {},
   "outputs": [
    {
     "name": "stdout",
     "output_type": "stream",
     "text": [
      "[1, 2, 3, 4, 5]\n",
      "<class 'list'>\n",
      "\n",
      "b'\\x01\\x02\\x03\\x04\\x05'\n",
      "<class 'bytes'>\n"
     ]
    }
   ],
   "source": [
    "list = [1,2,3,4,5]\n",
    "\n",
    "print(list)\n",
    "print(type(list))\n",
    "print()\n",
    "\n",
    "b = bytes(list)\n",
    "print(b)\n",
    "print(type(b))  #bytes datatype\n",
    "\n"
   ]
  },
  {
   "cell_type": "markdown",
   "metadata": {},
   "source": [
    "- In Python applications, bytes data type is able to allow the numbers from 0 to 255, if we provide numbers in out side range of 0 to 255 then PVM will provide an error"
   ]
  },
  {
   "cell_type": "code",
   "execution_count": 3,
   "metadata": {},
   "outputs": [
    {
     "ename": "ValueError",
     "evalue": "bytes must be in range(0, 256)",
     "output_type": "error",
     "traceback": [
      "\u001b[1;31m---------------------------------------------------------------------------\u001b[0m",
      "\u001b[1;31mValueError\u001b[0m                                Traceback (most recent call last)",
      "\u001b[1;32m<ipython-input-3-fd55afbf4c86>\u001b[0m in \u001b[0;36m<module>\u001b[1;34m\u001b[0m\n\u001b[0;32m      1\u001b[0m \u001b[0ml\u001b[0m \u001b[1;33m=\u001b[0m \u001b[1;33m[\u001b[0m\u001b[1;36m253\u001b[0m\u001b[1;33m,\u001b[0m \u001b[1;36m254\u001b[0m\u001b[1;33m,\u001b[0m \u001b[1;36m255\u001b[0m\u001b[1;33m,\u001b[0m \u001b[1;36m256\u001b[0m\u001b[1;33m]\u001b[0m\u001b[1;33m\u001b[0m\u001b[1;33m\u001b[0m\u001b[0m\n\u001b[1;32m----> 2\u001b[1;33m \u001b[0mb\u001b[0m \u001b[1;33m=\u001b[0m \u001b[0mbytes\u001b[0m\u001b[1;33m(\u001b[0m\u001b[0ml\u001b[0m\u001b[1;33m)\u001b[0m\u001b[1;33m\u001b[0m\u001b[1;33m\u001b[0m\u001b[0m\n\u001b[0m\u001b[0;32m      3\u001b[0m \u001b[0mprint\u001b[0m\u001b[1;33m(\u001b[0m\u001b[0mb\u001b[0m\u001b[1;33m)\u001b[0m\u001b[1;33m\u001b[0m\u001b[1;33m\u001b[0m\u001b[0m\n",
      "\u001b[1;31mValueError\u001b[0m: bytes must be in range(0, 256)"
     ]
    }
   ],
   "source": [
    "l = [253, 254, 255, 256]\n",
    "b = bytes(l)\n",
    "print(b)"
   ]
  },
  {
   "cell_type": "markdown",
   "metadata": {},
   "source": [
    "- bytes objects are immutable objects, they are not allowing modifications on their content, if we are trying to perform modifications then PVM will raise an error like \"TypeError: 'bytes' object does not support item assignment\"\n"
   ]
  },
  {
   "cell_type": "code",
   "execution_count": 4,
   "metadata": {},
   "outputs": [
    {
     "name": "stdout",
     "output_type": "stream",
     "text": [
      "b'\\x01\\x02\\x03\\x04\\x05'\n",
      "\n"
     ]
    },
    {
     "ename": "TypeError",
     "evalue": "'bytes' object does not support item assignment",
     "output_type": "error",
     "traceback": [
      "\u001b[1;31m---------------------------------------------------------------------------\u001b[0m",
      "\u001b[1;31mTypeError\u001b[0m                                 Traceback (most recent call last)",
      "\u001b[1;32m<ipython-input-4-560538d97c82>\u001b[0m in \u001b[0;36m<module>\u001b[1;34m\u001b[0m\n\u001b[0;32m      3\u001b[0m \u001b[0mprint\u001b[0m\u001b[1;33m(\u001b[0m\u001b[0mb\u001b[0m\u001b[1;33m)\u001b[0m\u001b[1;33m\u001b[0m\u001b[1;33m\u001b[0m\u001b[0m\n\u001b[0;32m      4\u001b[0m \u001b[0mprint\u001b[0m\u001b[1;33m(\u001b[0m\u001b[1;33m)\u001b[0m\u001b[1;33m\u001b[0m\u001b[1;33m\u001b[0m\u001b[0m\n\u001b[1;32m----> 5\u001b[1;33m \u001b[0mb\u001b[0m\u001b[1;33m[\u001b[0m\u001b[1;36m2\u001b[0m\u001b[1;33m]\u001b[0m \u001b[1;33m=\u001b[0m \u001b[1;36m10\u001b[0m\u001b[1;33m\u001b[0m\u001b[1;33m\u001b[0m\u001b[0m\n\u001b[0m\u001b[0;32m      6\u001b[0m \u001b[0mprint\u001b[0m\u001b[1;33m(\u001b[0m\u001b[0mb\u001b[0m\u001b[1;33m)\u001b[0m\u001b[1;33m\u001b[0m\u001b[1;33m\u001b[0m\u001b[0m\n",
      "\u001b[1;31mTypeError\u001b[0m: 'bytes' object does not support item assignment"
     ]
    }
   ],
   "source": [
    "l = [1,2,3,4,5]\n",
    "b = bytes(l)\n",
    "print(b)\n",
    "print()\n",
    "b[2] = 10\n",
    "print(b)\n"
   ]
  },
  {
   "cell_type": "code",
   "execution_count": 7,
   "metadata": {},
   "outputs": [
    {
     "name": "stdout",
     "output_type": "stream",
     "text": [
      "b'\\x01\\x02\\x03\\x04\\x05\\x06\\x07\\x08\\t\\n'\n",
      "b[2] ==> 3\n",
      "b[-2] ==> 9\n",
      "b[6] ==> 7\n",
      "b[-5] ==> 6\n",
      "\n",
      "b'\\x0b3\\x0c\\r\\x0e'\n"
     ]
    }
   ],
   "source": [
    "l = [1,2,3,4,5,6,7,8,9,10,]\n",
    "b = bytes(l)\n",
    "print(b)\n",
    "print(\"b[2] ==>\",b[2])\n",
    "print(\"b[-2] ==>\",b[-2])\n",
    "print(\"b[6] ==>\",b[6])\n",
    "print(\"b[-5] ==>\",b[-5])\n",
    "\n",
    "print()\n",
    "d = [11,51,12,13,14]\n",
    "D = bytes(d)\n",
    "print(D)\n",
    "#print(b[10])-->IndexError: index out of range"
   ]
  },
  {
   "cell_type": "markdown",
   "metadata": {},
   "source": [
    "## bytearray type :-\n",
    "- It is a sequence data type, it able to represent sequence of numbers.\n",
    "- To represent numbers in bytearray type we have to use the following two steps.\n",
    "      1. Represent Numbers in List data type by using [] .\n",
    "      2. Convert numbers from List type to bytearray type by using bytearray() fun."
   ]
  },
  {
   "cell_type": "code",
   "execution_count": 11,
   "metadata": {},
   "outputs": [
    {
     "name": "stdout",
     "output_type": "stream",
     "text": [
      "[1, 2, 3, 4, 5]\n",
      "<class 'list'>\n",
      "\n",
      "bytearray(b'\\x01\\x02\\x03\\x04\\x05')\n",
      "<class 'bytearray'>\n"
     ]
    }
   ],
   "source": [
    "list = [1,2,3,4,5]\n",
    "print(list)\n",
    "print(type(list))\n",
    "\n",
    "print()\n",
    "ba = bytearray(list)\n",
    "print(ba)\n",
    "print(type(ba))"
   ]
  },
  {
   "cell_type": "markdown",
   "metadata": {},
   "source": [
    "- bytearray type is able to allow the numbers from 0 to 255 only, if we provide numbers in out side range of 0 to 255 then PVM will provide any error"
   ]
  },
  {
   "cell_type": "code",
   "execution_count": 12,
   "metadata": {},
   "outputs": [
    {
     "ename": "ValueError",
     "evalue": "byte must be in range(0, 256)",
     "output_type": "error",
     "traceback": [
      "\u001b[1;31m---------------------------------------------------------------------------\u001b[0m",
      "\u001b[1;31mValueError\u001b[0m                                Traceback (most recent call last)",
      "\u001b[1;32m<ipython-input-12-a923f8e07f05>\u001b[0m in \u001b[0;36m<module>\u001b[1;34m\u001b[0m\n\u001b[0;32m      1\u001b[0m \u001b[0mlist\u001b[0m \u001b[1;33m=\u001b[0m \u001b[1;33m[\u001b[0m\u001b[1;36m253\u001b[0m\u001b[1;33m,\u001b[0m \u001b[1;36m254\u001b[0m\u001b[1;33m,\u001b[0m \u001b[1;36m255\u001b[0m\u001b[1;33m,\u001b[0m \u001b[1;36m256\u001b[0m\u001b[1;33m]\u001b[0m\u001b[1;33m\u001b[0m\u001b[1;33m\u001b[0m\u001b[0m\n\u001b[1;32m----> 2\u001b[1;33m \u001b[0mba\u001b[0m \u001b[1;33m=\u001b[0m \u001b[0mbytearray\u001b[0m\u001b[1;33m(\u001b[0m\u001b[0mlist\u001b[0m\u001b[1;33m)\u001b[0m\u001b[1;33m\u001b[0m\u001b[1;33m\u001b[0m\u001b[0m\n\u001b[0m\u001b[0;32m      3\u001b[0m \u001b[0mprint\u001b[0m\u001b[1;33m(\u001b[0m\u001b[0mba\u001b[0m\u001b[1;33m)\u001b[0m\u001b[1;33m\u001b[0m\u001b[1;33m\u001b[0m\u001b[0m\n",
      "\u001b[1;31mValueError\u001b[0m: byte must be in range(0, 256)"
     ]
    }
   ],
   "source": [
    "list = [253, 254, 255, 256]\n",
    "ba = bytearray(list)\n",
    "print(ba)"
   ]
  },
  {
   "cell_type": "markdown",
   "metadata": {},
   "source": [
    "- bytearray type objects are mutable objects, they are able to allow modifications on their content. "
   ]
  },
  {
   "cell_type": "code",
   "execution_count": 13,
   "metadata": {},
   "outputs": [
    {
     "name": "stdout",
     "output_type": "stream",
     "text": [
      "1 2 3 4 5 \n",
      "1 2 100 4 5 "
     ]
    }
   ],
   "source": [
    "list = [1,2,3,4,5]\n",
    "ba = bytearray(list)\n",
    "\n",
    "for x in ba:\n",
    "    print(x,end=\" \")\n",
    "print()\n",
    "ba[2] = 100\n",
    "for x in ba:\n",
    "    print(x,end=\" \")"
   ]
  },
  {
   "cell_type": "code",
   "execution_count": 14,
   "metadata": {},
   "outputs": [
    {
     "name": "stdout",
     "output_type": "stream",
     "text": [
      "4\n",
      "3\n",
      "6\n",
      "4\n",
      "6\n"
     ]
    }
   ],
   "source": [
    "list = [1,2,3,4,5,6,7]\n",
    "ba = bytearray(list)\n",
    "\n",
    "print(ba[3])\n",
    "print(ba[-5])\n",
    "print(ba[5])\n",
    "print(ba[-4])\n",
    "#print(ba[7]) --> IndexError: bytearray index out of range\n",
    "print(ba[len(ba)-2])"
   ]
  },
  {
   "cell_type": "markdown",
   "metadata": {},
   "source": [
    "- In Python applications, to read elements from bytearray type we are able to use for loop and for-Each loop. To read elements in both  forward direction and backward direction then we must use for loop only.If we use for-Each loop then we are able to read elements in forward direction only."
   ]
  },
  {
   "cell_type": "code",
   "execution_count": 15,
   "metadata": {},
   "outputs": [
    {
     "name": "stdout",
     "output_type": "stream",
     "text": [
      "1 2 3 4 5 6 7 8 9 10 \n",
      "10 9 8 7 6 5 4 3 2 1 "
     ]
    }
   ],
   "source": [
    "\n",
    "list = [1,2,3,4,5,6,7, 8, 9, 10]\n",
    "\n",
    "#for loop \n",
    "\n",
    "ba = bytearray(list)\n",
    "for x in range(0, len(ba)):\n",
    "    print(ba[x],end=\" \")\n",
    "print()\n",
    "for x in range(0, len(ba)):\n",
    "    print(ba[-(x+1)],end=\" \")"
   ]
  },
  {
   "cell_type": "code",
   "execution_count": 16,
   "metadata": {},
   "outputs": [
    {
     "name": "stdout",
     "output_type": "stream",
     "text": [
      "1 2 3 4 5 6 7 8 9 10 "
     ]
    }
   ],
   "source": [
    "#for-each loop\n",
    "\n",
    "\n",
    "list = [1,2,3,4,5,6,7, 8, 9, 10]\n",
    "ba = bytearray(list)\n",
    "for x in ba:\n",
    "    print(x,end=\" \")"
   ]
  },
  {
   "cell_type": "markdown",
   "metadata": {},
   "source": [
    "- Q)What are the differences between bytes data type and bytearray data type?\n"
   ]
  },
  {
   "cell_type": "markdown",
   "metadata": {},
   "source": [
    "- 1. To rpresent elements in bytes data type we have to use a predefined function    like bytes().\n",
    "   To represent elements in bytearray type we have to use a predefined function    like bytearray().\n",
    "\n",
    "- 2. bytes type objects are immutable objects.\n",
    "   bytearray type objects are mutable objects. \n"
   ]
  },
  {
   "cell_type": "code",
   "execution_count": 1,
   "metadata": {},
   "outputs": [
    {
     "name": "stdout",
     "output_type": "stream",
     "text": [
      "1 2 3 4 5 "
     ]
    }
   ],
   "source": [
    "list = [1,2,3,4,5]\n",
    "ba = bytearray(list)\n",
    "for x in ba:\n",
    "    print(x,end=\" \")\n",
    "#ba[5] = 6 --> IndexError: bytearray index out of range\n",
    "#print(ba[5]) --> IndexError: bytearray index out of range"
   ]
  },
  {
   "cell_type": "markdown",
   "metadata": {},
   "source": [
    "## range type:\n",
    "   -----------\n",
    "   \n",
    "-  It is a sequence data type, it able to generate sequence of numbers.\n",
    "-  To get numbers from range type we must use for loop. \n",
    "-  To generate sequence of numbers from range type we have to use the following     syntaxes."
   ]
  },
  {
   "cell_type": "markdown",
   "metadata": {},
   "source": [
    "### 1. range(end) :\n",
    "- It will generate sequence of numbers starts from 0 and upto the specified end-1 by using 1 step length."
   ]
  },
  {
   "cell_type": "code",
   "execution_count": 4,
   "metadata": {},
   "outputs": [
    {
     "name": "stdout",
     "output_type": "stream",
     "text": [
      "0 1 2 3 4 5 6 7 8 9 "
     ]
    }
   ],
   "source": [
    "r = 10\n",
    "for x in range (r):\n",
    "    print(x,end=\" \") \n",
    "\n"
   ]
  },
  {
   "cell_type": "markdown",
   "metadata": {},
   "source": [
    "### 2. range(Start, End)\n",
    "- It will generate sequence of numbers starts from the specified Start value and upto the Specified End-1 and by using 1 step length."
   ]
  },
  {
   "cell_type": "code",
   "execution_count": 5,
   "metadata": {},
   "outputs": [
    {
     "name": "stdout",
     "output_type": "stream",
     "text": [
      "0 1 2 3 4 5 6 7 8 9 "
     ]
    }
   ],
   "source": [
    "r = range(0,10)\n",
    "for x in r:\n",
    "    print(x,end=\" \")"
   ]
  },
  {
   "cell_type": "code",
   "execution_count": 8,
   "metadata": {},
   "outputs": [
    {
     "name": "stdout",
     "output_type": "stream",
     "text": [
      "11 ! 12 ! 13 ! 14 ! 15 ! 16 ! 17 ! 18 ! 19 ! "
     ]
    }
   ],
   "source": [
    "r = range(11,20)\n",
    "for x in r:\n",
    "    print(x,end=\" ! \")"
   ]
  },
  {
   "cell_type": "markdown",
   "metadata": {},
   "source": [
    "## List:\n",
    "   -----\n",
    "- It is a sequence data type, it able to represent sequence of elements.\n",
    "- In List type, to represent elements we have to use []."
   ]
  },
  {
   "cell_type": "code",
   "execution_count": 10,
   "metadata": {},
   "outputs": [
    {
     "name": "stdout",
     "output_type": "stream",
     "text": [
      "[1, 2, 3, 4, 5]\n",
      "<class 'list'>\n",
      "2302183547584\n"
     ]
    }
   ],
   "source": [
    "lists = [1,2,3,4,5]\n",
    "print(list)\n",
    "print(type(lists))\n",
    "print(id(lists))"
   ]
  },
  {
   "cell_type": "markdown",
   "metadata": {},
   "source": [
    "- List type is not in fixed size nature, it is existed with dynamically growable nature, that is, it able to increase or decrease its size depending on the no of elements which are existed in List."
   ]
  },
  {
   "cell_type": "markdown",
   "metadata": {},
   "source": [
    "list = [1,2,3,4]\n",
    "print(\"List Elements :\",list)\n",
    "print(\"Length : \",len(list))\n",
    "print()\n",
    "list.append(5)\n",
    "list.append(6)\n",
    "print(\"List Elements :\",list)\n",
    "print(\"Length : \",len(list))\n",
    "print()\n",
    "list.append(7)\n",
    "list.append(8)\n",
    "print(\"List Elements :\",list)\n",
    "print(\"Length : \",len(list))\n",
    "print()\n",
    "list.remove(8)\n",
    "list.remove(7)\n",
    "print(\"List Elements :\",list)\n",
    "print(\"Length : \",len(list))"
   ]
  }
 ],
 "metadata": {
  "kernelspec": {
   "display_name": "Python 3",
   "language": "python",
   "name": "python3"
  },
  "language_info": {
   "codemirror_mode": {
    "name": "ipython",
    "version": 3
   },
   "file_extension": ".py",
   "mimetype": "text/x-python",
   "name": "python",
   "nbconvert_exporter": "python",
   "pygments_lexer": "ipython3",
   "version": "3.8.1"
  }
 },
 "nbformat": 4,
 "nbformat_minor": 4
}
