{
 "cells": [
  {
   "cell_type": "markdown",
   "metadata": {},
   "source": [
    "### - In real time application development, we may get no. of problems or bugs or exceptions while executing or testing the applications, To identify the problems and their locations then we have to trace the applications flow of execution.\n"
   ]
  },
  {
   "cell_type": "markdown",
   "metadata": {},
   "source": [
    "### - To trace applications flow of execution we will use print() at basic level."
   ]
  },
  {
   "cell_type": "code",
   "execution_count": 3,
   "metadata": {},
   "outputs": [
    {
     "name": "stdout",
     "output_type": "stream",
     "text": [
      "Before deposit() call\n",
      "Logic for deposit\n",
      "After deposit() call\n",
      "Before withdraw() call\n",
      "Logic for Withdraw\n",
      "After withdraw() call\n",
      "Before transfer() call\n",
      "Logic for transfer\n",
      "After transfer() call\n"
     ]
    }
   ],
   "source": [
    "class Transaction:\n",
    "    def deposit(self):\n",
    "        print(\"Logic for deposit\")\n",
    "    def withdraw(self):\n",
    "        print(\"Logic for Withdraw\")\n",
    "    def transfer(self):\n",
    "        print(\"Logic for transfer\")\n",
    "        \n",
    "        \n",
    "\n",
    "tx = Transaction()\n",
    "print(\"Before deposit() call\")\n",
    "tx.deposit()\n",
    "print(\"After deposit() call\")\n",
    "print(\"Before withdraw() call\")\n",
    "tx.withdraw()\n",
    "print(\"After withdraw() call\")\n",
    "print(\"Before transfer() call\")\n",
    "tx.transfer()\n",
    "print(\"After transfer() call\")"
   ]
  },
  {
   "cell_type": "markdown",
   "metadata": {},
   "source": [
    "### - but, If we use print() function in applications to trace then we are able to get the problems."
   ]
  },
  {
   "cell_type": "markdown",
   "metadata": {},
   "source": [
    "- 1. print() function is able to display data on console, it is not for sending messages to the output devices like files , databases, network,.....\n",
    "- 2. In Applications, it is not suggestible to use too many no of print() functions , because, it will reduce application performance.\n",
    "- 3. print() function is very much usefull in development environment only, it is not suitable in production environment, because, if we use print() function in server side applcations then that messages will be displayed at server console only, not at client side.\n",
    "- 4. If we use print() function will display messages on console only, it will not show difference between warning messages and error messages, normal messages,....\n",
    "- 5. print() function is suitable in standalone applications only, not in enterprise applications.\n"
   ]
  },
  {
   "cell_type": "markdown",
   "metadata": {},
   "source": [
    "### Logging:\n",
    "- It is the process of writting log messages in a central place , it allows us to report and persist error and warning messages as well as info messages inorder to retrieve and analyze later on.\n"
   ]
  },
  {
   "cell_type": "markdown",
   "metadata": {},
   "source": [
    "#### In general, Logging required.\n",
    "- 1. To Understand flow of execution in application.\n",
    "- 2. To manage exception messages when exceptions or Errors occurred in python applications.\n",
    "- 3. To manage Event-Notifications messages in file system.\n",
    "- To perform Logging in python applications, python has provided a seperate module in the form of \"Logging\". as part of Logging, we have to generate some Log messages as per the following Logging Levels."
   ]
  },
  {
   "cell_type": "markdown",
   "metadata": {},
   "source": [
    "- There are 6 types of Logging levels.\n",
    "   - 1. CRITICAL --> 50\n",
    "      - --> It repersents serious problem that needs high attention.\n",
    "   - 2. ERROR --> 40\n",
    "      - --> It represents a serious error\n",
    "   - 3. WARNING --> 30\n",
    "      - --> It represents warning messages , some caution needed, it alerts programmer.\n",
    "   - 4. INFO --> 20\n",
    "      - --> Represents message with some important information\n",
    "   - 5. DEBUG --> 10\n",
    "      - --> Represents a message with debugging information.\n",
    "   - 6. NOTSET --> 0\n",
    "      - --> Represents no level is set"
   ]
  },
  {
   "cell_type": "markdown",
   "metadata": {},
   "source": [
    "#### - To implement Logging, first we have to create a file to store messages and we have to specify which level of messages to store.\n",
    "#### - To implement the above we have to use basicConfig() function of logging module.\n",
    "     - EX: logging.basicConfig(filename=\"log.txt\",level=logging.WARNING)\n",
    "#### - The above instruction will create a file log.txt and we can store either WARNING level or Hiher level. \n",
    "#### - After creating log file, we can write messages to that file by using the following messages.\n"
   ]
  },
  {
   "cell_type": "markdown",
   "metadata": {},
   "source": [
    "- logging.debug(message)\n",
    "- logging.info(message)\n",
    "- logging.warning(message)\n",
    "- logging.error(message)\n",
    "- logging.critical(message)"
   ]
  },
  {
   "cell_type": "code",
   "execution_count": 8,
   "metadata": {},
   "outputs": [],
   "source": [
    "## log.txt\n",
    "\n",
    "\n",
    "import logging\n",
    "\n",
    "logging.basicConfig(filename=\"log.txt\",level=logging.WARNING)\n",
    "logging.debug(\"Debugging Messages1\")\n",
    "logging.info(\"info message1\")\n",
    "logging.warning(\"warning Message1\")\n",
    "logging.error(\"error Message1\")\n",
    "logging.critical(\"critical Message1\")\n"
   ]
  },
  {
   "cell_type": "code",
   "execution_count": 9,
   "metadata": {},
   "outputs": [],
   "source": [
    "### log2.txt\n",
    "import logging\n",
    "logging.basicConfig(filename=\"log2.txt\",level=logging.DEBUG)\n",
    "logging.debug(\"Debugging Messages2\")\n",
    "logging.info(\"info message2\")\n",
    "logging.warning(\"warning Message2\")\n",
    "logging.error(\"error Message2\")\n",
    "logging.critical(\"critical Message2\")\n"
   ]
  },
  {
   "cell_type": "markdown",
   "metadata": {},
   "source": [
    "### If we want to configure logging file in over write mode we have to use \"filemode\" argument in basicConfig() function"
   ]
  },
  {
   "cell_type": "markdown",
   "metadata": {},
   "source": [
    "- There are three modes for filemode in basicConfig()\n",
    "    - 1. 'a' : to append new messages to old messages in log file.\n",
    "    - 2. 'w' : to over write old messages to new messages in log file.\n",
    "- In basicConfig() function,\n",
    "    - 1. The default value for 'filemode' is 'a', that is, Mode.\n",
    "    - 2. The default value for 'level' argument is 'WARNING'.\n",
    "    - 3. The default value for 'filename' is console.\n"
   ]
  },
  {
   "cell_type": "code",
   "execution_count": null,
   "metadata": {},
   "outputs": [],
   "source": []
  }
 ],
 "metadata": {
  "kernelspec": {
   "display_name": "Python 3",
   "language": "python",
   "name": "python3"
  },
  "language_info": {
   "codemirror_mode": {
    "name": "ipython",
    "version": 3
   },
   "file_extension": ".py",
   "mimetype": "text/x-python",
   "name": "python",
   "nbconvert_exporter": "python",
   "pygments_lexer": "ipython3",
   "version": "3.8.1"
  }
 },
 "nbformat": 4,
 "nbformat_minor": 4
}
