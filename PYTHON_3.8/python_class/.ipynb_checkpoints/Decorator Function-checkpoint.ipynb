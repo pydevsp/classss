{
 "cells": [
  {
   "cell_type": "markdown",
   "metadata": {},
   "source": [
    "### - Decorator is a function, it will take a function as parameter and it will extend its functionality and it will return the modified function .\n",
    "### - The main intention of Decorator is to extend the existed method functionality with out changing its code.\n",
    "### - If we want to use Decorator function in Python applications then we have to use the following steps.\n",
    "    _ 1. Define decorator function.\n",
    "    _ 2. Apply @decor function to methods\n",
    "    _ 3. Access function."
   ]
  },
  {
   "cell_type": "markdown",
   "metadata": {},
   "source": [
    "## 1. Define decorator function:\n",
    "------------------------------\n",
    "    a)Declare decor function with func argument.\n",
    "    b)Define an inner function with arguments of the actual method.\n",
    "    c)Define new functionality.\n",
    "    d)Return new functionality."
   ]
  },
  {
   "cell_type": "markdown",
   "metadata": {},
   "source": [
    "    def decor(func)\n",
    "    def newFunc(paramList)\n",
    "     --logic for new functionality--\n",
    "     return nweFunc\n"
   ]
  },
  {
   "cell_type": "markdown",
   "metadata": {},
   "source": [
    "## 2. Apply @decor function to methods:\n",
    "------------------------------------\n",
    "- Provide @decor decorator just above of the method declaration.   @decor not a predefined name"
   ]
  },
  {
   "cell_type": "markdown",
   "metadata": {},
   "source": [
    "    @decor\n",
    "    def methodname(ParamList):\n",
    "     ---implementation---\n"
   ]
  },
  {
   "cell_type": "markdown",
   "metadata": {},
   "source": [
    "## 3. Access method .\n",
    "-------------------\n",
    "    methodname(paramList)\n",
    "    methodname(paramlist)\n",
    "    ----\n"
   ]
  },
  {
   "cell_type": "code",
   "execution_count": 22,
   "metadata": {},
   "outputs": [
    {
     "name": "stdout",
     "output_type": "stream",
     "text": [
      "Hello Durga Good Morning!\n",
      "Hello Nag Morning\n",
      "Hello Anil Good Morning!\n",
      "Hello hero Good Morning!\n"
     ]
    }
   ],
   "source": [
    "def decor(func):\n",
    "    def inner(name):\n",
    "        if name == \"Nag\":\n",
    "            print(\"Hello\",name,\"Morning\")\n",
    "        else:\n",
    "            func(name)\n",
    "    return inner\n",
    "    print(\"123\")\n",
    "\n",
    "\n",
    "@decor\n",
    "def wish(name):\n",
    "    print(\"Hello\",name,\"Good Morning!\")\n",
    "    \n",
    "    \n",
    "wish(\"Durga\")\n",
    "wish(\"Nag\")\n",
    "wish(\"Anil\") \n",
    "wish(\"hero\")"
   ]
  },
  {
   "cell_type": "code",
   "execution_count": 14,
   "metadata": {},
   "outputs": [
    {
     "name": "stdout",
     "output_type": "stream",
     "text": [
      "Hello Durga GOod Morning\n",
      "Hello AA Morning!\n",
      "Hello BB Morning!\n",
      "Hello Durga GOod Morning\n"
     ]
    }
   ],
   "source": [
    "def decor(fun):\n",
    "    def inner(name):\n",
    "        if name == \"Durga\":\n",
    "            print(\"Hello\",name,\"GOod Morning\")\n",
    "        else:\n",
    "            fun(name)\n",
    "    return inner\n",
    "\n",
    "\n",
    "@decor\n",
    "def wish(name):\n",
    "    print(\"Hello\",name,\"Morning!\")\n",
    "    \n",
    "    \n",
    "    \n",
    "wish(\"Durga\")\n",
    "wish(\"AA\")\n",
    "wish(\"BB\")\n",
    "wish(\"Durga\")"
   ]
  },
  {
   "cell_type": "markdown",
   "metadata": {},
   "source": [
    "- the above program whenever we call wish() function automatically decor function will be executed."
   ]
  },
  {
   "cell_type": "markdown",
   "metadata": {},
   "source": [
    "### - How to call same function with decorator and without decorator:\n",
    "- We should not use @decor"
   ]
  },
  {
   "cell_type": "code",
   "execution_count": 17,
   "metadata": {},
   "outputs": [
    {
     "name": "stdout",
     "output_type": "stream",
     "text": [
      "===> Hello Durga Good Morning\n",
      "===> Hello Sunny Good Morning\n",
      "===> Hello Durga Good Morning\n",
      "Hello Sunny Morning !\n"
     ]
    }
   ],
   "source": [
    "def decor(func):\n",
    "    def inner(name):\n",
    "        if name==\"Sunny\":\n",
    "            print(\"Hello Sunny Morning !\")\n",
    "        else:\n",
    "            func(name)\n",
    "    return inner\n",
    "\n",
    "def wish(name):\n",
    "    print(\"===>\",\"Hello\",name,\"Good Morning\")\n",
    "\n",
    "decorfunction=decor(wish)\n",
    "wish(\"Durga\") #decorator wont be executed\n",
    "wish(\"Sunny\") #decorator wont be executed\n",
    "\n",
    "decorfunction(\"Durga\")#decorator will be executed\n",
    "decorfunction(\"Sunny\")#decorator will be executed "
   ]
  },
  {
   "cell_type": "code",
   "execution_count": 18,
   "metadata": {},
   "outputs": [
    {
     "name": "stdout",
     "output_type": "stream",
     "text": [
      "Division : 2.0\n",
      "Division is not Possible\n"
     ]
    }
   ],
   "source": [
    "def smart_division(func):\n",
    "    def newFunc(a,b):\n",
    "        if b == 0:\n",
    "            print(\"Division is not Possible\")\n",
    "        else:\n",
    "            func(a,b)\n",
    "    return newFunc\n",
    "    \n",
    "    \n",
    "@smart_division\n",
    "def div(a,b):\n",
    "    print(\"Division :\",(a/b))\n",
    "    \n",
    "    \n",
    "div(10,5)\n",
    "div(10,0)\n",
    "    "
   ]
  },
  {
   "cell_type": "code",
   "execution_count": null,
   "metadata": {},
   "outputs": [],
   "source": [
    "def smart_division(func):\n",
    "    def inner(a,b):\n",
    "        print(\"We are dividing\",a,\"with\",b)\n",
    "4) if b==0:\n",
    "5) print(\"OOPS...cannot divide\")\n",
    "6) return\n",
    "7) else:\n",
    "8) return func(a,b) \n",
    " return inner\n",
    "10)\n",
    "11) @smart_division\n",
    "12) def division(a,b):\n",
    "13) return a/b\n",
    "14)\n",
    "15) print(division(20,2))\n",
    "16) print(division(20,0)) "
   ]
  }
 ],
 "metadata": {
  "kernelspec": {
   "display_name": "Python 3",
   "language": "python",
   "name": "python3"
  },
  "language_info": {
   "codemirror_mode": {
    "name": "ipython",
    "version": 3
   },
   "file_extension": ".py",
   "mimetype": "text/x-python",
   "name": "python",
   "nbconvert_exporter": "python",
   "pygments_lexer": "ipython3",
   "version": "3.8.1"
  }
 },
 "nbformat": 4,
 "nbformat_minor": 4
}
