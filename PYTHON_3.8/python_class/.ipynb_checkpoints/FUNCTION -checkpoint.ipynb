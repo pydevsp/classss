{
 "cells": [
  {
   "cell_type": "markdown",
   "metadata": {},
   "source": [
    "# functions :-\n",
    "-------"
   ]
  },
  {
   "cell_type": "markdown",
   "metadata": {},
   "source": [
    "- In the above context, to reduce code redudnency we have to improve Code\n",
    "  Reusability, to provide code reusabilitu we have to use Functions.\n"
   ]
  },
  {
   "cell_type": "markdown",
   "metadata": {},
   "source": [
    "- Function is a set of instructions to repersent a particular action.\n",
    "- There are two types of Functions in Python.\n",
    "  1. Predefined Functions\n",
    "  2. User Defined Functions\n"
   ]
  },
  {
   "cell_type": "markdown",
   "metadata": {},
   "source": [
    "## Predefined Functions  :-\n",
    "-----"
   ]
  },
  {
   "cell_type": "markdown",
   "metadata": {},
   "source": [
    "- These functions are defined by Python Programming Language and they are\n",
    "  coming along with Python Software.\n",
    "- EX:\n",
    "---\n",
    "-   len()\n",
    "-   sorted()\n",
    "-   id()\n",
    "-   type()\n",
    "-   eval()\n"
   ]
  },
  {
   "cell_type": "markdown",
   "metadata": {},
   "source": [
    "## User Defined Functions  :-\n",
    "-----\n",
    "\n",
    "-  These functions are defined by the developers as per their applications\n",
    "   requirement.\n",
    "   \n",
    "  - Syntax:\n",
    "\n",
    "    def FunctionName([Param_List]):\n",
    "          ---instructions----\n",
    "            [return Values]\n",
    " \n"
   ]
  },
  {
   "cell_type": "code",
   "execution_count": null,
   "metadata": {},
   "outputs": [],
   "source": []
  }
 ],
 "metadata": {
  "kernelspec": {
   "display_name": "Python 3",
   "language": "python",
   "name": "python3"
  },
  "language_info": {
   "codemirror_mode": {
    "name": "ipython",
    "version": 3
   },
   "file_extension": ".py",
   "mimetype": "text/x-python",
   "name": "python",
   "nbconvert_exporter": "python",
   "pygments_lexer": "ipython3",
   "version": "3.8.1"
  }
 },
 "nbformat": 4,
 "nbformat_minor": 4
}
