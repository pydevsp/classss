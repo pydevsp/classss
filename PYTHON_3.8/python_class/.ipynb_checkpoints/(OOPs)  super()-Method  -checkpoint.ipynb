{
 "cells": [
  {
   "cell_type": "markdown",
   "metadata": {},
   "source": [
    "# super() Method:\n",
    "----------------\n",
    "- super() is an inbuilt function in Python, it can be used to perform the following  3 types actions.\n",
    "    1. To refer super class constructor.\n",
    "    2. To refer super class method.\n",
    "    3. To refer super class variables."
   ]
  },
  {
   "cell_type": "markdown",
   "metadata": {},
   "source": [
    "### 1. To refer super class constructor.\n",
    "--------------\n",
    "- If we want to refer super class constructor from sub class constructor then we have to use the this syntax.\n",
    "      \n",
    "      super().__init__()"
   ]
  },
  {
   "cell_type": "code",
   "execution_count": 1,
   "metadata": {},
   "outputs": [
    {
     "name": "stdout",
     "output_type": "stream",
     "text": [
      "B-Con\n",
      "A-Con\n"
     ]
    }
   ],
   "source": [
    "class A:\n",
    "    def __init__(self):\n",
    "        print(\"A-Con\")\n",
    "        \n",
    "class B(A):\n",
    "    def __init__(self):\n",
    "        print(\"B-Con\")\n",
    "        super().__init__()\n",
    "        \n",
    "b = B()\n"
   ]
  },
  {
   "cell_type": "code",
   "execution_count": 2,
   "metadata": {},
   "outputs": [
    {
     "name": "stdout",
     "output_type": "stream",
     "text": [
      "A-Con\n",
      "B-Con\n"
     ]
    }
   ],
   "source": [
    "class A:\n",
    "    def __init__(self):\n",
    "        print(\"A-Con\")\n",
    "        \n",
    "class B(A):\n",
    "    def __init__(self):\n",
    "        super().__init__()\n",
    "        print(\"B-Con\")\n",
    "        \n",
    "b = B()\n"
   ]
  },
  {
   "cell_type": "code",
   "execution_count": 3,
   "metadata": {},
   "outputs": [
    {
     "name": "stdout",
     "output_type": "stream",
     "text": [
      "A-Con\n",
      "A-Con\n",
      "A-Con\n",
      "B-Con\n"
     ]
    }
   ],
   "source": [
    "class A:\n",
    "    def __init__(self):\n",
    "        print(\"A-Con\")\n",
    "        \n",
    "class B(A):\n",
    "    def __init__(self):\n",
    "        super().__init__()\n",
    "        super().__init__()\n",
    "        super().__init__()\n",
    "        print(\"B-Con\")\n",
    "        \n",
    "b = B()\n"
   ]
  },
  {
   "cell_type": "code",
   "execution_count": 8,
   "metadata": {},
   "outputs": [
    {
     "name": "stdout",
     "output_type": "stream",
     "text": [
      "C-con\n",
      "C-con\n",
      "========\n",
      "A-Con\n",
      "B-Con\n"
     ]
    }
   ],
   "source": [
    "class A:\n",
    "    def __init__(self):\n",
    "        print(\"A-Con\")\n",
    "        \n",
    "class C(A):\n",
    "    def __init__(self):\n",
    "        print(\"C-con\")\n",
    "        \n",
    "class B(C):\n",
    "    def __init__(self):\n",
    "        super(B , self).__init__()\n",
    "        super().__init__()\n",
    "        print(\"========\")\n",
    "        super(C , self).__init__()\n",
    "        print(\"B-Con\")\n",
    "        \n",
    "b = B()"
   ]
  },
  {
   "cell_type": "code",
   "execution_count": 12,
   "metadata": {},
   "outputs": [
    {
     "name": "stdout",
     "output_type": "stream",
     "text": [
      "F-con\n",
      "E-Con\n",
      "E-Con\n",
      "========\n",
      "D-con\n",
      "========\n",
      "C-Con\n",
      "========\n",
      "B-con\n",
      "========\n",
      "A-Con\n",
      "========\n"
     ]
    }
   ],
   "source": [
    "class A:\n",
    "    def __init__(self):\n",
    "        print(\"A-Con\")\n",
    "        \n",
    "class B(A):\n",
    "    def __init__(self):\n",
    "        print(\"B-con\")\n",
    "        \n",
    "class C(B):\n",
    "    def __init__(self):\n",
    "        print(\"C-Con\")\n",
    "        \n",
    "class D(C):\n",
    "    def __init__(self):\n",
    "        print(\"D-con\")\n",
    "        \n",
    "class E(D):\n",
    "    def __init__(self):\n",
    "        print(\"E-Con\")\n",
    "        \n",
    "class F(E):\n",
    "    def __init__(self):\n",
    "        print(\"F-con\")\n",
    "        super(F , self).__init__()\n",
    "        super().__init__()\n",
    "        print(\"========\")\n",
    "        super(E , self).__init__()       \n",
    "        print(\"========\")\n",
    "        super(D , self).__init__() \n",
    "        print(\"========\")\n",
    "        super(C , self).__init__() \n",
    "        print(\"========\")\n",
    "        super(B , self).__init__()\n",
    "        print(\"========\")\n",
    "        super(A , self).__init__()   ###### no o/p ==> no super class of A     \n",
    "        \n",
    "f = F()    \n",
    "        "
   ]
  },
  {
   "cell_type": "markdown",
   "metadata": {},
   "source": [
    "#### - In Python, it is possible to access super class constructor from sub class normal methods by using super() method. "
   ]
  },
  {
   "cell_type": "code",
   "execution_count": 16,
   "metadata": {},
   "outputs": [
    {
     "name": "stdout",
     "output_type": "stream",
     "text": [
      "B-Con\n",
      "\n",
      "m1-B\n",
      "A-Con\n"
     ]
    }
   ],
   "source": [
    "class A:\n",
    "    def __init__(self):\n",
    "        print(\"A-Con\")\n",
    "        \n",
    "class B(A):\n",
    "    def __init__(self):\n",
    "        print(\"B-Con\")\n",
    "    def m1(self):\n",
    "        print(\"m1-B\")\n",
    "        super().__init__()\n",
    "        \n",
    "        \n",
    "b = B()\n",
    "print()\n",
    "b.m1()\n"
   ]
  },
  {
   "cell_type": "markdown",
   "metadata": {},
   "source": [
    "### 2. To refer super class method:\n",
    "--------------------------------\n",
    "- If we want to refer super class methods from sub classes then we have to use  syntax.\n",
    "    -  super().methodName([ParamList])\n",
    "\n"
   ]
  },
  {
   "cell_type": "code",
   "execution_count": 2,
   "metadata": {},
   "outputs": [
    {
     "name": "stdout",
     "output_type": "stream",
     "text": [
      "m2-B\n",
      "m1-A\n"
     ]
    }
   ],
   "source": [
    " class A:\n",
    "        def m1(self):\n",
    "            print(\"m1-A\")\n",
    "            \n",
    "class B(A):\n",
    "    def m2(self):\n",
    "        print(\"m2-B\")\n",
    "        super().m1()\n",
    "        \n",
    "b = B()\n",
    "b.m2()\n"
   ]
  },
  {
   "cell_type": "code",
   "execution_count": 5,
   "metadata": {},
   "outputs": [
    {
     "name": "stdout",
     "output_type": "stream",
     "text": [
      "C-con\n",
      "m2-B\n",
      "m1-A\n",
      "C-con\n"
     ]
    }
   ],
   "source": [
    " class A:\n",
    "        def m1(self):\n",
    "            print(\"m1-A\")\n",
    "            \n",
    "class C(A):\n",
    "    def __init__(self):\n",
    "        print(\"C-con\")            \n",
    "            \n",
    "class B(C):\n",
    "    def m2(self):\n",
    "        print(\"m2-B\")\n",
    "        super(C,self).m1()\n",
    "        super().__init__()\n",
    "        \n",
    "b = B()\n",
    "b.m2()"
   ]
  },
  {
   "cell_type": "markdown",
   "metadata": {},
   "source": [
    "### 3. To refer super class variables.\n",
    "-----------------------------------\n",
    "- To refer super class variable by using super() method we will use the syntax.\n",
    "    - super().varName"
   ]
  },
  {
   "cell_type": "code",
   "execution_count": 6,
   "metadata": {},
   "outputs": [
    {
     "name": "stdout",
     "output_type": "stream",
     "text": [
      "m1-A\n",
      "10\n"
     ]
    }
   ],
   "source": [
    "class A:\n",
    "    i = 10\n",
    "    \n",
    "class B(A):\n",
    "    def m1(self):\n",
    "        print(\"m1-A\")\n",
    "        print(super().i)\n",
    "b = B()\n",
    "b.m1()"
   ]
  },
  {
   "cell_type": "markdown",
   "metadata": {},
   "source": [
    "- In Python applications, by using super() method we are able to access only static variabnles of the parent class from sub class, it is not possible to access instance variables of the parent class from sub classes.\n"
   ]
  },
  {
   "cell_type": "code",
   "execution_count": 14,
   "metadata": {},
   "outputs": [
    {
     "name": "stdout",
     "output_type": "stream",
     "text": [
      "20\n",
      "\n",
      "m1-A\n",
      "10\n",
      "20\n",
      "None\n"
     ]
    },
    {
     "ename": "AttributeError",
     "evalue": "'super' object has no attribute 'j'",
     "output_type": "error",
     "traceback": [
      "\u001b[1;31m---------------------------------------------------------------------------\u001b[0m",
      "\u001b[1;31mAttributeError\u001b[0m                            Traceback (most recent call last)",
      "\u001b[1;32m<ipython-input-14-0a3f9ec5e692>\u001b[0m in \u001b[0;36m<module>\u001b[1;34m\u001b[0m\n\u001b[0;32m     15\u001b[0m \u001b[0mb\u001b[0m \u001b[1;33m=\u001b[0m \u001b[0mB\u001b[0m\u001b[1;33m(\u001b[0m\u001b[1;33m)\u001b[0m\u001b[1;33m\u001b[0m\u001b[1;33m\u001b[0m\u001b[0m\n\u001b[0;32m     16\u001b[0m \u001b[0mprint\u001b[0m\u001b[1;33m(\u001b[0m\u001b[1;33m)\u001b[0m\u001b[1;33m\u001b[0m\u001b[1;33m\u001b[0m\u001b[0m\n\u001b[1;32m---> 17\u001b[1;33m \u001b[0mb\u001b[0m\u001b[1;33m.\u001b[0m\u001b[0mm1\u001b[0m\u001b[1;33m(\u001b[0m\u001b[1;33m)\u001b[0m\u001b[1;33m\u001b[0m\u001b[1;33m\u001b[0m\u001b[0m\n\u001b[0m",
      "\u001b[1;32m<ipython-input-14-0a3f9ec5e692>\u001b[0m in \u001b[0;36mm1\u001b[1;34m(self)\u001b[0m\n\u001b[0;32m     10\u001b[0m         \u001b[0mprint\u001b[0m\u001b[1;33m(\u001b[0m\u001b[0msuper\u001b[0m\u001b[1;33m(\u001b[0m\u001b[1;33m)\u001b[0m\u001b[1;33m.\u001b[0m\u001b[0mi\u001b[0m\u001b[1;33m)\u001b[0m\u001b[1;33m\u001b[0m\u001b[1;33m\u001b[0m\u001b[0m\n\u001b[0;32m     11\u001b[0m         \u001b[0mprint\u001b[0m\u001b[1;33m(\u001b[0m\u001b[0msuper\u001b[0m\u001b[1;33m(\u001b[0m\u001b[1;33m)\u001b[0m\u001b[1;33m.\u001b[0m\u001b[0m__init__\u001b[0m\u001b[1;33m(\u001b[0m\u001b[1;33m)\u001b[0m\u001b[1;33m)\u001b[0m\u001b[1;33m\u001b[0m\u001b[1;33m\u001b[0m\u001b[0m\n\u001b[1;32m---> 12\u001b[1;33m         \u001b[0mprint\u001b[0m\u001b[1;33m(\u001b[0m\u001b[0msuper\u001b[0m\u001b[1;33m(\u001b[0m\u001b[1;33m)\u001b[0m\u001b[1;33m.\u001b[0m\u001b[0mj\u001b[0m\u001b[1;33m)\u001b[0m   \u001b[1;31m### ---> Error\u001b[0m\u001b[1;33m\u001b[0m\u001b[1;33m\u001b[0m\u001b[0m\n\u001b[0m\u001b[0;32m     13\u001b[0m \u001b[1;33m\u001b[0m\u001b[0m\n\u001b[0;32m     14\u001b[0m \u001b[1;33m\u001b[0m\u001b[0m\n",
      "\u001b[1;31mAttributeError\u001b[0m: 'super' object has no attribute 'j'"
     ]
    }
   ],
   "source": [
    "class A:\n",
    "    i = 10\n",
    "    def __init__(self):\n",
    "        self.j = 20\n",
    "        print(self.j)\n",
    "        \n",
    "class B(A):\n",
    "    def m1(self):\n",
    "        print(\"m1-A\")\n",
    "        print(super().i)\n",
    "        print(super().__init__())\n",
    "        print(super().j)   ### ---> Error\n",
    "        \n",
    "        \n",
    "b = B()\n",
    "print()\n",
    "b.m1()\n"
   ]
  },
  {
   "cell_type": "markdown",
   "metadata": {},
   "source": [
    "- In Python applications, by using super() method we are able to access static variable, instance method, static method and class method of parent class from sub class constructor.\n"
   ]
  },
  {
   "cell_type": "code",
   "execution_count": 15,
   "metadata": {},
   "outputs": [
    {
     "name": "stdout",
     "output_type": "stream",
     "text": [
      "B-Con\n",
      "10\n",
      "Instance Method\n",
      "Static Method\n",
      "Class Method\n"
     ]
    }
   ],
   "source": [
    "class A:\n",
    "    i = 10\n",
    "    def m1(self):\n",
    "        print(\"Instance Method\")\n",
    "        \n",
    "    @staticmethod\n",
    "    def m2():\n",
    "        print(\"Static Method\")\n",
    "        \n",
    "    @classmethod\n",
    "    def m3(cls):\n",
    "        print(\"Class Method\")\n",
    "        \n",
    "        \n",
    "class B(A):\n",
    "    def __init__(self):\n",
    "        print(\"B-Con\")\n",
    "        print(super().i)\n",
    "        super().m1()\n",
    "        super().m2()\n",
    "        super().m3()\n",
    "        \n",
    "b = B()\n"
   ]
  },
  {
   "cell_type": "markdown",
   "metadata": {},
   "source": [
    "- In Python applications, we are able to access parent class static variable, instance method, static method, class method from sub class instance method by using super() method.\n"
   ]
  }
 ],
 "metadata": {
  "kernelspec": {
   "display_name": "Python 3",
   "language": "python",
   "name": "python3"
  },
  "language_info": {
   "codemirror_mode": {
    "name": "ipython",
    "version": 3
   },
   "file_extension": ".py",
   "mimetype": "text/x-python",
   "name": "python",
   "nbconvert_exporter": "python",
   "pygments_lexer": "ipython3",
   "version": "3.8.1"
  }
 },
 "nbformat": 4,
 "nbformat_minor": 4
}
