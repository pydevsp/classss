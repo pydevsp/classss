{
 "cells": [
  {
   "cell_type": "markdown",
   "metadata": {},
   "source": [
    "# Garbage Collection:\n",
    "--------------------\n",
    "- In general, in Object Oriented Programming Languages data must be represented in the form of Objects.\n",
    "- In Object Oriented Programming Languages to manage data in the form of objects first we have to create objects and then we have to destroy objects atleast at the end of the applications.\n",
    "- In general, in Object Oriented programming Languages to create objects we will use constructors and to destroy objects we will use destructors.\n",
    "- In C++ programming language, Developers must take responsibility explicitly to create objects and to destroy objects, where in C++ applications, to destroy objects we must use destructors.\n",
    "- In Java programming language, developers are not required to take any responsibility to destroy objects explicitly, because, JAVA has Garbage Collector to destroy objects automatically.\n"
   ]
  },
  {
   "cell_type": "markdown",
   "metadata": {},
   "source": [
    "- Similarily, in Python, we will use both Garbage Collector and Destructor method to destroy objects.\n",
    "- In Python, when Garbage Collector destroy objects autimatically Destructor method will be executed internally.\n",
    "- In Python, Garbage collector will destroy objects internally and which is enabled bydefault in every python application.\n",
    "          \n",
    "- Python has provided Grabage Collector in a seperate module called as \"gc\" , if we want to use Garbage Collector explicitly then we have to import 'gc' module.\n",
    "         import gc\n",
    "- To check whether Garbage Collector is enable or disble we have to use  the following function from 'gc' module.\n",
    "         gc.isenabled()\n",
    "- To enable Garbage collector explicitly we have to use the following function from gc module.\n",
    "         gc.enable()\n",
    "- To disable Garbage Collector explicitly we have to use the following function from GC module.\n",
    "         gc.disable()"
   ]
  },
  {
   "cell_type": "code",
   "execution_count": 175,
   "metadata": {},
   "outputs": [
    {
     "name": "stdout",
     "output_type": "stream",
     "text": [
      "True\n",
      "False\n",
      "True\n"
     ]
    }
   ],
   "source": [
    "import gc\n",
    "\n",
    "print(gc.isenabled())\n",
    "\n",
    "gc.disable()\n",
    "print(gc.isenabled())\n",
    "\n",
    "gc.enable()\n",
    "print(gc.isenabled())\n"
   ]
  },
  {
   "cell_type": "markdown",
   "metadata": {},
   "source": [
    "- In Python, if we want to destroy any object explicitly then we have to assign None value object reference variable or we have to delete object reference variable from Python program.\n",
    "- In Python applications, when Object is destroying, Garbage Collector will execute destructor method just before destroying object inorder to perform clean up operations.\n",
    "- In Python, destructor method must have a fixed name like below.\n",
    "         def __del__(self):\n",
    "                      ----"
   ]
  },
  {
   "cell_type": "code",
   "execution_count": 176,
   "metadata": {},
   "outputs": [
    {
     "name": "stdout",
     "output_type": "stream",
     "text": [
      "Object Creating....\n",
      "Object Destroying....\n"
     ]
    }
   ],
   "source": [
    "class Gb:\n",
    "    def __init__(self):\n",
    "        print(\"Object Creating....\")\n",
    "    def __del__(self):\n",
    "        print(\"Object Destroying....\")\n",
    "            \n",
    "aaa = Gb()\n",
    "\n",
    "aaa = None  \n"
   ]
  },
  {
   "cell_type": "code",
   "execution_count": 177,
   "metadata": {},
   "outputs": [
    {
     "name": "stdout",
     "output_type": "stream",
     "text": [
      "Object Creating....\n",
      "Object Destroying....\n"
     ]
    }
   ],
   "source": [
    "bb = Gb()\n",
    "# bb = None ##  __del__() ==> not run"
   ]
  },
  {
   "cell_type": "code",
   "execution_count": 178,
   "metadata": {},
   "outputs": [
    {
     "name": "stdout",
     "output_type": "stream",
     "text": [
      "Object Creating....\n",
      "Object Destroying....\n"
     ]
    }
   ],
   "source": [
    "cc =Gb()\n",
    "del cc"
   ]
  },
  {
   "cell_type": "markdown",
   "metadata": {},
   "source": [
    "- In python applications, Garbage Collector will destroy all the objects\n",
    "automatically just before terminating application execution.\n"
   ]
  },
  {
   "cell_type": "code",
   "execution_count": 179,
   "metadata": {},
   "outputs": [
    {
     "name": "stdout",
     "output_type": "stream",
     "text": [
      "Object Creating.... 10\n",
      "Object Creating.... 10\n",
      "Object Destroying....\n",
      "Object Creating.... 10\n",
      "Object Destroying....\n"
     ]
    },
    {
     "data": {
      "text/plain": [
       "<__main__.A at 0x2ab277fb1f0>"
      ]
     },
     "execution_count": 179,
     "metadata": {},
     "output_type": "execute_result"
    }
   ],
   "source": [
    "class A:\n",
    "    def __init__(self):\n",
    "        i = 10\n",
    "        print(\"Object Creating....\",i)\n",
    "    def __del__(self):\n",
    "        print(\"Object Destroying....\")\n",
    "    def BB (self):\n",
    "        i =10\n",
    "\n",
    "a1 = A()\n",
    "a2 = A()\n",
    "a3 = A()\n",
    "a1\n",
    "\n"
   ]
  },
  {
   "cell_type": "markdown",
   "metadata": {},
   "source": [
    "- In Python applications, Garbage Collector will destroy an object when that object does not have any reference value. If any single reference variable is existed then Garbage Collector will not destroy that object."
   ]
  },
  {
   "cell_type": "code",
   "execution_count": 180,
   "metadata": {
    "scrolled": false
   },
   "outputs": [
    {
     "name": "stdout",
     "output_type": "stream",
     "text": [
      "Object Creating....\n",
      "Object Destroying....\n",
      "deleting a\n",
      "deleting b\n",
      "deleting c\n",
      "deleting d\n"
     ]
    }
   ],
   "source": [
    "import gc\n",
    "import time\n",
    "class A:\n",
    "    def __init__(self):\n",
    "        print(\"Object Creating....\")\n",
    "    def __del__(self):\n",
    "        print(\"Object Destroying....\")\n",
    "\n",
    "        \n",
    "a = A()\n",
    "b = a\n",
    "c = a\n",
    "d = a\n",
    "\n",
    "time.sleep(2)\n",
    "# del a\n",
    "print(\"deleting a\")\n",
    "time.sleep(2)\n",
    "del b\n",
    "print(\"deleting b\")\n",
    "time.sleep(2)\n",
    "del c\n",
    "print(\"deleting c\")\n",
    "time.sleep(2)\n",
    "del d\n",
    "print(\"deleting d\")"
   ]
  },
  {
   "cell_type": "code",
   "execution_count": 181,
   "metadata": {},
   "outputs": [
    {
     "name": "stdout",
     "output_type": "stream",
     "text": [
      "Object Creating....\n",
      "Object Destroying....\n",
      "\n",
      "Object Creating....\n",
      "Object Creating....\n",
      "Object Creating....\n",
      "Object Creating....\n",
      "Object Destroying....\n",
      "Object Destroying....\n",
      "Object Destroying....\n",
      "Object Destroying....\n",
      "End of Application\n"
     ]
    }
   ],
   "source": [
    "import time\n",
    "class ZA:\n",
    "    def __init__(self):\n",
    "        print(\"Object Creating....\")\n",
    "    def __del__(self):\n",
    "        print(\"Object Destroying....\")\n",
    "\n",
    "z = ZA()  \n",
    "print()\n",
    "list = [ZA(),ZA(),ZA(),ZA()]\n",
    "del list\n",
    "time.sleep(5)\n",
    "print(\"End of Application\")"
   ]
  },
  {
   "cell_type": "markdown",
   "metadata": {},
   "source": [
    "- In Python, it is possible to find the no of references for an object by\n",
    "using sys.getrefcount(--) function from sys module.\n"
   ]
  },
  {
   "cell_type": "code",
   "execution_count": 182,
   "metadata": {},
   "outputs": [
    {
     "name": "stdout",
     "output_type": "stream",
     "text": [
      "Object Destroying....\n",
      "5\n"
     ]
    }
   ],
   "source": [
    "\n",
    "import sys\n",
    "class A:\n",
    "    pass\n",
    "\n",
    "\n",
    "a = A()\n",
    "b = a\n",
    "c = a\n",
    "d = a\n",
    "print(sys.getrefcount(a))"
   ]
  },
  {
   "cell_type": "code",
   "execution_count": null,
   "metadata": {},
   "outputs": [],
   "source": []
  },
  {
   "cell_type": "code",
   "execution_count": null,
   "metadata": {},
   "outputs": [],
   "source": []
  }
 ],
 "metadata": {
  "kernelspec": {
   "display_name": "Python 3",
   "language": "python",
   "name": "python3"
  },
  "language_info": {
   "codemirror_mode": {
    "name": "ipython",
    "version": 3
   },
   "file_extension": ".py",
   "mimetype": "text/x-python",
   "name": "python",
   "nbconvert_exporter": "python",
   "pygments_lexer": "ipython3",
   "version": "3.8.1"
  }
 },
 "nbformat": 4,
 "nbformat_minor": 4
}
