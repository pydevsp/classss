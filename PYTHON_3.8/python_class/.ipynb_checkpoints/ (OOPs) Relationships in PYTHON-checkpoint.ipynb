{
 "cells": [
  {
   "cell_type": "markdown",
   "metadata": {},
   "source": [
    "# Relationships in Python:\n",
    "-------------------------\n",
    "- In Python, the main intention of relationships is\n",
    "    1. To provide less execution\n",
    "    2. To provide Code Reusability\n",
    "    3. To provide less memory utilization."
   ]
  },
  {
   "cell_type": "markdown",
   "metadata": {},
   "source": [
    "- In Python, there are two types of Relationships are existed.\n",
    "    1. HAS-A Relationship\n",
    "    2. IS-A relationship"
   ]
  },
  {
   "cell_type": "markdown",
   "metadata": {},
   "source": [
    "- Q)What is the difference between HAS-A Relationship and IS-A Relationship?\n",
    "- HAS-A relationship is able to define associations between entities, where associations are able to improve communication between entities and data navigation between entities.\n",
    "- IS-A relationship is able to define Inheritance relation between entity classes, where inheritance relation is able to provide Code Reusability in Python applications.\n"
   ]
  },
  {
   "cell_type": "markdown",
   "metadata": {},
   "source": [
    "# Associations In Python:\n",
    "------------------------"
   ]
  },
  {
   "cell_type": "markdown",
   "metadata": {},
   "source": [
    "- The main intention of associations in Python applications is to provide communication between entity classes and it will improve data navigation between entity classes.\n",
    "- There are four types of associations in Python.\n",
    "    1. One-To-One Association\n",
    "    2. One-To-Many Association\n",
    "    3. Many-To-One Association\n",
    "    4. Many-To-Many Association\n"
   ]
  },
  {
   "cell_type": "code",
   "execution_count": 22,
   "metadata": {},
   "outputs": [],
   "source": [
    "# class Address:\n",
    "#     def __init__(self, hno, street, city, state):\n",
    "#         self.hno = hno\n",
    "#         self.street = street\n",
    "#         self.city = city\n",
    "#         selft.state = state\n",
    "        \n",
    "# class Account:\n",
    "#     def __init__(self, accNo, accHolderName, accType):\n",
    "#         self.accNo = accNo\n",
    "#         self.accHolderName = accHolderName\n",
    "#         self.accType = accType\n",
    "        \n",
    "# class Employee:\n",
    "#     def __init__(self, eno, ename, esal, account, addrList):\n",
    "#         self.eno = eno\n",
    "#         self.ename = ename\n",
    "#         self.esal = esal\n",
    "#         self.account = account      #One to One\n",
    "#         self.addrList = addrList    #One To Many\n",
    "\n",
    "        \n",
    "# emp = Employee(111, \"Durga\", 50000.0,[Address(--), Address(---),\n",
    "# Address(----)])\n"
   ]
  },
  {
   "cell_type": "markdown",
   "metadata": {},
   "source": [
    "## 1. One-To-One Association:\n",
    "--------------------------\n",
    "- It is a relation between entities, where one instance of an entity should me mapped with exactly one instance of another entity.\n",
    "- EX: Each and Every Employee has exactly one individual Account."
   ]
  },
  {
   "cell_type": "code",
   "execution_count": 23,
   "metadata": {},
   "outputs": [
    {
     "name": "stdout",
     "output_type": "stream",
     "text": [
      "Employee Details\n",
      "-------------------\n",
      "Employee Number : E-111\n",
      "Employee Name : Durga\n",
      "Employee Salary : 10000.0\n",
      "Employee Address : Hyd\n",
      "\n",
      "Account Details\n",
      "-------------------\n",
      "Account Number : abc123\n",
      "Account Holder Name : Durga\n",
      "Account Types : Savings\n",
      "Account Balance : 25000\n"
     ]
    }
   ],
   "source": [
    "class Account:\n",
    "    def __init__(self, accNo, accHolderName, accType , balance):\n",
    "        self.accNo = accNo\n",
    "        self.accHolderName = accHolderName\n",
    "        self.accType = accType\n",
    "        self.balance = balance\n",
    "        \n",
    "class Employee:\n",
    "    def __init__(self, eno, ename, esal,eaddr, account):\n",
    "        self.eno = eno\n",
    "        self.ename = ename\n",
    "        self.esal = esal\n",
    "        self.account = account      \n",
    "        self.eaddr = eaddr    \n",
    "\n",
    "    def getEmpDetails(self):\n",
    "        print(\"Employee Details\")\n",
    "        print(\"-------------------\")\n",
    "        print(\"Employee Number :\",self.eno)\n",
    "        print(\"Employee Name :\",self.ename)\n",
    "        print(\"Employee Salary :\",self.esal)\n",
    "        print(\"Employee Address :\",self.eaddr)\n",
    "        print()\n",
    "        print(\"Account Details\")\n",
    "        print(\"-------------------\")\n",
    "        print(\"Account Number :\",self.account.accNo )     # self.account.accNo\n",
    "        print(\"Account Holder Name :\",self.account.accHolderName)\n",
    "        print(\"Account Types :\",self.account.accType)\n",
    "        print(\"Account Balance :\",self.account.balance)\n",
    "\n",
    "        \n",
    "acc = Account(\"abc123\", \"Durga\", \"Savings\", 25000)\n",
    "emp = Employee(\"E-111\", \"Durga\", 10000.0, \"Hyd\", acc )\n",
    "emp.getEmpDetails()\n"
   ]
  },
  {
   "cell_type": "markdown",
   "metadata": {},
   "source": [
    "## 2. One-To-Many Association:\n",
    "----------------------------\n",
    "- It is a relation between entity classes, where one instance of an entity should be mapped with multiple instances of another entity.\n",
    "- EX: Single Department has Multiuple Employees."
   ]
  },
  {
   "cell_type": "code",
   "execution_count": 16,
   "metadata": {},
   "outputs": [
    {
     "name": "stdout",
     "output_type": "stream",
     "text": [
      "Department Details\n",
      "------------------------\n",
      "Department Id : D-111\n",
      "Department Name : Admin\n",
      "ENO\tENAME\tESAL\tEADDR\n",
      "-----------------------------\n",
      "111\tDurga\t10000.0\tHyd\n",
      "222\tDurga\t10000.0\tHyd\n",
      "3333\tDurga\t10000.0\tHyd\n",
      "444\tDurga\t10000.0\tHyd\n"
     ]
    }
   ],
   "source": [
    "class Employee:\n",
    "    def __init__(self, eno, ename, esal, eaddr):\n",
    "        self.eno = eno\n",
    "        self.ename = ename\n",
    "        self.esal = esal\n",
    "        self.eaddr = eaddr\n",
    "        \n",
    "class Department:\n",
    "    def __init__(self, did, dname, empList):\n",
    "        self.did = did\n",
    "        self.dname = dname\n",
    "        self.empList = empList\n",
    "        \n",
    "    def getDeptDetails(self):\n",
    "        print(\"Department Details\")\n",
    "        print(\"------------------------\")\n",
    "        print(\"Department Id :\",self.did)\n",
    "        print(\"Department Name :\",self.dname)\n",
    "        print(\"ENO\\tENAME\\tESAL\\tEADDR\")\n",
    "        print(\"-----------------------------\")\n",
    "        for emp in self.empList:\n",
    "            print(emp.eno,end=\"\\t\")\n",
    "            print(emp.ename,end=\"\\t\")\n",
    "            print(emp.esal,end=\"\\t\")\n",
    "            print(emp.eaddr,end=\"\\n\")\n",
    "\n",
    "            \n",
    "e1 = Employee(111, \"AAA\", 500000.0, \"Hyd\")\n",
    "e2 = Employee(222, \"BBB\", 150000.0, \"Hyd\")\n",
    "e3 = Employee(333, \"CCC\", 250000.0, \"Hyd\")\n",
    "e4 = Employee(444, \"DDD\", 350000.0, \"Hyd\")\n",
    "# empsList = [e1,e2,e3,e4]\n",
    "dept = Department(\"D-111\", \"Admin\", [e1,e2,e3,e4])\n",
    "dept.getDeptDetails()"
   ]
  },
  {
   "cell_type": "code",
   "execution_count": null,
   "metadata": {},
   "outputs": [],
   "source": []
  }
 ],
 "metadata": {
  "kernelspec": {
   "display_name": "Python 3",
   "language": "python",
   "name": "python3"
  },
  "language_info": {
   "codemirror_mode": {
    "name": "ipython",
    "version": 3
   },
   "file_extension": ".py",
   "mimetype": "text/x-python",
   "name": "python",
   "nbconvert_exporter": "python",
   "pygments_lexer": "ipython3",
   "version": "3.8.1"
  }
 },
 "nbformat": 4,
 "nbformat_minor": 4
}
