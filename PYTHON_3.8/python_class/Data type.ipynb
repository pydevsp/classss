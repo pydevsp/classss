{
 "cells": [
  {
   "cell_type": "markdown",
   "metadata": {},
   "source": [
    "# 1. Statically Typed Programming language.\n",
    "# 2. Dynamically Typed Programming Language."
   ]
  },
  {
   "cell_type": "markdown",
   "metadata": {},
   "source": [
    "## Statically Typed Programming language:-\n",
    "        ### In any Proigramming Language, if we are providing data types before representing data then that programming language is called as Statically Typed Programming Language.\n",
    "        ###  Note: C, C++ and Java are statically Typed Programming Languages.\n",
    "        ###  1. int a = 10; ---> valid\n",
    "         2. int a;\n",
    "         a = 20; -------> Valid\n",
    "         3. a = 30; -------> Invalid\n",
    "         4. a = 30 -------> Invalid"
   ]
  },
  {
   "cell_type": "markdown",
   "metadata": {},
   "source": [
    "## Dynamically Typed Programming Language:-\n",
    "     ### In any programming language, if we represent data with out providing data types explicitly and if the data types are calculated after providing data then that programming languages are called as Dynamically Typed Programming Languages.\n",
    "         ex: Python\n",
    "               a = 10 ---> valid\n",
    "           int a = 20; --> Invalid.\n",
    "     ###  In Python, it is possible to get data type of the provided data by using a predefined function like type().      "
   ]
  },
  {
   "cell_type": "markdown",
   "metadata": {},
   "source": [
    "#### To prepare Python applications, Python has provided the following data types.\n",
    "      - fundamental data type\n",
    "      - sequence / advanced data type"
   ]
  },
  {
   "cell_type": "markdown",
   "metadata": {},
   "source": [
    "#  FUNDAMENTAL DATA-TYPE :-\n",
    "\n",
    "## NUMERIC DATA-TYPE :"
   ]
  },
  {
   "cell_type": "markdown",
   "metadata": {},
   "source": [
    "##  int() \n",
    "     It able to store only integral data."
   ]
  },
  {
   "cell_type": "code",
   "execution_count": 3,
   "metadata": {},
   "outputs": [
    {
     "name": "stdout",
     "output_type": "stream",
     "text": [
      "12\n",
      "<class 'int'>\n"
     ]
    }
   ],
   "source": [
    "a1=12\n",
    "print(a1)\n",
    "print(type(a1))"
   ]
  },
  {
   "cell_type": "code",
   "execution_count": 7,
   "metadata": {},
   "outputs": [
    {
     "name": "stdout",
     "output_type": "stream",
     "text": [
      "50\n",
      "140725865663680 :id\n"
     ]
    }
   ],
   "source": [
    "a1 =50\n",
    "print(a1)\n",
    "print(id(a1),\":id\")"
   ]
  },
  {
   "cell_type": "code",
   "execution_count": 15,
   "metadata": {},
   "outputs": [
    {
     "name": "stdout",
     "output_type": "stream",
     "text": [
      "(<class 'int'>, 10)\n",
      "(<class 'int'>, 83)\n",
      "(<class 'int'>, 10)\n",
      "(<class 'int'>, 1194684)\n"
     ]
    }
   ],
   "source": [
    "a = 0b1010\n",
    "b = 0o123\n",
    "c = 10\n",
    "d = 0x123abc   # octal, decimal and hexa decimal are by defoalt print in binary  value . \n",
    "print((type(a),a))\n",
    "print((type(b),b))\n",
    "print((type(c),c))\n",
    "print((type(d),d))"
   ]
  },
  {
   "cell_type": "code",
   "execution_count": 18,
   "metadata": {},
   "outputs": [
    {
     "name": "stdout",
     "output_type": "stream",
     "text": [
      "140725865662400\n",
      "140725865662400\n",
      "140725865662400\n"
     ]
    }
   ],
   "source": [
    "# Q)How many no of objects are created for int type in the following Python code?\n",
    "a = 10\n",
    "b = 10\n",
    "c = 10\n",
    "# print(a)\n",
    "# print(b)\n",
    "# print(c)\n",
    "# ans : 1\n",
    "\n",
    "# solv:\n",
    "print(id(a))\n",
    "print(id(b))\n",
    "print(id(c))"
   ]
  },
  {
   "cell_type": "code",
   "execution_count": 20,
   "metadata": {},
   "outputs": [
    {
     "name": "stdout",
     "output_type": "stream",
     "text": [
      "140725865662400\n",
      "140725865662720\n",
      "140725865663040\n",
      "30\n"
     ]
    }
   ],
   "source": [
    "# Q2) \n",
    "a = 10\n",
    "print(id(a))\n",
    "a = a + 10\n",
    "print(id(a))\n",
    "a = a + 10\n",
    "print(id(a))\n",
    "print(a)\n",
    "\n",
    "# ans:3 objects created"
   ]
  },
  {
   "cell_type": "markdown",
   "metadata": {},
   "source": [
    "## float() \n",
    "    "
   ]
  },
  {
   "cell_type": "code",
   "execution_count": 22,
   "metadata": {},
   "outputs": [
    {
     "name": "stdout",
     "output_type": "stream",
     "text": [
      "2599346657744\n",
      "12.22\n",
      "2599346995120\n",
      "22.22\n",
      "2599337213392\n",
      "32.22\n"
     ]
    }
   ],
   "source": [
    "f = 12.22\n",
    "print(id(f))\n",
    "print(f)\n",
    "\n",
    "\n",
    "f = f + 10\n",
    "print(id(f))\n",
    "print(f)\n",
    "\n",
    "f = f + 10\n",
    "print(id(f))\n",
    "print(f)\n"
   ]
  },
  {
   "cell_type": "code",
   "execution_count": null,
   "metadata": {},
   "outputs": [],
   "source": []
  }
 ],
 "metadata": {
  "kernelspec": {
   "display_name": "Python 3",
   "language": "python",
   "name": "python3"
  },
  "language_info": {
   "codemirror_mode": {
    "name": "ipython",
    "version": 3
   },
   "file_extension": ".py",
   "mimetype": "text/x-python",
   "name": "python",
   "nbconvert_exporter": "python",
   "pygments_lexer": "ipython3",
   "version": "3.8.1"
  }
 },
 "nbformat": 4,
 "nbformat_minor": 4
}
