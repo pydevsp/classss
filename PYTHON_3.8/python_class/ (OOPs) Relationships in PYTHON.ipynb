{
 "cells": [
  {
   "cell_type": "markdown",
   "metadata": {},
   "source": [
    "# Relationships in Python:\n",
    "-------------------------\n",
    "- In Python, the main intention of relationships is\n",
    "    1. To provide less execution\n",
    "    2. To provide Code Reusability\n",
    "    3. To provide less memory utilization."
   ]
  },
  {
   "cell_type": "markdown",
   "metadata": {},
   "source": [
    "- In Python, there are two types of Relationships are existed.\n",
    "    1. HAS-A Relationship\n",
    "    2. IS-A relationship"
   ]
  },
  {
   "cell_type": "markdown",
   "metadata": {},
   "source": [
    "- Q)What is the difference between HAS-A Relationship and IS-A Relationship?\n",
    "- HAS-A relationship is able to define associations between entities, where associations are able to improve communication between entities and data navigation between entities.\n",
    "- IS-A relationship is able to define Inheritance relation between entity classes, where inheritance relation is able to provide Code Reusability in Python applications.\n"
   ]
  },
  {
   "cell_type": "markdown",
   "metadata": {},
   "source": [
    "# Associations In Python:\n",
    "------------------------"
   ]
  },
  {
   "cell_type": "markdown",
   "metadata": {},
   "source": [
    "- The main intention of associations in Python applications is to provide communication between entity classes and it will improve data navigation between entity classes.\n",
    "- There are four types of associations in Python.\n",
    "    1. One-To-One Association\n",
    "    2. One-To-Many Association\n",
    "    3. Many-To-One Association\n",
    "    4. Many-To-Many Association\n"
   ]
  },
  {
   "cell_type": "code",
   "execution_count": 22,
   "metadata": {},
   "outputs": [],
   "source": [
    "# class Address:\n",
    "#     def __init__(self, hno, street, city, state):\n",
    "#         self.hno = hno\n",
    "#         self.street = street\n",
    "#         self.city = city\n",
    "#         selft.state = state\n",
    "        \n",
    "# class Account:\n",
    "#     def __init__(self, accNo, accHolderName, accType):\n",
    "#         self.accNo = accNo\n",
    "#         self.accHolderName = accHolderName\n",
    "#         self.accType = accType\n",
    "        \n",
    "# class Employee:\n",
    "#     def __init__(self, eno, ename, esal, account, addrList):\n",
    "#         self.eno = eno\n",
    "#         self.ename = ename\n",
    "#         self.esal = esal\n",
    "#         self.account = account      #One to One\n",
    "#         self.addrList = addrList    #One To Many\n",
    "\n",
    "        \n",
    "# emp = Employee(111, \"Durga\", 50000.0,[Address(--), Address(---),\n",
    "# Address(----)])\n"
   ]
  },
  {
   "cell_type": "markdown",
   "metadata": {},
   "source": [
    "## 1. One-To-One Association:\n",
    "--------------------------\n",
    "- It is a relation between entities, where one instance of an entity should me mapped with exactly one instance of another entity.\n",
    "- EX: Each and Every Employee has exactly one individual Account."
   ]
  },
  {
   "cell_type": "code",
   "execution_count": 1,
   "metadata": {},
   "outputs": [
    {
     "name": "stdout",
     "output_type": "stream",
     "text": [
      "Employee Details\n",
      "-------------------\n",
      "Employee Number : E-111\n",
      "Employee Name : Durga\n",
      "Employee Salary : 10000.0\n",
      "Employee Address : Hyd\n",
      "\n",
      "Account Details\n",
      "-------------------\n",
      "Account Number : abc123\n",
      "Account Holder Name : Durga\n",
      "Account Types : Savings\n",
      "Account Balance : 25000\n"
     ]
    }
   ],
   "source": [
    "class Account:\n",
    "    def __init__(self, accNo, accHolderName, accType , balance):\n",
    "        self.accNo = accNo\n",
    "        self.accHolderName = accHolderName\n",
    "        self.accType = accType\n",
    "        self.balance = balance\n",
    "        \n",
    "class Employee:\n",
    "    def __init__(self, eno, ename, esal,eaddr, account):\n",
    "        self.eno = eno\n",
    "        self.ename = ename\n",
    "        self.esal = esal      \n",
    "        self.eaddr = eaddr\n",
    "        self.account = account\n",
    "\n",
    "    def getEmpDetails(self):\n",
    "        print(\"Employee Details\")\n",
    "        print(\"-------------------\")\n",
    "        print(\"Employee Number :\",self.eno)\n",
    "        print(\"Employee Name :\",self.ename)\n",
    "        print(\"Employee Salary :\",self.esal)\n",
    "        print(\"Employee Address :\",self.eaddr)\n",
    "        print()\n",
    "        print(\"Account Details\")\n",
    "        print(\"-------------------\")\n",
    "        print(\"Account Number :\",self.account.accNo )     # self.account.accNo\n",
    "        print(\"Account Holder Name :\",self.account.accHolderName)\n",
    "        print(\"Account Types :\",self.account.accType)\n",
    "        print(\"Account Balance :\",self.account.balance)\n",
    "\n",
    "        \n",
    "acc = Account(\"abc123\", \"Durga\", \"Savings\", 25000)    ## One\n",
    "emp = Employee(\"E-111\", \"Durga\", 10000.0, \"Hyd\", acc )  ## One\n",
    "emp.getEmpDetails()\n"
   ]
  },
  {
   "cell_type": "markdown",
   "metadata": {},
   "source": [
    "## 2. One-To-Many Association:\n",
    "----------------------------\n",
    "- It is a relation between entity classes, where one instance of an entity should be mapped with multiple instances of another entity.\n",
    "- EX: Single Department has Multiuple Employees."
   ]
  },
  {
   "cell_type": "code",
   "execution_count": 2,
   "metadata": {},
   "outputs": [
    {
     "name": "stdout",
     "output_type": "stream",
     "text": [
      "Department Details\n",
      "------------------------\n",
      "Department Id : D-111\n",
      "Department Name : Admin\n",
      "ENO\tENAME\tESAL\tEADDR\n",
      "-----------------------------\n",
      "111\tAAA\t500000.0\tHyd\n",
      "222\tBBB\t150000.0\tHyd\n",
      "333\tCCC\t250000.0\tHyd\n",
      "444\tDDD\t350000.0\tHyd\n"
     ]
    }
   ],
   "source": [
    "class Employee:\n",
    "    def __init__(self, eno, ename, esal, eaddr):\n",
    "        self.eno = eno\n",
    "        self.ename = ename\n",
    "        self.esal = esal\n",
    "        self.eaddr = eaddr\n",
    "        \n",
    "class Department:\n",
    "    def __init__(self, did, dname, empList):\n",
    "        self.did = did\n",
    "        self.dname = dname\n",
    "        self.empList = empList\n",
    "        \n",
    "    def getDeptDetails(self):\n",
    "        print(\"Department Details\")\n",
    "        print(\"------------------------\")\n",
    "        print(\"Department Id :\",self.did)\n",
    "        print(\"Department Name :\",self.dname)\n",
    "        print(\"ENO\\tENAME\\tESAL\\tEADDR\")\n",
    "        print(\"-----------------------------\")\n",
    "        for emp in self.empList:\n",
    "            print(emp.eno,end=\"\\t\")\n",
    "            print(emp.ename,end=\"\\t\")\n",
    "            print(emp.esal,end=\"\\t\")\n",
    "            print(emp.eaddr,end=\"\\n\")\n",
    "\n",
    "            \n",
    "e1 = Employee(111, \"AAA\", 500000.0, \"Hyd\")\n",
    "e2 = Employee(222, \"BBB\", 150000.0, \"Hyd\")\n",
    "e3 = Employee(333, \"CCC\", 250000.0, \"Hyd\")\n",
    "e4 = Employee(444, \"DDD\", 350000.0, \"Hyd\")\n",
    "\n",
    "empsList = [e1,e2,e3,e4]   ## many\n",
    "\n",
    "dept = Department(\"D-111\", \"Admin\",empsList)  ## One\n",
    "dept.getDeptDetails()"
   ]
  },
  {
   "cell_type": "markdown",
   "metadata": {},
   "source": [
    "## 3. Many-To-One Association:\n",
    "---------\n",
    "- It is a relation between entity classes, where multiple instances of an entity should be mapped with exaxctly one instances of another entity.\n",
    "- EX: Multiple Students have joined with Single Branch."
   ]
  },
  {
   "cell_type": "code",
   "execution_count": 3,
   "metadata": {},
   "outputs": [
    {
     "name": "stdout",
     "output_type": "stream",
     "text": [
      "Student Details\n",
      "-----------------------\n",
      "Student Id : S-111\n",
      "Student Name : AAA\n",
      "Student Address : Hyd\n",
      "Branch Id : B-111\n",
      "Branch Name : CS\n",
      "\n",
      "Student Details\n",
      "-----------------------\n",
      "Student Id : S-222\n",
      "Student Name : BBB\n",
      "Student Address : Hyd\n",
      "Branch Id : B-111\n",
      "Branch Name : CS\n",
      "\n",
      "Student Details\n",
      "-----------------------\n",
      "Student Id : S-333\n",
      "Student Name : CCC\n",
      "Student Address : Hyd\n",
      "Branch Id : B-111\n",
      "Branch Name : CS\n",
      "\n",
      "Student Details\n",
      "-----------------------\n",
      "Student Id : S-444\n",
      "Student Name : DDD\n",
      "Student Address : Hyd\n",
      "Branch Id : B-111\n",
      "Branch Name : CS\n",
      "\n"
     ]
    }
   ],
   "source": [
    "class Branch:\n",
    "    def __init__(self, bid, bname):\n",
    "        self.bid = bid\n",
    "        self.bname = bname\n",
    "        \n",
    "class Student:\n",
    "    def __init__(self, sid, sname, saddr, branch):\n",
    "        self.sid = sid\n",
    "        self.sname = sname\n",
    "        self.saddr = saddr\n",
    "        self.branch = branch\n",
    "    def getStudentDetails(self):\n",
    "        print(\"Student Details\")\n",
    "        print(\"-----------------------\")\n",
    "        print(\"Student Id :\",self.sid)\n",
    "        print(\"Student Name :\",self.sname)\n",
    "        print(\"Student Address :\",self.saddr)\n",
    "        print(\"Branch Id :\",self.branch.bid)\n",
    "        print(\"Branch Name :\",self.branch.bname)\n",
    "        print()\n",
    "        \n",
    "        \n",
    "branch = Branch(\"B-111\", \"CS\")  ## One\n",
    "\n",
    "std1 = Student(\"S-111\", \"AAA\", \"Hyd\", branch)\n",
    "std2 = Student(\"S-222\", \"BBB\", \"Hyd\", branch)           ## many\n",
    "std3 = Student(\"S-333\", \"CCC\", \"Hyd\", branch)\n",
    "std4 = Student(\"S-444\", \"DDD\", \"Hyd\", branch)\n",
    "\n",
    "\n",
    "std1.getStudentDetails()\n",
    "std2.getStudentDetails()\n",
    "std3.getStudentDetails()\n",
    "std4.getStudentDetails()"
   ]
  },
  {
   "cell_type": "markdown",
   "metadata": {},
   "source": [
    "## 4. Many_To_Many Association:\n",
    "---------------------------\n",
    "- It is a relation between entity classes, where multiple instances of an entity should be mapped with mutliple instances of another entity.\n",
    "- EX: Multiple Students have joined multiple Courses."
   ]
  },
  {
   "cell_type": "code",
   "execution_count": 4,
   "metadata": {},
   "outputs": [
    {
     "name": "stdout",
     "output_type": "stream",
     "text": [
      "Student Details\n",
      "---------------------\n",
      "Student Id : S-111\n",
      "Student Name : AAA\n",
      "Student Address : Hyd\n",
      "CID\tCNAME\tCCOST\n",
      "------------------------\n",
      "C-111\tC\t1000\n",
      "C-222\tC++\t2000\n",
      "C-333\tJava\t5000\n",
      "C-444\tPython\t6000\n",
      "\n",
      "Student Details\n",
      "---------------------\n",
      "Student Id : S-222\n",
      "Student Name : BBB\n",
      "Student Address : Hyd\n",
      "CID\tCNAME\tCCOST\n",
      "------------------------\n",
      "C-111\tC\t1000\n",
      "C-222\tC++\t2000\n",
      "C-333\tJava\t5000\n",
      "C-444\tPython\t6000\n",
      "\n",
      "Student Details\n",
      "---------------------\n",
      "Student Id : S-333\n",
      "Student Name : CCC\n",
      "Student Address : Hyd\n",
      "CID\tCNAME\tCCOST\n",
      "------------------------\n",
      "C-111\tC\t1000\n",
      "C-222\tC++\t2000\n",
      "C-333\tJava\t5000\n",
      "C-444\tPython\t6000\n",
      "\n"
     ]
    }
   ],
   "source": [
    "class Course:\n",
    "    def __init__(self, cid, cname, ccost, sList):\n",
    "        self.cid = cid\n",
    "        self.cname = cname\n",
    "        self.ccost = ccost\n",
    "        \n",
    "class Student:\n",
    "    def __init__(self, sid, sname, saddr, coursesList):\n",
    "        self.sid = sid\n",
    "        self.sname = sname\n",
    "        self.saddr = saddr\n",
    "        self.coursesList = coursesList\n",
    "    def getStudentDetails(self):\n",
    "        print(\"Student Details\")\n",
    "        print(\"---------------------\")\n",
    "        print(\"Student Id :\",self.sid)\n",
    "        print(\"Student Name :\",self.sname)\n",
    "        print(\"Student Address :\",self.saddr)\n",
    "        print(\"CID\\tCNAME\\tCCOST\")\n",
    "        print(\"------------------------\")\n",
    "        for course in self.coursesList:\n",
    "            print(course.cid,end=\"\\t\")\n",
    "            print(course.cname,end=\"\\t\")\n",
    "            print(course.ccost,end=\"\\n\")\n",
    "        print()\n",
    "\n",
    "        \n",
    "course1 = Course(\"C-111\", \"C\", 1000)\n",
    "course2 = Course(\"C-222\", \"C++\", 2000)\n",
    "course3 = Course(\"C-333\", \"Java\", 5000)\n",
    "course4 = Course(\"C-444\", \"Python\", 6000)\n",
    "\n",
    "coursesList = [course1, course2, course3, course4]  ## many\n",
    "\n",
    "std1 = Student(\"S-111\", \"AAA\", \"Hyd\", coursesList)\n",
    "std2 = Student(\"S-222\", \"BBB\", \"Hyd\", coursesList)      ## many\n",
    "std3 = Student(\"S-333\", \"CCC\", \"Hyd\", coursesList)\n",
    "\n",
    "\n",
    "std1.getStudentDetails()\n",
    "std2.getStudentDetails()\n",
    "std3.getStudentDetails()\n"
   ]
  },
  {
   "cell_type": "markdown",
   "metadata": {},
   "source": [
    "##### In Python, Associations are represented in two forms.\n",
    "    1. Composition\n",
    "    2. Aggregation"
   ]
  },
  {
   "cell_type": "markdown",
   "metadata": {},
   "source": [
    "- Q)What are the differences between Composition and Aggregation?\n",
    "----------------------------------------------------------------\n",
    "Ans:\n",
    "----\n",
    "- 1. Strong association between entity classes is called as Composition. \n",
    "- Weak Association between entity classes is called as Aggregation.\n",
    "- 2. In case of Composition, if we destroy container object then contained object is also be destroyed, conatined object will not be existed after destroying container object.\n",
    "- In case Aggregation, even if we destroy Container object then Contained object is existed.\n",
    "- 3.In case of Composition, the life time of Contained object is almost all same as Container object lifetime.\n",
    "- In case of Aggregation, the life time of Contained object is not same as Contaier object.\n",
    "- EX: Association between Library and Books is Composition.\n",
    "-  Association between Library and Students is Aggregation."
   ]
  },
  {
   "cell_type": "raw",
   "metadata": {},
   "source": []
  },
  {
   "cell_type": "markdown",
   "metadata": {},
   "source": [
    "## Dependency Injection:\n",
    "--------------------\n",
    "- Injecting dependent object in another object is called as Dependency Injection.\n",
    "- IN Python applications, we are able to achieve dependency injection in the following two ways.\n",
    "    1. Constructor Dependency Injection.\n",
    "    2. Setter Method Dependency Injection."
   ]
  },
  {
   "cell_type": "markdown",
   "metadata": {},
   "source": [
    "## 1. Constructor Dependency Injection:\n",
    "----------------\n",
    "- If we inject dependent object in an object through Constructor then this it is called as Consructor Dependency Injection."
   ]
  },
  {
   "cell_type": "code",
   "execution_count": 4,
   "metadata": {},
   "outputs": [],
   "source": [
    "class Address:\n",
    "    def __init__(self, hno, street, city, state, country):\n",
    "        self.hno = hno\n",
    "        self.street = street\n",
    "        self.city = city\n",
    "        self.state = state\n",
    "        self.country = country\n",
    "        \n",
    "        \n",
    "class Course:\n",
    "    def __init__(self, cid, cname, ccost):\n",
    "        self.cid = cid\n",
    "        self.cname = cname\n",
    "        self.ccost = ccost\n",
    "        \n",
    "class Student:\n",
    "    def __init__(self, sid, sname, address , coursesList):\n",
    "        self.sid = sid\n",
    "        self.sname = sname\n",
    "        self.address = address\n",
    "        self.coursesList = coursesList\n",
    "\n",
    "    def getStudentDetails(self):\n",
    "        print(\"Student Details\")\n",
    "        print(\"---------------------\")\n",
    "        print(\"Student Id :\",self.sid)\n",
    "        print(\"Student Name :\",self.sname)\n",
    "        print()\n",
    "        \n",
    "        print(\"Student Address Details\")\n",
    "        print(\"-------------------------\")\n",
    "        print(\"House Number :\",self.address.hno)\n",
    "        print(\"Street :\",self.address.street)\n",
    "        print(\"City :\",self.address.city)\n",
    "        print(\"State :\",self.address.state)\n",
    "        print(\"Country :\",self.address.country)\n",
    "        print()\n",
    "        \n",
    "        print(\"Student Courses Details\")\n",
    "        print(\"---------------------------\")\n",
    "        print(\"CID \\t CNAME \\t CCOST\")\n",
    "        print(\"------------------------\")\n",
    "        for course in self.coursesList:\n",
    "            print(course.cid,end=\"\\t\")\n",
    "            print(course.cname,end=\"\\t\")\n",
    "            print(course.ccost,end=\"\\n\")\n"
   ]
  },
  {
   "cell_type": "code",
   "execution_count": 5,
   "metadata": {},
   "outputs": [
    {
     "name": "stdout",
     "output_type": "stream",
     "text": [
      "Student Details\n",
      "---------------------\n",
      "Student Id : S-111\n",
      "Student Name : AAA\n",
      "\n",
      "Student Address Details\n",
      "-------------------------\n",
      "House Number : 202,23/3rt\n",
      "Street : MG Road\n",
      "City : Hyd\n",
      "State : Telangana\n",
      "Country : India\n",
      "\n",
      "Student Courses Details\n",
      "---------------------------\n",
      "CID \t CNAME \t CCOST\n",
      "------------------------\n",
      "C-111\tC\t1000\n",
      "C-222\tC++\t2000\n",
      "C-333\tJava\t5000\n",
      "C-444\tPython\t6000\n"
     ]
    }
   ],
   "source": [
    "## object create :\n",
    "\n",
    "course1 = Course(\"C-111\", \"C\", 1000)\n",
    "course2 = Course(\"C-222\", \"C++\", 2000)\n",
    "course3 = Course(\"C-333\", \"Java\", 5000)\n",
    "course4 = Course(\"C-444\", \"Python\", 6000)\n",
    "coursesList = [course1, course2, course3, course4]\n",
    "\n",
    "address = Address(\"202,23/3rt\",\"MG Road\", \"Hyd\", \"Telangana\", \"India\")\n",
    "std = Student(\"S-111\", \"AAA\", address, coursesList)\n",
    "std.getStudentDetails()\n",
    "\n"
   ]
  },
  {
   "cell_type": "markdown",
   "metadata": {},
   "source": [
    "## 2. Setter Method Dependency Injection.\n",
    "-------\n",
    "- If we inject dependent object in an object through setter method then it is called as setter method Dependency Injection.\n",
    "- getAbc() / setXyz()"
   ]
  },
  {
   "cell_type": "code",
   "execution_count": 7,
   "metadata": {},
   "outputs": [],
   "source": [
    "class Address:\n",
    "    def setHno(self, hno):\n",
    "        self.hno = hno\n",
    "    def setStreet(self, street):\n",
    "        self.street = street\n",
    "    def setCity(self, city):\n",
    "        self.city = city\n",
    "    def setState(self, state):\n",
    "        self.state = state\n",
    "    def setCountry(self, country):\n",
    "        self.country = country\n",
    "            \n",
    "    def getHno(self):\n",
    "        return self.hno\n",
    "    def getStreet(self):\n",
    "        return self.street\n",
    "    def getCity(self):\n",
    "        return self.city\n",
    "    def getState(self):\n",
    "        return self.state\n",
    "    def getCountry(self):\n",
    "        return self.country                \n",
    "        \n",
    "class Course:\n",
    "    def setCid(self,cid):\n",
    "        self.cid = cid\n",
    "    def setCname(self,cname):\n",
    "        self.cname = cname\n",
    "    def setCcost(self,ccost):\n",
    "        self.ccost = ccost\n",
    "        \n",
    "    def getCid(self):\n",
    "        return self.cid\n",
    "    def getCname(self):\n",
    "        return self.cname\n",
    "    def getCcost(self):\n",
    "        return self.ccost\n",
    "\n",
    "    \n",
    "class Student:\n",
    "    def setSid(self,sid):\n",
    "        self.sid = sid\n",
    "    def setSname(self,sname):\n",
    "        self.sname = sname\n",
    "    def setAddress(self,address):\n",
    "        self.address = address\n",
    "    def setCoursesList(self,coursesList):\n",
    "        self.coursesList = coursesList\n",
    "    def getStudentDetails(self):\n",
    "        print(\"Student Details\")\n",
    "        print(\"---------------------\")\n",
    "        print(\"Student Id               :\",self.sid)\n",
    "        print(\"Student Name             :\",self.sname)\n",
    "        print()\n",
    "        print(\"Student Address Details\")\n",
    "        print(\"-------------------------\")\n",
    "        print(\"House Number             :\",self.address.getHno())\n",
    "        print(\"Street                   :\",self.address.getStreet())\n",
    "        print(\"City                     :\",self.address.getCity())\n",
    "        print(\"State                    :\" ,self.address.getState())\n",
    "        print(\"Country                  :\",self.address.getCountry())\n",
    "        print()\n",
    "        print(\"Student Courses Details\")\n",
    "        print(\"---------------------------\")\n",
    "        print(\"CID\\tCNAME\\tCCOST\")\n",
    "        print(\"------------------------\")\n",
    "        for course in self.coursesList:\n",
    "            print(course.getCid(),end=\"\\t\")\n",
    "            print(course.getCname(),end=\"\\t\")\n",
    "            print(course.getCcost(),end=\"\\n\")\n"
   ]
  },
  {
   "cell_type": "code",
   "execution_count": 8,
   "metadata": {},
   "outputs": [
    {
     "name": "stdout",
     "output_type": "stream",
     "text": [
      "Student Details\n",
      "---------------------\n",
      "Student Id               : S-111\n",
      "Student Name             : Durga\n",
      "\n",
      "Student Address Details\n",
      "-------------------------\n",
      "House Number             : 202/123\n",
      "Street                   : MG Road\n",
      "City                     : Hyd\n",
      "State                    : Telangana\n",
      "Country                  : India\n",
      "\n",
      "Student Courses Details\n",
      "---------------------------\n",
      "CID\tCNAME\tCCOST\n",
      "------------------------\n",
      "C-111\tJAVA\t10000\n",
      "C-222\tPython\t15000\n",
      "C-333\tOracle\t16000\n"
     ]
    }
   ],
   "source": [
    "course1 = Course()\n",
    "course1.setCid(\"C-111\")\n",
    "course1.setCname(\"JAVA\")\n",
    "course1.setCcost(10000)\n",
    "\n",
    "course2 = Course()\n",
    "course2.setCid(\"C-222\")\n",
    "course2.setCname(\"Python\")\n",
    "course2.setCcost(15000)\n",
    "\n",
    "course3 = Course()\n",
    "course3.setCid(\"C-333\")\n",
    "course3.setCname(\"Oracle\")\n",
    "course3.setCcost(16000)\n",
    "\n",
    "coursesList = [course1, course2, course3]\n",
    "\n",
    "address = Address()\n",
    "address.setHno(\"202/123\")\n",
    "address.setStreet(\"MG Road\")\n",
    "address.setCity(\"Hyd\")\n",
    "address.setState(\"Telangana\")\n",
    "address.setCountry(\"India\")\n",
    "\n",
    "std = Student()\n",
    "std.setSid(\"S-111\")\n",
    "std.setSname(\"Durga\")\n",
    "\n",
    "std.setAddress(address)\n",
    "std.setCoursesList(coursesList)\n",
    "std.getStudentDetails()\n"
   ]
  },
  {
   "cell_type": "markdown",
   "metadata": {},
   "source": [
    "# Inheritance In Python:\n",
    "---------\n",
    "- It is a relation between classes, it will bring variables and methods from one clsas[ Parent class / Super class/ Base Class] to another class[chaild class / sub class/ Derived class].\n",
    "- The main advantage of Inheritance is \"Code reusability\", Declare variables and methods one time in super class then access that variables and methods in any no. of times in sub classes.\n",
    "- To specify super classes for a sub class then we have to use () along with sub class name with the super class names specification with , seperator. "
   ]
  },
  {
   "cell_type": "markdown",
   "metadata": {},
   "source": [
    "- Syntax:\n",
    "-------\n",
    "class ClassName(SuperClass1, SuperClass2,...SuperClass-n)\n",
    "{\n",
    "    \n",
    "}"
   ]
  },
  {
   "cell_type": "code",
   "execution_count": 2,
   "metadata": {},
   "outputs": [
    {
     "name": "stdout",
     "output_type": "stream",
     "text": [
      "Name      : aaa\n",
      "Age       : 21\n",
      "Address   : jpr\n"
     ]
    }
   ],
   "source": [
    "class Person:                               ## parent class\n",
    "    def __init__(self,pname,page,paddr):\n",
    "        self.pname = pname\n",
    "        self.page = page\n",
    "        self.paddr = paddr\n",
    "    def getPersonDetails(self):\n",
    "        print(\"Name      :\",self.pname)\n",
    "        print(\"Age       :\",self.page)\n",
    "        print(\"Address   :\",self.paddr)\n",
    "        \n",
    "P = Person(\"aaa\",21,\"jpr\")\n",
    "P.getPersonDetails()"
   ]
  },
  {
   "cell_type": "code",
   "execution_count": 3,
   "metadata": {},
   "outputs": [
    {
     "name": "stdout",
     "output_type": "stream",
     "text": [
      "Employee Details\n",
      "--------------------\n",
      "Name      : Durga\n",
      "Age       : 28\n",
      "Address   : Hyd\n",
      "EID     : E-111\n",
      "ESAL    : 10000.0\n",
      "EDES    : Manager\n"
     ]
    }
   ],
   "source": [
    "class Employee(Person):                                      ## child class\n",
    "    def __init__(self,eid,esal,edes,pname,page,paddr):\n",
    "        self.eid=eid\n",
    "        self.esal=esal\n",
    "        self.edes=edes\n",
    "        self.pname = pname\n",
    "        self.page = page\n",
    "        self.paddr = paddr\n",
    "    def getEmployeeDetails(self):\n",
    "        print(\"Employee Details\")\n",
    "        print(\"--------------------\")\n",
    "        self.getPersonDetails()\n",
    "        print(\"EID     :\",self.eid)\n",
    "        print(\"ESAL    :\",self.esal)\n",
    "        print(\"EDES    :\",self.edes)\n",
    "        \n",
    "        \n",
    "emp = Employee(\"E-111\", 10000.0,\"Manager\", \"Durga\", 28, \"Hyd\")\n",
    "emp.getEmployeeDetails()\n",
    "\n",
    "\n",
    " ## we have provided super class instance variables initialization in sub class constructor."
   ]
  },
  {
   "cell_type": "code",
   "execution_count": 8,
   "metadata": {},
   "outputs": [
    {
     "name": "stdout",
     "output_type": "stream",
     "text": [
      "Employee Details\n",
      "--------------------\n",
      "Name      : Durga\n",
      "Age       : 28\n",
      "Address   : Hyd\n",
      "EID : E-111\n",
      "ESAL : 10000.0\n",
      "EDES : Manager\n"
     ]
    }
   ],
   "source": [
    "class Employeeee(Person):\n",
    "    def __init__(self,eid,esal,edes,pname,page,paddr):\n",
    "        super(Employeeee,self).__init__(pname,page,paddr)    ## super()\n",
    "        self.eid=eid\n",
    "        self.esal=esal\n",
    "        self.edes=edes\n",
    "    def getEmployeeeeDetails(self):\n",
    "        print(\"Employee Details\")\n",
    "        print(\"--------------------\")\n",
    "        self.getPersonDetails()\n",
    "        print(\"EID :\",self.eid)\n",
    "        print(\"ESAL :\",self.esal)\n",
    "        print(\"EDES :\",self.edes)\n",
    "        \n",
    "emp = Employeeee(\"E-111\", 10000.0,\"Manager\", \"Durga\", 28, \"Hyd\")\n",
    "emp.getEmployeeeeDetails()\n",
    "\n",
    " # Note: in the above application, we have provided initialization for super class instance variables by calling \n",
    " #   super class constructor."
   ]
  },
  {
   "cell_type": "markdown",
   "metadata": {},
   "source": [
    "#### -  In Python applications, when we create object for sub class then sub class constructor will be executes, here super class constructor will not be executed directly, in this context, if we want to access super class constructor from sub class constructor then we have to use  super()."
   ]
  },
  {
   "cell_type": "code",
   "execution_count": 11,
   "metadata": {},
   "outputs": [
    {
     "name": "stdout",
     "output_type": "stream",
     "text": [
      "Super Class Constructor\n",
      "Sub Class Constructor\n"
     ]
    }
   ],
   "source": [
    "class A:\n",
    "    def __init__(self):\n",
    "        print(\"Super Class Constructor\")\n",
    "        \n",
    "class B(A):\n",
    "    def __init__(self):\n",
    "        super(B, self).__init__()\n",
    "        print(\"Sub Class Constructor\")\n",
    "        \n",
    "b = B()\n"
   ]
  },
  {
   "cell_type": "markdown",
   "metadata": {},
   "source": [
    "#### - if we create sub class object then sub class object id value will be shared to all the self parameters in both sub class and the respective super classes."
   ]
  },
  {
   "cell_type": "code",
   "execution_count": 14,
   "metadata": {},
   "outputs": [
    {
     "name": "stdout",
     "output_type": "stream",
     "text": [
      "Super Class Constructor : 2247674207632\n",
      "Sub Class Constructor : 2247674207632\n",
      "b1 ref value : 2247674207632\n",
      "\n",
      "m2() : 2247674207632\n",
      "m1() : 2247674207632\n",
      "\n",
      "Super Class Constructor : 2247674270144\n",
      "Sub Class Constructor : 2247674270144\n",
      "b2 ref value : 2247674270144\n",
      "m2() : 2247674270144\n",
      "m1() : 2247674270144\n"
     ]
    }
   ],
   "source": [
    "class Aa:\n",
    "    def __init__(self):\n",
    "        print(\"Super Class Constructor :\",id(self))\n",
    "    def m1(self):\n",
    "        print(\"m1() :\",id(self))\n",
    "        \n",
    "class Bb(Aa):\n",
    "    def __init__(self):\n",
    "        super(Bb, self).__init__()\n",
    "        print(\"Sub Class Constructor :\",id(self))\n",
    "    def m2(self):\n",
    "        print(\"m2() :\",id(self))\n",
    "\n",
    "        \n",
    "b1 = Bb()\n",
    "print(\"b1 ref value :\",id(b1))\n",
    "print()\n",
    "b1.m2()\n",
    "b1.m1()\n",
    "print()\n",
    "\n",
    "b2 = Bb()\n",
    "print(\"b2 ref value :\",id(b2))\n",
    "b2.m2()\n",
    "b2.m1()\n"
   ]
  },
  {
   "cell_type": "markdown",
   "metadata": {},
   "source": [
    "- In Python applications, by using super class id variable we are able to access only super class members, we are unable to access sub class own members, but, by using sub class id variable we are able to access both super class members and sub class members."
   ]
  },
  {
   "cell_type": "code",
   "execution_count": 3,
   "metadata": {},
   "outputs": [
    {
     "name": "stdout",
     "output_type": "stream",
     "text": [
      "m1-A\n",
      "\n",
      "m1-A\n",
      "m2-B\n"
     ]
    }
   ],
   "source": [
    "class A:\n",
    "    def m1(self):\n",
    "        print(\"m1-A\")\n",
    "        \n",
    "class B(A):\n",
    "    def m2(self):\n",
    "        print(\"m2-B\")\n",
    "        \n",
    "        \n",
    "a = A()\n",
    "a.m1()\n",
    "#a.m2() --> Error\n",
    "print()\n",
    "b = B()\n",
    "b.m1()\n",
    "b.m2()\n"
   ]
  },
  {
   "cell_type": "markdown",
   "metadata": {},
   "source": [
    "- Python is not allowing cyclic inheritance, extending same class is called as cyclic inheritance."
   ]
  },
  {
   "cell_type": "markdown",
   "metadata": {},
   "source": [
    "Types of Inheritances:\n",
    "-----------------------\n",
    "- In Python there are five types of inheritances.\n",
    "    1. Single Inheritance\n",
    "    2. Multiple Inheritance\n",
    "    3. Multi Level inheritance\n",
    "    4. Hierachical Inheritance\n",
    "    5. Hybrid Inheritance"
   ]
  },
  {
   "cell_type": "markdown",
   "metadata": {},
   "source": [
    "### - Single Inheritance\n",
    "-----\n",
    "- It is a relation between classes, it will bring variables and methods from only one super class to one or more no of sub classes.\n"
   ]
  },
  {
   "cell_type": "code",
   "execution_count": 5,
   "metadata": {},
   "outputs": [
    {
     "name": "stdout",
     "output_type": "stream",
     "text": [
      "m1-A\n",
      "====\n",
      "m2-B\n",
      "m1-A\n"
     ]
    }
   ],
   "source": [
    "class A:\n",
    "    def m1(self):\n",
    "        print(\"m1-A\")\n",
    "        \n",
    "class B(A):\n",
    "    def m2(self):\n",
    "        print(\"m2-B\")\n",
    "\n",
    "a = A()\n",
    "a.m1()\n",
    "print(\"====\")\n",
    "b = B()\n",
    "b.m2()\n",
    "b.m1()\n"
   ]
  },
  {
   "cell_type": "markdown",
   "metadata": {},
   "source": [
    "### - 2. Multiple Inheritance:\n",
    "-------\n",
    "- It is a relation between classes, it will bring variables and methods from more than one super class to one or more no of sub classes.\n"
   ]
  },
  {
   "cell_type": "code",
   "execution_count": 13,
   "metadata": {},
   "outputs": [
    {
     "name": "stdout",
     "output_type": "stream",
     "text": [
      "m3-C\n",
      "m1-A\n",
      "m2-B\n",
      "m1-A\n",
      "m2-B\n",
      "m2-B\n"
     ]
    }
   ],
   "source": [
    "class A:\n",
    "    def m1(self):\n",
    "        print(\"m1-A\")\n",
    "        \n",
    "class B:\n",
    "    def m2(self):\n",
    "        print(\"m2-B\")\n",
    "        \n",
    "class C(A,B):\n",
    "    def m3(self):\n",
    "        print(\"m3-C\")\n",
    "        self.m1()\n",
    "        self.m2()\n",
    "        \n",
    "c = C()\n",
    "c.m3()\n",
    "\n",
    "a = A()\n",
    "b = B()\n",
    "a.m1()\n",
    "b.m2()\n",
    "c.m2()"
   ]
  },
  {
   "cell_type": "markdown",
   "metadata": {},
   "source": [
    "#### - In case of multiple inheritance, if we declare same variable with different value and same method with different implementation in both the super classes and if we access that variable and that method in the respective sub class then which super class variable will be accessed and which super class method will be accessed is completly depending on the super classes order which we provided along with sub class.\n",
    "#### - In the above context, PVM will search for super class variables and methods at the super classes in which order we provided all super classes at sub class declaration.\n"
   ]
  },
  {
   "cell_type": "code",
   "execution_count": 14,
   "metadata": {},
   "outputs": [
    {
     "name": "stdout",
     "output_type": "stream",
     "text": [
      "10\n",
      "m1-A\n"
     ]
    }
   ],
   "source": [
    "class A:\n",
    "    i = 10\n",
    "    def m1(self):\n",
    "        print(\"m1-A\")\n",
    "        \n",
    "class B:\n",
    "    i = 20\n",
    "    def m1(self):\n",
    "        print(\"m1-B\")\n",
    "        \n",
    "class C(A,B):\n",
    "    def m2(self):\n",
    "        print(self.i)\n",
    "        self.m1()\n",
    "        \n",
    "c = C()\n",
    "c.m2()"
   ]
  },
  {
   "cell_type": "code",
   "execution_count": 15,
   "metadata": {},
   "outputs": [
    {
     "name": "stdout",
     "output_type": "stream",
     "text": [
      "20\n",
      "m1-B\n"
     ]
    }
   ],
   "source": [
    "class A:\n",
    "    i = 10\n",
    "    def m1(self):\n",
    "        print(\"m1-A\")\n",
    "        \n",
    "class B:\n",
    "    i = 20\n",
    "    def m1(self):\n",
    "        print(\"m1-B\")\n",
    "        \n",
    "class C(B,A):\n",
    "    def m2(self):\n",
    "        print(self.i)\n",
    "        self.m1()\n",
    "        \n",
    "        \n",
    "c = C()\n",
    "c.m2()"
   ]
  },
  {
   "cell_type": "code",
   "execution_count": 20,
   "metadata": {},
   "outputs": [
    {
     "name": "stdout",
     "output_type": "stream",
     "text": [
      "10\n",
      "m1-B\n",
      "10\n"
     ]
    },
    {
     "data": {
      "text/plain": [
       "10"
      ]
     },
     "execution_count": 20,
     "metadata": {},
     "output_type": "execute_result"
    }
   ],
   "source": [
    "class A:\n",
    "    i = 10\n",
    "    \n",
    "class B:\n",
    "    i = 20\n",
    "    def m1(self):\n",
    "        print(\"m1-B\")\n",
    "        \n",
    "class C(A,B):\n",
    "    def m2(self):\n",
    "        print(self.i)\n",
    "        self.m1()\n",
    "        print(a.i) \n",
    "\n",
    "        \n",
    "c = C()\n",
    "c.m2()\n",
    "\n",
    "a = A()\n",
    "a.i"
   ]
  },
  {
   "cell_type": "markdown",
   "metadata": {},
   "source": [
    "### 3. Multi Level inheritance:\n",
    "--------\n",
    " - It is the combination of single inheritances in more than one level.\n"
   ]
  },
  {
   "cell_type": "code",
   "execution_count": 22,
   "metadata": {},
   "outputs": [
    {
     "name": "stdout",
     "output_type": "stream",
     "text": [
      "m1-A\n",
      "m1-A\n",
      "m2-B\n",
      "m1-A\n",
      "m2-B\n",
      "m3-C\n"
     ]
    }
   ],
   "source": [
    "class A:\n",
    "    def m1(self):\n",
    "        print(\"m1-A\")\n",
    "        \n",
    "class B(A):\n",
    "    def m2(self):\n",
    "        print(\"m2-B\")\n",
    "        \n",
    "class C(B):\n",
    "    def m3(self):\n",
    "        print(\"m3-C\")\n",
    "        \n",
    "a = A()\n",
    "a.m1()   ## m1-A\n",
    "\n",
    "b = B()\n",
    "b.m1()   ## m1-A\n",
    "b.m2()   ## m2-B\n",
    "c = C()\n",
    "c.m1()   ## m1-A\n",
    "c.m2()   ## m2-B\n",
    "c.m3()   ## m3-C\n"
   ]
  },
  {
   "cell_type": "markdown",
   "metadata": {},
   "source": [
    "### 4. Hierachical Inheritance  :\n",
    "--------\n",
    "- It is the combination of single inheritances in a particular structer."
   ]
  },
  {
   "cell_type": "code",
   "execution_count": 24,
   "metadata": {},
   "outputs": [
    {
     "name": "stdout",
     "output_type": "stream",
     "text": [
      "m1-A\n",
      "======\n",
      "m1-A\n",
      "m2-B\n",
      "======\n",
      "m1-A\n",
      "m3-C\n",
      "======\n",
      "m1-A\n",
      "m2-B\n",
      "m4-D\n",
      "======\n",
      "m1-A\n",
      "m2-B\n",
      "m5-E\n",
      "======\n",
      "m1-A\n",
      "m3-C\n",
      "m6-F\n",
      "======\n",
      "m1-A\n",
      "m3-C\n",
      "m7-G\n"
     ]
    }
   ],
   "source": [
    "class A:\n",
    "    def m1(self):\n",
    "        print(\"m1-A\")\n",
    "        \n",
    "class B(A):\n",
    "    def m2(self):\n",
    "        print(\"m2-B\")\n",
    "        \n",
    "class C(A):\n",
    "    def m3(self):\n",
    "        print(\"m3-C\")\n",
    "        \n",
    "class D(B):\n",
    "    def m4(self):\n",
    "        print(\"m4-D\")\n",
    "        \n",
    "class E(B):\n",
    "    def m5(self):\n",
    "        print(\"m5-E\")\n",
    "        \n",
    "class F(C):\n",
    "    def m6(self):\n",
    "        print(\"m6-F\")\n",
    "        \n",
    "class G(C):\n",
    "    def m7(self):\n",
    "        print(\"m7-G\")\n",
    "        \n",
    "\n",
    "a = A()\n",
    "a.m1()\n",
    "print(\"======\")\n",
    "b = B()\n",
    "b.m1()\n",
    "b.m2()\n",
    "print(\"======\")\n",
    "c = C()\n",
    "c.m1()\n",
    "c.m3()\n",
    "print(\"======\")\n",
    "d = D()\n",
    "d.m1()\n",
    "d.m2()\n",
    "d.m4()\n",
    "print(\"======\")\n",
    "e = E()\n",
    "e.m1()\n",
    "e.m2()\n",
    "e.m5()\n",
    "print(\"======\")\n",
    "f = F()\n",
    "f.m1()\n",
    "f.m3()\n",
    "f.m6()\n",
    "print(\"======\")\n",
    "g = G()\n",
    "g.m1()\n",
    "g.m3()\n",
    "g.m7()"
   ]
  },
  {
   "cell_type": "markdown",
   "metadata": {},
   "source": [
    "### 5. Hybrid Inheritance\n",
    "--------\n",
    "- It is the combination of Single inheritance , Hierarchical Inheritance, Multi level and Multiple Inheritance ."
   ]
  },
  {
   "cell_type": "code",
   "execution_count": 28,
   "metadata": {},
   "outputs": [
    {
     "name": "stdout",
     "output_type": "stream",
     "text": [
      "m1-A\n",
      "======\n",
      "m1-A\n",
      "m2-B\n",
      "======\n",
      "m1-A\n",
      "m3-C\n",
      "======\n",
      "m1-A\n",
      "m2-B\n",
      "m3-C\n",
      "m4-D\n"
     ]
    }
   ],
   "source": [
    "class A:\n",
    "    def m1(self):\n",
    "        print(\"m1-A\")\n",
    "        \n",
    "class B(A):\n",
    "    def m2(self):\n",
    "        print(\"m2-B\")\n",
    "        \n",
    "class C(A):\n",
    "    def m3(self):\n",
    "        print(\"m3-C\")\n",
    "        \n",
    "class D(B,C):\n",
    "    def m4(self):\n",
    "        print(\"m4-D\")\n",
    "        \n",
    "        \n",
    "a = A()\n",
    "a.m1()\n",
    "print(\"======\") \n",
    "b = B()\n",
    "b.m1()\n",
    "b.m2()\n",
    "print(\"======\")\n",
    "c = C()\n",
    "c.m1()\n",
    "c.m3()\n",
    "print(\"======\")\n",
    "d = D()\n",
    "d.m1()\n",
    "d.m2()\n",
    "d.m3()\n",
    "d.m4()"
   ]
  },
  {
   "cell_type": "markdown",
   "metadata": {},
   "source": [
    "##### - In case of inheritance, we are able to get the classes tracing part while accessing members of the sub classes by using mro() predefined function."
   ]
  },
  {
   "cell_type": "markdown",
   "metadata": {},
   "source": [
    "### MRO: (Method Resolution Order )\n",
    "-----\n",
    "- MRO algorithm is also known as C3 algorithm.\n",
    "- MRO algorithm was parposed by Samuele Pedroni.\n",
    "- MRO algorithm follows DLR principle, that is, Depth First Left to Right.\n",
    "- In Depth First Left To Right principle, Chaild will get more priority and left chaild will get more priority.\n",
    "- In MRO algorithm, to get Method Resolution Order we will uyse the following formula.\n",
    "      MRO(x) = x + Merge(MRO(p1),MRO(p2),.....,parent)\n",
    "- In finding MRO, we have to decide Head and tail element at each and every element.\n",
    "- If we consider \"ABCD\" are the elements we find in sub level of MRO, then, A is head and BCD is tails.\n",
    "- To calculate Merge elements, we have to use the following algorithms.\n",
    "     1. Take Head element of first list.\n",
    "     2. If Head is not available in tail part of other lists then add this Head to result and remove it from the list in Merge.\n",
    "     3. If Head is existed in the tail part of any other list then consider the head element of the next list and continue the same.\n",
    "- In Python, to calculate list by using MRO, Python has provided a predefined method like mro().\n",
    "    print(ClassName.mro())"
   ]
  },
  {
   "cell_type": "code",
   "execution_count": 8,
   "metadata": {},
   "outputs": [
    {
     "name": "stdout",
     "output_type": "stream",
     "text": [
      "[<class '__main__.D'>, <class '__main__.B'>, <class '__main__.C'>, <class '__main__.A'>, <class 'object'>]\n"
     ]
    }
   ],
   "source": [
    "class A:\n",
    "    pass\n",
    "\n",
    "class B(A):\n",
    "    pass\n",
    "\n",
    "class C(A):\n",
    "    pass\n",
    "class D(B,C):\n",
    "    pass\n",
    " \n",
    "print(D.mro())\n",
    "\n",
    "\n",
    "### mro(D) ==> D-class---B-class---C-class---A-class---O(object)-class"
   ]
  },
  {
   "cell_type": "code",
   "execution_count": 7,
   "metadata": {},
   "outputs": [
    {
     "name": "stdout",
     "output_type": "stream",
     "text": [
      "[<class '__main__.D'>, <class '__main__.B'>, <class '__main__.E'>, <class '__main__.C'>, <class '__main__.A'>, <class 'object'>]\n"
     ]
    }
   ],
   "source": [
    "class A:\n",
    "    pass\n",
    "\n",
    "class E:\n",
    "    pass\n",
    "\n",
    "class B(E):\n",
    "    pass\n",
    "\n",
    "class C(A):\n",
    "    pass\n",
    "class D(B,C):\n",
    "    pass\n",
    " \n",
    "print(D.mro())\n"
   ]
  },
  {
   "cell_type": "code",
   "execution_count": 2,
   "metadata": {},
   "outputs": [
    {
     "name": "stdout",
     "output_type": "stream",
     "text": [
      "[<class '__main__.P'>, <class '__main__.X'>, <class '__main__.A'>, <class '__main__.Y'>, <class '__main__.B'>, <class '__main__.C'>, <class 'object'>]\n"
     ]
    }
   ],
   "source": [
    "class A:\n",
    "    pass\n",
    "\n",
    "class B:\n",
    "    pass\n",
    "\n",
    "class C:\n",
    "    pass\n",
    "\n",
    "class X(A,B):\n",
    "    pass\n",
    "\n",
    "class Y(B,C):\n",
    "    pass\n",
    "\n",
    "class P(X,Y,C):\n",
    "    pass\n",
    "\n",
    "print(P.mro())\n",
    "\n",
    "### mro(P) ==> P + merge (mro(X), mro(Y), mro(C), PXAYBCO)\n",
    "###        ==> P + merge (XABO , YBCO , CO , XAYBCO)\n",
    "###        ==> Px + merge (ABO , YBCO , CO , AYBCO)\n",
    "###        ==> PXA + merge (BO , YBCO ,CO ,YBCO)\n",
    "###        ==> PXAY + merge (BO , BCO , CO , BCO)\n",
    "###        ==> PXAYB + merge (O , CO ,CO ,CO)\n",
    "###        ==> PXAYB + merge (O ,O ,O ,O)\n",
    "###        ==> PXAYBO "
   ]
  },
  {
   "cell_type": "code",
   "execution_count": 4,
   "metadata": {},
   "outputs": [
    {
     "name": "stdout",
     "output_type": "stream",
     "text": [
      "[<class '__main__.P'>, <class '__main__.X'>, <class '__main__.Y'>, <class '__main__.C'>, <class '__main__.B'>, <class '__main__.A'>, <class 'object'>]\n"
     ]
    }
   ],
   "source": [
    "class A:\n",
    "    pass\n",
    "\n",
    "class B:\n",
    "    pass\n",
    "\n",
    "class C:\n",
    "    pass\n",
    "\n",
    "class X(B,A):\n",
    "    pass\n",
    "\n",
    "class Y(C,B):\n",
    "    pass\n",
    "\n",
    "class P(X,Y,C):\n",
    "    pass\n",
    "\n",
    "print(P.mro())\n"
   ]
  },
  {
   "cell_type": "code",
   "execution_count": 5,
   "metadata": {},
   "outputs": [
    {
     "name": "stdout",
     "output_type": "stream",
     "text": [
      "[<class '__main__.A'>, <class '__main__.B'>, <class '__main__.C'>, <class '__main__.D'>, <class '__main__.E'>, <class '__main__.F'>, <class 'object'>]\n"
     ]
    }
   ],
   "source": [
    "\n",
    "class D:\n",
    "    pass\n",
    "\n",
    "class E:\n",
    "    pass\n",
    "\n",
    "class F:\n",
    "    pass\n",
    "\n",
    "class B(D,E):\n",
    "    pass\n",
    "\n",
    "class C(D,F):\n",
    "    pass\n",
    "\n",
    "class A(B,C):\n",
    "    pass\n",
    "\n",
    "print(A.mro())\n"
   ]
  },
  {
   "cell_type": "code",
   "execution_count": 9,
   "metadata": {},
   "outputs": [
    {
     "name": "stdout",
     "output_type": "stream",
     "text": [
      "[<class '__main__.A'>, <class '__main__.B'>, <class '__main__.E'>, <class '__main__.C'>, <class '__main__.F'>, <class '__main__.D'>, <class 'object'>]\n"
     ]
    }
   ],
   "source": [
    "class D:\n",
    "    pass\n",
    "\n",
    "class E:\n",
    "    pass\n",
    "\n",
    "class F:\n",
    "    pass\n",
    "\n",
    "class B(E,D):\n",
    "    pass\n",
    "\n",
    "class C(F,D):\n",
    "    pass\n",
    "\n",
    "class A(B,C):\n",
    "    pass\n",
    "\n",
    "print(A.mro())\n",
    "\n",
    "### A  -- B -- E -- C -- F -- D -- O"
   ]
  },
  {
   "cell_type": "code",
   "execution_count": null,
   "metadata": {},
   "outputs": [],
   "source": []
  }
 ],
 "metadata": {
  "kernelspec": {
   "display_name": "Python 3",
   "language": "python",
   "name": "python3"
  },
  "language_info": {
   "codemirror_mode": {
    "name": "ipython",
    "version": 3
   },
   "file_extension": ".py",
   "mimetype": "text/x-python",
   "name": "python",
   "nbconvert_exporter": "python",
   "pygments_lexer": "ipython3",
   "version": "3.8.1"
  }
 },
 "nbformat": 4,
 "nbformat_minor": 4
}
