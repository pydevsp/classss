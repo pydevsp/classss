{
 "cells": [
  {
   "cell_type": "markdown",
   "metadata": {},
   "source": [
    "# Exception :\n",
    "------\n",
    "- An unwanted  and unexpected  event disturbs normal flow of program is called \"Exception\" .\n",
    "- ex :-\n",
    "  - ZeroDivisionError\n",
    "  - TypeError\n",
    "  - ValueError\n",
    "  - FileNotFoundError\n",
    "  - EofError\n",
    "  \n",
    "  - #SleepingError \n",
    "  - #TyrePunturedError\n",
    "  ---------------\n",
    "- Exception handling does not mean repairing exception. We have to define alternative way\n",
    "to continue rest of the program run normally."
   ]
  },
  {
   "cell_type": "markdown",
   "metadata": {},
   "source": [
    "#   "
   ]
  },
  {
   "cell_type": "markdown",
   "metadata": {},
   "source": [
    "- In any programming language there are 2 types of errors are possible.\n",
    "   1. Syntax Errors\n",
    "   2. Runtime Errors / Explicit Errors"
   ]
  },
  {
   "cell_type": "markdown",
   "metadata": {},
   "source": [
    "- 1. Syntax Errors:\n",
    "   -  The errors which occurs because of invalid syntax are called syntax errors.\n",
    "    "
   ]
  },
  {
   "cell_type": "code",
   "execution_count": 4,
   "metadata": {},
   "outputs": [
    {
     "ename": "SyntaxError",
     "evalue": "invalid syntax (<ipython-input-4-8532c25e9879>, line 3)",
     "output_type": "error",
     "traceback": [
      "\u001b[1;36m  File \u001b[1;32m\"<ipython-input-4-8532c25e9879>\"\u001b[1;36m, line \u001b[1;32m3\u001b[0m\n\u001b[1;33m    if x==10\u001b[0m\n\u001b[1;37m             ^\u001b[0m\n\u001b[1;31mSyntaxError\u001b[0m\u001b[1;31m:\u001b[0m invalid syntax\n"
     ]
    }
   ],
   "source": [
    "# Eg 1:\n",
    "x=10\n",
    "if x==10             #  forget ==>  : symbole\n",
    "print(\"Hello\")"
   ]
  },
  {
   "cell_type": "markdown",
   "metadata": {},
   "source": [
    "- 2. Runtime Errors:\n",
    "   - Also known as exceptions.\n",
    "   - While executing the program if something goes wrong because of end user input or\n",
    "       programming logic or memory problems etc then we will get Runtime Errors.\n"
   ]
  },
  {
   "cell_type": "code",
   "execution_count": 6,
   "metadata": {},
   "outputs": [
    {
     "ename": "ZeroDivisionError",
     "evalue": "division by zero",
     "output_type": "error",
     "traceback": [
      "\u001b[1;31m---------------------------------------------------------------------------\u001b[0m",
      "\u001b[1;31mZeroDivisionError\u001b[0m                         Traceback (most recent call last)",
      "\u001b[1;32m<ipython-input-6-b050d0ed4a37>\u001b[0m in \u001b[0;36m<module>\u001b[1;34m\u001b[0m\n\u001b[0;32m      1\u001b[0m \u001b[1;31m#Eg:\u001b[0m\u001b[1;33m\u001b[0m\u001b[1;33m\u001b[0m\u001b[1;33m\u001b[0m\u001b[0m\n\u001b[0;32m      2\u001b[0m \u001b[1;33m\u001b[0m\u001b[0m\n\u001b[1;32m----> 3\u001b[1;33m \u001b[0mprint\u001b[0m\u001b[1;33m(\u001b[0m\u001b[1;36m10\u001b[0m\u001b[1;33m/\u001b[0m\u001b[1;36m0\u001b[0m\u001b[1;33m)\u001b[0m \u001b[1;31m#ZeroDivisionError: division by zero\u001b[0m\u001b[1;33m\u001b[0m\u001b[1;33m\u001b[0m\u001b[0m\n\u001b[0m",
      "\u001b[1;31mZeroDivisionError\u001b[0m: division by zero"
     ]
    }
   ],
   "source": [
    "#Eg: \n",
    "\n",
    "print(10/0) \n"
   ]
  },
  {
   "cell_type": "code",
   "execution_count": 7,
   "metadata": {},
   "outputs": [
    {
     "ename": "TypeError",
     "evalue": "unsupported operand type(s) for /: 'int' and 'str'",
     "output_type": "error",
     "traceback": [
      "\u001b[1;31m---------------------------------------------------------------------------\u001b[0m",
      "\u001b[1;31mTypeError\u001b[0m                                 Traceback (most recent call last)",
      "\u001b[1;32m<ipython-input-7-4f6aede144e5>\u001b[0m in \u001b[0;36m<module>\u001b[1;34m\u001b[0m\n\u001b[1;32m----> 1\u001b[1;33m \u001b[0mprint\u001b[0m\u001b[1;33m(\u001b[0m\u001b[1;36m10\u001b[0m\u001b[1;33m/\u001b[0m\u001b[1;34m\"ten\"\u001b[0m\u001b[1;33m)\u001b[0m\u001b[1;33m\u001b[0m\u001b[1;33m\u001b[0m\u001b[0m\n\u001b[0m",
      "\u001b[1;31mTypeError\u001b[0m: unsupported operand type(s) for /: 'int' and 'str'"
     ]
    }
   ],
   "source": [
    "print(10/\"ten\") "
   ]
  },
  {
   "cell_type": "markdown",
   "metadata": {},
   "source": [
    "#   "
   ]
  },
  {
   "cell_type": "markdown",
   "metadata": {},
   "source": [
    "####  - Note: Exception Handling concept applicable for runtime Errors only ."
   ]
  },
  {
   "cell_type": "markdown",
   "metadata": {},
   "source": [
    "- In python, there are two types of Terminations(ending) are existed.\n",
    "  1. Smooth Termination\n",
    "  2. Abnormal Termination  "
   ]
  },
  {
   "cell_type": "markdown",
   "metadata": {},
   "source": [
    "- 1. Smooth Terminatrion :\n",
    "   - If any program is terminated at the end of code then that termination is called as Smooth Termination.\n",
    "\n",
    "- 2. Abnormal Termination :\n",
    "     - If any Program is terminated in middle of the program then that termination is called as Abnormal Termination.\n",
    "  \n",
    "     - In general, in applications execution, abnormal terminations may provide the followong peoblems.\n",
    "        1. It may crash local OS.\n",
    "        2. It may provide Hanged out situation for Network based applications.\n",
    "        3. It may collaps the database which we are using in Python applications"
   ]
  },
  {
   "cell_type": "markdown",
   "metadata": {},
   "source": [
    "- To overcome the above problems we have to handle excerptions properly, for this, we have to use a \n",
    "  set of mechanisms explicitly called as Exception Handling mechanisms.\n",
    "- In Python, teher are two types of Exceptions are existed.\n",
    "  1. Predefined Exceptions\n",
    "  2. User Defined Exceptions"
   ]
  },
  {
   "cell_type": "markdown",
   "metadata": {},
   "source": [
    "#  Predefined Exceptions :\n",
    "------\n",
    "- These Exceptions are defined by Python programming language.\n",
    "- In Python, all the Errors and Exceptions are sub types to BaseException either directly or indirectly.\n",
    "- In general, almost all the Exceptions are sub classes to Exception class.\n",
    "\n",
    "- To handle Exceptions in python applications, we have to use \" try-except-else-finally \" block ."
   ]
  },
  {
   "cell_type": "markdown",
   "metadata": {},
   "source": [
    "- syntax :\n",
    "----------\n",
    "\n",
    "            try:\n",
    "                ---instructions---\n",
    "            except ExceptionName:\n",
    "                ---instructions----\n",
    "            else:\n",
    "                ---instructions----\n",
    "            finally:\n",
    "                ---instructions----"
   ]
  },
  {
   "cell_type": "markdown",
   "metadata": {},
   "source": [
    "###   try Block :\n",
    "---------------------\n",
    "- It include as set of instructions which may raise exceptions .\n",
    "\n",
    "- It will include doubtfull code to get an exception, where doubtfull code may or may not generate exception.\n",
    "\n",
    "- If any exceptyion is generated in try block then PVM will bypass flow of execution to except block then finally block by skipping remaining instructions in try block.\n",
    "\n",
    "- If no exception is identified in try block then PVM will execute the complete try block, at the end of try block PVM will bypass flow of execution to else block.\n"
   ]
  },
  {
   "cell_type": "markdown",
   "metadata": {},
   "source": [
    "### except Block:\n",
    "----------------\n",
    "- Its main intention is to catch exception from try block and to provide exception details on console.\n",
    "\n",
    "- Along with except keyword we have to provide Exception name and we have to defined an alias name[Reference variable ] to Exception name.\n",
    "\n",
    "- In Python applications, if any exception is raised in try block there PVM will execute except block, \n",
    "  if no exception is raised in try block then PVM will not execute except block."
   ]
  },
  {
   "cell_type": "code",
   "execution_count": 6,
   "metadata": {},
   "outputs": [
    {
     "name": "stdout",
     "output_type": "stream",
     "text": [
      "inside try 1\n",
      "inside except\n",
      "not possible by, divide with 0\n"
     ]
    }
   ],
   "source": [
    "a = 10 \n",
    "b = 0\n",
    "# a/b \n",
    "try :\n",
    "    print(\"inside try 1\")\n",
    "    print(a/b)\n",
    "    print(\"inside try 2\")\n",
    "except :\n",
    "    print(\"inside except\")\n",
    "    print(\"not possible by, divide with 0\")\n",
    "    \n",
    "    \n"
   ]
  },
  {
   "cell_type": "code",
   "execution_count": 12,
   "metadata": {},
   "outputs": [
    {
     "name": "stdout",
     "output_type": "stream",
     "text": [
      "EXCEPTION in try block\n"
     ]
    }
   ],
   "source": [
    "try :\n",
    "    a = 200\n",
    "    b = 0\n",
    "    d = a/b\n",
    "    print(d)\n",
    "except :\n",
    "    print(\"EXCEPTION in try block\")"
   ]
  },
  {
   "cell_type": "code",
   "execution_count": 28,
   "metadata": {},
   "outputs": [
    {
     "name": "stdout",
     "output_type": "stream",
     "text": [
      "stmt-1\n",
      "5.0\n",
      "stmt-3\n"
     ]
    }
   ],
   "source": [
    "print(\"stmt-1\")\n",
    "try:\n",
    " print(10/0)\n",
    "except ZeroDivisionError:   # exception ==>ZeroDivisionError ==> execute except block\n",
    " print(10/2)\n",
    " print(\"stmt-3\")"
   ]
  },
  {
   "cell_type": "code",
   "execution_count": 37,
   "metadata": {},
   "outputs": [
    {
     "name": "stdout",
     "output_type": "stream",
     "text": [
      "stmt-1\n"
     ]
    },
    {
     "ename": "ZeroDivisionError",
     "evalue": "division by zero",
     "output_type": "error",
     "traceback": [
      "\u001b[1;31m---------------------------------------------------------------------------\u001b[0m",
      "\u001b[1;31mZeroDivisionError\u001b[0m                         Traceback (most recent call last)",
      "\u001b[1;32m<ipython-input-37-3c56d7b387d5>\u001b[0m in \u001b[0;36m<module>\u001b[1;34m\u001b[0m\n\u001b[0;32m      1\u001b[0m \u001b[0mprint\u001b[0m\u001b[1;33m(\u001b[0m\u001b[1;34m\"stmt-1\"\u001b[0m\u001b[1;33m)\u001b[0m\u001b[1;33m\u001b[0m\u001b[1;33m\u001b[0m\u001b[0m\n\u001b[0;32m      2\u001b[0m \u001b[1;32mtry\u001b[0m\u001b[1;33m:\u001b[0m\u001b[1;33m\u001b[0m\u001b[1;33m\u001b[0m\u001b[0m\n\u001b[1;32m----> 3\u001b[1;33m  \u001b[0mprint\u001b[0m\u001b[1;33m(\u001b[0m\u001b[1;36m10\u001b[0m\u001b[1;33m/\u001b[0m\u001b[1;36m0\u001b[0m\u001b[1;33m)\u001b[0m\u001b[1;33m\u001b[0m\u001b[1;33m\u001b[0m\u001b[0m\n\u001b[0m\u001b[0;32m      4\u001b[0m \u001b[1;32mexcept\u001b[0m \u001b[0mTypeError\u001b[0m\u001b[1;33m:\u001b[0m  \u001b[1;31m#  exception  ==> not a TypeError ==> not execute except block  ,, verify  only typeError or not\u001b[0m\u001b[1;33m\u001b[0m\u001b[1;33m\u001b[0m\u001b[0m\n\u001b[0;32m      5\u001b[0m  \u001b[0mprint\u001b[0m\u001b[1;33m(\u001b[0m\u001b[1;36m10\u001b[0m\u001b[1;33m/\u001b[0m\u001b[1;36m2\u001b[0m\u001b[1;33m)\u001b[0m\u001b[1;33m\u001b[0m\u001b[1;33m\u001b[0m\u001b[0m\n",
      "\u001b[1;31mZeroDivisionError\u001b[0m: division by zero"
     ]
    }
   ],
   "source": [
    "print(\"stmt-1\")\n",
    "try:\n",
    " print(10/0)\n",
    "except TypeError:  #  exception  ==> not a TypeError ==> not execute except block  ,, verify  only typeError or not\n",
    " print(10/2)\n",
    " print(\"stmt-3\")\n"
   ]
  },
  {
   "cell_type": "markdown",
   "metadata": {},
   "source": [
    "### else Block :\n",
    "------\n",
    "-  It will be executed when no exceptions are generated in try block, it is an alternative to except block.\n",
    "-  If any exception is identified in try block then PVM will execute except block only, PVM will not execute else block."
   ]
  },
  {
   "cell_type": "code",
   "execution_count": 13,
   "metadata": {},
   "outputs": [
    {
     "name": "stdout",
     "output_type": "stream",
     "text": [
      "Inside try block\n",
      "Inside else block\n"
     ]
    }
   ],
   "source": [
    "try:\n",
    " print(\"Inside try block\")\n",
    "except:\n",
    " print(\"in side except block\")\n",
    "else:\n",
    " print(\"Inside else block\")\n"
   ]
  },
  {
   "cell_type": "code",
   "execution_count": 24,
   "metadata": {},
   "outputs": [
    {
     "name": "stdout",
     "output_type": "stream",
     "text": [
      "Inside try block\n",
      "0.5\n",
      "inside except block\n",
      "b/c ==> error\n"
     ]
    }
   ],
   "source": [
    "try:\n",
    " print(\"Inside try block\")\n",
    " a = 10\n",
    " b = 20\n",
    " c = 0\n",
    " g = a/b\n",
    " print(g)\n",
    " h = b/c\n",
    "\n",
    " print(h)\n",
    "except:\n",
    " print(\"inside except block\")\n",
    " print(\"b/c ==> error\")   \n",
    "else:\n",
    " print(\"Inside else block\")\n"
   ]
  },
  {
   "cell_type": "markdown",
   "metadata": {},
   "source": [
    "### finally block:\n",
    "------\n",
    "- finally block is able to include a set of instructions which must be executed irrespective of executing try block, except block and else block.\n",
    "- In general, in Python applications, we will use resources , we will create resources inside try block and we will close these resources in side finally, because, finally block is giving guarantee for execution irrespective getting exceptions in try block.\n"
   ]
  },
  {
   "cell_type": "code",
   "execution_count": 55,
   "metadata": {},
   "outputs": [
    {
     "name": "stdout",
     "output_type": "stream",
     "text": [
      "Inside try block\n",
      "Inside else block\n",
      "Inside finally block\n"
     ]
    }
   ],
   "source": [
    "try:\n",
    " print(\"Inside try block\")\n",
    "except:\n",
    " print(\"In side except block\")\n",
    "else:\n",
    " print(\"Inside else block\")\n",
    "finally:\n",
    " print(\"Inside finally block\")"
   ]
  },
  {
   "cell_type": "code",
   "execution_count": 26,
   "metadata": {},
   "outputs": [
    {
     "name": "stdout",
     "output_type": "stream",
     "text": [
      "Inside try block\n",
      "In side except block\n",
      "Inside finally block\n"
     ]
    }
   ],
   "source": [
    "try:\n",
    " print(\"Inside try block\")\n",
    "\n",
    " print(15/0)\n",
    "    \n",
    "except:\n",
    " print(\"In side except block\")\n",
    "else:\n",
    " print(\"Inside else block\")\n",
    "finally:\n",
    " print(\"Inside finally block\")"
   ]
  },
  {
   "cell_type": "code",
   "execution_count": 39,
   "metadata": {},
   "outputs": [
    {
     "name": "stdout",
     "output_type": "stream",
     "text": [
      "Before try\n",
      "Inside try , Before Exception\n",
      "In side except block\n",
      "Inside finally block\n",
      "After finally block\n"
     ]
    }
   ],
   "source": [
    "print(\"Before try\")\n",
    "try:\n",
    " print(\"Inside try , Before Exception\")\n",
    " a = 100 / 0\n",
    " print(\"Inside try, After Exception\")\n",
    "except:\n",
    " print(\"In side except block\")\n",
    "else:\n",
    " print(\"Inside else block\")\n",
    "finally:\n",
    " print(\"Inside finally block\")\n",
    "print(\"After finally block\")"
   ]
  },
  {
   "cell_type": "code",
   "execution_count": 43,
   "metadata": {},
   "outputs": [
    {
     "name": "stdout",
     "output_type": "stream",
     "text": [
      "Before try\n",
      "Inside try\n",
      "Inside else\n",
      "Inside finally\n",
      "After finally\n"
     ]
    }
   ],
   "source": [
    "print(\"Before try\")\n",
    "try:\n",
    " print(\"Inside try\")\n",
    "except:\n",
    " print(\"In side except\")\n",
    "else:\n",
    " print(\"Inside else\")\n",
    "finally:\n",
    " print(\"Inside finally\")\n",
    "print(\"After finally\")\n"
   ]
  },
  {
   "cell_type": "markdown",
   "metadata": {},
   "source": [
    "##### Various possible combinations of try-except-else-finally:\n",
    "-------\n",
    "   1. Whenever we are writing try block, compulsory we should write except or finally block.i.e without except or finally block we cannot write try block.\n",
    "   \n",
    "   2. Wheneever we are writing except block, compulsory we should write try block. i.e except without try is always invalid.\n",
    "   \n",
    "   3. Whenever we are writing finally block, compulsory we should write try block. i.e finally without try is always invalid.\n",
    "\n",
    "   4. We can write multiple except blocks for the same try,but we cannot write multiple finally blocks for the same try .\n",
    "   \n",
    "   5. Whenever we are writing else block compulsory except block should be there. i.e without except we cannot write else       block.\n",
    "   \n",
    "   6. In try-except-else-finally order is important.\n",
    "\n",
    "   7. We can define try-except-else-finally inside try,except,else and finally blocks. i.e nesting of try-except-else-finally is always possible."
   ]
  },
  {
   "cell_type": "code",
   "execution_count": 58,
   "metadata": {},
   "outputs": [
    {
     "name": "stdout",
     "output_type": "stream",
     "text": [
      "not possible divide by 0\n",
      "\n",
      "pass only numbers except 0\n",
      "\n",
      "\n",
      "not possible oparend used by str\n",
      "\n",
      "pass only numbers except 0\n",
      "\n",
      "\n",
      "not possible oparend used by str\n",
      "\n",
      "pass only numbers except 0\n",
      "\n",
      "\n"
     ]
    }
   ],
   "source": [
    "def div(a,b):\n",
    "   \n",
    "    try:\n",
    "        print(a/b)\n",
    "    except ZeroDivisionError:\n",
    "        print(\"not possible divide by 0\")\n",
    "        print()\n",
    "    except TypeError :\n",
    "        print(\"not possible oparend used by str\")\n",
    "        print()\n",
    "    finally :\n",
    "        print(\"pass only numbers except 0\")\n",
    "        print(\"\\n\")    \n",
    "    \n",
    "div(15,0)\n",
    "div(\"str\",\"str\")\n",
    "div(15,\"str\")"
   ]
  },
  {
   "cell_type": "markdown",
   "metadata": {},
   "source": [
    "#  User Defined Exceptions\n",
    "----------------------------\n",
    "- These exceptions are defined by the developers as per their applpication requirements.\n",
    "- To prepare User defined exceptions we have to use the following steps.\n",
    "  1. Define User defined Exception class.\n",
    "  2. Raise and handle User defined Exception."
   ]
  },
  {
   "cell_type": "code",
   "execution_count": 62,
   "metadata": {},
   "outputs": [
    {
     "name": "stdout",
     "output_type": "stream",
     "text": [
      "Transaction Details\n",
      "------------------------\n",
      "Account Number : abc123\n",
      "Account Holder Name : Durga\n",
      "Account Type : Savings\n",
      "Transaction Type : WITHDRAW\n",
      "Withdraw Amount : 5000\n",
      "Total Balance : 5000\n",
      "Transaction Status : SUCCESS\n",
      "******ThanQ, Visit Again********\n",
      "\n",
      "\n",
      "Transaction Details\n",
      "------------------------\n",
      "Account Number : xyz123\n",
      "Account Holder Name : Anil\n",
      "Account Type : Savings\n",
      "Transaction Type : WITHDRAW\n",
      "Withdraw Amount : 15000\n",
      "Total Balance : 10000\n",
      "Transaction Status : FAILURE\n",
      "Reasone : Funds are not Sufficient in Your Account\n",
      "******ThanQ, Visit Again********\n"
     ]
    }
   ],
   "source": [
    "class InsufficientFundsException(Exception):\n",
    "     def __init__(self, exceptionDescription):\n",
    "         self.exceptionDescription = exceptionDescription\n",
    "class Transaction:\n",
    "     def __init__(self, accNo, accHolderName, accType, balance):\n",
    "         self.accNo = accNo\n",
    "         self.accHolderName = accHolderName\n",
    "         self.accType = accType\n",
    "         self.balance = balance\n",
    "            \n",
    "     def withdraw(self, wdAmt):\n",
    "         print(\"Transaction Details\")\n",
    "         print(\"------------------------\")\n",
    "         print(\"Account Number :\", self.accNo)\n",
    "         print(\"Account Holder Name :\", self.accHolderName)\n",
    "         print(\"Account Type :\",self.accType)\n",
    "         print(\"Transaction Type : WITHDRAW\")\n",
    "         print(\"Withdraw Amount :\",wdAmt)\n",
    "            \n",
    "            \n",
    "         try:\n",
    "             if wdAmt > self.balance:\n",
    "                 print(\"Total Balance :\", self.balance)\n",
    "                 print(\"Transaction Status : FAILURE\")\n",
    "                 raise InsufficientFundsException(\"Reasone : Funds are not Sufficient in Your Account\")\n",
    "             else:\n",
    "                 self.balance = self.balance - wdAmt\n",
    "                 print(\"Total Balance :\", self.balance)\n",
    "                 print(\"Transaction Status : SUCCESS\")\n",
    "         except InsufficientFundsException as ex:\n",
    "             print(ex)\n",
    "\n",
    "         finally:\n",
    "             print(\"******ThanQ, Visit Again********\")\n",
    "                \n",
    "                \n",
    "tx1 = Transaction(\"abc123\", \"Durga\", \"Savings\", 10000)\n",
    "tx1.withdraw(5000)\n",
    "print(\"\\n\")\n",
    "tx1 = Transaction(\"xyz123\", \"Anil\", \"Savings\", 10000)\n",
    "tx1.withdraw(15000)\n"
   ]
  },
  {
   "cell_type": "code",
   "execution_count": null,
   "metadata": {},
   "outputs": [],
   "source": []
  }
 ],
 "metadata": {
  "kernelspec": {
   "display_name": "Python 3",
   "language": "python",
   "name": "python3"
  },
  "language_info": {
   "codemirror_mode": {
    "name": "ipython",
    "version": 3
   },
   "file_extension": ".py",
   "mimetype": "text/x-python",
   "name": "python",
   "nbconvert_exporter": "python",
   "pygments_lexer": "ipython3",
   "version": "3.8.1"
  }
 },
 "nbformat": 4,
 "nbformat_minor": 4
}
