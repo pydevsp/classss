{
 "cells": [
  {
   "cell_type": "code",
   "execution_count": 1,
   "metadata": {},
   "outputs": [
    {
     "name": "stdout",
     "output_type": "stream",
     "text": [
      "[1, 8, 27, 64, 125, 216, 343, 512, 729, 1000]\n"
     ]
    }
   ],
   "source": [
    "def cube(n):\n",
    "\treturn n**3\n",
    "####### 1.\n",
    "originalList = range(1,11)\n",
    "cubesUsingListComprehensions = [cube(x) for x in originalList]\n",
    "print(cubesUsingListComprehensions)"
   ]
  },
  {
   "cell_type": "code",
   "execution_count": 2,
   "metadata": {},
   "outputs": [
    {
     "name": "stdout",
     "output_type": "stream",
     "text": [
      "{64, 1, 512, 8, 1000, 343, 216, 729, 27, 125}\n"
     ]
    }
   ],
   "source": [
    "cubesUsingListComprehensions = {cube(x) for x in originalList}\n",
    "print(cubesUsingListComprehensions)"
   ]
  },
  {
   "cell_type": "code",
   "execution_count": 3,
   "metadata": {},
   "outputs": [
    {
     "name": "stdout",
     "output_type": "stream",
     "text": [
      "[0, 1, 2, 3, 4, 5, 6, 7, 8, 9]\n"
     ]
    }
   ],
   "source": [
    "ListOfNumbers = [ x for x in range(10) ] # List of integers from 0 to 9\n",
    "print(ListOfNumbers)"
   ]
  },
  {
   "cell_type": "code",
   "execution_count": 4,
   "metadata": {},
   "outputs": [
    {
     "name": "stdout",
     "output_type": "stream",
     "text": [
      "5\n",
      "only n  nos with space :1 2 3 4 5\n",
      "4\n"
     ]
    }
   ],
   "source": [
    "\n",
    "#################\n",
    "n = int(input())\n",
    "\n",
    "nums = map(int, input(\"only n  nos with space :\").split())     \n",
    "print(sorted(list(set(nums)))[-2])\n"
   ]
  },
  {
   "cell_type": "code",
   "execution_count": 5,
   "metadata": {},
   "outputs": [
    {
     "name": "stdout",
     "output_type": "stream",
     "text": [
      "1\n",
      "10\n"
     ]
    },
    {
     "data": {
      "text/plain": [
       "[['1', '10']]"
      ]
     },
     "execution_count": 5,
     "metadata": {},
     "output_type": "execute_result"
    }
   ],
   "source": [
    "li = [[input() , input() ] for i in range(1)]\n",
    "li"
   ]
  },
  {
   "cell_type": "code",
   "execution_count": 6,
   "metadata": {},
   "outputs": [
    {
     "name": "stdout",
     "output_type": "stream",
     "text": [
      "5\n",
      "aa\n",
      "55.8\n",
      "bb\n",
      "41.2\n",
      "cc\n",
      "12.9\n",
      "dd\n",
      "18.2\n",
      "ee\n",
      "90.2\n",
      "dd\n"
     ]
    }
   ],
   "source": [
    "########   2nd lowest search\n",
    "n=int(input())\n",
    "arr=[[input(),float(input())] for _ in range(0,n)]\n",
    "arr.sort(key=lambda x: (x[1],x[0]))\n",
    "names = [i[0] for i in arr]\n",
    "marks = [i[1] for i in arr]\n",
    "min_val=min(marks)\n",
    "\n",
    "while marks[0]==min_val:\n",
    "    marks.remove(marks[0])\n",
    "    names.remove(names[0])    \n",
    "for x in range(0,len(marks)):\n",
    "    if marks[x]==min(marks):\n",
    "        print(names[x])\n"
   ]
  },
  {
   "cell_type": "code",
   "execution_count": 7,
   "metadata": {},
   "outputs": [
    {
     "name": "stdout",
     "output_type": "stream",
     "text": [
      "['dd', 'bb', 'aa', 'ee']\n",
      "[18.2, 41.2, 55.8, 90.2]\n"
     ]
    }
   ],
   "source": [
    "print(names)\n",
    "print(marks)"
   ]
  },
  {
   "cell_type": "code",
   "execution_count": 8,
   "metadata": {},
   "outputs": [
    {
     "name": "stdout",
     "output_type": "stream",
     "text": [
      "5\n",
      "aa\n",
      "12.5\n",
      "bb\n",
      "25.3\n",
      "cc\n",
      "80.2\n",
      "dd\n",
      "42.3\n",
      "ee\n",
      "71.2\n",
      "[['aa', 12.5], ['bb', 25.3], ['cc', 80.2], ['dd', 42.3], ['ee', 71.2]]\n"
     ]
    }
   ],
   "source": [
    "n=int(input())\n",
    "arr=[[input(),float(input())] for _ in range(0,n)]\n",
    "print(arr)\n",
    "arr.sort(key=lambda x: x[1])\n",
    "# names = [i[0] for i in arr]\n",
    "# marks = [i[1] for i in arr]\n"
   ]
  },
  {
   "cell_type": "code",
   "execution_count": 9,
   "metadata": {},
   "outputs": [
    {
     "name": "stdout",
     "output_type": "stream",
     "text": [
      "['aa', 'bb', 'dd', 'ee', 'cc']\n",
      "[12.5, 25.3, 42.3, 71.2, 80.2]\n",
      "['aa', 12.5]\n",
      "['bb', 25.3]\n",
      "['dd', 42.3]\n"
     ]
    }
   ],
   "source": [
    "names = [i[0] for i in arr]\n",
    "marks = [j[1] for j in arr]\n",
    "print(names)\n",
    "print(marks)\n",
    "print(arr[0])\n",
    "print(arr[1])\n",
    "print(arr[2])"
   ]
  },
  {
   "cell_type": "code",
   "execution_count": 10,
   "metadata": {},
   "outputs": [
    {
     "name": "stdout",
     "output_type": "stream",
     "text": [
      "[['cc', 12.65], ['aa', 32.5], ['bb', 54.2]]\n"
     ]
    }
   ],
   "source": [
    "ss = [['aa', 32.5], ['bb', 54.2], ['cc', 12.65]]\n",
    "ss.sort(key=lambda x: x[1])      ###  [1] == velue key\n",
    "print(ss)"
   ]
  },
  {
   "cell_type": "code",
   "execution_count": 13,
   "metadata": {},
   "outputs": [
    {
     "data": {
      "text/plain": [
       "[('dave', 'B', 10), ('jane', 'B', 12), ('john', 'A', 15)]"
      ]
     },
     "execution_count": 13,
     "metadata": {},
     "output_type": "execute_result"
    }
   ],
   "source": [
    "################ sort()  and sorted() \n",
    "class Student:\n",
    "    def __init__(self, name, grade, age):\n",
    "        self.name = name\n",
    "        self.grade = grade\n",
    "        self.age = age\n",
    "    def __repr__(self):\n",
    "        return repr((self.name, self.grade, self.age))\n",
    "\n",
    "student_objects = [\n",
    "    Student('john', 'A', 15),\n",
    "    Student('jane', 'B', 12),\n",
    "    Student('dave', 'B', 10),\n",
    "]\n",
    "\n",
    "sorted(student_objects, key=lambda student: student.age)   # sort by age\n",
    "\n",
    "\n",
    "## o/p[('dave', 'B', 10), ('jane', 'B', 12), ('john', 'A', 15)]\n"
   ]
  },
  {
   "cell_type": "code",
   "execution_count": null,
   "metadata": {},
   "outputs": [],
   "source": [
    "############\n",
    "n = int(input())\n",
    "student_marks = {}\n",
    "for x in range(n):\n",
    "    name, *line = input().split()\n",
    "    scores = list(map(float, line))\n",
    "    student_marks[name] = scores\n",
    "    \n",
    "\n",
    "query_name = input(\"Q name :\")\n",
    "\n",
    "print(\"%.2f\" %(sum(student_marks[query_name])/len(student_marks[query_name])))"
   ]
  },
  {
   "cell_type": "code",
   "execution_count": null,
   "metadata": {},
   "outputs": [],
   "source": [
    "################# ???????????????? query ====> average mark with float number\n",
    "n = int(input())\n",
    "student_marks = {}\n",
    "for _ in range(n):\n",
    "    name, *line = input().split()    # ????????  <=====\n",
    "    scores = list(map(float, line))\n",
    "    student_marks[name] = scores\n",
    "    \n",
    "    \n",
    "print(name)\n",
    "print(line)\n",
    "query_name = input(\"Q name :\")\n",
    "\n",
    "print(sum(student_marks[query_name])/len(student_marks[query_name]))"
   ]
  },
  {
   "cell_type": "code",
   "execution_count": null,
   "metadata": {},
   "outputs": [],
   "source": [
    "a = {}\n",
    "a[\"AA\",\"bb\",\"cc\"]= 10,20,30\n",
    "a\n",
    "\n",
    "qq = {}\n",
    "qq[\"AA\"] = [\"10\",\"20\"]\n",
    "qq\n"
   ]
  },
  {
   "cell_type": "code",
   "execution_count": null,
   "metadata": {},
   "outputs": [],
   "source": [
    "########################   create list  \n",
    "\n",
    "lst = []\n",
    "n = int(input())\n",
    "for i in range(n):\n",
    "    a = input().split()\n",
    "    if len(a) == 3: \n",
    "        eval(\"lst.\" + a[0] + \"(\" + a[1] + \",\" + a[2] + \")\")   #### \n",
    "    elif len(a) == 2:\n",
    "        eval(\"lst.\" + a[0] + \"(\" + a[1] + \")\")\n",
    "    elif a[0] == \"print\":\n",
    "        print (lst)\n",
    "    else:\n",
    "        eval(\"lst.\" + a[0] + \"()\")"
   ]
  },
  {
   "cell_type": "code",
   "execution_count": null,
   "metadata": {},
   "outputs": [],
   "source": [
    "list = []\n",
    "n = int(input())\n",
    "\n",
    "print(list)\n",
    "print(n)"
   ]
  },
  {
   "cell_type": "code",
   "execution_count": null,
   "metadata": {},
   "outputs": [],
   "source": [
    "a = input().split()\n",
    "print(a)"
   ]
  },
  {
   "cell_type": "code",
   "execution_count": null,
   "metadata": {},
   "outputs": [],
   "source": [
    "print(len(a))"
   ]
  },
  {
   "cell_type": "code",
   "execution_count": null,
   "metadata": {},
   "outputs": [],
   "source": [
    "x = 2\n",
    "print(eval('x+ 1'))\n",
    "print(x+1)\n",
    "\n",
    "print()\n",
    "print(eval(\"10+20\"))    #### eval() \n",
    "print(\"10+20\")"
   ]
  },
  {
   "cell_type": "code",
   "execution_count": null,
   "metadata": {},
   "outputs": [],
   "source": [
    "lst = []\n",
    "a = input().split()\n",
    "# eval(\"lst.\" + a[0] + \"(\" + a[1] + \",\" + a[2] + \")\")\n",
    "\n",
    "print(a)\n",
    "print(a[0],a[2])\n",
    "print(\"lst.\")"
   ]
  },
  {
   "cell_type": "code",
   "execution_count": null,
   "metadata": {},
   "outputs": [],
   "source": [
    "n = int(input())\n",
    "lst = []\n",
    "for i in range (n):\n",
    "    x = input().split(\" \")\n",
    "    opr = x[0]\n",
    "    if opr == 'insert' :\n",
    "        lst.insert(int(x[1]),int(x[2]))\n",
    "    \n",
    "    if opr == 'print' :\n",
    "        print(lst)\n",
    "        \n",
    "    if opr == 'remove':\n",
    "        lst.remove(int(x[1]))\n",
    "        \n",
    "    if opr == 'append' :\n",
    "        lst.append(int(x[1]))\n",
    "        \n",
    "    if opr == 'sort' :\n",
    "        lst.sort()\n",
    "        \n",
    "    if opr == 'pop' :\n",
    "        if len(lst) != 0 :\n",
    "            lst.pop()\n",
    "            \n",
    "    if opr == 'reverse' :\n",
    "        lst.reverse()\n",
    "        \n",
    "        \n",
    "        "
   ]
  },
  {
   "cell_type": "code",
   "execution_count": null,
   "metadata": {},
   "outputs": [],
   "source": [
    "eval(\"2*3\")"
   ]
  },
  {
   "cell_type": "code",
   "execution_count": null,
   "metadata": {},
   "outputs": [],
   "source": [
    "################## TUPLE ==>hash()\n",
    " \n",
    "n = int(input())\n",
    "integer_list = map(int, input().split())\n",
    "t = tuple(integer_list)\n",
    "print(t)\n",
    "print(hash(t))"
   ]
  },
  {
   "cell_type": "code",
   "execution_count": null,
   "metadata": {},
   "outputs": [],
   "source": [
    "n = int(input())\n",
    "integer_list = map(int, input().split())\n",
    "a = input().split()\n",
    "\n",
    "\n",
    "print(n)\n",
    "print(a)\n",
    "print(tuple(a))  \n",
    "\n",
    "print(integer_list)"
   ]
  },
  {
   "cell_type": "code",
   "execution_count": null,
   "metadata": {},
   "outputs": [],
   "source": [
    "#hash() \n",
    "# hash for integer unchanged\n",
    "H = hash(181)\n",
    "print('Hash for 181 is:', H)\n",
    "print(type(H))\n",
    "# hash for decimal\n",
    "print('Hash for 181.23 is:',hash(181.23))\n",
    "\n",
    "# hash for string\n",
    "print('Hash for Python is:', hash('Python'))"
   ]
  },
  {
   "cell_type": "code",
   "execution_count": null,
   "metadata": {},
   "outputs": [],
   "source": [
    "# tuple of vowels\n",
    "vowels = ('a', 'e', 'i', 'o', 'u')\n",
    "\n",
    "print('The hash is:', hash(vowels))"
   ]
  },
  {
   "cell_type": "code",
   "execution_count": null,
   "metadata": {},
   "outputs": [],
   "source": [
    "class Person:\n",
    "    def __init__(self, age, name):\n",
    "        self.age = age\n",
    "        self.name = name\n",
    "\n",
    "    def __eq__(self, other):\n",
    "        return self.age == other.age and self.name == other.name\n",
    "\n",
    "    def __hash__(self):\n",
    "        print('The hash is:')\n",
    "        return hash((self.age, self.name))\n",
    "\n",
    "person = Person(23, 'Adam')\n",
    "print(hash(person))"
   ]
  },
  {
   "cell_type": "code",
   "execution_count": null,
   "metadata": {},
   "outputs": [],
   "source": [
    "print(hash(-3748054990957372352))"
   ]
  },
  {
   "cell_type": "code",
   "execution_count": null,
   "metadata": {},
   "outputs": [],
   "source": [
    "####################### swapcase()\n",
    "\n",
    "def swap_case(s):\n",
    "    return s.swapcase()\n",
    "\n",
    "if __name__ == '__main__':\n",
    "    s = input()\n",
    "    result = swap_case(s)\n",
    "    print(result)"
   ]
  },
  {
   "cell_type": "code",
   "execution_count": null,
   "metadata": {},
   "outputs": [],
   "source": [
    "s = input(\"swapcase :\")\n",
    "result = s.swapcase()\n",
    "print(result)\n"
   ]
  },
  {
   "cell_type": "code",
   "execution_count": null,
   "metadata": {},
   "outputs": [],
   "source": [
    "#@@@@@@@@@@@@@@@@@@@@@\n",
    "s = 'abcd@efgh.com'\n",
    "# op = a#####d@efgh.com\n",
    "\n",
    "print(s[0],s[1],s[2],s[3])\n",
    "def ad(s) :\n",
    "    s = s[0]+\"#####\"+s[3: : ]\n",
    "    print(s)\n",
    "    \n",
    "ad(s)"
   ]
  },
  {
   "cell_type": "code",
   "execution_count": null,
   "metadata": {},
   "outputs": [],
   "source": [
    "ad(s)"
   ]
  },
  {
   "cell_type": "code",
   "execution_count": null,
   "metadata": {},
   "outputs": [],
   "source": [
    "sujit = 'abcd@efgh.com'\n",
    "\n",
    "hhhh = sujit.split(\"@\")\n",
    "\n",
    "\n",
    "print(hhhh)\n",
    "\n",
    "print(\"{}######{}@{}\".format(hhhh[0][0],hhhh[0][-1], hhhh[1]))\n",
    "\n",
    "print(hhhh[1])"
   ]
  },
  {
   "cell_type": "code",
   "execution_count": null,
   "metadata": {},
   "outputs": [],
   "source": [
    "######### immutable  / mutable\n",
    "string = \"abracadabra\"\n",
    "l = list(string)\n",
    "print(l)\n",
    "l[5] = 'k'\n",
    "string = ''.join(l)\n",
    "print(string)\n"
   ]
  },
  {
   "cell_type": "code",
   "execution_count": null,
   "metadata": {},
   "outputs": [],
   "source": [
    "string = string[:5] + \"k\" + string[6:]\n",
    "print(string)\n"
   ]
  },
  {
   "cell_type": "code",
   "execution_count": null,
   "metadata": {},
   "outputs": [],
   "source": [
    "def mutate_string(string, position, character):\n",
    "    l = list(string)\n",
    "    l[position] = character\n",
    "    string = ''.join(l)\n",
    "    return string\n",
    "\n",
    "s = input()\n",
    "i, c = input().split()\n",
    "s_new = mutate_string(s, int(i), c)\n",
    "print(s_new)\n"
   ]
  },
  {
   "cell_type": "code",
   "execution_count": null,
   "metadata": {},
   "outputs": [],
   "source": [
    "##################\n",
    "def count_substring(string, sub_string):\n",
    "    count=0\n",
    "    #print(len(string),len(sub_string))\n",
    "    for i in range(0, len(string)-len(sub_string)+1):\n",
    "        if string[i] == sub_string[0]:\n",
    "            flag=1\n",
    "            for j in range (0, len(sub_string)):\n",
    "                if string[i+j] != sub_string[j]:\n",
    "                    flag=0\n",
    "                    break\n",
    "            if flag==1:\n",
    "                count += 1\n",
    "    return count\n",
    "\n",
    "\n",
    "\n",
    "string = input().strip()\n",
    "sub_string = input().strip()\n",
    "print(len(string),len(sub_string))    \n",
    "count = count_substring(string, sub_string)\n",
    "print(count)"
   ]
  },
  {
   "cell_type": "code",
   "execution_count": null,
   "metadata": {},
   "outputs": [],
   "source": [
    "print(len(string)-len(sub_string)+1)"
   ]
  },
  {
   "cell_type": "code",
   "execution_count": null,
   "metadata": {},
   "outputs": [],
   "source": [
    "#################### isalnum  , isalpha , isdigit , islower , isupper\n",
    "\n",
    "S = input()\n",
    "print(any(char.isalnum() for char in S))\n",
    "print(any(char.isalpha() for char in S))\n",
    "print(any(char.isdigit() for char in S))\n",
    "print(any(char.islower() for char in S))\n",
    "print(any(char.isupper() for char in S))\n",
    "\n",
    "\n",
    "#The any() function returns True if any item in an iterable are true, otherwise it returns False.\n",
    "#If the iterable object is empty, the any() function will return False.\n"
   ]
  },
  {
   "cell_type": "code",
   "execution_count": null,
   "metadata": {},
   "outputs": [],
   "source": [
    "###############  Text Alignment\n",
    "le = 20\n",
    "print ('HackerRank'.ljust(le,'-'))\n",
    "print ('HackerRank'.center(le,'=')) \n",
    "print ('HackerRank'.rjust(le,'-'))"
   ]
  },
  {
   "cell_type": "code",
   "execution_count": null,
   "metadata": {},
   "outputs": [],
   "source": [
    "thickness = int(input()) #This must be an odd number\n",
    "c = 'H'\n",
    "\n",
    "#Top Cone\n",
    "for i in range(thickness):\n",
    "    print((c*i).rjust(thickness-1)+c+(c*i).ljust(thickness-1))\n",
    "\n",
    "#Top Pillars\n",
    "for i in range(thickness+1):\n",
    "    print((c*thickness).center(thickness*2)+(c*thickness).center(thickness*6))\n",
    "\n",
    "#Middle Belt\n",
    "for i in range((thickness+1)//2):\n",
    "    print((c*thickness*5).center(thickness*6))    \n",
    "\n",
    "#Bottom Pillars\n",
    "for i in range(thickness+1):\n",
    "    print((c*thickness).center(thickness*2)+(c*thickness).center(thickness*6))    \n",
    "\n",
    "#Bottom Cone\n",
    "for i in range(thickness):\n",
    "    print(((c*(thickness-i-1)).rjust(thickness)+c+(c*(thickness-i-1)).ljust(thickness)).rjust(thickness*6))"
   ]
  },
  {
   "cell_type": "code",
   "execution_count": null,
   "metadata": {},
   "outputs": [],
   "source": [
    "for i in range(thickness):\n",
    "    print((c*i).rjust(thickness-1)+c+(c*i).ljust(thickness-1))"
   ]
  },
  {
   "cell_type": "code",
   "execution_count": null,
   "metadata": {},
   "outputs": [],
   "source": [
    "thickness = int(input()) #This must be an odd number\n",
    "c = 'H'\n",
    "\n",
    "#Top Cone\n",
    "for i in range(thickness):\n",
    "    print((c*i).______(thickness-1)+c+(c*i).______(thickness-1))\n",
    "\n",
    "#Top Pillars\n",
    "for i in range(thickness+1):\n",
    "    print((c*thickness).______(thickness*2)+(c*thickness).______(thickness*6))\n",
    "\n",
    "#Middle Belt\n",
    "for i in range((thickness+1)//2):\n",
    "    print((c*thickness*5).______(thickness*6))    \n",
    "\n",
    "#Bottom Pillars\n",
    "for i in range(thickness+1):\n",
    "    print((c*thickness).______(thickness*2)+(c*thickness).______(thickness*6))    \n",
    "\n",
    "#Bottom Cone\n",
    "for i in range(thickness):\n",
    "    print(((c*(thickness-i-1)).______(thickness)+c+(c*(thickness-i-1)).______(thickness)).______(thickness*6))"
   ]
  },
  {
   "cell_type": "code",
   "execution_count": null,
   "metadata": {},
   "outputs": [],
   "source": [
    "################\n",
    "s = \"abcdefghij\"\n",
    "i = 4\n",
    "d =\"+\".join(s)\n",
    "print(d)"
   ]
  },
  {
   "cell_type": "markdown",
   "metadata": {},
   "source": [
    "- The textwrap module provides two convenient functions: wrap() and fill().\n",
    "- textwrap.wrap()  :The wrap() function wraps a single paragraph in text (a string) so that every line is width characters long at most.It returns a list of output lines.\n",
    "- textwrap.fill() :The fill() function wraps a single paragraph in text and returns a single string containing the wrapped paragraph."
   ]
  },
  {
   "cell_type": "code",
   "execution_count": 14,
   "metadata": {},
   "outputs": [
    {
     "name": "stdout",
     "output_type": "stream",
     "text": [
      "asdfghjkl,mnbvcxz\n",
      "4\n",
      "asdf\n",
      "ghjk\n",
      "l,mn\n",
      "bvcx\n",
      "z\n"
     ]
    }
   ],
   "source": [
    "import textwrap\n",
    "\n",
    "def wrap(string, max_width):\n",
    "    return textwrap.fill(string,max_width)\n",
    "\n",
    "\n",
    "string , max_width = input() , int(input())\n",
    "result = wrap(string, max_width)\n",
    "print(result)"
   ]
  },
  {
   "cell_type": "code",
   "execution_count": 144,
   "metadata": {},
   "outputs": [
    {
     "name": "stdout",
     "output_type": "stream",
     "text": [
      "11 33\n",
      "---------------.|.---------------\n",
      "------------.|..|..|.------------\n",
      "---------.|..|..|..|..|.---------\n",
      "------.|..|..|..|..|..|..|.------\n",
      "---.|..|..|..|..|..|..|..|..|.---\n",
      "-------------WELCOME-------------\n",
      "---.|..|..|..|..|..|..|..|..|.---\n",
      "------.|..|..|..|..|..|..|.------\n",
      "---------.|..|..|..|..|.---------\n",
      "------------.|..|..|.------------\n",
      "---------------.|.---------------\n"
     ]
    }
   ],
   "source": [
    "################# star print design\n",
    "\n",
    "n, m = map(int,input().split())\n",
    "pattern = [('.|.'*(2*i + 1)).center(m, '-') for i in range(n//2)]\n",
    "print('\\n'.join(pattern + ['WELCOME'.center(m, '-')] + pattern[::-1]))"
   ]
  },
  {
   "cell_type": "code",
   "execution_count": 145,
   "metadata": {},
   "outputs": [
    {
     "name": "stdout",
     "output_type": "stream",
     "text": [
      "['---------------.|.---------------', '------------.|..|..|.------------', '---------.|..|..|..|..|.---------', '------.|..|..|..|..|..|..|.------', '---.|..|..|..|..|..|..|..|..|.---']\n"
     ]
    }
   ],
   "source": [
    "print(pattern)"
   ]
  },
  {
   "cell_type": "code",
   "execution_count": 146,
   "metadata": {},
   "outputs": [
    {
     "name": "stdout",
     "output_type": "stream",
     "text": [
      "['.|.', '.|..|..|.', '.|..|..|..|..|.', '.|..|..|..|..|..|..|.', '.|..|..|..|..|..|..|..|..|.']\n"
     ]
    }
   ],
   "source": [
    "print([('.|.'*(2*i + 1)) for i in range(n//2)])\n"
   ]
  },
  {
   "cell_type": "code",
   "execution_count": 148,
   "metadata": {},
   "outputs": [
    {
     "name": "stdout",
     "output_type": "stream",
     "text": [
      "---------------.|.---------------\n",
      "------------.|..|..|.------------\n",
      "---------.|..|..|..|..|.---------\n",
      "------.|..|..|..|..|..|..|.------\n",
      "---.|..|..|..|..|..|..|..|..|.---\n"
     ]
    }
   ],
   "source": [
    "print('\\n'.join(pattern))\n"
   ]
  },
  {
   "cell_type": "code",
   "execution_count": 158,
   "metadata": {},
   "outputs": [
    {
     "name": "stdout",
     "output_type": "stream",
     "text": [
      "-------------WELCOME-------------\n"
     ]
    }
   ],
   "source": [
    "aa = 'WELCOME'.center(m, '-')\n",
    "print(''.join(aa))"
   ]
  },
  {
   "cell_type": "code",
   "execution_count": 175,
   "metadata": {},
   "outputs": [
    {
     "name": "stdout",
     "output_type": "stream",
     "text": [
      "-------------WELCOME-------------\n"
     ]
    }
   ],
   "source": [
    "print(\"\\n\".join(['WELCOME'.center(m, '-')])) "
   ]
  },
  {
   "cell_type": "code",
   "execution_count": 171,
   "metadata": {},
   "outputs": [
    {
     "name": "stdout",
     "output_type": "stream",
     "text": [
      "---.|..|..|..|..|..|..|..|..|.---\n",
      "------.|..|..|..|..|..|..|.------\n",
      "---------.|..|..|..|..|.---------\n",
      "------------.|..|..|.------------\n",
      "---------------.|.---------------\n"
     ]
    }
   ],
   "source": [
    " print(\"\\n\".join(pattern[::-1]))"
   ]
  },
  {
   "cell_type": "code",
   "execution_count": 166,
   "metadata": {},
   "outputs": [
    {
     "name": "stdout",
     "output_type": "stream",
     "text": [
      "---------------.|.---------------\n",
      "------------.|..|..|.------------\n",
      "---------.|..|..|..|..|.---------\n",
      "------.|..|..|..|..|..|..|.------\n",
      "---.|..|..|..|..|..|..|..|..|.---\n",
      "---.|..|..|..|..|..|..|..|..|.---\n",
      "------.|..|..|..|..|..|..|.------\n",
      "---------.|..|..|..|..|.---------\n",
      "------------.|..|..|.------------\n",
      "---------------.|.---------------\n",
      "-------------WELCOME-------------\n"
     ]
    }
   ],
   "source": [
    "print('\\n'.join(pattern + pattern[::-1]+['WELCOME'.center(m, '-')]))"
   ]
  },
  {
   "cell_type": "code",
   "execution_count": 18,
   "metadata": {},
   "outputs": [
    {
     "name": "stdout",
     "output_type": "stream",
     "text": [
      "-------------WELCOME-------------\n"
     ]
    }
   ],
   "source": [
    "print('WELCOME'.center(m, '-'))\n",
    "\n",
    "\n",
    "#string.center(length, character)"
   ]
  },
  {
   "cell_type": "markdown",
   "metadata": {},
   "source": [
    "### .format()"
   ]
  },
  {
   "cell_type": "code",
   "execution_count": 42,
   "metadata": {},
   "outputs": [
    {
     "name": "stdout",
     "output_type": "stream",
     "text": [
      "25\n",
      "    1     1     1     1\n",
      "    2     2     2    10\n",
      "    3     3     3    11\n",
      "    4     4     4   100\n",
      "    5     5     5   101\n",
      "    6     6     6   110\n",
      "    7     7     7   111\n",
      "    8    10     8  1000\n",
      "    9    11     9  1001\n",
      "   10    12     A  1010\n",
      "   11    13     B  1011\n",
      "   12    14     C  1100\n",
      "   13    15     D  1101\n",
      "   14    16     E  1110\n",
      "   15    17     F  1111\n",
      "   16    20    10 10000\n",
      "   17    21    11 10001\n",
      "   18    22    12 10010\n",
      "   19    23    13 10011\n",
      "   20    24    14 10100\n",
      "   21    25    15 10101\n",
      "   22    26    16 10110\n",
      "   23    27    17 10111\n",
      "   24    30    18 11000\n",
      "   25    31    19 11001\n"
     ]
    }
   ],
   "source": [
    "################## formarting  ,Binary\t'0b' or '0B' , Octal\t'0o' or '0O' ,Hexadecimal\t'0x' or '0X'\n",
    "\n",
    "def print_formatted(n):\n",
    "    width = len(\"{0:b}\".format(n))\n",
    "    for i in range(1,n+1):\n",
    "        print(\"{0:{width}d} {0:{width}o} {0:{width}X} {0:{width}b}\".format(i,width=width))\n",
    "   \n",
    "\n",
    "if __name__ == '__main__':\n",
    "    n = int(input())\n",
    "    print_formatted(n)"
   ]
  },
  {
   "cell_type": "code",
   "execution_count": 36,
   "metadata": {},
   "outputs": [
    {
     "name": "stdout",
     "output_type": "stream",
     "text": [
      "10\n",
      "1010\n",
      "4\n",
      "1 1 1 1\n",
      "2 2 2 10\n",
      "3 3 3 11\n",
      "4 4 4 100\n",
      "5 5 5 101\n",
      "6 6 6 110\n",
      "7 7 7 111\n",
      "8 10 8 1000\n",
      "9 11 9 1001\n",
      "10 12 A 1010\n"
     ]
    }
   ],
   "source": [
    "#\n",
    "n = int(input())\n",
    "a = \"{0:b}\".format(n)\n",
    "print(a)\n",
    "width = len(\"{0:b}\".format(n))\n",
    "print(width)\n",
    "for i in range(1,n+1):\n",
    "    print(\"{0:d} {0:o} {0:X} {0:b}\".format(i,width=width))\n",
    "    \n",
    "#     print(\"{0:{width}x}\".format(i,width=width))"
   ]
  },
  {
   "cell_type": "code",
   "execution_count": 143,
   "metadata": {},
   "outputs": [
    {
     "name": "stdout",
     "output_type": "stream",
     "text": [
      "65\n"
     ]
    }
   ],
   "source": [
    "print(\"{4:d}\".format(34,32,43,56,65,))"
   ]
  },
  {
   "cell_type": "code",
   "execution_count": 106,
   "metadata": {},
   "outputs": [
    {
     "name": "stdout",
     "output_type": "stream",
     "text": [
      "    31 ==> octal no.\n",
      "    19 ==> hexadecimal no.\n",
      " 11001 ==> binary no.\n",
      "25------------------------------------------------11001 ==> decimal no.\n",
      "\n",
      "31 ==> octal no.\n",
      "19 ==> hexadecimal no.\n",
      "11001 ==> binary no.\n",
      "25 ==> decimal no.\n"
     ]
    }
   ],
   "source": [
    "n = 25 ## decimal no.\n",
    "print(\"{0:{width}o}\".format(n,width=6) , \"==> octal no.\")\n",
    "print(\"{0:{width}x}\".format(n,width=6) , \"==> hexadecimal no.\")\n",
    "print(\"{0:{width}b}\".format(n,width=6) , \"==> binary no.\")\n",
    "print(\"{0:-<50}\"\"{0:b}\".format(n) , \"==> decimal & binary no.\")\n",
    "\n",
    "\n",
    "print()\n",
    "\n",
    "print(\"{0:o}\".format(n) , \"==> octal no.\")\n",
    "print(\"{0:x}\".format(n) , \"==> hexadecimal no.\")\n",
    "print(\"{0:b}\".format(n) , \"==> binary no.\")\n",
    "print(\"{0:d}\".format(n) , \"==> decimal no.\")\n",
    "\n"
   ]
  },
  {
   "cell_type": "code",
   "execution_count": 80,
   "metadata": {},
   "outputs": [
    {
     "name": "stdout",
     "output_type": "stream",
     "text": [
      "one two\n",
      "1 2\n",
      "<class 'str'>\n"
     ]
    }
   ],
   "source": [
    "st1 = '%s %s' % ('one', 'two')\n",
    "\n",
    "int1 = '%d %d' % (1, 2)\n",
    "\n",
    "print(st1)\n",
    "print(int1)\n",
    "print(type(int1))\n"
   ]
  },
  {
   "cell_type": "code",
   "execution_count": 76,
   "metadata": {},
   "outputs": [
    {
     "name": "stdout",
     "output_type": "stream",
     "text": [
      "1 five\n",
      "8 55\n",
      "<class 'str'>\n"
     ]
    }
   ],
   "source": [
    "st2 = '{} {}'.format('1', 'five')\n",
    "\n",
    "int2 = '{} {}'.format(8,55)\n",
    "\n",
    "print(st2)\n",
    "print(int2)\n",
    "print(type(int2))"
   ]
  },
  {
   "cell_type": "markdown",
   "metadata": {},
   "source": [
    "## Align right:"
   ]
  },
  {
   "cell_type": "code",
   "execution_count": 109,
   "metadata": {},
   "outputs": [
    {
     "name": "stdout",
     "output_type": "stream",
     "text": [
      "      test\n",
      "\n",
      "      test\n"
     ]
    }
   ],
   "source": [
    "\n",
    "a = '%10s' % ('test',)\n",
    "\n",
    "b = '{:>10}'.format('test')\n",
    "print(a)\n",
    "print()\n",
    "print(b)\n",
    "\n",
    "######test              <========= o/p"
   ]
  },
  {
   "cell_type": "markdown",
   "metadata": {},
   "source": [
    "## Align left:"
   ]
  },
  {
   "cell_type": "code",
   "execution_count": 87,
   "metadata": {},
   "outputs": [
    {
     "name": "stdout",
     "output_type": "stream",
     "text": [
      "test       hii\n",
      "\n",
      "test       hello\n"
     ]
    }
   ],
   "source": [
    "a = '%-10s' % ('test',)\n",
    "\n",
    "b = '{0:10}'.format('test')\n",
    "print(a,\"hii\")\n",
    "print()\n",
    "print(b,\"hello\")\n"
   ]
  },
  {
   "cell_type": "code",
   "execution_count": 10,
   "metadata": {},
   "outputs": [
    {
     "name": "stdout",
     "output_type": "stream",
     "text": [
      "5\n",
      "--------e--------\n",
      "------e-d-e------\n",
      "----e-d-c-d-e----\n",
      "--e-d-c-b-c-d-e--\n",
      "e-d-c-b-a-b-c-d-e\n",
      "--e-d-c-b-c-d-e--\n",
      "----e-d-c-d-e----\n",
      "------e-d-e------\n",
      "--------e--------\n"
     ]
    }
   ],
   "source": [
    "######################   alpha ranoli\n",
    "\n",
    "\n",
    "def print_rangoli(size):\n",
    "    import string\n",
    "    width = 4 * size - 3\n",
    "    alpha = string.ascii_lowercase\n",
    "    for i in list(range(size))[::-1] + list(range(1, size)):\n",
    "        print('-'.join(alpha[size-1:i:-1] + alpha[i:size]).center(width, '-'))\n",
    "    # your code goes here\n",
    "\n",
    "\n",
    "n = int(input())\n",
    "print_rangoli(n)\n",
    "\n"
   ]
  },
  {
   "cell_type": "code",
   "execution_count": 13,
   "metadata": {},
   "outputs": [
    {
     "name": "stdout",
     "output_type": "stream",
     "text": [
      "edc\n",
      "bcde\n"
     ]
    }
   ],
   "source": [
    "import string\n",
    "alpha = string.ascii_lowercase\n",
    "print(alpha[4:1:-1])\n",
    "\n",
    "print(alpha[1:5])"
   ]
  },
  {
   "cell_type": "code",
   "execution_count": 14,
   "metadata": {},
   "outputs": [
    {
     "name": "stdout",
     "output_type": "stream",
     "text": [
      "4\n",
      "3\n",
      "2\n",
      "1\n",
      "0\n",
      "1\n",
      "2\n",
      "3\n",
      "4\n"
     ]
    }
   ],
   "source": [
    "for i in list(range(5))[::-1] + list(range(1, 5)):\n",
    "    print(i)"
   ]
  },
  {
   "cell_type": "code",
   "execution_count": null,
   "metadata": {},
   "outputs": [],
   "source": []
  },
  {
   "cell_type": "code",
   "execution_count": null,
   "metadata": {},
   "outputs": [],
   "source": []
  },
  {
   "cell_type": "code",
   "execution_count": 4,
   "metadata": {},
   "outputs": [
    {
     "name": "stdout",
     "output_type": "stream",
     "text": [
      "rdt 14uuu huu\n",
      "Rdt 14Uuu Huu\n"
     ]
    }
   ],
   "source": [
    "######## Capitalize!\n",
    "\n",
    "def solve(s):\n",
    "    return s.title()\n",
    "\n",
    "\n",
    "s = input()\n",
    "result = solve(s)\n",
    "\n",
    "print(result)"
   ]
  },
  {
   "cell_type": "code",
   "execution_count": 4,
   "metadata": {
    "scrolled": true
   },
   "outputs": [
    {
     "name": "stdout",
     "output_type": "stream",
     "text": [
      "adfgf 15bffyf\n",
      "Adfgf 15bffyf\n"
     ]
    }
   ],
   "source": [
    "def cap(s):\n",
    "        for x in s[:].split():\n",
    "            s = s.replace(x, x.capitalize())\n",
    "        return s\n",
    "  \n",
    "s = input()\n",
    "result = cap(s)\n",
    "\n",
    "print(result)"
   ]
  },
  {
   "cell_type": "code",
   "execution_count": 6,
   "metadata": {},
   "outputs": [
    {
     "name": "stdout",
     "output_type": "stream",
     "text": [
      "dadf 12bbjk af 1nmm\n",
      "Dadf 12Bbjk Af 1Nmm\n"
     ]
    }
   ],
   "source": [
    "def solve(s):\n",
    "    return s.title()\n",
    "\n",
    "\n",
    "s = input()\n",
    "result = solve(s)\n",
    "\n",
    "print(result)"
   ]
  },
  {
   "cell_type": "code",
   "execution_count": 8,
   "metadata": {},
   "outputs": [
    {
     "name": "stdout",
     "output_type": "stream",
     "text": [
      "BANANA \n",
      "\n",
      "0 B   === j\n",
      "0 BA   === j\n",
      "0 BAN   === j\n",
      "0 BANA   === j\n",
      "0 BANAN   === j\n",
      "0 BANANA   === j\n",
      "1 A   === k\n",
      "1 AN   === k\n",
      "1 ANA   === k\n",
      "1 ANAN   === k\n",
      "1 ANANA   === k\n",
      "2 N   === j\n",
      "2 NA   === j\n",
      "2 NAN   === j\n",
      "2 NANA   === j\n",
      "3 A   === k\n",
      "3 AN   === k\n",
      "3 ANA   === k\n",
      "4 N   === j\n",
      "4 NA   === j\n",
      "5 A   === k\n"
     ]
    }
   ],
   "source": [
    "# The Minion Game   : banana  ======> vowel substring  / normal substring\n",
    "\n",
    "\n",
    "s = 'BANANA'\n",
    "u1 = set()\n",
    "u2 = set()\n",
    "s1 = 0 \n",
    "s2 = 0\n",
    "vow = 'AEIOU'\n",
    "print(s,\"\\n\")\n",
    "\n",
    "for i in range (len(s)):\n",
    "    if s[i] in vol :\n",
    "        for k in range (len(s[i: ])):\n",
    "            print(i ,s[i:i+k+1] ,\"  === k\")\n",
    "            u1.add(s[i:i+k+1])\n",
    "            \n",
    "    else :\n",
    "        for j in range (len(s[i: ])) :\n",
    "            print(i , s[i:i+j+1] ,\"  === j\")\n",
    "            u2.add(s[i:i+j+1])\n",
    "    \n",
    "\n",
    "\n"
   ]
  },
  {
   "cell_type": "code",
   "execution_count": 16,
   "metadata": {},
   "outputs": [
    {
     "name": "stdout",
     "output_type": "stream",
     "text": [
      "BANANA\n",
      "BANANA s1\n",
      "ANANA s2\n",
      "NANA s1\n",
      "ANA s2\n",
      "NA s1\n",
      "A s2\n",
      "Stuart 12\n"
     ]
    }
   ],
   "source": [
    "##\n",
    "def minion_game(s):\n",
    "    s1 = 0\n",
    "    s2 = 0\n",
    "    vow = 'AEIOU'\n",
    "    for i in range (len(s)):\n",
    "        if s[i] not in vow :\n",
    "            s1 = s1+len(s[i:])\n",
    "            print(s[i:],\"s1\")\n",
    "        else :\n",
    "            s2 = s2+len(s[i:])\n",
    "            print(s[i:],\"s2\")\n",
    "    if s1>s2 :\n",
    "        print(\"Stuart\" , s1)\n",
    "\n",
    "    elif s1<s2:\n",
    "        print(\"Kevin\", s2)\n",
    "\n",
    "    else:\n",
    "        print(\"Draw\")\n",
    "        \n",
    "   \n",
    "\n",
    "if __name__ == '__main__':\n",
    "    s = input()\n",
    "    minion_game(s)"
   ]
  },
  {
   "cell_type": "markdown",
   "metadata": {},
   "source": [
    "###  len(s[i : ])  == len(s)-i"
   ]
  },
  {
   "cell_type": "code",
   "execution_count": 18,
   "metadata": {},
   "outputs": [
    {
     "name": "stdout",
     "output_type": "stream",
     "text": [
      "BANANA\n",
      "BANANA s1\n",
      "ANANA s2\n",
      "NANA s1\n",
      "ANA s2\n",
      "NA s1\n",
      "A s2\n",
      "Stuart 12\n"
     ]
    }
   ],
   "source": [
    "##\n",
    "def minion_game(s):\n",
    "    s1 = 0\n",
    "    s2 = 0\n",
    "    vow = 'AEIOU'\n",
    "    for i in range (len(s)):\n",
    "        if s[i] not in vow :\n",
    "            s1 = s1+len(s)-i  ###### =====> ONLY NO. CAUNT\n",
    "            print(s[i:],\"s1\")\n",
    "        else :\n",
    "            s2 = s2+len(s)-i\n",
    "            print(s[i:],\"s2\")\n",
    "    if s1>s2 :\n",
    "        print(\"Stuart\" , s1)\n",
    "\n",
    "    elif s1<s2:\n",
    "        print(\"Kevin\", s2)\n",
    "\n",
    "    else:\n",
    "        print(\"Draw\")\n",
    "        \n",
    "   \n",
    "\n",
    "if __name__ == '__main__':\n",
    "    s = input()\n",
    "    minion_game(s)"
   ]
  },
  {
   "cell_type": "code",
   "execution_count": null,
   "metadata": {},
   "outputs": [],
   "source": []
  }
 ],
 "metadata": {
  "kernelspec": {
   "display_name": "Python 3",
   "language": "python",
   "name": "python3"
  },
  "language_info": {
   "codemirror_mode": {
    "name": "ipython",
    "version": 3
   },
   "file_extension": ".py",
   "mimetype": "text/x-python",
   "name": "python",
   "nbconvert_exporter": "python",
   "pygments_lexer": "ipython3",
   "version": "3.8.1"
  }
 },
 "nbformat": 4,
 "nbformat_minor": 4
}
