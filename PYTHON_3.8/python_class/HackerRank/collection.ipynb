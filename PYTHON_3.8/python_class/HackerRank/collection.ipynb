{
 "cells": [
  {
   "cell_type": "markdown",
   "metadata": {},
   "source": [
    "# company logo\n",
    "\n",
    "- Counter().most_common() "
   ]
  },
  {
   "cell_type": "markdown",
   "metadata": {},
   "source": [
    "- Print the three most common characters along with their occurrence count.\n",
    "- Sort in descending order of occurrence count.\n",
    "- If the occurrence count is the same, sort the characters in alphabetical order."
   ]
  },
  {
   "cell_type": "code",
   "execution_count": 8,
   "metadata": {},
   "outputs": [
    {
     "name": "stdout",
     "output_type": "stream",
     "text": [
      "sfaabbbccde\n",
      "b 3\n",
      "a 2\n",
      "c 2\n"
     ]
    }
   ],
   "source": [
    "from  collections import Counter  as co\n",
    "\n",
    "s = sorted(input())\n",
    "z = co(s)\n",
    "z = co(s).most_common(3)\n",
    "\n",
    "\n",
    "for x in z :\n",
    "    print(x[0],x[1])"
   ]
  },
  {
   "cell_type": "code",
   "execution_count": 1,
   "metadata": {},
   "outputs": [
    {
     "name": "stdout",
     "output_type": "stream",
     "text": [
      "aabbbccde\n",
      "Counter({'b': 3, 'a': 2, 'c': 2, 'd': 1, 'e': 1}) ==========> 1\n",
      "[('b', 3), ('a', 2), ('c', 2), ('d', 1)] ===========> 2\n"
     ]
    }
   ],
   "source": [
    "###\n",
    "from  collections import Counter  as co\n",
    "    \n",
    "s = input()\n",
    "z = co(s)\n",
    "print(z,\"==========> 1\")    ##### sort the characters in alphabetical order.\n",
    "z = co(s).most_common(4)\n",
    "print(z,\"===========> 2\")"
   ]
  },
  {
   "cell_type": "code",
   "execution_count": 6,
   "metadata": {},
   "outputs": [
    {
     "name": "stdout",
     "output_type": "stream",
     "text": [
      "avhjhjdabd\n",
      "['a', 'a', 'b', 'd', 'd', 'h', 'h', 'j', 'j', 'v']\n"
     ]
    }
   ],
   "source": [
    "a = input()\n",
    "s = sorted(a)\n",
    "print(s)\n"
   ]
  },
  {
   "cell_type": "code",
   "execution_count": 2,
   "metadata": {},
   "outputs": [
    {
     "name": "stdout",
     "output_type": "stream",
     "text": [
      "jhluguhlinl/knljll/\n",
      "Counter({'l': 6, '/': 2, 'h': 2, 'j': 2, 'n': 2, 'u': 2, 'g': 1, 'i': 1, 'k': 1})\n",
      "[('l', 6), ('/', 2), ('h', 2)]\n"
     ]
    }
   ],
   "source": [
    "from  collections import Counter  as co\n",
    "\n",
    "s = sorted(input())\n",
    "z = co(s)\n",
    "print(z)\n",
    "z = co(s).most_common(3)\n",
    "print(z)\n",
    "\n",
    "# print()\n",
    "for x in z :\n",
    "    print(*x,\"w/o\")     ##### == x[0],x[1]\n",
    "#     print(x)\n",
    "#     print(x[0],x[1])"
   ]
  },
  {
   "cell_type": "code",
   "execution_count": 4,
   "metadata": {},
   "outputs": [
    {
     "name": "stdout",
     "output_type": "stream",
     "text": [
      "2 3\n",
      "5 8\n"
     ]
    }
   ],
   "source": [
    "li = [(2,3),(5,8)]\n",
    "\n",
    "for i in li :\n",
    "    print(*i)"
   ]
  },
  {
   "cell_type": "markdown",
   "metadata": {},
   "source": [
    "## Collections Module\n",
    "- In this tutorial we will discuss 6 of the most commonly used data structures from the Python collections module. They are as follows:\n",
    "   -  Counter\n",
    "   -  defaultdict\n",
    "   -  OrderedDict\n",
    "   -  deque\n",
    "   -  ChainMap\n",
    "   -  namedtuple()"
   ]
  },
  {
   "cell_type": "markdown",
   "metadata": {},
   "source": [
    "### - Counter()\n",
    "- Counter is a subclass of dictionary object. The Counter() function in collections module takes an iterable or a mapping as the argument and returns a Dictionary. In this dictionary, a key is an element in the iterable or the mapping and value is the number of times that element exists in the iterable or the mapping.\n",
    "    - from collections import Counter"
   ]
  },
  {
   "cell_type": "code",
   "execution_count": 20,
   "metadata": {},
   "outputs": [
    {
     "data": {
      "text/plain": [
       "Counter({1: 3, 2: 2, 3: 2, 4: 1, 6: 1, 7: 1, 8: 1})"
      ]
     },
     "execution_count": 20,
     "metadata": {},
     "output_type": "execute_result"
    }
   ],
   "source": [
    "list = [1,2,3,4,1,2,6,7,3,8,1]\n",
    "Counter(list)"
   ]
  },
  {
   "cell_type": "code",
   "execution_count": 21,
   "metadata": {},
   "outputs": [
    {
     "name": "stdout",
     "output_type": "stream",
     "text": [
      "3\n"
     ]
    }
   ],
   "source": [
    "\n",
    "cnt = Counter(list)\n",
    "print(cnt[1],\"=====>get the count of 1\")"
   ]
  },
  {
   "cell_type": "markdown",
   "metadata": {},
   "source": [
    "- Apart from that, Counter has three additional functions:\n",
    "\n",
    "    - 1. Elements\n",
    "    - 2. Most_common([n])\n",
    "    - 3. Subtract([interable-or-mapping])"
   ]
  },
  {
   "cell_type": "markdown",
   "metadata": {},
   "source": [
    "### 1. Elements\n",
    "- You can get the items of a Counter object with elements() function. It returns a list containing all the elements in the Counter object."
   ]
  },
  {
   "cell_type": "code",
   "execution_count": 1,
   "metadata": {},
   "outputs": [
    {
     "name": "stdout",
     "output_type": "stream",
     "text": [
      "[1, 1, 1, 2, 2, 2, 2]\n"
     ]
    }
   ],
   "source": [
    "from collections import Counter\n",
    "cnt = Counter({1:3,2:4})\n",
    "print(list(cnt.elements()))"
   ]
  },
  {
   "cell_type": "markdown",
   "metadata": {},
   "source": [
    "### most_common()\n",
    "- The Counter() function returns a dictionary which is unordered. You can sort it according to the number of counts in each element using most_common() function of the Counter object."
   ]
  },
  {
   "cell_type": "code",
   "execution_count": 4,
   "metadata": {},
   "outputs": [
    {
     "name": "stdout",
     "output_type": "stream",
     "text": [
      "[(1, 3), (2, 2), (3, 2), (4, 1), (6, 1), (7, 1), (8, 1)]\n"
     ]
    }
   ],
   "source": [
    "list = [1,2,3,4,1,2,6,7,3,8,1]\n",
    "cnt = Counter(list)\n",
    "print(cnt.most_common())"
   ]
  },
  {
   "cell_type": "markdown",
   "metadata": {},
   "source": [
    "### subtract()\n",
    "- The subtract() takes iterable (list) or a mapping (dictionary) as an argument and deducts elements count using that argument. Check the following example:"
   ]
  },
  {
   "cell_type": "code",
   "execution_count": 2,
   "metadata": {},
   "outputs": [
    {
     "name": "stdout",
     "output_type": "stream",
     "text": [
      "Counter({1: 4, 2: 2})\n",
      "[1, 1, 1, 1, 2, 2]\n",
      "[(1, 4), (2, 2)]\n"
     ]
    }
   ],
   "source": [
    "cnt = Counter({1:5,2:4})\n",
    "deduct = {1:1, 2:2}        ### value subtract  ========= 5-1=4 ,, 4-2=2\n",
    "cnt.subtract(deduct)\n",
    "print(cnt)\n",
    "print(list(cnt.elements()))\n",
    "print(cnt.most_common())"
   ]
  },
  {
   "cell_type": "code",
   "execution_count": null,
   "metadata": {},
   "outputs": [],
   "source": []
  }
 ],
 "metadata": {
  "kernelspec": {
   "display_name": "Python 3",
   "language": "python",
   "name": "python3"
  },
  "language_info": {
   "codemirror_mode": {
    "name": "ipython",
    "version": 3
   },
   "file_extension": ".py",
   "mimetype": "text/x-python",
   "name": "python",
   "nbconvert_exporter": "python",
   "pygments_lexer": "ipython3",
   "version": "3.8.1"
  }
 },
 "nbformat": 4,
 "nbformat_minor": 4
}
