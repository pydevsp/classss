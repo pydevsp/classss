{
 "cells": [
  {
   "cell_type": "code",
   "execution_count": 20,
   "metadata": {},
   "outputs": [
    {
     "name": "stdout",
     "output_type": "stream",
     "text": [
      "s data :AABCAAADAEAF\n",
      "no. :4\n",
      "ABC\n",
      "AD\n",
      "AEF\n"
     ]
    }
   ],
   "source": [
    "def merge_the_tools(string, k):\n",
    "    m = 0\n",
    "    li = []\n",
    "    for i in range (k , len(string)+1 , k) :\n",
    "        l = list(string[m:i])\n",
    "        m += k\n",
    "        for e in l:\n",
    "            if e not in li :\n",
    "                li.append(e)\n",
    "                \n",
    "        for f in li :\n",
    "            print(f,end=\"\")\n",
    "            \n",
    "        li.clear()\n",
    "        print()\n",
    "\n",
    "                \n",
    "        \n",
    "string, k = input(\"s data :\"), int(input(\"no. :\"))                 ####### AABCAAADA ==> len = 9 , no. ==> 3\n",
    "merge_the_tools(string, k)"
   ]
  },
  {
   "cell_type": "code",
   "execution_count": 21,
   "metadata": {},
   "outputs": [
    {
     "name": "stdout",
     "output_type": "stream",
     "text": [
      "s data :AABCAAADA\n",
      "no. :3\n",
      "3\n",
      "6\n",
      "9\n",
      "k ==> 3\n",
      "A\n"
     ]
    }
   ],
   "source": [
    "#######\n",
    "def merge(string, k):\n",
    "    m = 0\n",
    "    li = []\n",
    "    for i in range (k , len(string)+1 , k) :      ####  =====>  range  [3:10:3]\n",
    "        print(i)\n",
    "    print(\"k ==>\",k)\n",
    "    print(string[len(string)-1])\n",
    "#         l = list(string[m:i])\n",
    "#         m += k\n",
    "#         for e in l:\n",
    "#             if e not in li :\n",
    "#                 li.append(e)\n",
    "                \n",
    "#         for f in li :\n",
    "#             print(f,end=\"\")\n",
    "            \n",
    "#         li.clear()\n",
    "#         print()\n",
    "\n",
    "                \n",
    "        \n",
    "string, k = input(\"s data :\"), int(input(\"no. :\"))                 ####### AABCAAADA ==> len = 9 , no. ==> 3\n",
    "merge(string, k)"
   ]
  },
  {
   "cell_type": "code",
   "execution_count": 10,
   "metadata": {},
   "outputs": [
    {
     "name": "stdout",
     "output_type": "stream",
     "text": [
      "s data :AABCAAADA\n",
      "no. :3\n",
      "3\n",
      "6\n",
      "9\n",
      "k ==> 3\n",
      "A\n"
     ]
    }
   ],
   "source": [
    "string, k = input(\"s data :\"), int(input(\"no. :\")) \n",
    "merge(string, k)"
   ]
  },
  {
   "cell_type": "code",
   "execution_count": 23,
   "metadata": {},
   "outputs": [
    {
     "name": "stdout",
     "output_type": "stream",
     "text": [
      "s data :AABCAAADA\n",
      "no. :3\n",
      "i : 3\n",
      "l : ['A', 'A', 'B']\n",
      "m : 3\n",
      "i : 6\n",
      "l : ['C', 'A', 'A']\n",
      "m : 6\n",
      "i : 9\n",
      "l : ['A', 'D', 'A']\n",
      "m : 9\n",
      "['A', 'D', 'A']\n",
      "9\n"
     ]
    }
   ],
   "source": [
    "def merge(string, k):\n",
    "    m = 0\n",
    "    li = []\n",
    "    for i in range (k , len(string)+1 , k) :      ####  =====>  range  [3:10:3]\n",
    "        print(\"i :\",i)\n",
    "        l = list(string[m:i])\n",
    "        print(\"l :\",l)\n",
    "        m += k\n",
    "        print(\"m :\",m)\n",
    "    print(l)\n",
    "    print(m)\n",
    "string, k = input(\"s data :\"), int(input(\"no. :\")) \n",
    "merge(string, k)        "
   ]
  },
  {
   "cell_type": "code",
   "execution_count": 14,
   "metadata": {},
   "outputs": [
    {
     "data": {
      "text/plain": [
       "15"
      ]
     },
     "execution_count": 14,
     "metadata": {},
     "output_type": "execute_result"
    }
   ],
   "source": [
    "a = 0\n",
    "a+= 5\n",
    "a+=10\n",
    "a"
   ]
  },
  {
   "cell_type": "code",
   "execution_count": 26,
   "metadata": {},
   "outputs": [
    {
     "name": "stdout",
     "output_type": "stream",
     "text": [
      "s data :aaaaaaaaa\n",
      "no. :3\n",
      "3\n",
      "a\n",
      "6\n",
      "a\n",
      "9\n",
      "a\n"
     ]
    }
   ],
   "source": [
    "def merge(string, k):\n",
    "    m = 0\n",
    "    li = []\n",
    "    for i in range (k , len(string)+1 , k) :      ####  =====>  range  [3:10:3]\n",
    "        print(i)\n",
    "        l = list(string[m:i])\n",
    "        m += k\n",
    "        for e in l:\n",
    "            if e not in li :  \n",
    "                li.append(e)    ####### ====> if not in li\n",
    "                \n",
    "        for f in li :\n",
    "            print(f,end=\"\")\n",
    "            \n",
    "        li.clear()\n",
    "        print()\n",
    "\n",
    "\n",
    "\n",
    "string, k = input(\"s data :\"), int(input(\"no. :\"))                 ####### AABCAAADA ==> len = 9 , no. ==> 3\n",
    "merge(string, k)"
   ]
  },
  {
   "cell_type": "code",
   "execution_count": 22,
   "metadata": {},
   "outputs": [
    {
     "name": "stdout",
     "output_type": "stream",
     "text": [
      "['a', 'b', 'c', 'd', 'a', 'b']\n"
     ]
    }
   ],
   "source": [
    "l1 = []\n",
    "\n",
    "l1.append(\"a\")\n",
    "l1.append(\"b\")\n",
    "l1.append(\"c\")\n",
    "l1.append(\"d\")\n",
    "l1.append(\"a\")\n",
    "l1.append(\"b\")\n",
    "print(l1)"
   ]
  },
  {
   "cell_type": "code",
   "execution_count": null,
   "metadata": {},
   "outputs": [],
   "source": []
  }
 ],
 "metadata": {
  "kernelspec": {
   "display_name": "Python 3.8.1 64-bit",
   "language": "python",
   "name": "python38164bit3962832f1bae4a3b9b4b44dfa7ea6925"
  },
  "language_info": {
   "codemirror_mode": {
    "name": "ipython",
    "version": 3
   },
   "file_extension": ".py",
   "mimetype": "text/x-python",
   "name": "python",
   "nbconvert_exporter": "python",
   "pygments_lexer": "ipython3",
   "version": "3.8.1"
  }
 },
 "nbformat": 4,
 "nbformat_minor": 4
}
