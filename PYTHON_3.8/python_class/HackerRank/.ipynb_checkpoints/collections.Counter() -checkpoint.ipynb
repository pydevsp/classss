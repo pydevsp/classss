{
 "cells": [
  {
   "cell_type": "markdown",
   "metadata": {},
   "source": [
    "- The first line contains X, the number of shoes.\n",
    "- The second line contains  the space separated list of all the shoe sizes in the shop.\n",
    "- The third line contains N, the number of customers.\n",
    "- The next N lines contain the space separated values of the shoes size  desired by the customer and  x(i), the price of the shoe."
   ]
  },
  {
   "cell_type": "code",
   "execution_count": 5,
   "metadata": {},
   "outputs": [
    {
     "name": "stdout",
     "output_type": "stream",
     "text": [
      "10\n",
      "2 3 4 5 6 8 7 6 5 18\n",
      "6\n",
      "6 55\n",
      "6 45\n",
      "6 55\n",
      "4 40\n",
      "18 60\n",
      "10 50\n",
      "income   :  200\n"
     ]
    }
   ],
   "source": [
    "# Q\n",
    "\n",
    "import collections\n",
    "\n",
    "numShoes = int(input())\n",
    "shoes = collections.Counter(map(int,input().split()))\n",
    "numCust = int(input())\n",
    "\n",
    "income = 0\n",
    "\n",
    "for i in range(numCust):\n",
    "    size, price = map(int,input().split())\n",
    "    if shoes[size]: \n",
    "        income += price\n",
    "        shoes[size] -= 1\n",
    "\n",
    "print(\"income   : \",income)"
   ]
  },
  {
   "cell_type": "code",
   "execution_count": 2,
   "metadata": {},
   "outputs": [
    {
     "name": "stdout",
     "output_type": "stream",
     "text": [
      "Counter({2: 4, 3: 4, 1: 3, 4: 2, 5: 1})\n",
      "dict_items([(1, 3), (2, 4), (3, 4), (4, 2), (5, 1)])\n",
      "dict_keys([1, 2, 3, 4, 5])\n",
      "dict_values([3, 4, 4, 2, 1])\n"
     ]
    }
   ],
   "source": [
    "##\n",
    "\n",
    "from collections import Counter\n",
    " \n",
    "myList = [1,1,2,3,4,5,3,2,3,4,2,1,2,3]\n",
    "print(Counter(myList))\n",
    "#Counter({2: 4, 3: 4, 1: 3, 4: 2, 5: 1})\n",
    "\n",
    "print(Counter(myList).items())\n",
    "#[(1, 3), (2, 4), (3, 4), (4, 2), (5, 1)]\n",
    " \n",
    "print (Counter(myList).keys())\n",
    "#[1, 2, 3, 4, 5]\n",
    " \n",
    "print(Counter(myList).values())\n",
    "#[3, 4, 4, 2, 1]"
   ]
  },
  {
   "cell_type": "code",
   "execution_count": 10,
   "metadata": {},
   "outputs": [
    {
     "name": "stdout",
     "output_type": "stream",
     "text": [
      "10\n",
      "6\n",
      "2 3 4 5 6 8 7 6 5 18\n",
      "2 3 4 5 6 8 7 6 5 18\n"
     ]
    }
   ],
   "source": [
    "#### \n",
    "import collections\n",
    "\n",
    "numShoes = int(input())\n",
    "# shoes = collections.Counter(map(int,input().split()))\n",
    "numCust = int(input())\n",
    "\n",
    "shoes = map(int,input().split())\n",
    "print(*shoes)\n"
   ]
  },
  {
   "cell_type": "code",
   "execution_count": 11,
   "metadata": {},
   "outputs": [
    {
     "name": "stdout",
     "output_type": "stream",
     "text": [
      "10\n",
      "2 3 4 5 6 8 7 6 5 18\n",
      "6\n",
      "6 55\n",
      "6\n",
      "2 bf\n",
      "55\n",
      "1 af\n",
      "\n",
      "\n",
      "6 45\n",
      "6\n",
      "1 bf\n",
      "100\n",
      "0 af\n",
      "\n",
      "\n",
      "6 55\n",
      "4 40\n",
      "4\n",
      "1 bf\n",
      "140\n",
      "0 af\n",
      "\n",
      "\n",
      "18 60\n",
      "18\n",
      "1 bf\n",
      "200\n",
      "0 af\n",
      "\n",
      "\n",
      "10 50\n"
     ]
    }
   ],
   "source": [
    "import collections\n",
    "\n",
    "numShoes = int(input())\n",
    "shoes = collections.Counter(map(int,input().split()))\n",
    "numCust = int(input())\n",
    "\n",
    "income = 0\n",
    "\n",
    "for i in range(numCust):\n",
    "    size, price = map(int,input().split())\n",
    "    if shoes[size]:\n",
    "        print(size)\n",
    "        print(shoes[size] , \"bf\")\n",
    "        income += price\n",
    "        print(income)\n",
    "        shoes[size] -= 1\n",
    "        print(shoes[size] , \"af\")\n",
    "        print(\"\\n\")\n",
    "# print(\"income   : \",income)"
   ]
  },
  {
   "cell_type": "code",
   "execution_count": 13,
   "metadata": {},
   "outputs": [
    {
     "name": "stdout",
     "output_type": "stream",
     "text": [
      "2\n",
      "2\n",
      "1\n"
     ]
    },
    {
     "ename": "KeyError",
     "evalue": "10",
     "output_type": "error",
     "traceback": [
      "\u001b[1;31m---------------------------------------------------------------------------\u001b[0m",
      "\u001b[1;31mKeyError\u001b[0m                                  Traceback (most recent call last)",
      "\u001b[1;32m<ipython-input-13-dbd6ad689d57>\u001b[0m in \u001b[0;36m<module>\u001b[1;34m\u001b[0m\n\u001b[0;32m      4\u001b[0m \u001b[0mprint\u001b[0m\u001b[1;33m(\u001b[0m\u001b[0mshoes\u001b[0m\u001b[1;33m[\u001b[0m\u001b[1;36m6\u001b[0m\u001b[1;33m]\u001b[0m\u001b[1;33m)\u001b[0m\u001b[1;33m\u001b[0m\u001b[1;33m\u001b[0m\u001b[0m\n\u001b[0;32m      5\u001b[0m \u001b[0mprint\u001b[0m\u001b[1;33m(\u001b[0m\u001b[0mshoes\u001b[0m\u001b[1;33m[\u001b[0m\u001b[1;36m18\u001b[0m\u001b[1;33m]\u001b[0m\u001b[1;33m)\u001b[0m\u001b[1;33m\u001b[0m\u001b[1;33m\u001b[0m\u001b[0m\n\u001b[1;32m----> 6\u001b[1;33m \u001b[0mprint\u001b[0m\u001b[1;33m(\u001b[0m\u001b[0mshoes\u001b[0m\u001b[1;33m[\u001b[0m\u001b[1;36m10\u001b[0m\u001b[1;33m]\u001b[0m\u001b[1;33m)\u001b[0m\u001b[1;33m\u001b[0m\u001b[1;33m\u001b[0m\u001b[0m\n\u001b[0m",
      "\u001b[1;31mKeyError\u001b[0m: 10"
     ]
    }
   ],
   "source": [
    "##\n",
    "shoes = {5:2 , 6:2 , 2:1 , 4:1 , 18:1}\n",
    "print(shoes[5])\n",
    "print(shoes[6])\n",
    "print(shoes[18])\n",
    "print(shoes[10])     #   ======> KeyError: 10"
   ]
  },
  {
   "cell_type": "code",
   "execution_count": null,
   "metadata": {},
   "outputs": [],
   "source": []
  }
 ],
 "metadata": {
  "kernelspec": {
   "display_name": "Python 3",
   "language": "python",
   "name": "python3"
  },
  "language_info": {
   "codemirror_mode": {
    "name": "ipython",
    "version": 3
   },
   "file_extension": ".py",
   "mimetype": "text/x-python",
   "name": "python",
   "nbconvert_exporter": "python",
   "pygments_lexer": "ipython3",
   "version": "3.8.1"
  }
 },
 "nbformat": 4,
 "nbformat_minor": 4
}
